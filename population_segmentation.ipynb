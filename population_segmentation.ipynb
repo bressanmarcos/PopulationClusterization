{
<<<<<<< Updated upstream
=======
 "metadata": {
  "language_info": {
   "codemirror_mode": {
    "name": "ipython",
    "version": 3
   },
   "file_extension": ".py",
   "mimetype": "text/x-python",
   "name": "python",
   "nbconvert_exporter": "python",
   "pygments_lexer": "ipython3",
   "version": "3.7.6-final"
  },
  "orig_nbformat": 2,
  "kernelspec": {
   "name": "python3",
   "display_name": "Python 3",
   "language": "python"
  }
 },
 "nbformat": 4,
 "nbformat_minor": 2,
>>>>>>> Stashed changes
 "cells": [
  {
   "cell_type": "markdown",
   "metadata": {},
   "source": [
    "# Population Clusterization\n",
    "\n",
    "*Author*: Marcos Bressan\n",
    "\n",
    "The dataset used in this project was collected by the United States Census, and it provides information about characteristics of the demography of several counties in United States.\n",
    "\n",
    "OBS: Previously, I was training my model on census data available on https://www.census.gov/data.html. \n",
    "A few months later, I discovered an example for the same project on the [SameMaker blog](https://aws.amazon.com/blogs/machine-learning/analyze-us-census-data-for-population-segmentation-using-amazon-sagemaker/).\n",
    "It uses a public AWS's bucket to get the data from, which speeds up the download time and avoids more code for data pre-processing, since I'll be using Amazon AWS to train and deploy my model.\n",
    "\n",
    "## Objectives\n",
    "- Explore dataset\n",
    "- Pre-process/treat data\n",
    "- Apply Principal Components Analysis (PCA)\n",
    "- Feature Engineering / Dataset Transformation\n",
    "- Clusterization of transformed data\n",
    "- Visualization and interpretation of results"
   ]
  },
  {
   "cell_type": "code",
<<<<<<< Updated upstream
   "execution_count": 1,
=======
   "execution_count": 19,
>>>>>>> Stashed changes
   "metadata": {},
   "outputs": [],
   "source": [
    "import os\n",
    "import io\n",
    "import pandas as pd\n",
    "import numpy as np\n",
    "import matplotlib.pyplot as plt\n",
    "import matplotlib\n",
    "%matplotlib inline \n",
    "# from sagemaker\n",
    "import boto3\n",
    "import sagemaker"
   ]
  },
  {
   "cell_type": "markdown",
   "metadata": {},
   "source": [
    "## Get data from S3 bucket\n",
    "\n",
    "As mentioned on [Sagemaker blog](https://aws.amazon.com/blogs/machine-learning/analyze-us-census-data-for-population-segmentation-using-amazon-sagemaker/), the data is availabke in `aws-ml-blog-sagemaker-census-segmentation` S3 bucket, easely downloadable using the `boto3` module.\n",
    "\n",
    "The desired file name is `Census_Data_for_SageMaker.csv`."
   ]
  },
  {
   "cell_type": "code",
<<<<<<< Updated upstream
   "execution_count": 2,
=======
   "execution_count": 20,
>>>>>>> Stashed changes
   "metadata": {},
   "outputs": [],
   "source": [
    "session = boto3.Session()\n",
    "client = session.client('s3')\n",
    "\n",
    "dataset_bucket = 'aws-ml-blog-sagemaker-census-segmentation'\n",
    "dataset_filename = 'Census_Data_for_SageMaker.csv'\n",
    "\n",
    "dataset_object = client.get_object(Bucket=dataset_bucket, Key=dataset_filename)"
   ]
  },
  {
   "cell_type": "code",
<<<<<<< Updated upstream
   "execution_count": 3,
=======
   "execution_count": 21,
>>>>>>> Stashed changes
   "metadata": {},
   "outputs": [
    {
     "data": {
      "text/plain": [
<<<<<<< Updated upstream
       "{'ResponseMetadata': {'RequestId': '928A9E9985270FB2',\n",
       "  'HostId': '6hGBVIikpcWOZSOZsUyvpA1yNdZIvEhMMNkaWRe328TvfAYzNiysUwLawonfb92CuihVjuLe1IE=',\n",
       "  'HTTPStatusCode': 200,\n",
       "  'HTTPHeaders': {'x-amz-id-2': '6hGBVIikpcWOZSOZsUyvpA1yNdZIvEhMMNkaWRe328TvfAYzNiysUwLawonfb92CuihVjuLe1IE=',\n",
       "   'x-amz-request-id': '928A9E9985270FB2',\n",
       "   'date': 'Wed, 18 Nov 2020 21:46:00 GMT',\n",
=======
       "{'ResponseMetadata': {'RequestId': 'YGKEP8WZERMZZMSM',\n",
       "  'HostId': '0FJ/KepBjQdYsb3rMjAegaV6ClC/JA306j7QQ9Qx5KkA5gIdA1cVu6SLwg+JR+8FpY9IW8Du3lw=',\n",
       "  'HTTPStatusCode': 200,\n",
       "  'HTTPHeaders': {'x-amz-id-2': '0FJ/KepBjQdYsb3rMjAegaV6ClC/JA306j7QQ9Qx5KkA5gIdA1cVu6SLwg+JR+8FpY9IW8Du3lw=',\n",
       "   'x-amz-request-id': 'YGKEP8WZERMZZMSM',\n",
       "   'date': 'Sat, 20 Mar 2021 03:25:23 GMT',\n",
>>>>>>> Stashed changes
       "   'last-modified': 'Wed, 12 Sep 2018 15:13:37 GMT',\n",
       "   'etag': '\"066d37f43f7762f1eb409b1660fe9763\"',\n",
       "   'accept-ranges': 'bytes',\n",
       "   'content-type': 'text/csv',\n",
       "   'content-length': '613237',\n",
       "   'server': 'AmazonS3'},\n",
       "  'RetryAttempts': 1},\n",
       " 'AcceptRanges': 'bytes',\n",
       " 'LastModified': datetime.datetime(2018, 9, 12, 15, 13, 37, tzinfo=tzutc()),\n",
       " 'ContentLength': 613237,\n",
       " 'ETag': '\"066d37f43f7762f1eb409b1660fe9763\"',\n",
       " 'ContentType': 'text/csv',\n",
       " 'Metadata': {},\n",
<<<<<<< Updated upstream
       " 'Body': <botocore.response.StreamingBody at 0x7f980abe28d0>}"
=======
       " 'Body': <botocore.response.StreamingBody at 0x7fc52a9cd2e0>}"
>>>>>>> Stashed changes
      ]
     },
     "execution_count": 3,
     "metadata": {},
<<<<<<< Updated upstream
     "output_type": "execute_result"
=======
     "execution_count": 21
>>>>>>> Stashed changes
    }
   ],
   "source": [
    "# Exploring dataset object\n",
    "dataset_object"
   ]
  },
  {
   "cell_type": "code",
<<<<<<< Updated upstream
   "execution_count": 4,
=======
   "execution_count": 22,
>>>>>>> Stashed changes
   "metadata": {},
   "outputs": [],
   "source": [
    "dataset_bytes = dataset_object[\"Body\"].read()\n",
    "bytes_stream = io.BytesIO(dataset_bytes)\n",
    "\n",
    "# Read from byte stream to create a dataframe\n",
    "counties_df = pd.read_csv(bytes_stream, header=0, delimiter=',') "
   ]
  },
  {
   "cell_type": "code",
<<<<<<< Updated upstream
   "execution_count": 5,
=======
   "execution_count": 23,
>>>>>>> Stashed changes
   "metadata": {},
   "outputs": [
    {
     "data": {
      "text/html": [
       "<div>\n",
       "<style scoped>\n",
       "    .dataframe tbody tr th:only-of-type {\n",
       "        vertical-align: middle;\n",
       "    }\n",
       "\n",
       "    .dataframe tbody tr th {\n",
       "        vertical-align: top;\n",
       "    }\n",
       "\n",
       "    .dataframe thead th {\n",
       "        text-align: right;\n",
       "    }\n",
       "</style>\n",
       "<table border=\"1\" class=\"dataframe\">\n",
       "  <thead>\n",
       "    <tr style=\"text-align: right;\">\n",
       "      <th></th>\n",
       "      <th>CensusId</th>\n",
       "      <th>State</th>\n",
       "      <th>County</th>\n",
       "      <th>TotalPop</th>\n",
       "      <th>Men</th>\n",
       "      <th>Women</th>\n",
       "      <th>Hispanic</th>\n",
       "      <th>White</th>\n",
       "      <th>Black</th>\n",
       "      <th>Native</th>\n",
       "      <th>...</th>\n",
       "      <th>Walk</th>\n",
       "      <th>OtherTransp</th>\n",
       "      <th>WorkAtHome</th>\n",
       "      <th>MeanCommute</th>\n",
       "      <th>Employed</th>\n",
       "      <th>PrivateWork</th>\n",
       "      <th>PublicWork</th>\n",
       "      <th>SelfEmployed</th>\n",
       "      <th>FamilyWork</th>\n",
       "      <th>Unemployment</th>\n",
       "    </tr>\n",
       "  </thead>\n",
       "  <tbody>\n",
       "    <tr>\n",
       "      <th>0</th>\n",
       "      <td>1001</td>\n",
       "      <td>Alabama</td>\n",
       "      <td>Autauga</td>\n",
       "      <td>55221</td>\n",
       "      <td>26745</td>\n",
       "      <td>28476</td>\n",
       "      <td>2.6</td>\n",
       "      <td>75.8</td>\n",
       "      <td>18.5</td>\n",
       "      <td>0.4</td>\n",
       "      <td>...</td>\n",
       "      <td>0.5</td>\n",
       "      <td>1.3</td>\n",
       "      <td>1.8</td>\n",
       "      <td>26.5</td>\n",
       "      <td>23986</td>\n",
       "      <td>73.6</td>\n",
       "      <td>20.9</td>\n",
       "      <td>5.5</td>\n",
       "      <td>0.0</td>\n",
       "      <td>7.6</td>\n",
       "    </tr>\n",
       "    <tr>\n",
       "      <th>1</th>\n",
       "      <td>1003</td>\n",
       "      <td>Alabama</td>\n",
       "      <td>Baldwin</td>\n",
       "      <td>195121</td>\n",
       "      <td>95314</td>\n",
       "      <td>99807</td>\n",
       "      <td>4.5</td>\n",
       "      <td>83.1</td>\n",
       "      <td>9.5</td>\n",
       "      <td>0.6</td>\n",
       "      <td>...</td>\n",
       "      <td>1.0</td>\n",
       "      <td>1.4</td>\n",
       "      <td>3.9</td>\n",
       "      <td>26.4</td>\n",
       "      <td>85953</td>\n",
       "      <td>81.5</td>\n",
       "      <td>12.3</td>\n",
       "      <td>5.8</td>\n",
       "      <td>0.4</td>\n",
       "      <td>7.5</td>\n",
       "    </tr>\n",
       "    <tr>\n",
       "      <th>2</th>\n",
       "      <td>1005</td>\n",
       "      <td>Alabama</td>\n",
       "      <td>Barbour</td>\n",
       "      <td>26932</td>\n",
       "      <td>14497</td>\n",
       "      <td>12435</td>\n",
       "      <td>4.6</td>\n",
       "      <td>46.2</td>\n",
       "      <td>46.7</td>\n",
       "      <td>0.2</td>\n",
       "      <td>...</td>\n",
       "      <td>1.8</td>\n",
       "      <td>1.5</td>\n",
       "      <td>1.6</td>\n",
       "      <td>24.1</td>\n",
       "      <td>8597</td>\n",
       "      <td>71.8</td>\n",
       "      <td>20.8</td>\n",
       "      <td>7.3</td>\n",
       "      <td>0.1</td>\n",
       "      <td>17.6</td>\n",
       "    </tr>\n",
       "    <tr>\n",
       "      <th>3</th>\n",
       "      <td>1007</td>\n",
       "      <td>Alabama</td>\n",
       "      <td>Bibb</td>\n",
       "      <td>22604</td>\n",
       "      <td>12073</td>\n",
       "      <td>10531</td>\n",
       "      <td>2.2</td>\n",
       "      <td>74.5</td>\n",
       "      <td>21.4</td>\n",
       "      <td>0.4</td>\n",
       "      <td>...</td>\n",
       "      <td>0.6</td>\n",
       "      <td>1.5</td>\n",
       "      <td>0.7</td>\n",
       "      <td>28.8</td>\n",
       "      <td>8294</td>\n",
       "      <td>76.8</td>\n",
       "      <td>16.1</td>\n",
       "      <td>6.7</td>\n",
       "      <td>0.4</td>\n",
       "      <td>8.3</td>\n",
       "    </tr>\n",
       "    <tr>\n",
       "      <th>4</th>\n",
       "      <td>1009</td>\n",
       "      <td>Alabama</td>\n",
       "      <td>Blount</td>\n",
       "      <td>57710</td>\n",
       "      <td>28512</td>\n",
       "      <td>29198</td>\n",
       "      <td>8.6</td>\n",
       "      <td>87.9</td>\n",
       "      <td>1.5</td>\n",
       "      <td>0.3</td>\n",
       "      <td>...</td>\n",
       "      <td>0.9</td>\n",
       "      <td>0.4</td>\n",
       "      <td>2.3</td>\n",
       "      <td>34.9</td>\n",
       "      <td>22189</td>\n",
       "      <td>82.0</td>\n",
       "      <td>13.5</td>\n",
       "      <td>4.2</td>\n",
       "      <td>0.4</td>\n",
       "      <td>7.7</td>\n",
       "    </tr>\n",
       "  </tbody>\n",
       "</table>\n",
       "<p>5 rows × 37 columns</p>\n",
       "</div>"
      ],
      "text/plain": [
       "   CensusId    State   County  TotalPop    Men  Women  Hispanic  White  Black  \\\n",
       "0      1001  Alabama  Autauga     55221  26745  28476       2.6   75.8   18.5   \n",
       "1      1003  Alabama  Baldwin    195121  95314  99807       4.5   83.1    9.5   \n",
       "2      1005  Alabama  Barbour     26932  14497  12435       4.6   46.2   46.7   \n",
       "3      1007  Alabama     Bibb     22604  12073  10531       2.2   74.5   21.4   \n",
       "4      1009  Alabama   Blount     57710  28512  29198       8.6   87.9    1.5   \n",
       "\n",
       "   Native  ...  Walk  OtherTransp  WorkAtHome  MeanCommute  Employed  \\\n",
       "0     0.4  ...   0.5          1.3         1.8         26.5     23986   \n",
       "1     0.6  ...   1.0          1.4         3.9         26.4     85953   \n",
       "2     0.2  ...   1.8          1.5         1.6         24.1      8597   \n",
       "3     0.4  ...   0.6          1.5         0.7         28.8      8294   \n",
       "4     0.3  ...   0.9          0.4         2.3         34.9     22189   \n",
       "\n",
       "   PrivateWork  PublicWork  SelfEmployed  FamilyWork  Unemployment  \n",
       "0         73.6        20.9           5.5         0.0           7.6  \n",
       "1         81.5        12.3           5.8         0.4           7.5  \n",
       "2         71.8        20.8           7.3         0.1          17.6  \n",
       "3         76.8        16.1           6.7         0.4           8.3  \n",
       "4         82.0        13.5           4.2         0.4           7.7  \n",
       "\n",
       "[5 rows x 37 columns]"
      ]
     },
     "execution_count": 5,
     "metadata": {},
<<<<<<< Updated upstream
     "output_type": "execute_result"
=======
     "execution_count": 23
>>>>>>> Stashed changes
    }
   ],
   "source": [
    "# Exploring dataframe rows\n",
    "counties_df.head(5)"
   ]
  },
  {
   "cell_type": "code",
<<<<<<< Updated upstream
   "execution_count": 6,
=======
   "execution_count": 24,
>>>>>>> Stashed changes
   "metadata": {},
   "outputs": [
    {
     "name": "stdout",
     "output_type": "stream",
     "text": [
      "There are 37 columns: CensusId, State, County, TotalPop, Men, Women, Hispanic, White, Black, Native, Asian, Pacific, Citizen, Income, IncomeErr, IncomePerCap, IncomePerCapErr, Poverty, ChildPoverty, Professional, Service, Office, Construction, Production, Drive, Carpool, Transit, Walk, OtherTransp, WorkAtHome, MeanCommute, Employed, PrivateWork, PublicWork, SelfEmployed, FamilyWork, Unemployment.\n"
     ]
    },
    {
     "data": {
      "text/html": [
       "<div>\n",
       "<style scoped>\n",
       "    .dataframe tbody tr th:only-of-type {\n",
       "        vertical-align: middle;\n",
       "    }\n",
       "\n",
       "    .dataframe tbody tr th {\n",
       "        vertical-align: top;\n",
       "    }\n",
       "\n",
       "    .dataframe thead th {\n",
       "        text-align: right;\n",
       "    }\n",
       "</style>\n",
       "<table border=\"1\" class=\"dataframe\">\n",
       "  <thead>\n",
       "    <tr style=\"text-align: right;\">\n",
       "      <th></th>\n",
       "      <th>CensusId</th>\n",
       "      <th>TotalPop</th>\n",
       "      <th>Men</th>\n",
       "      <th>Women</th>\n",
       "      <th>Hispanic</th>\n",
       "      <th>White</th>\n",
       "      <th>Black</th>\n",
       "      <th>Native</th>\n",
       "      <th>Asian</th>\n",
       "      <th>Pacific</th>\n",
       "      <th>...</th>\n",
       "      <th>Walk</th>\n",
       "      <th>OtherTransp</th>\n",
       "      <th>WorkAtHome</th>\n",
       "      <th>MeanCommute</th>\n",
       "      <th>Employed</th>\n",
       "      <th>PrivateWork</th>\n",
       "      <th>PublicWork</th>\n",
       "      <th>SelfEmployed</th>\n",
       "      <th>FamilyWork</th>\n",
       "      <th>Unemployment</th>\n",
       "    </tr>\n",
       "  </thead>\n",
       "  <tbody>\n",
       "    <tr>\n",
       "      <th>count</th>\n",
       "      <td>3220.000000</td>\n",
       "      <td>3.220000e+03</td>\n",
       "      <td>3.220000e+03</td>\n",
       "      <td>3.220000e+03</td>\n",
       "      <td>3220.000000</td>\n",
       "      <td>3220.000000</td>\n",
       "      <td>3220.000000</td>\n",
       "      <td>3220.000000</td>\n",
       "      <td>3220.000000</td>\n",
       "      <td>3220.000000</td>\n",
       "      <td>...</td>\n",
       "      <td>3220.000000</td>\n",
       "      <td>3220.000000</td>\n",
       "      <td>3220.000000</td>\n",
       "      <td>3220.000000</td>\n",
       "      <td>3.220000e+03</td>\n",
       "      <td>3220.000000</td>\n",
       "      <td>3220.000000</td>\n",
       "      <td>3220.000000</td>\n",
       "      <td>3220.000000</td>\n",
       "      <td>3220.000000</td>\n",
       "    </tr>\n",
       "    <tr>\n",
       "      <th>mean</th>\n",
       "      <td>31393.605280</td>\n",
       "      <td>9.940935e+04</td>\n",
       "      <td>4.889694e+04</td>\n",
       "      <td>5.051241e+04</td>\n",
       "      <td>11.011522</td>\n",
       "      <td>75.428789</td>\n",
       "      <td>8.665497</td>\n",
       "      <td>1.723509</td>\n",
       "      <td>1.229068</td>\n",
       "      <td>0.082733</td>\n",
       "      <td>...</td>\n",
       "      <td>3.323509</td>\n",
       "      <td>1.612733</td>\n",
       "      <td>4.631770</td>\n",
       "      <td>23.278758</td>\n",
       "      <td>4.559352e+04</td>\n",
       "      <td>74.219348</td>\n",
       "      <td>17.560870</td>\n",
       "      <td>7.931801</td>\n",
       "      <td>0.288106</td>\n",
       "      <td>8.094441</td>\n",
       "    </tr>\n",
       "    <tr>\n",
       "      <th>std</th>\n",
       "      <td>16292.078954</td>\n",
       "      <td>3.193055e+05</td>\n",
       "      <td>1.566813e+05</td>\n",
       "      <td>1.626620e+05</td>\n",
       "      <td>19.241380</td>\n",
       "      <td>22.932890</td>\n",
       "      <td>14.279122</td>\n",
       "      <td>7.253115</td>\n",
       "      <td>2.633079</td>\n",
       "      <td>0.734931</td>\n",
       "      <td>...</td>\n",
       "      <td>3.756096</td>\n",
       "      <td>1.670988</td>\n",
       "      <td>3.178772</td>\n",
       "      <td>5.600466</td>\n",
       "      <td>1.496995e+05</td>\n",
       "      <td>7.863188</td>\n",
       "      <td>6.510354</td>\n",
       "      <td>3.914974</td>\n",
       "      <td>0.455137</td>\n",
       "      <td>4.096114</td>\n",
       "    </tr>\n",
       "    <tr>\n",
       "      <th>min</th>\n",
       "      <td>1001.000000</td>\n",
       "      <td>8.500000e+01</td>\n",
       "      <td>4.200000e+01</td>\n",
       "      <td>4.300000e+01</td>\n",
       "      <td>0.000000</td>\n",
       "      <td>0.000000</td>\n",
       "      <td>0.000000</td>\n",
       "      <td>0.000000</td>\n",
       "      <td>0.000000</td>\n",
       "      <td>0.000000</td>\n",
       "      <td>...</td>\n",
       "      <td>0.000000</td>\n",
       "      <td>0.000000</td>\n",
       "      <td>0.000000</td>\n",
       "      <td>4.900000</td>\n",
       "      <td>6.200000e+01</td>\n",
       "      <td>25.000000</td>\n",
       "      <td>5.800000</td>\n",
       "      <td>0.000000</td>\n",
       "      <td>0.000000</td>\n",
       "      <td>0.000000</td>\n",
       "    </tr>\n",
       "    <tr>\n",
       "      <th>25%</th>\n",
       "      <td>19032.500000</td>\n",
       "      <td>1.121800e+04</td>\n",
       "      <td>5.637250e+03</td>\n",
       "      <td>5.572000e+03</td>\n",
       "      <td>1.900000</td>\n",
       "      <td>64.100000</td>\n",
       "      <td>0.500000</td>\n",
       "      <td>0.100000</td>\n",
       "      <td>0.200000</td>\n",
       "      <td>0.000000</td>\n",
       "      <td>...</td>\n",
       "      <td>1.400000</td>\n",
       "      <td>0.900000</td>\n",
       "      <td>2.700000</td>\n",
       "      <td>19.500000</td>\n",
       "      <td>4.550750e+03</td>\n",
       "      <td>70.500000</td>\n",
       "      <td>13.100000</td>\n",
       "      <td>5.400000</td>\n",
       "      <td>0.100000</td>\n",
       "      <td>5.500000</td>\n",
       "    </tr>\n",
       "    <tr>\n",
       "      <th>50%</th>\n",
       "      <td>30024.000000</td>\n",
       "      <td>2.603500e+04</td>\n",
       "      <td>1.293200e+04</td>\n",
       "      <td>1.305700e+04</td>\n",
       "      <td>3.900000</td>\n",
       "      <td>84.100000</td>\n",
       "      <td>1.900000</td>\n",
       "      <td>0.300000</td>\n",
       "      <td>0.500000</td>\n",
       "      <td>0.000000</td>\n",
       "      <td>...</td>\n",
       "      <td>2.400000</td>\n",
       "      <td>1.300000</td>\n",
       "      <td>3.900000</td>\n",
       "      <td>23.000000</td>\n",
       "      <td>1.050800e+04</td>\n",
       "      <td>75.700000</td>\n",
       "      <td>16.200000</td>\n",
       "      <td>6.900000</td>\n",
       "      <td>0.200000</td>\n",
       "      <td>7.600000</td>\n",
       "    </tr>\n",
       "    <tr>\n",
       "      <th>75%</th>\n",
       "      <td>46105.500000</td>\n",
       "      <td>6.643050e+04</td>\n",
       "      <td>3.299275e+04</td>\n",
       "      <td>3.348750e+04</td>\n",
       "      <td>9.825000</td>\n",
       "      <td>93.200000</td>\n",
       "      <td>9.600000</td>\n",
       "      <td>0.600000</td>\n",
       "      <td>1.200000</td>\n",
       "      <td>0.000000</td>\n",
       "      <td>...</td>\n",
       "      <td>4.000000</td>\n",
       "      <td>1.900000</td>\n",
       "      <td>5.600000</td>\n",
       "      <td>26.800000</td>\n",
       "      <td>2.863275e+04</td>\n",
       "      <td>79.700000</td>\n",
       "      <td>20.500000</td>\n",
       "      <td>9.400000</td>\n",
       "      <td>0.300000</td>\n",
       "      <td>9.900000</td>\n",
       "    </tr>\n",
       "    <tr>\n",
       "      <th>max</th>\n",
       "      <td>72153.000000</td>\n",
       "      <td>1.003839e+07</td>\n",
       "      <td>4.945351e+06</td>\n",
       "      <td>5.093037e+06</td>\n",
       "      <td>99.900000</td>\n",
       "      <td>99.800000</td>\n",
       "      <td>85.900000</td>\n",
       "      <td>92.100000</td>\n",
       "      <td>41.600000</td>\n",
       "      <td>35.300000</td>\n",
       "      <td>...</td>\n",
       "      <td>71.200000</td>\n",
       "      <td>39.100000</td>\n",
       "      <td>37.200000</td>\n",
       "      <td>44.000000</td>\n",
       "      <td>4.635465e+06</td>\n",
       "      <td>88.300000</td>\n",
       "      <td>66.200000</td>\n",
       "      <td>36.600000</td>\n",
       "      <td>9.800000</td>\n",
       "      <td>36.500000</td>\n",
       "    </tr>\n",
       "  </tbody>\n",
       "</table>\n",
       "<p>8 rows × 35 columns</p>\n",
       "</div>"
      ],
      "text/plain": [
       "           CensusId      TotalPop           Men         Women     Hispanic  \\\n",
       "count   3220.000000  3.220000e+03  3.220000e+03  3.220000e+03  3220.000000   \n",
       "mean   31393.605280  9.940935e+04  4.889694e+04  5.051241e+04    11.011522   \n",
       "std    16292.078954  3.193055e+05  1.566813e+05  1.626620e+05    19.241380   \n",
       "min     1001.000000  8.500000e+01  4.200000e+01  4.300000e+01     0.000000   \n",
       "25%    19032.500000  1.121800e+04  5.637250e+03  5.572000e+03     1.900000   \n",
       "50%    30024.000000  2.603500e+04  1.293200e+04  1.305700e+04     3.900000   \n",
       "75%    46105.500000  6.643050e+04  3.299275e+04  3.348750e+04     9.825000   \n",
       "max    72153.000000  1.003839e+07  4.945351e+06  5.093037e+06    99.900000   \n",
       "\n",
       "             White        Black       Native        Asian      Pacific  ...  \\\n",
       "count  3220.000000  3220.000000  3220.000000  3220.000000  3220.000000  ...   \n",
       "mean     75.428789     8.665497     1.723509     1.229068     0.082733  ...   \n",
       "std      22.932890    14.279122     7.253115     2.633079     0.734931  ...   \n",
       "min       0.000000     0.000000     0.000000     0.000000     0.000000  ...   \n",
       "25%      64.100000     0.500000     0.100000     0.200000     0.000000  ...   \n",
       "50%      84.100000     1.900000     0.300000     0.500000     0.000000  ...   \n",
       "75%      93.200000     9.600000     0.600000     1.200000     0.000000  ...   \n",
       "max      99.800000    85.900000    92.100000    41.600000    35.300000  ...   \n",
       "\n",
       "              Walk  OtherTransp   WorkAtHome  MeanCommute      Employed  \\\n",
       "count  3220.000000  3220.000000  3220.000000  3220.000000  3.220000e+03   \n",
       "mean      3.323509     1.612733     4.631770    23.278758  4.559352e+04   \n",
       "std       3.756096     1.670988     3.178772     5.600466  1.496995e+05   \n",
       "min       0.000000     0.000000     0.000000     4.900000  6.200000e+01   \n",
       "25%       1.400000     0.900000     2.700000    19.500000  4.550750e+03   \n",
       "50%       2.400000     1.300000     3.900000    23.000000  1.050800e+04   \n",
       "75%       4.000000     1.900000     5.600000    26.800000  2.863275e+04   \n",
       "max      71.200000    39.100000    37.200000    44.000000  4.635465e+06   \n",
       "\n",
       "       PrivateWork   PublicWork  SelfEmployed   FamilyWork  Unemployment  \n",
       "count  3220.000000  3220.000000   3220.000000  3220.000000   3220.000000  \n",
       "mean     74.219348    17.560870      7.931801     0.288106      8.094441  \n",
       "std       7.863188     6.510354      3.914974     0.455137      4.096114  \n",
       "min      25.000000     5.800000      0.000000     0.000000      0.000000  \n",
       "25%      70.500000    13.100000      5.400000     0.100000      5.500000  \n",
       "50%      75.700000    16.200000      6.900000     0.200000      7.600000  \n",
       "75%      79.700000    20.500000      9.400000     0.300000      9.900000  \n",
       "max      88.300000    66.200000     36.600000     9.800000     36.500000  \n",
       "\n",
       "[8 rows x 35 columns]"
      ]
     },
     "execution_count": 6,
     "metadata": {},
<<<<<<< Updated upstream
     "output_type": "execute_result"
=======
     "execution_count": 24
>>>>>>> Stashed changes
    }
   ],
   "source": [
    "# Statistics\n",
    "print(f'There are {len(counties_df.columns)} columns: ' + ', '.join(counties_df.columns) + '.')\n",
    "\n",
    "counties_df.describe()"
   ]
  },
  {
   "cell_type": "markdown",
   "metadata": {},
   "source": [
    "## Exploratory Data Analysis (EDA)\n",
    "\n",
    "Some of the columns represent numbers in absolute value, while others are shown in percentage. Some administrative data (such as `CensusId`) do not bring any important information to the model. Also, the dataset index must be defined to represent a meaningful and unique information, so the `State-County` pair will be used.\n",
    "\n",
    "### Pre-processing data\n",
    "#### Objectives:\n",
    "- Drop incomplete rows\n",
    "- Re-index dataframe to `State-County`\n",
    "- Drop useless / non-quantitative data (`State`, `County`, `CensusId`)"
   ]
  },
  {
   "cell_type": "code",
<<<<<<< Updated upstream
   "execution_count": 7,
=======
   "execution_count": 25,
>>>>>>> Stashed changes
   "metadata": {},
   "outputs": [
    {
     "name": "stdout",
     "output_type": "stream",
     "text": [
      "Total rows before dropna: 3220, after dropna: 3218\n",
      "Dropped rows: 2\n"
     ]
    }
   ],
   "source": [
    "# Drop incomplete rows \n",
    "clean_counties_df = counties_df.dropna()\n",
    "print(f'Total rows before dropna: {len(counties_df)}, after dropna: {len(clean_counties_df)}')\n",
    "\n",
    "print(f'Dropped rows: {len(counties_df)-len(clean_counties_df)}')"
   ]
  },
  {
   "cell_type": "code",
<<<<<<< Updated upstream
   "execution_count": 8,
=======
   "execution_count": 26,
>>>>>>> Stashed changes
   "metadata": {},
   "outputs": [],
   "source": [
    "# Reindex by State-County\n",
    "clean_counties_df.index = clean_counties_df['State'] + '-' + clean_counties_df['County']"
   ]
  },
  {
   "cell_type": "code",
<<<<<<< Updated upstream
   "execution_count": 9,
=======
   "execution_count": 27,
>>>>>>> Stashed changes
   "metadata": {},
   "outputs": [],
   "source": [
    "# Drop useless columns\n",
    "clean_counties_df = clean_counties_df.drop(columns=['State', 'County', 'CensusId'])"
   ]
  },
  {
   "cell_type": "markdown",
   "metadata": {},
   "source": [
    "Remaining features are:"
   ]
  },
  {
   "cell_type": "code",
<<<<<<< Updated upstream
   "execution_count": 10,
   "metadata": {},
   "outputs": [
    {
     "name": "stdout",
     "output_type": "stream",
     "text": [
      "Features: \n",
      " ['TotalPop' 'Men' 'Women' 'Hispanic' 'White' 'Black' 'Native' 'Asian'\n",
      " 'Pacific' 'Citizen' 'Income' 'IncomeErr' 'IncomePerCap' 'IncomePerCapErr'\n",
      " 'Poverty' 'ChildPoverty' 'Professional' 'Service' 'Office' 'Construction'\n",
      " 'Production' 'Drive' 'Carpool' 'Transit' 'Walk' 'OtherTransp'\n",
      " 'WorkAtHome' 'MeanCommute' 'Employed' 'PrivateWork' 'PublicWork'\n",
      " 'SelfEmployed' 'FamilyWork' 'Unemployment']\n"
     ]
    },
    {
     "data": {
      "text/html": [
       "<div>\n",
       "<style scoped>\n",
       "    .dataframe tbody tr th:only-of-type {\n",
       "        vertical-align: middle;\n",
       "    }\n",
       "\n",
       "    .dataframe tbody tr th {\n",
       "        vertical-align: top;\n",
       "    }\n",
       "\n",
       "    .dataframe thead th {\n",
       "        text-align: right;\n",
       "    }\n",
       "</style>\n",
       "<table border=\"1\" class=\"dataframe\">\n",
       "  <thead>\n",
       "    <tr style=\"text-align: right;\">\n",
       "      <th></th>\n",
       "      <th>TotalPop</th>\n",
       "      <th>Men</th>\n",
       "      <th>Women</th>\n",
       "      <th>Hispanic</th>\n",
       "      <th>White</th>\n",
       "      <th>Black</th>\n",
       "      <th>Native</th>\n",
       "      <th>Asian</th>\n",
       "      <th>Pacific</th>\n",
       "      <th>Citizen</th>\n",
       "      <th>...</th>\n",
       "      <th>Walk</th>\n",
       "      <th>OtherTransp</th>\n",
       "      <th>WorkAtHome</th>\n",
       "      <th>MeanCommute</th>\n",
       "      <th>Employed</th>\n",
       "      <th>PrivateWork</th>\n",
       "      <th>PublicWork</th>\n",
       "      <th>SelfEmployed</th>\n",
       "      <th>FamilyWork</th>\n",
       "      <th>Unemployment</th>\n",
       "    </tr>\n",
       "  </thead>\n",
       "  <tbody>\n",
       "    <tr>\n",
       "      <th>Alabama-Autauga</th>\n",
       "      <td>55221</td>\n",
       "      <td>26745</td>\n",
       "      <td>28476</td>\n",
       "      <td>2.6</td>\n",
       "      <td>75.8</td>\n",
       "      <td>18.5</td>\n",
       "      <td>0.4</td>\n",
       "      <td>1.0</td>\n",
       "      <td>0.0</td>\n",
       "      <td>40725</td>\n",
       "      <td>...</td>\n",
       "      <td>0.5</td>\n",
       "      <td>1.3</td>\n",
       "      <td>1.8</td>\n",
       "      <td>26.5</td>\n",
       "      <td>23986</td>\n",
       "      <td>73.6</td>\n",
       "      <td>20.9</td>\n",
       "      <td>5.5</td>\n",
       "      <td>0.0</td>\n",
       "      <td>7.6</td>\n",
       "    </tr>\n",
       "    <tr>\n",
       "      <th>Alabama-Baldwin</th>\n",
       "      <td>195121</td>\n",
       "      <td>95314</td>\n",
       "      <td>99807</td>\n",
       "      <td>4.5</td>\n",
       "      <td>83.1</td>\n",
       "      <td>9.5</td>\n",
       "      <td>0.6</td>\n",
       "      <td>0.7</td>\n",
       "      <td>0.0</td>\n",
       "      <td>147695</td>\n",
       "      <td>...</td>\n",
       "      <td>1.0</td>\n",
       "      <td>1.4</td>\n",
       "      <td>3.9</td>\n",
       "      <td>26.4</td>\n",
       "      <td>85953</td>\n",
       "      <td>81.5</td>\n",
       "      <td>12.3</td>\n",
       "      <td>5.8</td>\n",
       "      <td>0.4</td>\n",
       "      <td>7.5</td>\n",
       "    </tr>\n",
       "    <tr>\n",
       "      <th>Alabama-Barbour</th>\n",
       "      <td>26932</td>\n",
       "      <td>14497</td>\n",
       "      <td>12435</td>\n",
       "      <td>4.6</td>\n",
       "      <td>46.2</td>\n",
       "      <td>46.7</td>\n",
       "      <td>0.2</td>\n",
       "      <td>0.4</td>\n",
       "      <td>0.0</td>\n",
       "      <td>20714</td>\n",
       "      <td>...</td>\n",
       "      <td>1.8</td>\n",
       "      <td>1.5</td>\n",
       "      <td>1.6</td>\n",
       "      <td>24.1</td>\n",
       "      <td>8597</td>\n",
       "      <td>71.8</td>\n",
       "      <td>20.8</td>\n",
       "      <td>7.3</td>\n",
       "      <td>0.1</td>\n",
       "      <td>17.6</td>\n",
       "    </tr>\n",
       "    <tr>\n",
       "      <th>Alabama-Bibb</th>\n",
       "      <td>22604</td>\n",
       "      <td>12073</td>\n",
       "      <td>10531</td>\n",
       "      <td>2.2</td>\n",
       "      <td>74.5</td>\n",
       "      <td>21.4</td>\n",
       "      <td>0.4</td>\n",
       "      <td>0.1</td>\n",
       "      <td>0.0</td>\n",
       "      <td>17495</td>\n",
       "      <td>...</td>\n",
       "      <td>0.6</td>\n",
       "      <td>1.5</td>\n",
       "      <td>0.7</td>\n",
       "      <td>28.8</td>\n",
       "      <td>8294</td>\n",
       "      <td>76.8</td>\n",
       "      <td>16.1</td>\n",
       "      <td>6.7</td>\n",
       "      <td>0.4</td>\n",
       "      <td>8.3</td>\n",
       "    </tr>\n",
       "    <tr>\n",
       "      <th>Alabama-Blount</th>\n",
       "      <td>57710</td>\n",
       "      <td>28512</td>\n",
       "      <td>29198</td>\n",
       "      <td>8.6</td>\n",
       "      <td>87.9</td>\n",
       "      <td>1.5</td>\n",
       "      <td>0.3</td>\n",
       "      <td>0.1</td>\n",
       "      <td>0.0</td>\n",
       "      <td>42345</td>\n",
       "      <td>...</td>\n",
       "      <td>0.9</td>\n",
       "      <td>0.4</td>\n",
       "      <td>2.3</td>\n",
       "      <td>34.9</td>\n",
       "      <td>22189</td>\n",
       "      <td>82.0</td>\n",
       "      <td>13.5</td>\n",
       "      <td>4.2</td>\n",
       "      <td>0.4</td>\n",
       "      <td>7.7</td>\n",
       "    </tr>\n",
       "  </tbody>\n",
       "</table>\n",
       "<p>5 rows × 34 columns</p>\n",
       "</div>"
      ],
=======
   "execution_count": 28,
   "metadata": {},
   "outputs": [
    {
     "output_type": "stream",
     "name": "stdout",
     "text": [
      "Features: \n ['TotalPop' 'Men' 'Women' 'Hispanic' 'White' 'Black' 'Native' 'Asian'\n 'Pacific' 'Citizen' 'Income' 'IncomeErr' 'IncomePerCap' 'IncomePerCapErr'\n 'Poverty' 'ChildPoverty' 'Professional' 'Service' 'Office' 'Construction'\n 'Production' 'Drive' 'Carpool' 'Transit' 'Walk' 'OtherTransp'\n 'WorkAtHome' 'MeanCommute' 'Employed' 'PrivateWork' 'PublicWork'\n 'SelfEmployed' 'FamilyWork' 'Unemployment']\n"
     ]
    },
    {
     "output_type": "execute_result",
     "data": {
>>>>>>> Stashed changes
      "text/plain": [
       "                 TotalPop    Men  Women  Hispanic  White  Black  Native  \\\n",
       "Alabama-Autauga     55221  26745  28476       2.6   75.8   18.5     0.4   \n",
       "Alabama-Baldwin    195121  95314  99807       4.5   83.1    9.5     0.6   \n",
       "Alabama-Barbour     26932  14497  12435       4.6   46.2   46.7     0.2   \n",
       "Alabama-Bibb        22604  12073  10531       2.2   74.5   21.4     0.4   \n",
       "Alabama-Blount      57710  28512  29198       8.6   87.9    1.5     0.3   \n",
       "\n",
       "                 Asian  Pacific  Citizen  ...  Walk  OtherTransp  WorkAtHome  \\\n",
       "Alabama-Autauga    1.0      0.0    40725  ...   0.5          1.3         1.8   \n",
       "Alabama-Baldwin    0.7      0.0   147695  ...   1.0          1.4         3.9   \n",
       "Alabama-Barbour    0.4      0.0    20714  ...   1.8          1.5         1.6   \n",
       "Alabama-Bibb       0.1      0.0    17495  ...   0.6          1.5         0.7   \n",
       "Alabama-Blount     0.1      0.0    42345  ...   0.9          0.4         2.3   \n",
       "\n",
       "                 MeanCommute  Employed  PrivateWork  PublicWork  SelfEmployed  \\\n",
       "Alabama-Autauga         26.5     23986         73.6        20.9           5.5   \n",
       "Alabama-Baldwin         26.4     85953         81.5        12.3           5.8   \n",
       "Alabama-Barbour         24.1      8597         71.8        20.8           7.3   \n",
       "Alabama-Bibb            28.8      8294         76.8        16.1           6.7   \n",
       "Alabama-Blount          34.9     22189         82.0        13.5           4.2   \n",
       "\n",
       "                 FamilyWork  Unemployment  \n",
       "Alabama-Autauga         0.0           7.6  \n",
       "Alabama-Baldwin         0.4           7.5  \n",
       "Alabama-Barbour         0.1          17.6  \n",
       "Alabama-Bibb            0.4           8.3  \n",
       "Alabama-Blount          0.4           7.7  \n",
       "\n",
       "[5 rows x 34 columns]"
<<<<<<< Updated upstream
      ]
     },
     "execution_count": 10,
     "metadata": {},
     "output_type": "execute_result"
=======
      ],
      "text/html": "<div>\n<style scoped>\n    .dataframe tbody tr th:only-of-type {\n        vertical-align: middle;\n    }\n\n    .dataframe tbody tr th {\n        vertical-align: top;\n    }\n\n    .dataframe thead th {\n        text-align: right;\n    }\n</style>\n<table border=\"1\" class=\"dataframe\">\n  <thead>\n    <tr style=\"text-align: right;\">\n      <th></th>\n      <th>TotalPop</th>\n      <th>Men</th>\n      <th>Women</th>\n      <th>Hispanic</th>\n      <th>White</th>\n      <th>Black</th>\n      <th>Native</th>\n      <th>Asian</th>\n      <th>Pacific</th>\n      <th>Citizen</th>\n      <th>...</th>\n      <th>Walk</th>\n      <th>OtherTransp</th>\n      <th>WorkAtHome</th>\n      <th>MeanCommute</th>\n      <th>Employed</th>\n      <th>PrivateWork</th>\n      <th>PublicWork</th>\n      <th>SelfEmployed</th>\n      <th>FamilyWork</th>\n      <th>Unemployment</th>\n    </tr>\n  </thead>\n  <tbody>\n    <tr>\n      <th>Alabama-Autauga</th>\n      <td>55221</td>\n      <td>26745</td>\n      <td>28476</td>\n      <td>2.6</td>\n      <td>75.8</td>\n      <td>18.5</td>\n      <td>0.4</td>\n      <td>1.0</td>\n      <td>0.0</td>\n      <td>40725</td>\n      <td>...</td>\n      <td>0.5</td>\n      <td>1.3</td>\n      <td>1.8</td>\n      <td>26.5</td>\n      <td>23986</td>\n      <td>73.6</td>\n      <td>20.9</td>\n      <td>5.5</td>\n      <td>0.0</td>\n      <td>7.6</td>\n    </tr>\n    <tr>\n      <th>Alabama-Baldwin</th>\n      <td>195121</td>\n      <td>95314</td>\n      <td>99807</td>\n      <td>4.5</td>\n      <td>83.1</td>\n      <td>9.5</td>\n      <td>0.6</td>\n      <td>0.7</td>\n      <td>0.0</td>\n      <td>147695</td>\n      <td>...</td>\n      <td>1.0</td>\n      <td>1.4</td>\n      <td>3.9</td>\n      <td>26.4</td>\n      <td>85953</td>\n      <td>81.5</td>\n      <td>12.3</td>\n      <td>5.8</td>\n      <td>0.4</td>\n      <td>7.5</td>\n    </tr>\n    <tr>\n      <th>Alabama-Barbour</th>\n      <td>26932</td>\n      <td>14497</td>\n      <td>12435</td>\n      <td>4.6</td>\n      <td>46.2</td>\n      <td>46.7</td>\n      <td>0.2</td>\n      <td>0.4</td>\n      <td>0.0</td>\n      <td>20714</td>\n      <td>...</td>\n      <td>1.8</td>\n      <td>1.5</td>\n      <td>1.6</td>\n      <td>24.1</td>\n      <td>8597</td>\n      <td>71.8</td>\n      <td>20.8</td>\n      <td>7.3</td>\n      <td>0.1</td>\n      <td>17.6</td>\n    </tr>\n    <tr>\n      <th>Alabama-Bibb</th>\n      <td>22604</td>\n      <td>12073</td>\n      <td>10531</td>\n      <td>2.2</td>\n      <td>74.5</td>\n      <td>21.4</td>\n      <td>0.4</td>\n      <td>0.1</td>\n      <td>0.0</td>\n      <td>17495</td>\n      <td>...</td>\n      <td>0.6</td>\n      <td>1.5</td>\n      <td>0.7</td>\n      <td>28.8</td>\n      <td>8294</td>\n      <td>76.8</td>\n      <td>16.1</td>\n      <td>6.7</td>\n      <td>0.4</td>\n      <td>8.3</td>\n    </tr>\n    <tr>\n      <th>Alabama-Blount</th>\n      <td>57710</td>\n      <td>28512</td>\n      <td>29198</td>\n      <td>8.6</td>\n      <td>87.9</td>\n      <td>1.5</td>\n      <td>0.3</td>\n      <td>0.1</td>\n      <td>0.0</td>\n      <td>42345</td>\n      <td>...</td>\n      <td>0.9</td>\n      <td>0.4</td>\n      <td>2.3</td>\n      <td>34.9</td>\n      <td>22189</td>\n      <td>82.0</td>\n      <td>13.5</td>\n      <td>4.2</td>\n      <td>0.4</td>\n      <td>7.7</td>\n    </tr>\n  </tbody>\n</table>\n<p>5 rows × 34 columns</p>\n</div>"
     },
     "metadata": {},
     "execution_count": 28
>>>>>>> Stashed changes
    }
   ],
   "source": [
    "# features\n",
    "features_list = clean_counties_df.columns.values\n",
    "print('Features: \\n', features_list)\n",
    "clean_counties_df.head(5)"
   ]
  },
  {
   "cell_type": "markdown",
   "metadata": {},
   "source": [
    "## Data Visualization\n",
    "\n",
    "After data pre-processing, I want to visualize and explore the dataset further. For this, I plot histograms depicting the distributions of the datapoints. \n",
    "\n",
    "**The frequencies (y-axis) in the plots represent the number of counties that fall into each range of values (bins) for a specific quantitative column**."
   ]
  },
  {
   "cell_type": "code",
<<<<<<< Updated upstream
   "execution_count": 11,
   "metadata": {},
   "outputs": [
    {
     "data": {
      "image/png": "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\n",
      "text/plain": [
       "<Figure size 432x216 with 1 Axes>"
      ]
     },
     "metadata": {
      "needs_background": "light"
     },
     "output_type": "display_data"
    },
    {
     "data": {
      "image/png": "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\n",
      "text/plain": [
       "<Figure size 432x216 with 1 Axes>"
      ]
     },
     "metadata": {
      "needs_background": "light"
     },
     "output_type": "display_data"
    },
    {
     "data": {
      "image/png": "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\n",
      "text/plain": [
       "<Figure size 432x216 with 1 Axes>"
      ]
     },
     "metadata": {
      "needs_background": "light"
     },
     "output_type": "display_data"
    },
    {
     "data": {
      "image/png": "iVBORw0KGgoAAAANSUhEUgAAAXcAAADSCAYAAACxZoAXAAAABHNCSVQICAgIfAhkiAAAAAlwSFlzAAALEgAACxIB0t1+/AAAADh0RVh0U29mdHdhcmUAbWF0cGxvdGxpYiB2ZXJzaW9uMy4xLjMsIGh0dHA6Ly9tYXRwbG90bGliLm9yZy+AADFEAAAUHElEQVR4nO3df5BdZX3H8ffHBBCJsEA2acwPFnRV0A4/ukODWKtEO+GHJu2AA6Ul0HTWqWjxR0cDtlamrYUZB4yjpqYETZRC0vgjKVKVCWBESWQjP0OwWWNItgnJKvlBRITIt3+c59bL7t3du7v37u599vOauXPP85zn3vOcPclnn33uuecoIjAzs7y8YrQ7YGZmtedwNzPLkMPdzCxDDnczsww53M3MMuRwNzPLkMPd6krSZklvH+1+jCZJfyppp6RDks4c5nu1SApJE/tYf52kW4azDcuDw92GTNJ2Se/sUXelpPtL5Yh4U0TcN8D79BtYGfgM8IGImBQRD5WvkPQlSV8sKx8h6Vd91M0eaEMR8emI+Ov0utx/rtYPh7tlbwyE20nA5j7WrQf+uKzcBuwA3tajDmBT7btmuXK4W12Vj+4lnS2pQ9JBSXsk3ZSarU/P+9PUxTmSXiHp7yU9JWmvpBWSjit73yvSul9K+oce2/mUpNWSvibpIHBl2vYDkvZL2i3p85KOLHu/kPR+SVslPSvpnyS9Nr3moKRV5e177GPFvko6StIhYALwiKSfVXj594FTJU1O5T8C7gCO6VH3QES8WPa6yyXtkPQLSZ8o68unJH2tr59ravNXkrZI2ifpu5JO6vMAWsNyuNtIWgwsjohjgdcCq1J9aZTalKYuHgCuTI93AKcAk4DPA0g6DfgicDkwDTgOmN5jW/OA1UATcBvwW+DDwGTgHGAO8P4er5kL/AEwG/gYsDRtYybwZuCyPvarYl8j4jcRMSm1OT0iXtvzhRHRBTxFEeCln8UPgB/1qFvf46VvBd6Q9uOTkk6t0K9eP1dJ84HrgD8DmtO2bu9jv6yBOdxtuL6VRsP7Je2nCN2+vAi8TtLkiDgUERv6aXs5cFNEbIuIQ8C1wKVpiuVi4L8i4v6IeAH4JNDzIkkPRMS3IuKliPh1RGyKiA0RcTgitgNf4uXTIQA3RsTBiNgMPA58L23/APDfQF8fhvbX12p8H3ibpFcAZwMbKEK3VHdualPu+rRfjwCPAKdXua33Af8aEVsi4jDwaeAMj97z43C34ZofEU2lB71Hw+UWAq8HnpT0oKSL+mn7GooRbclTwERgalq3s7QiIp4Dftnj9TvLC5JeL+lOSU+nqZpPU4ziy+0pW/51hfIkKuuvr9VYTzHK/n1gW9qf+8vqjgY29njN02XLz/XTt55OAhaX/TJ+BhC9//KxBudwtxETEVsj4jJgCnAjsFrSMfQedQPsogiiklnAYYrA3Q3MKK2QdDRwYs/N9SgvAZ4EWtO00HUUoVYL/fW1GuspRt4XUozYofgAdmaqezAinh9Cvyr9XHcC7yv/hRwRR0fEj4bw/jaGOdxtxEj6C0nNEfESsD9V/xboBl6imK8uuR34sKSTJU2iGGmvTFMJq4F3S3pL+pDzegYO6lcDB4FDkt4I/E3Ndqz/vg4oIjopfhFcQwr3KK7FvTHV9Zxvr1aln+u/AddKehNA+uD3kiG+v41hDncbSXOBzekMksXApRHxfJqG+Bfgh2m6YDZwK/BVimD7OfA88EGANCf+QYqzSnYDzwJ7gd/0s+2/A/48tf13YGUN96vPvg7CeooPOH9YVvcDir9yhhTulX6uEfFNir+a7kjTU48D5w/l/W1sk2/WYY0ujZb3U0y5/Hy0+2M2Fnjkbg1J0rslvSrN2X8GeAzYPrq9Mhs7HO7WqOZRfJC5C2ilmOLxn6FmiadlzMwy5JG7mVmGHO5mZhka7avlATB58uRoaWkZ7W6YmTWUTZs2/SIimiutGxPh3tLSQkdHx2h3w8ysoUh6qq91npYxM8uQw93MLENVhbukpnTzgyfTRf7PkXSCpLvTzQ3ulnR8aitJn5PUKelRSWfVdxfMzKynakfui4HvRMQbKa5etwVYBKyLiFZgXSpDcZ2K1vRop7gan5mZjaABw13SsRTXlV4GEBEvRMR+im8ILk/NlgPz0/I8YEUUNgBNkqbVvOdmZtanas6WOYXi0qFflnQ6xU16rwGmRsRugIjYLWlKaj+dl98ooSvV7a5Zr83MRkHLom9X3Xb7DRfWsScDq2ZaZiJwFrAkIs4EfsXvpmAqqXRd7V7XOJDUruJmyR3d3d1VddbMzKpTTbh3AV0RUbrN12qKsN9Tmm5Jz3vL2s8se/0Mios7vUxELI2Itohoa26ueA6+mZkN0YDhHhFPAzslvSFVzQGeANYCC1LdAmBNWl4LXJHOmpkNHChN35iZ2cio9huqHwRuS7c02wZcRfGLYZWkhcAOoHSrrruAC4BOihv3XlXTHpuZ2YCqCveIeBhoq7BqToW2AVw9zH6Zmdkw+BuqZmYZcribmWXI4W5mliGHu5lZhhzuZmYZcribmWXI4W5mliGHu5lZhhzuZmYZcribmWXI4W5mliGHu5lZhhzuZmYZcribmWXI4W5mliGHu5lZhhzuZmYZqircJW2X9JikhyV1pLoTJN0taWt6Pj7VS9LnJHVKelTSWfXcATMz620wI/d3RMQZEVG63d4iYF1EtALrUhngfKA1PdqBJbXqrJmZVWc40zLzgOVpeTkwv6x+RRQ2AE2Spg1jO2ZmNkjVhnsA35O0SVJ7qpsaEbsB0vOUVD8d2Fn22q5UZ2ZmI2Rile3OjYhdkqYAd0t6sp+2qlAXvRoVvyTaAWbNmlVlN8zMrBpVjdwjYld63gt8Ezgb2FOabknPe1PzLmBm2ctnALsqvOfSiGiLiLbm5uah74GZmfUyYLhLOkbSq0vLwJ8AjwNrgQWp2QJgTVpeC1yRzpqZDRwoTd+YmdnIqGZaZirwTUml9v8REd+R9CCwStJCYAdwSWp/F3AB0Ak8B1xV816bmVm/Bgz3iNgGnF6h/pfAnAr1AVxdk96ZmdmQ+BuqZmYZcribmWXI4W5mliGHu5lZhhzuZmYZcribmWXI4W5mliGHu5lZhhzuZmYZcribmWXI4W5mliGHu5lZhhzuZmYZcribmWXI4W5mliGHu5lZhhzuZmYZqjrcJU2Q9JCkO1P5ZEkbJW2VtFLSkan+qFTuTOtb6tN1MzPry2BG7tcAW8rKNwI3R0QrsA9YmOoXAvsi4nXAzamdmZmNoKrCXdIM4ELgllQWcB6wOjVZDsxPy/NSmbR+TmpvZmYjpNqR+2eBjwEvpfKJwP6IOJzKXcD0tDwd2AmQ1h9I7V9GUrukDkkd3d3dQ+y+mZlVMmC4S7oI2BsRm8qrKzSNKtb9riJiaUS0RURbc3NzVZ01M7PqTKyizbnAeyRdALwSOJZiJN8kaWIanc8AdqX2XcBMoEvSROA44Jma99zMzPo04Mg9Iq6NiBkR0QJcCtwTEZcD9wIXp2YLgDVpeW0qk9bfExG9Ru5mZlY/wznP/ePARyR1UsypL0v1y4ATU/1HgEXD66KZmQ1WNdMy/y8i7gPuS8vbgLMrtHkeuKQGfTMzsyHyN1TNzDLkcDczy5DD3cwsQw53M7MMOdzNzDI0qLNlzMxy1LLo26PdhZrzyN3MLEMOdzOzDDnczcwy5HA3M8uQw93MLEMOdzOzDDnczcwy5HA3M8uQw93MLEMOdzOzDDnczcwyNGC4S3qlpB9LekTSZknXp/qTJW2UtFXSSklHpvqjUrkzrW+p7y6YmVlP1YzcfwOcFxGnA2cAcyXNBm4Ebo6IVmAfsDC1Xwjsi4jXATendmZmNoIGDPcoHErFI9IjgPOA1al+OTA/Lc9LZdL6OZJUsx6bmdmAqppzlzRB0sPAXuBu4GfA/og4nJp0AdPT8nRgJ0BafwA4scJ7tkvqkNTR3d09vL0wM7OXqSrcI+K3EXEGMAM4Gzi1UrP0XGmUHr0qIpZGRFtEtDU3N1fbXzMzq8KgzpaJiP3AfcBsoElS6WYfM4BdabkLmAmQ1h8HPFOLzpqZWXWqOVumWVJTWj4aeCewBbgXuDg1WwCsSctrU5m0/p6I6DVyNzOz+qnmNnvTgOWSJlD8MlgVEXdKegK4Q9I/Aw8By1L7ZcBXJXVSjNgvrUO/zcysHwOGe0Q8CpxZoX4bxfx7z/rngUtq0jszMxsSf0PVzCxDDnczsww53M3MMlTNB6pmZg2pZdG3R7sLo8YjdzOzDDnczcwy5HA3M8uQw93MLEMOdzOzDDnczcwy5HA3M8uQw93MLEMOdzOzDDnczcwy5MsPmFnDGc+XFaiWR+5mZhlyuJuZZWjAaRlJM4EVwO8BLwFLI2KxpBOAlUALsB14b0TskyRgMXAB8BxwZUT8pD7dNzMbm6qdOtp+w4V12X41I/fDwEcj4lRgNnC1pNOARcC6iGgF1qUywPlAa3q0A0tq3mszM+vXgOEeEbtLI++IeBbYAkwH5gHLU7PlwPy0PA9YEYUNQJOkaTXvuZmZ9WlQc+6SWihulr0RmBoRu6H4BQBMSc2mAzvLXtaV6nq+V7ukDkkd3d3dg++5mZn1qepwlzQJ+DrwoYg42F/TCnXRqyJiaUS0RURbc3Nztd0wM7MqVBXuko6gCPbbIuIbqXpPabolPe9N9V3AzLKXzwB21aa7ZmZWjQHDPZ39sgzYEhE3la1aCyxIywuANWX1V6gwGzhQmr4xM7ORUc03VM8F/hJ4TNLDqe464AZglaSFwA7gkrTuLorTIDspToW8qqY9NjOzAQ0Y7hFxP5Xn0QHmVGgfwNXD7JeZmQ2Dv6FqZpYhh7uZWYYc7mZmGXK4m5llyOFuZpYh36zDzOputK+QOB555G5mliGHu5lZhjwtY2Zjhu+NWjseuZuZZcjhbmaWIU/LmDU4n4lilTjczWxIPD8+tnlaxswsQw53M7MMOdzNzDI04Jy7pFuBi4C9EfHmVHcCsBJoAbYD742IfemWfIsp7sT0HHBlRPykPl03s8HwB6/jSzUj968Ac3vULQLWRUQrsC6VAc4HWtOjHVhSm26amdlgVHObvfWSWnpUzwPenpaXA/cBH0/1K9Kt9jZIapI0zTfINmscPgsmD0Odc59aCuz0PCXVTwd2lrXrSnVmZjaCan2ee6UbaUfFhlI7xdQNs2bNqnE3zMYuz33bSBhquO8pTbdImgbsTfVdwMyydjOAXZXeICKWAksB2traKv4CMBvPPD1iwzHUaZm1wIK0vABYU1Z/hQqzgQOebzczG3nVnAp5O8WHp5MldQH/CNwArJK0ENgBXJKa30VxGmQnxamQV9Whz2ZmNoBqzpa5rI9Vcyq0DeDq4XbKzMyGx99QNTPLUMNfFdJnHthY4Q9AbSzxyN3MLEMOdzOzDDnczcwy5HA3M8uQw93MLEMNf7aMjQ+1PivKZ7ZY7hzuNqpqHbIObbOCp2XMzDLkcDczy5DD3cwsQ55zt7rw3LfZ6PLI3cwsQx6526B4RG7WGBzu5sA2y5CnZczMMlSXkbukucBiYAJwS0TcUI/tNIpaj4x9bXozG0jNw13SBOALwLuALuBBSWsj4olab2swBhOwY/0r7J5GMbOB1GNa5mygMyK2RcQLwB3AvDpsx8zM+lCPaZnpwM6ychfwh3XYTt14ZGxmja4e4a4KddGrkdQOtKfiIUk/HeL2JgO/GOJrG5X3eXzwPo8DunFY+3xSXyvqEe5dwMyy8gxgV89GEbEUWDrcjUnqiIi24b5PI/E+jw/e5/GhXvtcjzn3B4FWSSdLOhK4FFhbh+2YmVkfaj5yj4jDkj4AfJfiVMhbI2JzrbdjZmZ9q8t57hFxF3BXPd67gmFP7TQg7/P44H0eH+qyz4ro9VmnmZk1OF9+wMwsQw0d7pLmSvqppE5Ji0a7P/UgaaakeyVtkbRZ0jWp/gRJd0vamp6PH+2+1pKkCZIeknRnKp8saWPa35Xpw/qsSGqStFrSk+l4nzMOjvOH07/rxyXdLumVuR1rSbdK2ivp8bK6isdVhc+lTHtU0llD3W7DhnvZZQ7OB04DLpN02uj2qi4OAx+NiFOB2cDVaT8XAesiohVYl8o5uQbYUla+Ebg57e8+YOGo9Kq+FgPfiYg3AqdT7H+2x1nSdOBvgbaIeDPFCRiXkt+x/gowt0ddX8f1fKA1PdqBJUPdaMOGO+PkMgcRsTsifpKWn6X4Dz+dYl+Xp2bLgfmj08PakzQDuBC4JZUFnAesTk2y2l8ASccCbwOWAUTECxGxn4yPczIROFrSROBVwG4yO9YRsR54pkd1X8d1HrAiChuAJknThrLdRg73Spc5mD5KfRkRklqAM4GNwNSI2A3FLwBgyuj1rOY+C3wMeCmVTwT2R8ThVM7xWJ8CdANfTtNRt0g6hoyPc0T8L/AZYAdFqB8ANpH/sYa+j2vNcq2Rw72qyxzkQtIk4OvAhyLi4Gj3p14kXQTsjYhN5dUVmuZ2rCcCZwFLIuJM4FdkNAVTSZpnngecDLwGOIZiWqKn3I51f2r2b72Rw72qyxzkQNIRFMF+W0R8I1XvKf25lp73jlb/auxc4D2StlNMtZ1HMZJvSn+6Q57HugvoioiNqbyaIuxzPc4A7wR+HhHdEfEi8A3gLeR/rKHv41qzXGvkcB8XlzlI883LgC0RcVPZqrXAgrS8AFgz0n2rh4i4NiJmREQLxTG9JyIuB+4FLk7Nstnfkoh4Gtgp6Q2pag7wBJke52QHMFvSq9K/89I+Z32sk76O61rginTWzGzgQGn6ZtAiomEfwAXA/wA/Az4x2v2p0z6+leLPskeBh9PjAop56HXA1vR8wmj3tQ77/nbgzrR8CvBjoBP4T+Co0e5fHfb3DKAjHetvAcfnfpyB64EngceBrwJH5XasgdspPlN4kWJkvrCv40oxLfOFlGmPUZxJNKTt+huqZmYZauRpGTMz64PD3cwsQw53M7MMOdzNzDLkcDczy5DD3cwsQw53M7MMOdzNzDL0f1XYBX+ubyEbAAAAAElFTkSuQmCC\n",
      "text/plain": [
       "<Figure size 432x216 with 1 Axes>"
      ]
     },
     "metadata": {
      "needs_background": "light"
     },
     "output_type": "display_data"
    },
    {
     "data": {
      "image/png": "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\n",
      "text/plain": [
       "<Figure size 432x216 with 1 Axes>"
      ]
     },
     "metadata": {
      "needs_background": "light"
     },
     "output_type": "display_data"
    },
    {
     "data": {
      "image/png": "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\n",
      "text/plain": [
       "<Figure size 432x216 with 1 Axes>"
      ]
     },
     "metadata": {
      "needs_background": "light"
     },
     "output_type": "display_data"
    },
    {
     "data": {
      "image/png": "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\n",
      "text/plain": [
       "<Figure size 432x216 with 1 Axes>"
      ]
     },
     "metadata": {
      "needs_background": "light"
     },
     "output_type": "display_data"
=======
   "execution_count": 29,
   "metadata": {},
   "outputs": [
    {
     "output_type": "display_data",
     "data": {
      "text/plain": "<Figure size 432x216 with 1 Axes>",
      "image/svg+xml": "<?xml version=\"1.0\" encoding=\"utf-8\" standalone=\"no\"?>\n<!DOCTYPE svg PUBLIC \"-//W3C//DTD SVG 1.1//EN\"\n  \"http://www.w3.org/Graphics/SVG/1.1/DTD/svg11.dtd\">\n<!-- Created with matplotlib (https://matplotlib.org/) -->\n<svg height=\"221.954375pt\" version=\"1.1\" viewBox=\"0 0 381.65 221.954375\" width=\"381.65pt\" xmlns=\"http://www.w3.org/2000/svg\" xmlns:xlink=\"http://www.w3.org/1999/xlink\">\n <metadata>\n  <rdf:RDF xmlns:cc=\"http://creativecommons.org/ns#\" xmlns:dc=\"http://purl.org/dc/elements/1.1/\" xmlns:rdf=\"http://www.w3.org/1999/02/22-rdf-syntax-ns#\">\n   <cc:Work>\n    <dc:type rdf:resource=\"http://purl.org/dc/dcmitype/StillImage\"/>\n    <dc:date>2021-03-20T03:25:26.314541</dc:date>\n    <dc:format>image/svg+xml</dc:format>\n    <dc:creator>\n     <cc:Agent>\n      <dc:title>Matplotlib v3.3.4, https://matplotlib.org/</dc:title>\n     </cc:Agent>\n    </dc:creator>\n   </cc:Work>\n  </rdf:RDF>\n </metadata>\n <defs>\n  <style type=\"text/css\">*{stroke-linecap:butt;stroke-linejoin:round;}</style>\n </defs>\n <g id=\"figure_1\">\n  <g id=\"patch_1\">\n   <path d=\"M -0 221.954375 \nL 381.65 221.954375 \nL 381.65 0 \nL -0 0 \nz\n\" style=\"fill:none;\"/>\n  </g>\n  <g id=\"axes_1\">\n   <g id=\"patch_2\">\n    <path d=\"M 39.65 185.398125 \nL 374.45 185.398125 \nL 374.45 22.318125 \nL 39.65 22.318125 \nz\n\" style=\"fill:#ffffff;\"/>\n   </g>\n   <g id=\"patch_3\">\n    <path clip-path=\"url(#p92886a9036)\" d=\"M 54.868182 185.398125 \nL 65.013636 185.398125 \nL 65.013636 30.083839 \nL 54.868182 30.083839 \nz\n\" style=\"fill:#1f77b4;\"/>\n   </g>\n   <g id=\"patch_4\">\n    <path clip-path=\"url(#p92886a9036)\" d=\"M 65.013636 185.398125 \nL 75.159091 185.398125 \nL 75.159091 179.843839 \nL 65.013636 179.843839 \nz\n\" style=\"fill:#1f77b4;\"/>\n   </g>\n   <g id=\"patch_5\">\n    <path clip-path=\"url(#p92886a9036)\" d=\"M 75.159091 185.398125 \nL 85.304545 185.398125 \nL 85.304545 182.826696 \nL 75.159091 182.826696 \nz\n\" style=\"fill:#1f77b4;\"/>\n   </g>\n   <g id=\"patch_6\">\n    <path clip-path=\"url(#p92886a9036)\" d=\"M 85.304545 185.398125 \nL 95.45 185.398125 \nL 95.45 184.729554 \nL 85.304545 184.729554 \nz\n\" style=\"fill:#1f77b4;\"/>\n   </g>\n   <g id=\"patch_7\">\n    <path clip-path=\"url(#p92886a9036)\" d=\"M 95.45 185.398125 \nL 105.595455 185.398125 \nL 105.595455 184.986696 \nL 95.45 184.986696 \nz\n\" style=\"fill:#1f77b4;\"/>\n   </g>\n   <g id=\"patch_8\">\n    <path clip-path=\"url(#p92886a9036)\" d=\"M 105.595455 185.398125 \nL 115.740909 185.398125 \nL 115.740909 185.140982 \nL 105.595455 185.140982 \nz\n\" style=\"fill:#1f77b4;\"/>\n   </g>\n   <g id=\"patch_9\">\n    <path clip-path=\"url(#p92886a9036)\" d=\"M 115.740909 185.398125 \nL 125.886364 185.398125 \nL 125.886364 185.140982 \nL 115.740909 185.140982 \nz\n\" style=\"fill:#1f77b4;\"/>\n   </g>\n   <g id=\"patch_10\">\n    <path clip-path=\"url(#p92886a9036)\" d=\"M 125.886364 185.398125 \nL 136.031818 185.398125 \nL 136.031818 185.243839 \nL 125.886364 185.243839 \nz\n\" style=\"fill:#1f77b4;\"/>\n   </g>\n   <g id=\"patch_11\">\n    <path clip-path=\"url(#p92886a9036)\" d=\"M 136.031818 185.398125 \nL 146.177273 185.398125 \nL 146.177273 185.398125 \nL 136.031818 185.398125 \nz\n\" style=\"fill:#1f77b4;\"/>\n   </g>\n   <g id=\"patch_12\">\n    <path clip-path=\"url(#p92886a9036)\" d=\"M 146.177273 185.398125 \nL 156.322727 185.398125 \nL 156.322727 185.295268 \nL 146.177273 185.295268 \nz\n\" style=\"fill:#1f77b4;\"/>\n   </g>\n   <g id=\"patch_13\">\n    <path clip-path=\"url(#p92886a9036)\" d=\"M 156.322727 185.398125 \nL 166.468182 185.398125 \nL 166.468182 185.398125 \nL 156.322727 185.398125 \nz\n\" style=\"fill:#1f77b4;\"/>\n   </g>\n   <g id=\"patch_14\">\n    <path clip-path=\"url(#p92886a9036)\" d=\"M 166.468182 185.398125 \nL 176.613636 185.398125 \nL 176.613636 185.398125 \nL 166.468182 185.398125 \nz\n\" style=\"fill:#1f77b4;\"/>\n   </g>\n   <g id=\"patch_15\">\n    <path clip-path=\"url(#p92886a9036)\" d=\"M 176.613636 185.398125 \nL 186.759091 185.398125 \nL 186.759091 185.346696 \nL 176.613636 185.346696 \nz\n\" style=\"fill:#1f77b4;\"/>\n   </g>\n   <g id=\"patch_16\">\n    <path clip-path=\"url(#p92886a9036)\" d=\"M 186.759091 185.398125 \nL 196.904545 185.398125 \nL 196.904545 185.346696 \nL 186.759091 185.346696 \nz\n\" style=\"fill:#1f77b4;\"/>\n   </g>\n   <g id=\"patch_17\">\n    <path clip-path=\"url(#p92886a9036)\" d=\"M 196.904545 185.398125 \nL 207.05 185.398125 \nL 207.05 185.398125 \nL 196.904545 185.398125 \nz\n\" style=\"fill:#1f77b4;\"/>\n   </g>\n   <g id=\"patch_18\">\n    <path clip-path=\"url(#p92886a9036)\" d=\"M 207.05 185.398125 \nL 217.195455 185.398125 \nL 217.195455 185.346696 \nL 207.05 185.346696 \nz\n\" style=\"fill:#1f77b4;\"/>\n   </g>\n   <g id=\"patch_19\">\n    <path clip-path=\"url(#p92886a9036)\" d=\"M 217.195455 185.398125 \nL 227.340909 185.398125 \nL 227.340909 185.398125 \nL 217.195455 185.398125 \nz\n\" style=\"fill:#1f77b4;\"/>\n   </g>\n   <g id=\"patch_20\">\n    <path clip-path=\"url(#p92886a9036)\" d=\"M 227.340909 185.398125 \nL 237.486364 185.398125 \nL 237.486364 185.398125 \nL 227.340909 185.398125 \nz\n\" style=\"fill:#1f77b4;\"/>\n   </g>\n   <g id=\"patch_21\">\n    <path clip-path=\"url(#p92886a9036)\" d=\"M 237.486364 185.398125 \nL 247.631818 185.398125 \nL 247.631818 185.398125 \nL 237.486364 185.398125 \nz\n\" style=\"fill:#1f77b4;\"/>\n   </g>\n   <g id=\"patch_22\">\n    <path clip-path=\"url(#p92886a9036)\" d=\"M 247.631818 185.398125 \nL 257.777273 185.398125 \nL 257.777273 185.398125 \nL 247.631818 185.398125 \nz\n\" style=\"fill:#1f77b4;\"/>\n   </g>\n   <g id=\"patch_23\">\n    <path clip-path=\"url(#p92886a9036)\" d=\"M 257.777273 185.398125 \nL 267.922727 185.398125 \nL 267.922727 185.398125 \nL 257.777273 185.398125 \nz\n\" style=\"fill:#1f77b4;\"/>\n   </g>\n   <g id=\"patch_24\">\n    <path clip-path=\"url(#p92886a9036)\" d=\"M 267.922727 185.398125 \nL 278.068182 185.398125 \nL 278.068182 185.398125 \nL 267.922727 185.398125 \nz\n\" style=\"fill:#1f77b4;\"/>\n   </g>\n   <g id=\"patch_25\">\n    <path clip-path=\"url(#p92886a9036)\" d=\"M 278.068182 185.398125 \nL 288.213636 185.398125 \nL 288.213636 185.398125 \nL 278.068182 185.398125 \nz\n\" style=\"fill:#1f77b4;\"/>\n   </g>\n   <g id=\"patch_26\">\n    <path clip-path=\"url(#p92886a9036)\" d=\"M 288.213636 185.398125 \nL 298.359091 185.398125 \nL 298.359091 185.398125 \nL 288.213636 185.398125 \nz\n\" style=\"fill:#1f77b4;\"/>\n   </g>\n   <g id=\"patch_27\">\n    <path clip-path=\"url(#p92886a9036)\" d=\"M 298.359091 185.398125 \nL 308.504545 185.398125 \nL 308.504545 185.398125 \nL 298.359091 185.398125 \nz\n\" style=\"fill:#1f77b4;\"/>\n   </g>\n   <g id=\"patch_28\">\n    <path clip-path=\"url(#p92886a9036)\" d=\"M 308.504545 185.398125 \nL 318.65 185.398125 \nL 318.65 185.398125 \nL 308.504545 185.398125 \nz\n\" style=\"fill:#1f77b4;\"/>\n   </g>\n   <g id=\"patch_29\">\n    <path clip-path=\"url(#p92886a9036)\" d=\"M 318.65 185.398125 \nL 328.795455 185.398125 \nL 328.795455 185.398125 \nL 318.65 185.398125 \nz\n\" style=\"fill:#1f77b4;\"/>\n   </g>\n   <g id=\"patch_30\">\n    <path clip-path=\"url(#p92886a9036)\" d=\"M 328.795455 185.398125 \nL 338.940909 185.398125 \nL 338.940909 185.398125 \nL 328.795455 185.398125 \nz\n\" style=\"fill:#1f77b4;\"/>\n   </g>\n   <g id=\"patch_31\">\n    <path clip-path=\"url(#p92886a9036)\" d=\"M 338.940909 185.398125 \nL 349.086364 185.398125 \nL 349.086364 185.398125 \nL 338.940909 185.398125 \nz\n\" style=\"fill:#1f77b4;\"/>\n   </g>\n   <g id=\"patch_32\">\n    <path clip-path=\"url(#p92886a9036)\" d=\"M 349.086364 185.398125 \nL 359.231818 185.398125 \nL 359.231818 185.346696 \nL 349.086364 185.346696 \nz\n\" style=\"fill:#1f77b4;\"/>\n   </g>\n   <g id=\"matplotlib.axis_1\">\n    <g id=\"xtick_1\">\n     <g id=\"line2d_1\">\n      <defs>\n       <path d=\"M 0 0 \nL 0 3.5 \n\" id=\"m45bfcd3150\" style=\"stroke:#000000;stroke-width:0.8;\"/>\n      </defs>\n      <g>\n       <use style=\"stroke:#000000;stroke-width:0.8;\" x=\"54.859811\" xlink:href=\"#m45bfcd3150\" y=\"185.398125\"/>\n      </g>\n     </g>\n     <g id=\"text_1\">\n      <!-- 0 -->\n      <g transform=\"translate(51.678561 199.996562)scale(0.1 -0.1)\">\n       <defs>\n        <path d=\"M 31.78125 66.40625 \nQ 24.171875 66.40625 20.328125 58.90625 \nQ 16.5 51.421875 16.5 36.375 \nQ 16.5 21.390625 20.328125 13.890625 \nQ 24.171875 6.390625 31.78125 6.390625 \nQ 39.453125 6.390625 43.28125 13.890625 \nQ 47.125 21.390625 47.125 36.375 \nQ 47.125 51.421875 43.28125 58.90625 \nQ 39.453125 66.40625 31.78125 66.40625 \nz\nM 31.78125 74.21875 \nQ 44.046875 74.21875 50.515625 64.515625 \nQ 56.984375 54.828125 56.984375 36.375 \nQ 56.984375 17.96875 50.515625 8.265625 \nQ 44.046875 -1.421875 31.78125 -1.421875 \nQ 19.53125 -1.421875 13.0625 8.265625 \nQ 6.59375 17.96875 6.59375 36.375 \nQ 6.59375 54.828125 13.0625 64.515625 \nQ 19.53125 74.21875 31.78125 74.21875 \nz\n\" id=\"DejaVuSans-48\"/>\n       </defs>\n       <use xlink:href=\"#DejaVuSans-48\"/>\n      </g>\n     </g>\n    </g>\n    <g id=\"xtick_2\">\n     <g id=\"line2d_2\">\n      <g>\n       <use style=\"stroke:#000000;stroke-width:0.8;\" x=\"116.40691\" xlink:href=\"#m45bfcd3150\" y=\"185.398125\"/>\n      </g>\n     </g>\n     <g id=\"text_2\">\n      <!-- 1 -->\n      <g transform=\"translate(113.22566 199.996562)scale(0.1 -0.1)\">\n       <defs>\n        <path d=\"M 12.40625 8.296875 \nL 28.515625 8.296875 \nL 28.515625 63.921875 \nL 10.984375 60.40625 \nL 10.984375 69.390625 \nL 28.421875 72.90625 \nL 38.28125 72.90625 \nL 38.28125 8.296875 \nL 54.390625 8.296875 \nL 54.390625 0 \nL 12.40625 0 \nz\n\" id=\"DejaVuSans-49\"/>\n       </defs>\n       <use xlink:href=\"#DejaVuSans-49\"/>\n      </g>\n     </g>\n    </g>\n    <g id=\"xtick_3\">\n     <g id=\"line2d_3\">\n      <g>\n       <use style=\"stroke:#000000;stroke-width:0.8;\" x=\"177.954009\" xlink:href=\"#m45bfcd3150\" y=\"185.398125\"/>\n      </g>\n     </g>\n     <g id=\"text_3\">\n      <!-- 2 -->\n      <g transform=\"translate(174.772759 199.996562)scale(0.1 -0.1)\">\n       <defs>\n        <path d=\"M 19.1875 8.296875 \nL 53.609375 8.296875 \nL 53.609375 0 \nL 7.328125 0 \nL 7.328125 8.296875 \nQ 12.9375 14.109375 22.625 23.890625 \nQ 32.328125 33.6875 34.8125 36.53125 \nQ 39.546875 41.84375 41.421875 45.53125 \nQ 43.3125 49.21875 43.3125 52.78125 \nQ 43.3125 58.59375 39.234375 62.25 \nQ 35.15625 65.921875 28.609375 65.921875 \nQ 23.96875 65.921875 18.8125 64.3125 \nQ 13.671875 62.703125 7.8125 59.421875 \nL 7.8125 69.390625 \nQ 13.765625 71.78125 18.9375 73 \nQ 24.125 74.21875 28.421875 74.21875 \nQ 39.75 74.21875 46.484375 68.546875 \nQ 53.21875 62.890625 53.21875 53.421875 \nQ 53.21875 48.921875 51.53125 44.890625 \nQ 49.859375 40.875 45.40625 35.40625 \nQ 44.1875 33.984375 37.640625 27.21875 \nQ 31.109375 20.453125 19.1875 8.296875 \nz\n\" id=\"DejaVuSans-50\"/>\n       </defs>\n       <use xlink:href=\"#DejaVuSans-50\"/>\n      </g>\n     </g>\n    </g>\n    <g id=\"xtick_4\">\n     <g id=\"line2d_4\">\n      <g>\n       <use style=\"stroke:#000000;stroke-width:0.8;\" x=\"239.501108\" xlink:href=\"#m45bfcd3150\" y=\"185.398125\"/>\n      </g>\n     </g>\n     <g id=\"text_4\">\n      <!-- 3 -->\n      <g transform=\"translate(236.319858 199.996562)scale(0.1 -0.1)\">\n       <defs>\n        <path d=\"M 40.578125 39.3125 \nQ 47.65625 37.796875 51.625 33 \nQ 55.609375 28.21875 55.609375 21.1875 \nQ 55.609375 10.40625 48.1875 4.484375 \nQ 40.765625 -1.421875 27.09375 -1.421875 \nQ 22.515625 -1.421875 17.65625 -0.515625 \nQ 12.796875 0.390625 7.625 2.203125 \nL 7.625 11.71875 \nQ 11.71875 9.328125 16.59375 8.109375 \nQ 21.484375 6.890625 26.8125 6.890625 \nQ 36.078125 6.890625 40.9375 10.546875 \nQ 45.796875 14.203125 45.796875 21.1875 \nQ 45.796875 27.640625 41.28125 31.265625 \nQ 36.765625 34.90625 28.71875 34.90625 \nL 20.21875 34.90625 \nL 20.21875 43.015625 \nL 29.109375 43.015625 \nQ 36.375 43.015625 40.234375 45.921875 \nQ 44.09375 48.828125 44.09375 54.296875 \nQ 44.09375 59.90625 40.109375 62.90625 \nQ 36.140625 65.921875 28.71875 65.921875 \nQ 24.65625 65.921875 20.015625 65.03125 \nQ 15.375 64.15625 9.8125 62.3125 \nL 9.8125 71.09375 \nQ 15.4375 72.65625 20.34375 73.4375 \nQ 25.25 74.21875 29.59375 74.21875 \nQ 40.828125 74.21875 47.359375 69.109375 \nQ 53.90625 64.015625 53.90625 55.328125 \nQ 53.90625 49.265625 50.4375 45.09375 \nQ 46.96875 40.921875 40.578125 39.3125 \nz\n\" id=\"DejaVuSans-51\"/>\n       </defs>\n       <use xlink:href=\"#DejaVuSans-51\"/>\n      </g>\n     </g>\n    </g>\n    <g id=\"xtick_5\">\n     <g id=\"line2d_5\">\n      <g>\n       <use style=\"stroke:#000000;stroke-width:0.8;\" x=\"301.048207\" xlink:href=\"#m45bfcd3150\" y=\"185.398125\"/>\n      </g>\n     </g>\n     <g id=\"text_5\">\n      <!-- 4 -->\n      <g transform=\"translate(297.866957 199.996562)scale(0.1 -0.1)\">\n       <defs>\n        <path d=\"M 37.796875 64.3125 \nL 12.890625 25.390625 \nL 37.796875 25.390625 \nz\nM 35.203125 72.90625 \nL 47.609375 72.90625 \nL 47.609375 25.390625 \nL 58.015625 25.390625 \nL 58.015625 17.1875 \nL 47.609375 17.1875 \nL 47.609375 0 \nL 37.796875 0 \nL 37.796875 17.1875 \nL 4.890625 17.1875 \nL 4.890625 26.703125 \nz\n\" id=\"DejaVuSans-52\"/>\n       </defs>\n       <use xlink:href=\"#DejaVuSans-52\"/>\n      </g>\n     </g>\n    </g>\n    <g id=\"xtick_6\">\n     <g id=\"line2d_6\">\n      <g>\n       <use style=\"stroke:#000000;stroke-width:0.8;\" x=\"362.595306\" xlink:href=\"#m45bfcd3150\" y=\"185.398125\"/>\n      </g>\n     </g>\n     <g id=\"text_6\">\n      <!-- 5 -->\n      <g transform=\"translate(359.414056 199.996562)scale(0.1 -0.1)\">\n       <defs>\n        <path d=\"M 10.796875 72.90625 \nL 49.515625 72.90625 \nL 49.515625 64.59375 \nL 19.828125 64.59375 \nL 19.828125 46.734375 \nQ 21.96875 47.46875 24.109375 47.828125 \nQ 26.265625 48.1875 28.421875 48.1875 \nQ 40.625 48.1875 47.75 41.5 \nQ 54.890625 34.8125 54.890625 23.390625 \nQ 54.890625 11.625 47.5625 5.09375 \nQ 40.234375 -1.421875 26.90625 -1.421875 \nQ 22.3125 -1.421875 17.546875 -0.640625 \nQ 12.796875 0.140625 7.71875 1.703125 \nL 7.71875 11.625 \nQ 12.109375 9.234375 16.796875 8.0625 \nQ 21.484375 6.890625 26.703125 6.890625 \nQ 35.15625 6.890625 40.078125 11.328125 \nQ 45.015625 15.765625 45.015625 23.390625 \nQ 45.015625 31 40.078125 35.4375 \nQ 35.15625 39.890625 26.703125 39.890625 \nQ 22.75 39.890625 18.8125 39.015625 \nQ 14.890625 38.140625 10.796875 36.28125 \nz\n\" id=\"DejaVuSans-53\"/>\n       </defs>\n       <use xlink:href=\"#DejaVuSans-53\"/>\n      </g>\n     </g>\n    </g>\n    <g id=\"text_7\">\n     <!-- 1e6 -->\n     <g transform=\"translate(355.571875 212.674688)scale(0.1 -0.1)\">\n      <defs>\n       <path d=\"M 56.203125 29.59375 \nL 56.203125 25.203125 \nL 14.890625 25.203125 \nQ 15.484375 15.921875 20.484375 11.0625 \nQ 25.484375 6.203125 34.421875 6.203125 \nQ 39.59375 6.203125 44.453125 7.46875 \nQ 49.3125 8.734375 54.109375 11.28125 \nL 54.109375 2.78125 \nQ 49.265625 0.734375 44.1875 -0.34375 \nQ 39.109375 -1.421875 33.890625 -1.421875 \nQ 20.796875 -1.421875 13.15625 6.1875 \nQ 5.515625 13.8125 5.515625 26.8125 \nQ 5.515625 40.234375 12.765625 48.109375 \nQ 20.015625 56 32.328125 56 \nQ 43.359375 56 49.78125 48.890625 \nQ 56.203125 41.796875 56.203125 29.59375 \nz\nM 47.21875 32.234375 \nQ 47.125 39.59375 43.09375 43.984375 \nQ 39.0625 48.390625 32.421875 48.390625 \nQ 24.90625 48.390625 20.390625 44.140625 \nQ 15.875 39.890625 15.1875 32.171875 \nz\n\" id=\"DejaVuSans-101\"/>\n       <path d=\"M 33.015625 40.375 \nQ 26.375 40.375 22.484375 35.828125 \nQ 18.609375 31.296875 18.609375 23.390625 \nQ 18.609375 15.53125 22.484375 10.953125 \nQ 26.375 6.390625 33.015625 6.390625 \nQ 39.65625 6.390625 43.53125 10.953125 \nQ 47.40625 15.53125 47.40625 23.390625 \nQ 47.40625 31.296875 43.53125 35.828125 \nQ 39.65625 40.375 33.015625 40.375 \nz\nM 52.59375 71.296875 \nL 52.59375 62.3125 \nQ 48.875 64.0625 45.09375 64.984375 \nQ 41.3125 65.921875 37.59375 65.921875 \nQ 27.828125 65.921875 22.671875 59.328125 \nQ 17.53125 52.734375 16.796875 39.40625 \nQ 19.671875 43.65625 24.015625 45.921875 \nQ 28.375 48.1875 33.59375 48.1875 \nQ 44.578125 48.1875 50.953125 41.515625 \nQ 57.328125 34.859375 57.328125 23.390625 \nQ 57.328125 12.15625 50.6875 5.359375 \nQ 44.046875 -1.421875 33.015625 -1.421875 \nQ 20.359375 -1.421875 13.671875 8.265625 \nQ 6.984375 17.96875 6.984375 36.375 \nQ 6.984375 53.65625 15.1875 63.9375 \nQ 23.390625 74.21875 37.203125 74.21875 \nQ 40.921875 74.21875 44.703125 73.484375 \nQ 48.484375 72.75 52.59375 71.296875 \nz\n\" id=\"DejaVuSans-54\"/>\n      </defs>\n      <use xlink:href=\"#DejaVuSans-49\"/>\n      <use x=\"63.623047\" xlink:href=\"#DejaVuSans-101\"/>\n      <use x=\"125.146484\" xlink:href=\"#DejaVuSans-54\"/>\n     </g>\n    </g>\n   </g>\n   <g id=\"matplotlib.axis_2\">\n    <g id=\"ytick_1\">\n     <g id=\"line2d_7\">\n      <defs>\n       <path d=\"M 0 0 \nL -3.5 0 \n\" id=\"ma6b1ca89f4\" style=\"stroke:#000000;stroke-width:0.8;\"/>\n      </defs>\n      <g>\n       <use style=\"stroke:#000000;stroke-width:0.8;\" x=\"39.65\" xlink:href=\"#ma6b1ca89f4\" y=\"185.398125\"/>\n      </g>\n     </g>\n     <g id=\"text_8\">\n      <!-- 0 -->\n      <g transform=\"translate(26.2875 189.197344)scale(0.1 -0.1)\">\n       <use xlink:href=\"#DejaVuSans-48\"/>\n      </g>\n     </g>\n    </g>\n    <g id=\"ytick_2\">\n     <g id=\"line2d_8\">\n      <g>\n       <use style=\"stroke:#000000;stroke-width:0.8;\" x=\"39.65\" xlink:href=\"#ma6b1ca89f4\" y=\"159.683839\"/>\n      </g>\n     </g>\n     <g id=\"text_9\">\n      <!-- 500 -->\n      <g transform=\"translate(13.5625 163.483058)scale(0.1 -0.1)\">\n       <use xlink:href=\"#DejaVuSans-53\"/>\n       <use x=\"63.623047\" xlink:href=\"#DejaVuSans-48\"/>\n       <use x=\"127.246094\" xlink:href=\"#DejaVuSans-48\"/>\n      </g>\n     </g>\n    </g>\n    <g id=\"ytick_3\">\n     <g id=\"line2d_9\">\n      <g>\n       <use style=\"stroke:#000000;stroke-width:0.8;\" x=\"39.65\" xlink:href=\"#ma6b1ca89f4\" y=\"133.969554\"/>\n      </g>\n     </g>\n     <g id=\"text_10\">\n      <!-- 1000 -->\n      <g transform=\"translate(7.2 137.768772)scale(0.1 -0.1)\">\n       <use xlink:href=\"#DejaVuSans-49\"/>\n       <use x=\"63.623047\" xlink:href=\"#DejaVuSans-48\"/>\n       <use x=\"127.246094\" xlink:href=\"#DejaVuSans-48\"/>\n       <use x=\"190.869141\" xlink:href=\"#DejaVuSans-48\"/>\n      </g>\n     </g>\n    </g>\n    <g id=\"ytick_4\">\n     <g id=\"line2d_10\">\n      <g>\n       <use style=\"stroke:#000000;stroke-width:0.8;\" x=\"39.65\" xlink:href=\"#ma6b1ca89f4\" y=\"108.255268\"/>\n      </g>\n     </g>\n     <g id=\"text_11\">\n      <!-- 1500 -->\n      <g transform=\"translate(7.2 112.054487)scale(0.1 -0.1)\">\n       <use xlink:href=\"#DejaVuSans-49\"/>\n       <use x=\"63.623047\" xlink:href=\"#DejaVuSans-53\"/>\n       <use x=\"127.246094\" xlink:href=\"#DejaVuSans-48\"/>\n       <use x=\"190.869141\" xlink:href=\"#DejaVuSans-48\"/>\n      </g>\n     </g>\n    </g>\n    <g id=\"ytick_5\">\n     <g id=\"line2d_11\">\n      <g>\n       <use style=\"stroke:#000000;stroke-width:0.8;\" x=\"39.65\" xlink:href=\"#ma6b1ca89f4\" y=\"82.540982\"/>\n      </g>\n     </g>\n     <g id=\"text_12\">\n      <!-- 2000 -->\n      <g transform=\"translate(7.2 86.340201)scale(0.1 -0.1)\">\n       <use xlink:href=\"#DejaVuSans-50\"/>\n       <use x=\"63.623047\" xlink:href=\"#DejaVuSans-48\"/>\n       <use x=\"127.246094\" xlink:href=\"#DejaVuSans-48\"/>\n       <use x=\"190.869141\" xlink:href=\"#DejaVuSans-48\"/>\n      </g>\n     </g>\n    </g>\n    <g id=\"ytick_6\">\n     <g id=\"line2d_12\">\n      <g>\n       <use style=\"stroke:#000000;stroke-width:0.8;\" x=\"39.65\" xlink:href=\"#ma6b1ca89f4\" y=\"56.826696\"/>\n      </g>\n     </g>\n     <g id=\"text_13\">\n      <!-- 2500 -->\n      <g transform=\"translate(7.2 60.625915)scale(0.1 -0.1)\">\n       <use xlink:href=\"#DejaVuSans-50\"/>\n       <use x=\"63.623047\" xlink:href=\"#DejaVuSans-53\"/>\n       <use x=\"127.246094\" xlink:href=\"#DejaVuSans-48\"/>\n       <use x=\"190.869141\" xlink:href=\"#DejaVuSans-48\"/>\n      </g>\n     </g>\n    </g>\n    <g id=\"ytick_7\">\n     <g id=\"line2d_13\">\n      <g>\n       <use style=\"stroke:#000000;stroke-width:0.8;\" x=\"39.65\" xlink:href=\"#ma6b1ca89f4\" y=\"31.112411\"/>\n      </g>\n     </g>\n     <g id=\"text_14\">\n      <!-- 3000 -->\n      <g transform=\"translate(7.2 34.911629)scale(0.1 -0.1)\">\n       <use xlink:href=\"#DejaVuSans-51\"/>\n       <use x=\"63.623047\" xlink:href=\"#DejaVuSans-48\"/>\n       <use x=\"127.246094\" xlink:href=\"#DejaVuSans-48\"/>\n       <use x=\"190.869141\" xlink:href=\"#DejaVuSans-48\"/>\n      </g>\n     </g>\n    </g>\n   </g>\n   <g id=\"patch_33\">\n    <path d=\"M 39.65 185.398125 \nL 39.65 22.318125 \n\" style=\"fill:none;stroke:#000000;stroke-linecap:square;stroke-linejoin:miter;stroke-width:0.8;\"/>\n   </g>\n   <g id=\"patch_34\">\n    <path d=\"M 374.45 185.398125 \nL 374.45 22.318125 \n\" style=\"fill:none;stroke:#000000;stroke-linecap:square;stroke-linejoin:miter;stroke-width:0.8;\"/>\n   </g>\n   <g id=\"patch_35\">\n    <path d=\"M 39.65 185.398125 \nL 374.45 185.398125 \n\" style=\"fill:none;stroke:#000000;stroke-linecap:square;stroke-linejoin:miter;stroke-width:0.8;\"/>\n   </g>\n   <g id=\"patch_36\">\n    <path d=\"M 39.65 22.318125 \nL 374.45 22.318125 \n\" style=\"fill:none;stroke:#000000;stroke-linecap:square;stroke-linejoin:miter;stroke-width:0.8;\"/>\n   </g>\n   <g id=\"text_15\">\n    <!-- Histogram of Men -->\n    <g transform=\"translate(153.656563 16.318125)scale(0.12 -0.12)\">\n     <defs>\n      <path d=\"M 9.8125 72.90625 \nL 19.671875 72.90625 \nL 19.671875 43.015625 \nL 55.515625 43.015625 \nL 55.515625 72.90625 \nL 65.375 72.90625 \nL 65.375 0 \nL 55.515625 0 \nL 55.515625 34.71875 \nL 19.671875 34.71875 \nL 19.671875 0 \nL 9.8125 0 \nz\n\" id=\"DejaVuSans-72\"/>\n      <path d=\"M 9.421875 54.6875 \nL 18.40625 54.6875 \nL 18.40625 0 \nL 9.421875 0 \nz\nM 9.421875 75.984375 \nL 18.40625 75.984375 \nL 18.40625 64.59375 \nL 9.421875 64.59375 \nz\n\" id=\"DejaVuSans-105\"/>\n      <path d=\"M 44.28125 53.078125 \nL 44.28125 44.578125 \nQ 40.484375 46.53125 36.375 47.5 \nQ 32.28125 48.484375 27.875 48.484375 \nQ 21.1875 48.484375 17.84375 46.4375 \nQ 14.5 44.390625 14.5 40.28125 \nQ 14.5 37.15625 16.890625 35.375 \nQ 19.28125 33.59375 26.515625 31.984375 \nL 29.59375 31.296875 \nQ 39.15625 29.25 43.1875 25.515625 \nQ 47.21875 21.78125 47.21875 15.09375 \nQ 47.21875 7.46875 41.1875 3.015625 \nQ 35.15625 -1.421875 24.609375 -1.421875 \nQ 20.21875 -1.421875 15.453125 -0.5625 \nQ 10.6875 0.296875 5.421875 2 \nL 5.421875 11.28125 \nQ 10.40625 8.6875 15.234375 7.390625 \nQ 20.0625 6.109375 24.8125 6.109375 \nQ 31.15625 6.109375 34.5625 8.28125 \nQ 37.984375 10.453125 37.984375 14.40625 \nQ 37.984375 18.0625 35.515625 20.015625 \nQ 33.0625 21.96875 24.703125 23.78125 \nL 21.578125 24.515625 \nQ 13.234375 26.265625 9.515625 29.90625 \nQ 5.8125 33.546875 5.8125 39.890625 \nQ 5.8125 47.609375 11.28125 51.796875 \nQ 16.75 56 26.8125 56 \nQ 31.78125 56 36.171875 55.265625 \nQ 40.578125 54.546875 44.28125 53.078125 \nz\n\" id=\"DejaVuSans-115\"/>\n      <path d=\"M 18.3125 70.21875 \nL 18.3125 54.6875 \nL 36.8125 54.6875 \nL 36.8125 47.703125 \nL 18.3125 47.703125 \nL 18.3125 18.015625 \nQ 18.3125 11.328125 20.140625 9.421875 \nQ 21.96875 7.515625 27.59375 7.515625 \nL 36.8125 7.515625 \nL 36.8125 0 \nL 27.59375 0 \nQ 17.1875 0 13.234375 3.875 \nQ 9.28125 7.765625 9.28125 18.015625 \nL 9.28125 47.703125 \nL 2.6875 47.703125 \nL 2.6875 54.6875 \nL 9.28125 54.6875 \nL 9.28125 70.21875 \nz\n\" id=\"DejaVuSans-116\"/>\n      <path d=\"M 30.609375 48.390625 \nQ 23.390625 48.390625 19.1875 42.75 \nQ 14.984375 37.109375 14.984375 27.296875 \nQ 14.984375 17.484375 19.15625 11.84375 \nQ 23.34375 6.203125 30.609375 6.203125 \nQ 37.796875 6.203125 41.984375 11.859375 \nQ 46.1875 17.53125 46.1875 27.296875 \nQ 46.1875 37.015625 41.984375 42.703125 \nQ 37.796875 48.390625 30.609375 48.390625 \nz\nM 30.609375 56 \nQ 42.328125 56 49.015625 48.375 \nQ 55.71875 40.765625 55.71875 27.296875 \nQ 55.71875 13.875 49.015625 6.21875 \nQ 42.328125 -1.421875 30.609375 -1.421875 \nQ 18.84375 -1.421875 12.171875 6.21875 \nQ 5.515625 13.875 5.515625 27.296875 \nQ 5.515625 40.765625 12.171875 48.375 \nQ 18.84375 56 30.609375 56 \nz\n\" id=\"DejaVuSans-111\"/>\n      <path d=\"M 45.40625 27.984375 \nQ 45.40625 37.75 41.375 43.109375 \nQ 37.359375 48.484375 30.078125 48.484375 \nQ 22.859375 48.484375 18.828125 43.109375 \nQ 14.796875 37.75 14.796875 27.984375 \nQ 14.796875 18.265625 18.828125 12.890625 \nQ 22.859375 7.515625 30.078125 7.515625 \nQ 37.359375 7.515625 41.375 12.890625 \nQ 45.40625 18.265625 45.40625 27.984375 \nz\nM 54.390625 6.78125 \nQ 54.390625 -7.171875 48.1875 -13.984375 \nQ 42 -20.796875 29.203125 -20.796875 \nQ 24.46875 -20.796875 20.265625 -20.09375 \nQ 16.0625 -19.390625 12.109375 -17.921875 \nL 12.109375 -9.1875 \nQ 16.0625 -11.328125 19.921875 -12.34375 \nQ 23.78125 -13.375 27.78125 -13.375 \nQ 36.625 -13.375 41.015625 -8.765625 \nQ 45.40625 -4.15625 45.40625 5.171875 \nL 45.40625 9.625 \nQ 42.625 4.78125 38.28125 2.390625 \nQ 33.9375 0 27.875 0 \nQ 17.828125 0 11.671875 7.65625 \nQ 5.515625 15.328125 5.515625 27.984375 \nQ 5.515625 40.671875 11.671875 48.328125 \nQ 17.828125 56 27.875 56 \nQ 33.9375 56 38.28125 53.609375 \nQ 42.625 51.21875 45.40625 46.390625 \nL 45.40625 54.6875 \nL 54.390625 54.6875 \nz\n\" id=\"DejaVuSans-103\"/>\n      <path d=\"M 41.109375 46.296875 \nQ 39.59375 47.171875 37.8125 47.578125 \nQ 36.03125 48 33.890625 48 \nQ 26.265625 48 22.1875 43.046875 \nQ 18.109375 38.09375 18.109375 28.8125 \nL 18.109375 0 \nL 9.078125 0 \nL 9.078125 54.6875 \nL 18.109375 54.6875 \nL 18.109375 46.1875 \nQ 20.953125 51.171875 25.484375 53.578125 \nQ 30.03125 56 36.53125 56 \nQ 37.453125 56 38.578125 55.875 \nQ 39.703125 55.765625 41.0625 55.515625 \nz\n\" id=\"DejaVuSans-114\"/>\n      <path d=\"M 34.28125 27.484375 \nQ 23.390625 27.484375 19.1875 25 \nQ 14.984375 22.515625 14.984375 16.5 \nQ 14.984375 11.71875 18.140625 8.90625 \nQ 21.296875 6.109375 26.703125 6.109375 \nQ 34.1875 6.109375 38.703125 11.40625 \nQ 43.21875 16.703125 43.21875 25.484375 \nL 43.21875 27.484375 \nz\nM 52.203125 31.203125 \nL 52.203125 0 \nL 43.21875 0 \nL 43.21875 8.296875 \nQ 40.140625 3.328125 35.546875 0.953125 \nQ 30.953125 -1.421875 24.3125 -1.421875 \nQ 15.921875 -1.421875 10.953125 3.296875 \nQ 6 8.015625 6 15.921875 \nQ 6 25.140625 12.171875 29.828125 \nQ 18.359375 34.515625 30.609375 34.515625 \nL 43.21875 34.515625 \nL 43.21875 35.40625 \nQ 43.21875 41.609375 39.140625 45 \nQ 35.0625 48.390625 27.6875 48.390625 \nQ 23 48.390625 18.546875 47.265625 \nQ 14.109375 46.140625 10.015625 43.890625 \nL 10.015625 52.203125 \nQ 14.9375 54.109375 19.578125 55.046875 \nQ 24.21875 56 28.609375 56 \nQ 40.484375 56 46.34375 49.84375 \nQ 52.203125 43.703125 52.203125 31.203125 \nz\n\" id=\"DejaVuSans-97\"/>\n      <path d=\"M 52 44.1875 \nQ 55.375 50.25 60.0625 53.125 \nQ 64.75 56 71.09375 56 \nQ 79.640625 56 84.28125 50.015625 \nQ 88.921875 44.046875 88.921875 33.015625 \nL 88.921875 0 \nL 79.890625 0 \nL 79.890625 32.71875 \nQ 79.890625 40.578125 77.09375 44.375 \nQ 74.3125 48.1875 68.609375 48.1875 \nQ 61.625 48.1875 57.5625 43.546875 \nQ 53.515625 38.921875 53.515625 30.90625 \nL 53.515625 0 \nL 44.484375 0 \nL 44.484375 32.71875 \nQ 44.484375 40.625 41.703125 44.40625 \nQ 38.921875 48.1875 33.109375 48.1875 \nQ 26.21875 48.1875 22.15625 43.53125 \nQ 18.109375 38.875 18.109375 30.90625 \nL 18.109375 0 \nL 9.078125 0 \nL 9.078125 54.6875 \nL 18.109375 54.6875 \nL 18.109375 46.1875 \nQ 21.1875 51.21875 25.484375 53.609375 \nQ 29.78125 56 35.6875 56 \nQ 41.65625 56 45.828125 52.96875 \nQ 50 49.953125 52 44.1875 \nz\n\" id=\"DejaVuSans-109\"/>\n      <path id=\"DejaVuSans-32\"/>\n      <path d=\"M 37.109375 75.984375 \nL 37.109375 68.5 \nL 28.515625 68.5 \nQ 23.6875 68.5 21.796875 66.546875 \nQ 19.921875 64.59375 19.921875 59.515625 \nL 19.921875 54.6875 \nL 34.71875 54.6875 \nL 34.71875 47.703125 \nL 19.921875 47.703125 \nL 19.921875 0 \nL 10.890625 0 \nL 10.890625 47.703125 \nL 2.296875 47.703125 \nL 2.296875 54.6875 \nL 10.890625 54.6875 \nL 10.890625 58.5 \nQ 10.890625 67.625 15.140625 71.796875 \nQ 19.390625 75.984375 28.609375 75.984375 \nz\n\" id=\"DejaVuSans-102\"/>\n      <path d=\"M 9.8125 72.90625 \nL 24.515625 72.90625 \nL 43.109375 23.296875 \nL 61.8125 72.90625 \nL 76.515625 72.90625 \nL 76.515625 0 \nL 66.890625 0 \nL 66.890625 64.015625 \nL 48.09375 14.015625 \nL 38.1875 14.015625 \nL 19.390625 64.015625 \nL 19.390625 0 \nL 9.8125 0 \nz\n\" id=\"DejaVuSans-77\"/>\n      <path d=\"M 54.890625 33.015625 \nL 54.890625 0 \nL 45.90625 0 \nL 45.90625 32.71875 \nQ 45.90625 40.484375 42.875 44.328125 \nQ 39.84375 48.1875 33.796875 48.1875 \nQ 26.515625 48.1875 22.3125 43.546875 \nQ 18.109375 38.921875 18.109375 30.90625 \nL 18.109375 0 \nL 9.078125 0 \nL 9.078125 54.6875 \nL 18.109375 54.6875 \nL 18.109375 46.1875 \nQ 21.34375 51.125 25.703125 53.5625 \nQ 30.078125 56 35.796875 56 \nQ 45.21875 56 50.046875 50.171875 \nQ 54.890625 44.34375 54.890625 33.015625 \nz\n\" id=\"DejaVuSans-110\"/>\n     </defs>\n     <use xlink:href=\"#DejaVuSans-72\"/>\n     <use x=\"75.195312\" xlink:href=\"#DejaVuSans-105\"/>\n     <use x=\"102.978516\" xlink:href=\"#DejaVuSans-115\"/>\n     <use x=\"155.078125\" xlink:href=\"#DejaVuSans-116\"/>\n     <use x=\"194.287109\" xlink:href=\"#DejaVuSans-111\"/>\n     <use x=\"255.46875\" xlink:href=\"#DejaVuSans-103\"/>\n     <use x=\"318.945312\" xlink:href=\"#DejaVuSans-114\"/>\n     <use x=\"360.058594\" xlink:href=\"#DejaVuSans-97\"/>\n     <use x=\"421.337891\" xlink:href=\"#DejaVuSans-109\"/>\n     <use x=\"518.75\" xlink:href=\"#DejaVuSans-32\"/>\n     <use x=\"550.537109\" xlink:href=\"#DejaVuSans-111\"/>\n     <use x=\"611.71875\" xlink:href=\"#DejaVuSans-102\"/>\n     <use x=\"646.923828\" xlink:href=\"#DejaVuSans-32\"/>\n     <use x=\"678.710938\" xlink:href=\"#DejaVuSans-77\"/>\n     <use x=\"764.990234\" xlink:href=\"#DejaVuSans-101\"/>\n     <use x=\"826.513672\" xlink:href=\"#DejaVuSans-110\"/>\n    </g>\n   </g>\n  </g>\n </g>\n <defs>\n  <clipPath id=\"p92886a9036\">\n   <rect height=\"163.08\" width=\"334.8\" x=\"39.65\" y=\"22.318125\"/>\n  </clipPath>\n </defs>\n</svg>\n",
      "image/png": "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\n"
     },
     "metadata": {
      "needs_background": "light"
     }
    },
    {
     "output_type": "display_data",
     "data": {
      "text/plain": "<Figure size 432x216 with 1 Axes>",
      "image/svg+xml": "<?xml version=\"1.0\" encoding=\"utf-8\" standalone=\"no\"?>\n<!DOCTYPE svg PUBLIC \"-//W3C//DTD SVG 1.1//EN\"\n  \"http://www.w3.org/Graphics/SVG/1.1/DTD/svg11.dtd\">\n<!-- Created with matplotlib (https://matplotlib.org/) -->\n<svg height=\"221.954375pt\" version=\"1.1\" viewBox=\"0 0 381.65 221.954375\" width=\"381.65pt\" xmlns=\"http://www.w3.org/2000/svg\" xmlns:xlink=\"http://www.w3.org/1999/xlink\">\n <metadata>\n  <rdf:RDF xmlns:cc=\"http://creativecommons.org/ns#\" xmlns:dc=\"http://purl.org/dc/elements/1.1/\" xmlns:rdf=\"http://www.w3.org/1999/02/22-rdf-syntax-ns#\">\n   <cc:Work>\n    <dc:type rdf:resource=\"http://purl.org/dc/dcmitype/StillImage\"/>\n    <dc:date>2021-03-20T03:25:26.616205</dc:date>\n    <dc:format>image/svg+xml</dc:format>\n    <dc:creator>\n     <cc:Agent>\n      <dc:title>Matplotlib v3.3.4, https://matplotlib.org/</dc:title>\n     </cc:Agent>\n    </dc:creator>\n   </cc:Work>\n  </rdf:RDF>\n </metadata>\n <defs>\n  <style type=\"text/css\">*{stroke-linecap:butt;stroke-linejoin:round;}</style>\n </defs>\n <g id=\"figure_1\">\n  <g id=\"patch_1\">\n   <path d=\"M -0 221.954375 \nL 381.65 221.954375 \nL 381.65 0 \nL -0 0 \nz\n\" style=\"fill:none;\"/>\n  </g>\n  <g id=\"axes_1\">\n   <g id=\"patch_2\">\n    <path d=\"M 39.65 185.398125 \nL 374.45 185.398125 \nL 374.45 22.318125 \nL 39.65 22.318125 \nz\n\" style=\"fill:#ffffff;\"/>\n   </g>\n   <g id=\"patch_3\">\n    <path clip-path=\"url(#pbcd02928ca)\" d=\"M 54.868182 185.398125 \nL 65.013636 185.398125 \nL 65.013636 30.083839 \nL 54.868182 30.083839 \nz\n\" style=\"fill:#1f77b4;\"/>\n   </g>\n   <g id=\"patch_4\">\n    <path clip-path=\"url(#pbcd02928ca)\" d=\"M 65.013636 185.398125 \nL 75.159091 185.398125 \nL 75.159091 180.100982 \nL 65.013636 180.100982 \nz\n\" style=\"fill:#1f77b4;\"/>\n   </g>\n   <g id=\"patch_5\">\n    <path clip-path=\"url(#pbcd02928ca)\" d=\"M 75.159091 185.398125 \nL 85.304545 185.398125 \nL 85.304545 182.672411 \nL 75.159091 182.672411 \nz\n\" style=\"fill:#1f77b4;\"/>\n   </g>\n   <g id=\"patch_6\">\n    <path clip-path=\"url(#pbcd02928ca)\" d=\"M 85.304545 185.398125 \nL 95.45 185.398125 \nL 95.45 184.678125 \nL 85.304545 184.678125 \nz\n\" style=\"fill:#1f77b4;\"/>\n   </g>\n   <g id=\"patch_7\">\n    <path clip-path=\"url(#pbcd02928ca)\" d=\"M 95.45 185.398125 \nL 105.595455 185.398125 \nL 105.595455 184.986696 \nL 95.45 184.986696 \nz\n\" style=\"fill:#1f77b4;\"/>\n   </g>\n   <g id=\"patch_8\">\n    <path clip-path=\"url(#pbcd02928ca)\" d=\"M 105.595455 185.398125 \nL 115.740909 185.398125 \nL 115.740909 185.038125 \nL 105.595455 185.038125 \nz\n\" style=\"fill:#1f77b4;\"/>\n   </g>\n   <g id=\"patch_9\">\n    <path clip-path=\"url(#pbcd02928ca)\" d=\"M 115.740909 185.398125 \nL 125.886364 185.398125 \nL 125.886364 185.192411 \nL 115.740909 185.192411 \nz\n\" style=\"fill:#1f77b4;\"/>\n   </g>\n   <g id=\"patch_10\">\n    <path clip-path=\"url(#pbcd02928ca)\" d=\"M 125.886364 185.398125 \nL 136.031818 185.398125 \nL 136.031818 185.346696 \nL 125.886364 185.346696 \nz\n\" style=\"fill:#1f77b4;\"/>\n   </g>\n   <g id=\"patch_11\">\n    <path clip-path=\"url(#pbcd02928ca)\" d=\"M 136.031818 185.398125 \nL 146.177273 185.398125 \nL 146.177273 185.295268 \nL 136.031818 185.295268 \nz\n\" style=\"fill:#1f77b4;\"/>\n   </g>\n   <g id=\"patch_12\">\n    <path clip-path=\"url(#pbcd02928ca)\" d=\"M 146.177273 185.398125 \nL 156.322727 185.398125 \nL 156.322727 185.295268 \nL 146.177273 185.295268 \nz\n\" style=\"fill:#1f77b4;\"/>\n   </g>\n   <g id=\"patch_13\">\n    <path clip-path=\"url(#pbcd02928ca)\" d=\"M 156.322727 185.398125 \nL 166.468182 185.398125 \nL 166.468182 185.398125 \nL 156.322727 185.398125 \nz\n\" style=\"fill:#1f77b4;\"/>\n   </g>\n   <g id=\"patch_14\">\n    <path clip-path=\"url(#pbcd02928ca)\" d=\"M 166.468182 185.398125 \nL 176.613636 185.398125 \nL 176.613636 185.346696 \nL 166.468182 185.346696 \nz\n\" style=\"fill:#1f77b4;\"/>\n   </g>\n   <g id=\"patch_15\">\n    <path clip-path=\"url(#pbcd02928ca)\" d=\"M 176.613636 185.398125 \nL 186.759091 185.398125 \nL 186.759091 185.346696 \nL 176.613636 185.346696 \nz\n\" style=\"fill:#1f77b4;\"/>\n   </g>\n   <g id=\"patch_16\">\n    <path clip-path=\"url(#pbcd02928ca)\" d=\"M 186.759091 185.398125 \nL 196.904545 185.398125 \nL 196.904545 185.398125 \nL 186.759091 185.398125 \nz\n\" style=\"fill:#1f77b4;\"/>\n   </g>\n   <g id=\"patch_17\">\n    <path clip-path=\"url(#pbcd02928ca)\" d=\"M 196.904545 185.398125 \nL 207.05 185.398125 \nL 207.05 185.398125 \nL 196.904545 185.398125 \nz\n\" style=\"fill:#1f77b4;\"/>\n   </g>\n   <g id=\"patch_18\">\n    <path clip-path=\"url(#pbcd02928ca)\" d=\"M 207.05 185.398125 \nL 217.195455 185.398125 \nL 217.195455 185.346696 \nL 207.05 185.346696 \nz\n\" style=\"fill:#1f77b4;\"/>\n   </g>\n   <g id=\"patch_19\">\n    <path clip-path=\"url(#pbcd02928ca)\" d=\"M 217.195455 185.398125 \nL 227.340909 185.398125 \nL 227.340909 185.398125 \nL 217.195455 185.398125 \nz\n\" style=\"fill:#1f77b4;\"/>\n   </g>\n   <g id=\"patch_20\">\n    <path clip-path=\"url(#pbcd02928ca)\" d=\"M 227.340909 185.398125 \nL 237.486364 185.398125 \nL 237.486364 185.398125 \nL 227.340909 185.398125 \nz\n\" style=\"fill:#1f77b4;\"/>\n   </g>\n   <g id=\"patch_21\">\n    <path clip-path=\"url(#pbcd02928ca)\" d=\"M 237.486364 185.398125 \nL 247.631818 185.398125 \nL 247.631818 185.398125 \nL 237.486364 185.398125 \nz\n\" style=\"fill:#1f77b4;\"/>\n   </g>\n   <g id=\"patch_22\">\n    <path clip-path=\"url(#pbcd02928ca)\" d=\"M 247.631818 185.398125 \nL 257.777273 185.398125 \nL 257.777273 185.398125 \nL 247.631818 185.398125 \nz\n\" style=\"fill:#1f77b4;\"/>\n   </g>\n   <g id=\"patch_23\">\n    <path clip-path=\"url(#pbcd02928ca)\" d=\"M 257.777273 185.398125 \nL 267.922727 185.398125 \nL 267.922727 185.398125 \nL 257.777273 185.398125 \nz\n\" style=\"fill:#1f77b4;\"/>\n   </g>\n   <g id=\"patch_24\">\n    <path clip-path=\"url(#pbcd02928ca)\" d=\"M 267.922727 185.398125 \nL 278.068182 185.398125 \nL 278.068182 185.398125 \nL 267.922727 185.398125 \nz\n\" style=\"fill:#1f77b4;\"/>\n   </g>\n   <g id=\"patch_25\">\n    <path clip-path=\"url(#pbcd02928ca)\" d=\"M 278.068182 185.398125 \nL 288.213636 185.398125 \nL 288.213636 185.398125 \nL 278.068182 185.398125 \nz\n\" style=\"fill:#1f77b4;\"/>\n   </g>\n   <g id=\"patch_26\">\n    <path clip-path=\"url(#pbcd02928ca)\" d=\"M 288.213636 185.398125 \nL 298.359091 185.398125 \nL 298.359091 185.398125 \nL 288.213636 185.398125 \nz\n\" style=\"fill:#1f77b4;\"/>\n   </g>\n   <g id=\"patch_27\">\n    <path clip-path=\"url(#pbcd02928ca)\" d=\"M 298.359091 185.398125 \nL 308.504545 185.398125 \nL 308.504545 185.398125 \nL 298.359091 185.398125 \nz\n\" style=\"fill:#1f77b4;\"/>\n   </g>\n   <g id=\"patch_28\">\n    <path clip-path=\"url(#pbcd02928ca)\" d=\"M 308.504545 185.398125 \nL 318.65 185.398125 \nL 318.65 185.398125 \nL 308.504545 185.398125 \nz\n\" style=\"fill:#1f77b4;\"/>\n   </g>\n   <g id=\"patch_29\">\n    <path clip-path=\"url(#pbcd02928ca)\" d=\"M 318.65 185.398125 \nL 328.795455 185.398125 \nL 328.795455 185.398125 \nL 318.65 185.398125 \nz\n\" style=\"fill:#1f77b4;\"/>\n   </g>\n   <g id=\"patch_30\">\n    <path clip-path=\"url(#pbcd02928ca)\" d=\"M 328.795455 185.398125 \nL 338.940909 185.398125 \nL 338.940909 185.398125 \nL 328.795455 185.398125 \nz\n\" style=\"fill:#1f77b4;\"/>\n   </g>\n   <g id=\"patch_31\">\n    <path clip-path=\"url(#pbcd02928ca)\" d=\"M 338.940909 185.398125 \nL 349.086364 185.398125 \nL 349.086364 185.398125 \nL 338.940909 185.398125 \nz\n\" style=\"fill:#1f77b4;\"/>\n   </g>\n   <g id=\"patch_32\">\n    <path clip-path=\"url(#pbcd02928ca)\" d=\"M 349.086364 185.398125 \nL 359.231818 185.398125 \nL 359.231818 185.346696 \nL 349.086364 185.346696 \nz\n\" style=\"fill:#1f77b4;\"/>\n   </g>\n   <g id=\"matplotlib.axis_1\">\n    <g id=\"xtick_1\">\n     <g id=\"line2d_1\">\n      <defs>\n       <path d=\"M 0 0 \nL 0 3.5 \n\" id=\"m66990865ba\" style=\"stroke:#000000;stroke-width:0.8;\"/>\n      </defs>\n      <g>\n       <use style=\"stroke:#000000;stroke-width:0.8;\" x=\"54.860353\" xlink:href=\"#m66990865ba\" y=\"185.398125\"/>\n      </g>\n     </g>\n     <g id=\"text_1\">\n      <!-- 0 -->\n      <g transform=\"translate(51.679103 199.996562)scale(0.1 -0.1)\">\n       <defs>\n        <path d=\"M 31.78125 66.40625 \nQ 24.171875 66.40625 20.328125 58.90625 \nQ 16.5 51.421875 16.5 36.375 \nQ 16.5 21.390625 20.328125 13.890625 \nQ 24.171875 6.390625 31.78125 6.390625 \nQ 39.453125 6.390625 43.28125 13.890625 \nQ 47.125 21.390625 47.125 36.375 \nQ 47.125 51.421875 43.28125 58.90625 \nQ 39.453125 66.40625 31.78125 66.40625 \nz\nM 31.78125 74.21875 \nQ 44.046875 74.21875 50.515625 64.515625 \nQ 56.984375 54.828125 56.984375 36.375 \nQ 56.984375 17.96875 50.515625 8.265625 \nQ 44.046875 -1.421875 31.78125 -1.421875 \nQ 19.53125 -1.421875 13.0625 8.265625 \nQ 6.59375 17.96875 6.59375 36.375 \nQ 6.59375 54.828125 13.0625 64.515625 \nQ 19.53125 74.21875 31.78125 74.21875 \nz\n\" id=\"DejaVuSans-48\"/>\n       </defs>\n       <use xlink:href=\"#DejaVuSans-48\"/>\n      </g>\n     </g>\n    </g>\n    <g id=\"xtick_2\">\n     <g id=\"line2d_2\">\n      <g>\n       <use style=\"stroke:#000000;stroke-width:0.8;\" x=\"114.622625\" xlink:href=\"#m66990865ba\" y=\"185.398125\"/>\n      </g>\n     </g>\n     <g id=\"text_2\">\n      <!-- 1 -->\n      <g transform=\"translate(111.441375 199.996562)scale(0.1 -0.1)\">\n       <defs>\n        <path d=\"M 12.40625 8.296875 \nL 28.515625 8.296875 \nL 28.515625 63.921875 \nL 10.984375 60.40625 \nL 10.984375 69.390625 \nL 28.421875 72.90625 \nL 38.28125 72.90625 \nL 38.28125 8.296875 \nL 54.390625 8.296875 \nL 54.390625 0 \nL 12.40625 0 \nz\n\" id=\"DejaVuSans-49\"/>\n       </defs>\n       <use xlink:href=\"#DejaVuSans-49\"/>\n      </g>\n     </g>\n    </g>\n    <g id=\"xtick_3\">\n     <g id=\"line2d_3\">\n      <g>\n       <use style=\"stroke:#000000;stroke-width:0.8;\" x=\"174.384898\" xlink:href=\"#m66990865ba\" y=\"185.398125\"/>\n      </g>\n     </g>\n     <g id=\"text_3\">\n      <!-- 2 -->\n      <g transform=\"translate(171.203648 199.996562)scale(0.1 -0.1)\">\n       <defs>\n        <path d=\"M 19.1875 8.296875 \nL 53.609375 8.296875 \nL 53.609375 0 \nL 7.328125 0 \nL 7.328125 8.296875 \nQ 12.9375 14.109375 22.625 23.890625 \nQ 32.328125 33.6875 34.8125 36.53125 \nQ 39.546875 41.84375 41.421875 45.53125 \nQ 43.3125 49.21875 43.3125 52.78125 \nQ 43.3125 58.59375 39.234375 62.25 \nQ 35.15625 65.921875 28.609375 65.921875 \nQ 23.96875 65.921875 18.8125 64.3125 \nQ 13.671875 62.703125 7.8125 59.421875 \nL 7.8125 69.390625 \nQ 13.765625 71.78125 18.9375 73 \nQ 24.125 74.21875 28.421875 74.21875 \nQ 39.75 74.21875 46.484375 68.546875 \nQ 53.21875 62.890625 53.21875 53.421875 \nQ 53.21875 48.921875 51.53125 44.890625 \nQ 49.859375 40.875 45.40625 35.40625 \nQ 44.1875 33.984375 37.640625 27.21875 \nQ 31.109375 20.453125 19.1875 8.296875 \nz\n\" id=\"DejaVuSans-50\"/>\n       </defs>\n       <use xlink:href=\"#DejaVuSans-50\"/>\n      </g>\n     </g>\n    </g>\n    <g id=\"xtick_4\">\n     <g id=\"line2d_4\">\n      <g>\n       <use style=\"stroke:#000000;stroke-width:0.8;\" x=\"234.147171\" xlink:href=\"#m66990865ba\" y=\"185.398125\"/>\n      </g>\n     </g>\n     <g id=\"text_4\">\n      <!-- 3 -->\n      <g transform=\"translate(230.965921 199.996562)scale(0.1 -0.1)\">\n       <defs>\n        <path d=\"M 40.578125 39.3125 \nQ 47.65625 37.796875 51.625 33 \nQ 55.609375 28.21875 55.609375 21.1875 \nQ 55.609375 10.40625 48.1875 4.484375 \nQ 40.765625 -1.421875 27.09375 -1.421875 \nQ 22.515625 -1.421875 17.65625 -0.515625 \nQ 12.796875 0.390625 7.625 2.203125 \nL 7.625 11.71875 \nQ 11.71875 9.328125 16.59375 8.109375 \nQ 21.484375 6.890625 26.8125 6.890625 \nQ 36.078125 6.890625 40.9375 10.546875 \nQ 45.796875 14.203125 45.796875 21.1875 \nQ 45.796875 27.640625 41.28125 31.265625 \nQ 36.765625 34.90625 28.71875 34.90625 \nL 20.21875 34.90625 \nL 20.21875 43.015625 \nL 29.109375 43.015625 \nQ 36.375 43.015625 40.234375 45.921875 \nQ 44.09375 48.828125 44.09375 54.296875 \nQ 44.09375 59.90625 40.109375 62.90625 \nQ 36.140625 65.921875 28.71875 65.921875 \nQ 24.65625 65.921875 20.015625 65.03125 \nQ 15.375 64.15625 9.8125 62.3125 \nL 9.8125 71.09375 \nQ 15.4375 72.65625 20.34375 73.4375 \nQ 25.25 74.21875 29.59375 74.21875 \nQ 40.828125 74.21875 47.359375 69.109375 \nQ 53.90625 64.015625 53.90625 55.328125 \nQ 53.90625 49.265625 50.4375 45.09375 \nQ 46.96875 40.921875 40.578125 39.3125 \nz\n\" id=\"DejaVuSans-51\"/>\n       </defs>\n       <use xlink:href=\"#DejaVuSans-51\"/>\n      </g>\n     </g>\n    </g>\n    <g id=\"xtick_5\">\n     <g id=\"line2d_5\">\n      <g>\n       <use style=\"stroke:#000000;stroke-width:0.8;\" x=\"293.909443\" xlink:href=\"#m66990865ba\" y=\"185.398125\"/>\n      </g>\n     </g>\n     <g id=\"text_5\">\n      <!-- 4 -->\n      <g transform=\"translate(290.728193 199.996562)scale(0.1 -0.1)\">\n       <defs>\n        <path d=\"M 37.796875 64.3125 \nL 12.890625 25.390625 \nL 37.796875 25.390625 \nz\nM 35.203125 72.90625 \nL 47.609375 72.90625 \nL 47.609375 25.390625 \nL 58.015625 25.390625 \nL 58.015625 17.1875 \nL 47.609375 17.1875 \nL 47.609375 0 \nL 37.796875 0 \nL 37.796875 17.1875 \nL 4.890625 17.1875 \nL 4.890625 26.703125 \nz\n\" id=\"DejaVuSans-52\"/>\n       </defs>\n       <use xlink:href=\"#DejaVuSans-52\"/>\n      </g>\n     </g>\n    </g>\n    <g id=\"xtick_6\">\n     <g id=\"line2d_6\">\n      <g>\n       <use style=\"stroke:#000000;stroke-width:0.8;\" x=\"353.671716\" xlink:href=\"#m66990865ba\" y=\"185.398125\"/>\n      </g>\n     </g>\n     <g id=\"text_6\">\n      <!-- 5 -->\n      <g transform=\"translate(350.490466 199.996562)scale(0.1 -0.1)\">\n       <defs>\n        <path d=\"M 10.796875 72.90625 \nL 49.515625 72.90625 \nL 49.515625 64.59375 \nL 19.828125 64.59375 \nL 19.828125 46.734375 \nQ 21.96875 47.46875 24.109375 47.828125 \nQ 26.265625 48.1875 28.421875 48.1875 \nQ 40.625 48.1875 47.75 41.5 \nQ 54.890625 34.8125 54.890625 23.390625 \nQ 54.890625 11.625 47.5625 5.09375 \nQ 40.234375 -1.421875 26.90625 -1.421875 \nQ 22.3125 -1.421875 17.546875 -0.640625 \nQ 12.796875 0.140625 7.71875 1.703125 \nL 7.71875 11.625 \nQ 12.109375 9.234375 16.796875 8.0625 \nQ 21.484375 6.890625 26.703125 6.890625 \nQ 35.15625 6.890625 40.078125 11.328125 \nQ 45.015625 15.765625 45.015625 23.390625 \nQ 45.015625 31 40.078125 35.4375 \nQ 35.15625 39.890625 26.703125 39.890625 \nQ 22.75 39.890625 18.8125 39.015625 \nQ 14.890625 38.140625 10.796875 36.28125 \nz\n\" id=\"DejaVuSans-53\"/>\n       </defs>\n       <use xlink:href=\"#DejaVuSans-53\"/>\n      </g>\n     </g>\n    </g>\n    <g id=\"text_7\">\n     <!-- 1e6 -->\n     <g transform=\"translate(355.571875 212.674688)scale(0.1 -0.1)\">\n      <defs>\n       <path d=\"M 56.203125 29.59375 \nL 56.203125 25.203125 \nL 14.890625 25.203125 \nQ 15.484375 15.921875 20.484375 11.0625 \nQ 25.484375 6.203125 34.421875 6.203125 \nQ 39.59375 6.203125 44.453125 7.46875 \nQ 49.3125 8.734375 54.109375 11.28125 \nL 54.109375 2.78125 \nQ 49.265625 0.734375 44.1875 -0.34375 \nQ 39.109375 -1.421875 33.890625 -1.421875 \nQ 20.796875 -1.421875 13.15625 6.1875 \nQ 5.515625 13.8125 5.515625 26.8125 \nQ 5.515625 40.234375 12.765625 48.109375 \nQ 20.015625 56 32.328125 56 \nQ 43.359375 56 49.78125 48.890625 \nQ 56.203125 41.796875 56.203125 29.59375 \nz\nM 47.21875 32.234375 \nQ 47.125 39.59375 43.09375 43.984375 \nQ 39.0625 48.390625 32.421875 48.390625 \nQ 24.90625 48.390625 20.390625 44.140625 \nQ 15.875 39.890625 15.1875 32.171875 \nz\n\" id=\"DejaVuSans-101\"/>\n       <path d=\"M 33.015625 40.375 \nQ 26.375 40.375 22.484375 35.828125 \nQ 18.609375 31.296875 18.609375 23.390625 \nQ 18.609375 15.53125 22.484375 10.953125 \nQ 26.375 6.390625 33.015625 6.390625 \nQ 39.65625 6.390625 43.53125 10.953125 \nQ 47.40625 15.53125 47.40625 23.390625 \nQ 47.40625 31.296875 43.53125 35.828125 \nQ 39.65625 40.375 33.015625 40.375 \nz\nM 52.59375 71.296875 \nL 52.59375 62.3125 \nQ 48.875 64.0625 45.09375 64.984375 \nQ 41.3125 65.921875 37.59375 65.921875 \nQ 27.828125 65.921875 22.671875 59.328125 \nQ 17.53125 52.734375 16.796875 39.40625 \nQ 19.671875 43.65625 24.015625 45.921875 \nQ 28.375 48.1875 33.59375 48.1875 \nQ 44.578125 48.1875 50.953125 41.515625 \nQ 57.328125 34.859375 57.328125 23.390625 \nQ 57.328125 12.15625 50.6875 5.359375 \nQ 44.046875 -1.421875 33.015625 -1.421875 \nQ 20.359375 -1.421875 13.671875 8.265625 \nQ 6.984375 17.96875 6.984375 36.375 \nQ 6.984375 53.65625 15.1875 63.9375 \nQ 23.390625 74.21875 37.203125 74.21875 \nQ 40.921875 74.21875 44.703125 73.484375 \nQ 48.484375 72.75 52.59375 71.296875 \nz\n\" id=\"DejaVuSans-54\"/>\n      </defs>\n      <use xlink:href=\"#DejaVuSans-49\"/>\n      <use x=\"63.623047\" xlink:href=\"#DejaVuSans-101\"/>\n      <use x=\"125.146484\" xlink:href=\"#DejaVuSans-54\"/>\n     </g>\n    </g>\n   </g>\n   <g id=\"matplotlib.axis_2\">\n    <g id=\"ytick_1\">\n     <g id=\"line2d_7\">\n      <defs>\n       <path d=\"M 0 0 \nL -3.5 0 \n\" id=\"m4d449b9077\" style=\"stroke:#000000;stroke-width:0.8;\"/>\n      </defs>\n      <g>\n       <use style=\"stroke:#000000;stroke-width:0.8;\" x=\"39.65\" xlink:href=\"#m4d449b9077\" y=\"185.398125\"/>\n      </g>\n     </g>\n     <g id=\"text_8\">\n      <!-- 0 -->\n      <g transform=\"translate(26.2875 189.197344)scale(0.1 -0.1)\">\n       <use xlink:href=\"#DejaVuSans-48\"/>\n      </g>\n     </g>\n    </g>\n    <g id=\"ytick_2\">\n     <g id=\"line2d_8\">\n      <g>\n       <use style=\"stroke:#000000;stroke-width:0.8;\" x=\"39.65\" xlink:href=\"#m4d449b9077\" y=\"159.683839\"/>\n      </g>\n     </g>\n     <g id=\"text_9\">\n      <!-- 500 -->\n      <g transform=\"translate(13.5625 163.483058)scale(0.1 -0.1)\">\n       <use xlink:href=\"#DejaVuSans-53\"/>\n       <use x=\"63.623047\" xlink:href=\"#DejaVuSans-48\"/>\n       <use x=\"127.246094\" xlink:href=\"#DejaVuSans-48\"/>\n      </g>\n     </g>\n    </g>\n    <g id=\"ytick_3\">\n     <g id=\"line2d_9\">\n      <g>\n       <use style=\"stroke:#000000;stroke-width:0.8;\" x=\"39.65\" xlink:href=\"#m4d449b9077\" y=\"133.969554\"/>\n      </g>\n     </g>\n     <g id=\"text_10\">\n      <!-- 1000 -->\n      <g transform=\"translate(7.2 137.768772)scale(0.1 -0.1)\">\n       <use xlink:href=\"#DejaVuSans-49\"/>\n       <use x=\"63.623047\" xlink:href=\"#DejaVuSans-48\"/>\n       <use x=\"127.246094\" xlink:href=\"#DejaVuSans-48\"/>\n       <use x=\"190.869141\" xlink:href=\"#DejaVuSans-48\"/>\n      </g>\n     </g>\n    </g>\n    <g id=\"ytick_4\">\n     <g id=\"line2d_10\">\n      <g>\n       <use style=\"stroke:#000000;stroke-width:0.8;\" x=\"39.65\" xlink:href=\"#m4d449b9077\" y=\"108.255268\"/>\n      </g>\n     </g>\n     <g id=\"text_11\">\n      <!-- 1500 -->\n      <g transform=\"translate(7.2 112.054487)scale(0.1 -0.1)\">\n       <use xlink:href=\"#DejaVuSans-49\"/>\n       <use x=\"63.623047\" xlink:href=\"#DejaVuSans-53\"/>\n       <use x=\"127.246094\" xlink:href=\"#DejaVuSans-48\"/>\n       <use x=\"190.869141\" xlink:href=\"#DejaVuSans-48\"/>\n      </g>\n     </g>\n    </g>\n    <g id=\"ytick_5\">\n     <g id=\"line2d_11\">\n      <g>\n       <use style=\"stroke:#000000;stroke-width:0.8;\" x=\"39.65\" xlink:href=\"#m4d449b9077\" y=\"82.540982\"/>\n      </g>\n     </g>\n     <g id=\"text_12\">\n      <!-- 2000 -->\n      <g transform=\"translate(7.2 86.340201)scale(0.1 -0.1)\">\n       <use xlink:href=\"#DejaVuSans-50\"/>\n       <use x=\"63.623047\" xlink:href=\"#DejaVuSans-48\"/>\n       <use x=\"127.246094\" xlink:href=\"#DejaVuSans-48\"/>\n       <use x=\"190.869141\" xlink:href=\"#DejaVuSans-48\"/>\n      </g>\n     </g>\n    </g>\n    <g id=\"ytick_6\">\n     <g id=\"line2d_12\">\n      <g>\n       <use style=\"stroke:#000000;stroke-width:0.8;\" x=\"39.65\" xlink:href=\"#m4d449b9077\" y=\"56.826696\"/>\n      </g>\n     </g>\n     <g id=\"text_13\">\n      <!-- 2500 -->\n      <g transform=\"translate(7.2 60.625915)scale(0.1 -0.1)\">\n       <use xlink:href=\"#DejaVuSans-50\"/>\n       <use x=\"63.623047\" xlink:href=\"#DejaVuSans-53\"/>\n       <use x=\"127.246094\" xlink:href=\"#DejaVuSans-48\"/>\n       <use x=\"190.869141\" xlink:href=\"#DejaVuSans-48\"/>\n      </g>\n     </g>\n    </g>\n    <g id=\"ytick_7\">\n     <g id=\"line2d_13\">\n      <g>\n       <use style=\"stroke:#000000;stroke-width:0.8;\" x=\"39.65\" xlink:href=\"#m4d449b9077\" y=\"31.112411\"/>\n      </g>\n     </g>\n     <g id=\"text_14\">\n      <!-- 3000 -->\n      <g transform=\"translate(7.2 34.911629)scale(0.1 -0.1)\">\n       <use xlink:href=\"#DejaVuSans-51\"/>\n       <use x=\"63.623047\" xlink:href=\"#DejaVuSans-48\"/>\n       <use x=\"127.246094\" xlink:href=\"#DejaVuSans-48\"/>\n       <use x=\"190.869141\" xlink:href=\"#DejaVuSans-48\"/>\n      </g>\n     </g>\n    </g>\n   </g>\n   <g id=\"patch_33\">\n    <path d=\"M 39.65 185.398125 \nL 39.65 22.318125 \n\" style=\"fill:none;stroke:#000000;stroke-linecap:square;stroke-linejoin:miter;stroke-width:0.8;\"/>\n   </g>\n   <g id=\"patch_34\">\n    <path d=\"M 374.45 185.398125 \nL 374.45 22.318125 \n\" style=\"fill:none;stroke:#000000;stroke-linecap:square;stroke-linejoin:miter;stroke-width:0.8;\"/>\n   </g>\n   <g id=\"patch_35\">\n    <path d=\"M 39.65 185.398125 \nL 374.45 185.398125 \n\" style=\"fill:none;stroke:#000000;stroke-linecap:square;stroke-linejoin:miter;stroke-width:0.8;\"/>\n   </g>\n   <g id=\"patch_36\">\n    <path d=\"M 39.65 22.318125 \nL 374.45 22.318125 \n\" style=\"fill:none;stroke:#000000;stroke-linecap:square;stroke-linejoin:miter;stroke-width:0.8;\"/>\n   </g>\n   <g id=\"text_15\">\n    <!-- Histogram of Women -->\n    <g transform=\"translate(143.737813 16.318125)scale(0.12 -0.12)\">\n     <defs>\n      <path d=\"M 9.8125 72.90625 \nL 19.671875 72.90625 \nL 19.671875 43.015625 \nL 55.515625 43.015625 \nL 55.515625 72.90625 \nL 65.375 72.90625 \nL 65.375 0 \nL 55.515625 0 \nL 55.515625 34.71875 \nL 19.671875 34.71875 \nL 19.671875 0 \nL 9.8125 0 \nz\n\" id=\"DejaVuSans-72\"/>\n      <path d=\"M 9.421875 54.6875 \nL 18.40625 54.6875 \nL 18.40625 0 \nL 9.421875 0 \nz\nM 9.421875 75.984375 \nL 18.40625 75.984375 \nL 18.40625 64.59375 \nL 9.421875 64.59375 \nz\n\" id=\"DejaVuSans-105\"/>\n      <path d=\"M 44.28125 53.078125 \nL 44.28125 44.578125 \nQ 40.484375 46.53125 36.375 47.5 \nQ 32.28125 48.484375 27.875 48.484375 \nQ 21.1875 48.484375 17.84375 46.4375 \nQ 14.5 44.390625 14.5 40.28125 \nQ 14.5 37.15625 16.890625 35.375 \nQ 19.28125 33.59375 26.515625 31.984375 \nL 29.59375 31.296875 \nQ 39.15625 29.25 43.1875 25.515625 \nQ 47.21875 21.78125 47.21875 15.09375 \nQ 47.21875 7.46875 41.1875 3.015625 \nQ 35.15625 -1.421875 24.609375 -1.421875 \nQ 20.21875 -1.421875 15.453125 -0.5625 \nQ 10.6875 0.296875 5.421875 2 \nL 5.421875 11.28125 \nQ 10.40625 8.6875 15.234375 7.390625 \nQ 20.0625 6.109375 24.8125 6.109375 \nQ 31.15625 6.109375 34.5625 8.28125 \nQ 37.984375 10.453125 37.984375 14.40625 \nQ 37.984375 18.0625 35.515625 20.015625 \nQ 33.0625 21.96875 24.703125 23.78125 \nL 21.578125 24.515625 \nQ 13.234375 26.265625 9.515625 29.90625 \nQ 5.8125 33.546875 5.8125 39.890625 \nQ 5.8125 47.609375 11.28125 51.796875 \nQ 16.75 56 26.8125 56 \nQ 31.78125 56 36.171875 55.265625 \nQ 40.578125 54.546875 44.28125 53.078125 \nz\n\" id=\"DejaVuSans-115\"/>\n      <path d=\"M 18.3125 70.21875 \nL 18.3125 54.6875 \nL 36.8125 54.6875 \nL 36.8125 47.703125 \nL 18.3125 47.703125 \nL 18.3125 18.015625 \nQ 18.3125 11.328125 20.140625 9.421875 \nQ 21.96875 7.515625 27.59375 7.515625 \nL 36.8125 7.515625 \nL 36.8125 0 \nL 27.59375 0 \nQ 17.1875 0 13.234375 3.875 \nQ 9.28125 7.765625 9.28125 18.015625 \nL 9.28125 47.703125 \nL 2.6875 47.703125 \nL 2.6875 54.6875 \nL 9.28125 54.6875 \nL 9.28125 70.21875 \nz\n\" id=\"DejaVuSans-116\"/>\n      <path d=\"M 30.609375 48.390625 \nQ 23.390625 48.390625 19.1875 42.75 \nQ 14.984375 37.109375 14.984375 27.296875 \nQ 14.984375 17.484375 19.15625 11.84375 \nQ 23.34375 6.203125 30.609375 6.203125 \nQ 37.796875 6.203125 41.984375 11.859375 \nQ 46.1875 17.53125 46.1875 27.296875 \nQ 46.1875 37.015625 41.984375 42.703125 \nQ 37.796875 48.390625 30.609375 48.390625 \nz\nM 30.609375 56 \nQ 42.328125 56 49.015625 48.375 \nQ 55.71875 40.765625 55.71875 27.296875 \nQ 55.71875 13.875 49.015625 6.21875 \nQ 42.328125 -1.421875 30.609375 -1.421875 \nQ 18.84375 -1.421875 12.171875 6.21875 \nQ 5.515625 13.875 5.515625 27.296875 \nQ 5.515625 40.765625 12.171875 48.375 \nQ 18.84375 56 30.609375 56 \nz\n\" id=\"DejaVuSans-111\"/>\n      <path d=\"M 45.40625 27.984375 \nQ 45.40625 37.75 41.375 43.109375 \nQ 37.359375 48.484375 30.078125 48.484375 \nQ 22.859375 48.484375 18.828125 43.109375 \nQ 14.796875 37.75 14.796875 27.984375 \nQ 14.796875 18.265625 18.828125 12.890625 \nQ 22.859375 7.515625 30.078125 7.515625 \nQ 37.359375 7.515625 41.375 12.890625 \nQ 45.40625 18.265625 45.40625 27.984375 \nz\nM 54.390625 6.78125 \nQ 54.390625 -7.171875 48.1875 -13.984375 \nQ 42 -20.796875 29.203125 -20.796875 \nQ 24.46875 -20.796875 20.265625 -20.09375 \nQ 16.0625 -19.390625 12.109375 -17.921875 \nL 12.109375 -9.1875 \nQ 16.0625 -11.328125 19.921875 -12.34375 \nQ 23.78125 -13.375 27.78125 -13.375 \nQ 36.625 -13.375 41.015625 -8.765625 \nQ 45.40625 -4.15625 45.40625 5.171875 \nL 45.40625 9.625 \nQ 42.625 4.78125 38.28125 2.390625 \nQ 33.9375 0 27.875 0 \nQ 17.828125 0 11.671875 7.65625 \nQ 5.515625 15.328125 5.515625 27.984375 \nQ 5.515625 40.671875 11.671875 48.328125 \nQ 17.828125 56 27.875 56 \nQ 33.9375 56 38.28125 53.609375 \nQ 42.625 51.21875 45.40625 46.390625 \nL 45.40625 54.6875 \nL 54.390625 54.6875 \nz\n\" id=\"DejaVuSans-103\"/>\n      <path d=\"M 41.109375 46.296875 \nQ 39.59375 47.171875 37.8125 47.578125 \nQ 36.03125 48 33.890625 48 \nQ 26.265625 48 22.1875 43.046875 \nQ 18.109375 38.09375 18.109375 28.8125 \nL 18.109375 0 \nL 9.078125 0 \nL 9.078125 54.6875 \nL 18.109375 54.6875 \nL 18.109375 46.1875 \nQ 20.953125 51.171875 25.484375 53.578125 \nQ 30.03125 56 36.53125 56 \nQ 37.453125 56 38.578125 55.875 \nQ 39.703125 55.765625 41.0625 55.515625 \nz\n\" id=\"DejaVuSans-114\"/>\n      <path d=\"M 34.28125 27.484375 \nQ 23.390625 27.484375 19.1875 25 \nQ 14.984375 22.515625 14.984375 16.5 \nQ 14.984375 11.71875 18.140625 8.90625 \nQ 21.296875 6.109375 26.703125 6.109375 \nQ 34.1875 6.109375 38.703125 11.40625 \nQ 43.21875 16.703125 43.21875 25.484375 \nL 43.21875 27.484375 \nz\nM 52.203125 31.203125 \nL 52.203125 0 \nL 43.21875 0 \nL 43.21875 8.296875 \nQ 40.140625 3.328125 35.546875 0.953125 \nQ 30.953125 -1.421875 24.3125 -1.421875 \nQ 15.921875 -1.421875 10.953125 3.296875 \nQ 6 8.015625 6 15.921875 \nQ 6 25.140625 12.171875 29.828125 \nQ 18.359375 34.515625 30.609375 34.515625 \nL 43.21875 34.515625 \nL 43.21875 35.40625 \nQ 43.21875 41.609375 39.140625 45 \nQ 35.0625 48.390625 27.6875 48.390625 \nQ 23 48.390625 18.546875 47.265625 \nQ 14.109375 46.140625 10.015625 43.890625 \nL 10.015625 52.203125 \nQ 14.9375 54.109375 19.578125 55.046875 \nQ 24.21875 56 28.609375 56 \nQ 40.484375 56 46.34375 49.84375 \nQ 52.203125 43.703125 52.203125 31.203125 \nz\n\" id=\"DejaVuSans-97\"/>\n      <path d=\"M 52 44.1875 \nQ 55.375 50.25 60.0625 53.125 \nQ 64.75 56 71.09375 56 \nQ 79.640625 56 84.28125 50.015625 \nQ 88.921875 44.046875 88.921875 33.015625 \nL 88.921875 0 \nL 79.890625 0 \nL 79.890625 32.71875 \nQ 79.890625 40.578125 77.09375 44.375 \nQ 74.3125 48.1875 68.609375 48.1875 \nQ 61.625 48.1875 57.5625 43.546875 \nQ 53.515625 38.921875 53.515625 30.90625 \nL 53.515625 0 \nL 44.484375 0 \nL 44.484375 32.71875 \nQ 44.484375 40.625 41.703125 44.40625 \nQ 38.921875 48.1875 33.109375 48.1875 \nQ 26.21875 48.1875 22.15625 43.53125 \nQ 18.109375 38.875 18.109375 30.90625 \nL 18.109375 0 \nL 9.078125 0 \nL 9.078125 54.6875 \nL 18.109375 54.6875 \nL 18.109375 46.1875 \nQ 21.1875 51.21875 25.484375 53.609375 \nQ 29.78125 56 35.6875 56 \nQ 41.65625 56 45.828125 52.96875 \nQ 50 49.953125 52 44.1875 \nz\n\" id=\"DejaVuSans-109\"/>\n      <path id=\"DejaVuSans-32\"/>\n      <path d=\"M 37.109375 75.984375 \nL 37.109375 68.5 \nL 28.515625 68.5 \nQ 23.6875 68.5 21.796875 66.546875 \nQ 19.921875 64.59375 19.921875 59.515625 \nL 19.921875 54.6875 \nL 34.71875 54.6875 \nL 34.71875 47.703125 \nL 19.921875 47.703125 \nL 19.921875 0 \nL 10.890625 0 \nL 10.890625 47.703125 \nL 2.296875 47.703125 \nL 2.296875 54.6875 \nL 10.890625 54.6875 \nL 10.890625 58.5 \nQ 10.890625 67.625 15.140625 71.796875 \nQ 19.390625 75.984375 28.609375 75.984375 \nz\n\" id=\"DejaVuSans-102\"/>\n      <path d=\"M 3.328125 72.90625 \nL 13.28125 72.90625 \nL 28.609375 11.28125 \nL 43.890625 72.90625 \nL 54.984375 72.90625 \nL 70.3125 11.28125 \nL 85.59375 72.90625 \nL 95.609375 72.90625 \nL 77.296875 0 \nL 64.890625 0 \nL 49.515625 63.28125 \nL 33.984375 0 \nL 21.578125 0 \nz\n\" id=\"DejaVuSans-87\"/>\n      <path d=\"M 54.890625 33.015625 \nL 54.890625 0 \nL 45.90625 0 \nL 45.90625 32.71875 \nQ 45.90625 40.484375 42.875 44.328125 \nQ 39.84375 48.1875 33.796875 48.1875 \nQ 26.515625 48.1875 22.3125 43.546875 \nQ 18.109375 38.921875 18.109375 30.90625 \nL 18.109375 0 \nL 9.078125 0 \nL 9.078125 54.6875 \nL 18.109375 54.6875 \nL 18.109375 46.1875 \nQ 21.34375 51.125 25.703125 53.5625 \nQ 30.078125 56 35.796875 56 \nQ 45.21875 56 50.046875 50.171875 \nQ 54.890625 44.34375 54.890625 33.015625 \nz\n\" id=\"DejaVuSans-110\"/>\n     </defs>\n     <use xlink:href=\"#DejaVuSans-72\"/>\n     <use x=\"75.195312\" xlink:href=\"#DejaVuSans-105\"/>\n     <use x=\"102.978516\" xlink:href=\"#DejaVuSans-115\"/>\n     <use x=\"155.078125\" xlink:href=\"#DejaVuSans-116\"/>\n     <use x=\"194.287109\" xlink:href=\"#DejaVuSans-111\"/>\n     <use x=\"255.46875\" xlink:href=\"#DejaVuSans-103\"/>\n     <use x=\"318.945312\" xlink:href=\"#DejaVuSans-114\"/>\n     <use x=\"360.058594\" xlink:href=\"#DejaVuSans-97\"/>\n     <use x=\"421.337891\" xlink:href=\"#DejaVuSans-109\"/>\n     <use x=\"518.75\" xlink:href=\"#DejaVuSans-32\"/>\n     <use x=\"550.537109\" xlink:href=\"#DejaVuSans-111\"/>\n     <use x=\"611.71875\" xlink:href=\"#DejaVuSans-102\"/>\n     <use x=\"646.923828\" xlink:href=\"#DejaVuSans-32\"/>\n     <use x=\"678.710938\" xlink:href=\"#DejaVuSans-87\"/>\n     <use x=\"771.712891\" xlink:href=\"#DejaVuSans-111\"/>\n     <use x=\"832.894531\" xlink:href=\"#DejaVuSans-109\"/>\n     <use x=\"930.306641\" xlink:href=\"#DejaVuSans-101\"/>\n     <use x=\"991.830078\" xlink:href=\"#DejaVuSans-110\"/>\n    </g>\n   </g>\n  </g>\n </g>\n <defs>\n  <clipPath id=\"pbcd02928ca\">\n   <rect height=\"163.08\" width=\"334.8\" x=\"39.65\" y=\"22.318125\"/>\n  </clipPath>\n </defs>\n</svg>\n",
      "image/png": "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\n"
     },
     "metadata": {
      "needs_background": "light"
     }
    },
    {
     "output_type": "display_data",
     "data": {
      "text/plain": "<Figure size 432x216 with 1 Axes>",
      "image/svg+xml": "<?xml version=\"1.0\" encoding=\"utf-8\" standalone=\"no\"?>\n<!DOCTYPE svg PUBLIC \"-//W3C//DTD SVG 1.1//EN\"\n  \"http://www.w3.org/Graphics/SVG/1.1/DTD/svg11.dtd\">\n<!-- Created with matplotlib (https://matplotlib.org/) -->\n<svg height=\"209.27625pt\" version=\"1.1\" viewBox=\"0 0 381.65 209.27625\" width=\"381.65pt\" xmlns=\"http://www.w3.org/2000/svg\" xmlns:xlink=\"http://www.w3.org/1999/xlink\">\n <metadata>\n  <rdf:RDF xmlns:cc=\"http://creativecommons.org/ns#\" xmlns:dc=\"http://purl.org/dc/elements/1.1/\" xmlns:rdf=\"http://www.w3.org/1999/02/22-rdf-syntax-ns#\">\n   <cc:Work>\n    <dc:type rdf:resource=\"http://purl.org/dc/dcmitype/StillImage\"/>\n    <dc:date>2021-03-20T03:25:26.907560</dc:date>\n    <dc:format>image/svg+xml</dc:format>\n    <dc:creator>\n     <cc:Agent>\n      <dc:title>Matplotlib v3.3.4, https://matplotlib.org/</dc:title>\n     </cc:Agent>\n    </dc:creator>\n   </cc:Work>\n  </rdf:RDF>\n </metadata>\n <defs>\n  <style type=\"text/css\">*{stroke-linecap:butt;stroke-linejoin:round;}</style>\n </defs>\n <g id=\"figure_1\">\n  <g id=\"patch_1\">\n   <path d=\"M -0 209.27625 \nL 381.65 209.27625 \nL 381.65 0 \nL -0 0 \nz\n\" style=\"fill:none;\"/>\n  </g>\n  <g id=\"axes_1\">\n   <g id=\"patch_2\">\n    <path d=\"M 39.65 185.398125 \nL 374.45 185.398125 \nL 374.45 22.318125 \nL 39.65 22.318125 \nz\n\" style=\"fill:#ffffff;\"/>\n   </g>\n   <g id=\"patch_3\">\n    <path clip-path=\"url(#pd40553fab2)\" d=\"M 54.868182 185.398125 \nL 65.013636 185.398125 \nL 65.013636 30.083839 \nL 54.868182 30.083839 \nz\n\" style=\"fill:#1f77b4;\"/>\n   </g>\n   <g id=\"patch_4\">\n    <path clip-path=\"url(#pd40553fab2)\" d=\"M 65.013636 185.398125 \nL 75.159091 185.398125 \nL 75.159091 113.511008 \nL 65.013636 113.511008 \nz\n\" style=\"fill:#1f77b4;\"/>\n   </g>\n   <g id=\"patch_5\">\n    <path clip-path=\"url(#pd40553fab2)\" d=\"M 75.159091 185.398125 \nL 85.304545 185.398125 \nL 85.304545 155.859825 \nL 75.159091 155.859825 \nz\n\" style=\"fill:#1f77b4;\"/>\n   </g>\n   <g id=\"patch_6\">\n    <path clip-path=\"url(#pd40553fab2)\" d=\"M 85.304545 185.398125 \nL 95.45 185.398125 \nL 95.45 168.246854 \nL 85.304545 168.246854 \nz\n\" style=\"fill:#1f77b4;\"/>\n   </g>\n   <g id=\"patch_7\">\n    <path clip-path=\"url(#pd40553fab2)\" d=\"M 95.45 185.398125 \nL 105.595455 185.398125 \nL 105.595455 173.963944 \nL 95.45 173.963944 \nz\n\" style=\"fill:#1f77b4;\"/>\n   </g>\n   <g id=\"patch_8\">\n    <path clip-path=\"url(#pd40553fab2)\" d=\"M 105.595455 185.398125 \nL 115.740909 185.398125 \nL 115.740909 176.610746 \nL 105.595455 176.610746 \nz\n\" style=\"fill:#1f77b4;\"/>\n   </g>\n   <g id=\"patch_9\">\n    <path clip-path=\"url(#pd40553fab2)\" d=\"M 115.740909 185.398125 \nL 125.886364 185.398125 \nL 125.886364 179.045802 \nL 115.740909 179.045802 \nz\n\" style=\"fill:#1f77b4;\"/>\n   </g>\n   <g id=\"patch_10\">\n    <path clip-path=\"url(#pd40553fab2)\" d=\"M 125.886364 185.398125 \nL 136.031818 185.398125 \nL 136.031818 180.210395 \nL 125.886364 180.210395 \nz\n\" style=\"fill:#1f77b4;\"/>\n   </g>\n   <g id=\"patch_11\">\n    <path clip-path=\"url(#pd40553fab2)\" d=\"M 136.031818 185.398125 \nL 146.177273 185.398125 \nL 146.177273 182.221964 \nL 136.031818 182.221964 \nz\n\" style=\"fill:#1f77b4;\"/>\n   </g>\n   <g id=\"patch_12\">\n    <path clip-path=\"url(#pd40553fab2)\" d=\"M 146.177273 185.398125 \nL 156.322727 185.398125 \nL 156.322727 182.327836 \nL 146.177273 182.327836 \nz\n\" style=\"fill:#1f77b4;\"/>\n   </g>\n   <g id=\"patch_13\">\n    <path clip-path=\"url(#pd40553fab2)\" d=\"M 156.322727 185.398125 \nL 166.468182 185.398125 \nL 166.468182 182.857196 \nL 156.322727 182.857196 \nz\n\" style=\"fill:#1f77b4;\"/>\n   </g>\n   <g id=\"patch_14\">\n    <path clip-path=\"url(#pd40553fab2)\" d=\"M 166.468182 185.398125 \nL 176.613636 185.398125 \nL 176.613636 182.645452 \nL 166.468182 182.645452 \nz\n\" style=\"fill:#1f77b4;\"/>\n   </g>\n   <g id=\"patch_15\">\n    <path clip-path=\"url(#pd40553fab2)\" d=\"M 176.613636 185.398125 \nL 186.759091 185.398125 \nL 186.759091 183.492428 \nL 176.613636 183.492428 \nz\n\" style=\"fill:#1f77b4;\"/>\n   </g>\n   <g id=\"patch_16\">\n    <path clip-path=\"url(#pd40553fab2)\" d=\"M 186.759091 185.398125 \nL 196.904545 185.398125 \nL 196.904545 183.810044 \nL 186.759091 183.810044 \nz\n\" style=\"fill:#1f77b4;\"/>\n   </g>\n   <g id=\"patch_17\">\n    <path clip-path=\"url(#pd40553fab2)\" d=\"M 196.904545 185.398125 \nL 207.05 185.398125 \nL 207.05 183.5983 \nL 196.904545 183.5983 \nz\n\" style=\"fill:#1f77b4;\"/>\n   </g>\n   <g id=\"patch_18\">\n    <path clip-path=\"url(#pd40553fab2)\" d=\"M 207.05 185.398125 \nL 217.195455 185.398125 \nL 217.195455 183.5983 \nL 207.05 183.5983 \nz\n\" style=\"fill:#1f77b4;\"/>\n   </g>\n   <g id=\"patch_19\">\n    <path clip-path=\"url(#pd40553fab2)\" d=\"M 217.195455 185.398125 \nL 227.340909 185.398125 \nL 227.340909 183.810044 \nL 217.195455 183.810044 \nz\n\" style=\"fill:#1f77b4;\"/>\n   </g>\n   <g id=\"patch_20\">\n    <path clip-path=\"url(#pd40553fab2)\" d=\"M 227.340909 185.398125 \nL 237.486364 185.398125 \nL 237.486364 184.12766 \nL 227.340909 184.12766 \nz\n\" style=\"fill:#1f77b4;\"/>\n   </g>\n   <g id=\"patch_21\">\n    <path clip-path=\"url(#pd40553fab2)\" d=\"M 237.486364 185.398125 \nL 247.631818 185.398125 \nL 247.631818 184.12766 \nL 237.486364 184.12766 \nz\n\" style=\"fill:#1f77b4;\"/>\n   </g>\n   <g id=\"patch_22\">\n    <path clip-path=\"url(#pd40553fab2)\" d=\"M 247.631818 185.398125 \nL 257.777273 185.398125 \nL 257.777273 184.868765 \nL 247.631818 184.868765 \nz\n\" style=\"fill:#1f77b4;\"/>\n   </g>\n   <g id=\"patch_23\">\n    <path clip-path=\"url(#pd40553fab2)\" d=\"M 257.777273 185.398125 \nL 267.922727 185.398125 \nL 267.922727 184.974637 \nL 257.777273 184.974637 \nz\n\" style=\"fill:#1f77b4;\"/>\n   </g>\n   <g id=\"patch_24\">\n    <path clip-path=\"url(#pd40553fab2)\" d=\"M 267.922727 185.398125 \nL 278.068182 185.398125 \nL 278.068182 185.080509 \nL 267.922727 185.080509 \nz\n\" style=\"fill:#1f77b4;\"/>\n   </g>\n   <g id=\"patch_25\">\n    <path clip-path=\"url(#pd40553fab2)\" d=\"M 278.068182 185.398125 \nL 288.213636 185.398125 \nL 288.213636 185.292253 \nL 278.068182 185.292253 \nz\n\" style=\"fill:#1f77b4;\"/>\n   </g>\n   <g id=\"patch_26\">\n    <path clip-path=\"url(#pd40553fab2)\" d=\"M 288.213636 185.398125 \nL 298.359091 185.398125 \nL 298.359091 184.762893 \nL 288.213636 184.762893 \nz\n\" style=\"fill:#1f77b4;\"/>\n   </g>\n   <g id=\"patch_27\">\n    <path clip-path=\"url(#pd40553fab2)\" d=\"M 298.359091 185.398125 \nL 308.504545 185.398125 \nL 308.504545 184.657021 \nL 298.359091 184.657021 \nz\n\" style=\"fill:#1f77b4;\"/>\n   </g>\n   <g id=\"patch_28\">\n    <path clip-path=\"url(#pd40553fab2)\" d=\"M 308.504545 185.398125 \nL 318.65 185.398125 \nL 318.65 185.292253 \nL 308.504545 185.292253 \nz\n\" style=\"fill:#1f77b4;\"/>\n   </g>\n   <g id=\"patch_29\">\n    <path clip-path=\"url(#pd40553fab2)\" d=\"M 318.65 185.398125 \nL 328.795455 185.398125 \nL 328.795455 185.080509 \nL 318.65 185.080509 \nz\n\" style=\"fill:#1f77b4;\"/>\n   </g>\n   <g id=\"patch_30\">\n    <path clip-path=\"url(#pd40553fab2)\" d=\"M 328.795455 185.398125 \nL 338.940909 185.398125 \nL 338.940909 184.868765 \nL 328.795455 184.868765 \nz\n\" style=\"fill:#1f77b4;\"/>\n   </g>\n   <g id=\"patch_31\">\n    <path clip-path=\"url(#pd40553fab2)\" d=\"M 338.940909 185.398125 \nL 349.086364 185.398125 \nL 349.086364 184.657021 \nL 338.940909 184.657021 \nz\n\" style=\"fill:#1f77b4;\"/>\n   </g>\n   <g id=\"patch_32\">\n    <path clip-path=\"url(#pd40553fab2)\" d=\"M 349.086364 185.398125 \nL 359.231818 185.398125 \nL 359.231818 177.563594 \nL 349.086364 177.563594 \nz\n\" style=\"fill:#1f77b4;\"/>\n   </g>\n   <g id=\"matplotlib.axis_1\">\n    <g id=\"xtick_1\">\n     <g id=\"line2d_1\">\n      <defs>\n       <path d=\"M 0 0 \nL 0 3.5 \n\" id=\"md5ddc94698\" style=\"stroke:#000000;stroke-width:0.8;\"/>\n      </defs>\n      <g>\n       <use style=\"stroke:#000000;stroke-width:0.8;\" x=\"54.868182\" xlink:href=\"#md5ddc94698\" y=\"185.398125\"/>\n      </g>\n     </g>\n     <g id=\"text_1\">\n      <!-- 0 -->\n      <g transform=\"translate(51.686932 199.996563)scale(0.1 -0.1)\">\n       <defs>\n        <path d=\"M 31.78125 66.40625 \nQ 24.171875 66.40625 20.328125 58.90625 \nQ 16.5 51.421875 16.5 36.375 \nQ 16.5 21.390625 20.328125 13.890625 \nQ 24.171875 6.390625 31.78125 6.390625 \nQ 39.453125 6.390625 43.28125 13.890625 \nQ 47.125 21.390625 47.125 36.375 \nQ 47.125 51.421875 43.28125 58.90625 \nQ 39.453125 66.40625 31.78125 66.40625 \nz\nM 31.78125 74.21875 \nQ 44.046875 74.21875 50.515625 64.515625 \nQ 56.984375 54.828125 56.984375 36.375 \nQ 56.984375 17.96875 50.515625 8.265625 \nQ 44.046875 -1.421875 31.78125 -1.421875 \nQ 19.53125 -1.421875 13.0625 8.265625 \nQ 6.59375 17.96875 6.59375 36.375 \nQ 6.59375 54.828125 13.0625 64.515625 \nQ 19.53125 74.21875 31.78125 74.21875 \nz\n\" id=\"DejaVuSans-48\"/>\n       </defs>\n       <use xlink:href=\"#DejaVuSans-48\"/>\n      </g>\n     </g>\n    </g>\n    <g id=\"xtick_2\">\n     <g id=\"line2d_2\">\n      <g>\n       <use style=\"stroke:#000000;stroke-width:0.8;\" x=\"115.801843\" xlink:href=\"#md5ddc94698\" y=\"185.398125\"/>\n      </g>\n     </g>\n     <g id=\"text_2\">\n      <!-- 20 -->\n      <g transform=\"translate(109.439343 199.996563)scale(0.1 -0.1)\">\n       <defs>\n        <path d=\"M 19.1875 8.296875 \nL 53.609375 8.296875 \nL 53.609375 0 \nL 7.328125 0 \nL 7.328125 8.296875 \nQ 12.9375 14.109375 22.625 23.890625 \nQ 32.328125 33.6875 34.8125 36.53125 \nQ 39.546875 41.84375 41.421875 45.53125 \nQ 43.3125 49.21875 43.3125 52.78125 \nQ 43.3125 58.59375 39.234375 62.25 \nQ 35.15625 65.921875 28.609375 65.921875 \nQ 23.96875 65.921875 18.8125 64.3125 \nQ 13.671875 62.703125 7.8125 59.421875 \nL 7.8125 69.390625 \nQ 13.765625 71.78125 18.9375 73 \nQ 24.125 74.21875 28.421875 74.21875 \nQ 39.75 74.21875 46.484375 68.546875 \nQ 53.21875 62.890625 53.21875 53.421875 \nQ 53.21875 48.921875 51.53125 44.890625 \nQ 49.859375 40.875 45.40625 35.40625 \nQ 44.1875 33.984375 37.640625 27.21875 \nQ 31.109375 20.453125 19.1875 8.296875 \nz\n\" id=\"DejaVuSans-50\"/>\n       </defs>\n       <use xlink:href=\"#DejaVuSans-50\"/>\n       <use x=\"63.623047\" xlink:href=\"#DejaVuSans-48\"/>\n      </g>\n     </g>\n    </g>\n    <g id=\"xtick_3\">\n     <g id=\"line2d_3\">\n      <g>\n       <use style=\"stroke:#000000;stroke-width:0.8;\" x=\"176.735504\" xlink:href=\"#md5ddc94698\" y=\"185.398125\"/>\n      </g>\n     </g>\n     <g id=\"text_3\">\n      <!-- 40 -->\n      <g transform=\"translate(170.373004 199.996563)scale(0.1 -0.1)\">\n       <defs>\n        <path d=\"M 37.796875 64.3125 \nL 12.890625 25.390625 \nL 37.796875 25.390625 \nz\nM 35.203125 72.90625 \nL 47.609375 72.90625 \nL 47.609375 25.390625 \nL 58.015625 25.390625 \nL 58.015625 17.1875 \nL 47.609375 17.1875 \nL 47.609375 0 \nL 37.796875 0 \nL 37.796875 17.1875 \nL 4.890625 17.1875 \nL 4.890625 26.703125 \nz\n\" id=\"DejaVuSans-52\"/>\n       </defs>\n       <use xlink:href=\"#DejaVuSans-52\"/>\n       <use x=\"63.623047\" xlink:href=\"#DejaVuSans-48\"/>\n      </g>\n     </g>\n    </g>\n    <g id=\"xtick_4\">\n     <g id=\"line2d_4\">\n      <g>\n       <use style=\"stroke:#000000;stroke-width:0.8;\" x=\"237.669165\" xlink:href=\"#md5ddc94698\" y=\"185.398125\"/>\n      </g>\n     </g>\n     <g id=\"text_4\">\n      <!-- 60 -->\n      <g transform=\"translate(231.306665 199.996563)scale(0.1 -0.1)\">\n       <defs>\n        <path d=\"M 33.015625 40.375 \nQ 26.375 40.375 22.484375 35.828125 \nQ 18.609375 31.296875 18.609375 23.390625 \nQ 18.609375 15.53125 22.484375 10.953125 \nQ 26.375 6.390625 33.015625 6.390625 \nQ 39.65625 6.390625 43.53125 10.953125 \nQ 47.40625 15.53125 47.40625 23.390625 \nQ 47.40625 31.296875 43.53125 35.828125 \nQ 39.65625 40.375 33.015625 40.375 \nz\nM 52.59375 71.296875 \nL 52.59375 62.3125 \nQ 48.875 64.0625 45.09375 64.984375 \nQ 41.3125 65.921875 37.59375 65.921875 \nQ 27.828125 65.921875 22.671875 59.328125 \nQ 17.53125 52.734375 16.796875 39.40625 \nQ 19.671875 43.65625 24.015625 45.921875 \nQ 28.375 48.1875 33.59375 48.1875 \nQ 44.578125 48.1875 50.953125 41.515625 \nQ 57.328125 34.859375 57.328125 23.390625 \nQ 57.328125 12.15625 50.6875 5.359375 \nQ 44.046875 -1.421875 33.015625 -1.421875 \nQ 20.359375 -1.421875 13.671875 8.265625 \nQ 6.984375 17.96875 6.984375 36.375 \nQ 6.984375 53.65625 15.1875 63.9375 \nQ 23.390625 74.21875 37.203125 74.21875 \nQ 40.921875 74.21875 44.703125 73.484375 \nQ 48.484375 72.75 52.59375 71.296875 \nz\n\" id=\"DejaVuSans-54\"/>\n       </defs>\n       <use xlink:href=\"#DejaVuSans-54\"/>\n       <use x=\"63.623047\" xlink:href=\"#DejaVuSans-48\"/>\n      </g>\n     </g>\n    </g>\n    <g id=\"xtick_5\">\n     <g id=\"line2d_5\">\n      <g>\n       <use style=\"stroke:#000000;stroke-width:0.8;\" x=\"298.602826\" xlink:href=\"#md5ddc94698\" y=\"185.398125\"/>\n      </g>\n     </g>\n     <g id=\"text_5\">\n      <!-- 80 -->\n      <g transform=\"translate(292.240326 199.996563)scale(0.1 -0.1)\">\n       <defs>\n        <path d=\"M 31.78125 34.625 \nQ 24.75 34.625 20.71875 30.859375 \nQ 16.703125 27.09375 16.703125 20.515625 \nQ 16.703125 13.921875 20.71875 10.15625 \nQ 24.75 6.390625 31.78125 6.390625 \nQ 38.8125 6.390625 42.859375 10.171875 \nQ 46.921875 13.96875 46.921875 20.515625 \nQ 46.921875 27.09375 42.890625 30.859375 \nQ 38.875 34.625 31.78125 34.625 \nz\nM 21.921875 38.8125 \nQ 15.578125 40.375 12.03125 44.71875 \nQ 8.5 49.078125 8.5 55.328125 \nQ 8.5 64.0625 14.71875 69.140625 \nQ 20.953125 74.21875 31.78125 74.21875 \nQ 42.671875 74.21875 48.875 69.140625 \nQ 55.078125 64.0625 55.078125 55.328125 \nQ 55.078125 49.078125 51.53125 44.71875 \nQ 48 40.375 41.703125 38.8125 \nQ 48.828125 37.15625 52.796875 32.3125 \nQ 56.78125 27.484375 56.78125 20.515625 \nQ 56.78125 9.90625 50.3125 4.234375 \nQ 43.84375 -1.421875 31.78125 -1.421875 \nQ 19.734375 -1.421875 13.25 4.234375 \nQ 6.78125 9.90625 6.78125 20.515625 \nQ 6.78125 27.484375 10.78125 32.3125 \nQ 14.796875 37.15625 21.921875 38.8125 \nz\nM 18.3125 54.390625 \nQ 18.3125 48.734375 21.84375 45.5625 \nQ 25.390625 42.390625 31.78125 42.390625 \nQ 38.140625 42.390625 41.71875 45.5625 \nQ 45.3125 48.734375 45.3125 54.390625 \nQ 45.3125 60.0625 41.71875 63.234375 \nQ 38.140625 66.40625 31.78125 66.40625 \nQ 25.390625 66.40625 21.84375 63.234375 \nQ 18.3125 60.0625 18.3125 54.390625 \nz\n\" id=\"DejaVuSans-56\"/>\n       </defs>\n       <use xlink:href=\"#DejaVuSans-56\"/>\n       <use x=\"63.623047\" xlink:href=\"#DejaVuSans-48\"/>\n      </g>\n     </g>\n    </g>\n    <g id=\"xtick_6\">\n     <g id=\"line2d_6\">\n      <g>\n       <use style=\"stroke:#000000;stroke-width:0.8;\" x=\"359.536486\" xlink:href=\"#md5ddc94698\" y=\"185.398125\"/>\n      </g>\n     </g>\n     <g id=\"text_6\">\n      <!-- 100 -->\n      <g transform=\"translate(349.992736 199.996563)scale(0.1 -0.1)\">\n       <defs>\n        <path d=\"M 12.40625 8.296875 \nL 28.515625 8.296875 \nL 28.515625 63.921875 \nL 10.984375 60.40625 \nL 10.984375 69.390625 \nL 28.421875 72.90625 \nL 38.28125 72.90625 \nL 38.28125 8.296875 \nL 54.390625 8.296875 \nL 54.390625 0 \nL 12.40625 0 \nz\n\" id=\"DejaVuSans-49\"/>\n       </defs>\n       <use xlink:href=\"#DejaVuSans-49\"/>\n       <use x=\"63.623047\" xlink:href=\"#DejaVuSans-48\"/>\n       <use x=\"127.246094\" xlink:href=\"#DejaVuSans-48\"/>\n      </g>\n     </g>\n    </g>\n   </g>\n   <g id=\"matplotlib.axis_2\">\n    <g id=\"ytick_1\">\n     <g id=\"line2d_7\">\n      <defs>\n       <path d=\"M 0 0 \nL -3.5 0 \n\" id=\"mbaf697b5a6\" style=\"stroke:#000000;stroke-width:0.8;\"/>\n      </defs>\n      <g>\n       <use style=\"stroke:#000000;stroke-width:0.8;\" x=\"39.65\" xlink:href=\"#mbaf697b5a6\" y=\"185.398125\"/>\n      </g>\n     </g>\n     <g id=\"text_7\">\n      <!-- 0 -->\n      <g transform=\"translate(26.2875 189.197344)scale(0.1 -0.1)\">\n       <use xlink:href=\"#DejaVuSans-48\"/>\n      </g>\n     </g>\n    </g>\n    <g id=\"ytick_2\">\n     <g id=\"line2d_8\">\n      <g>\n       <use style=\"stroke:#000000;stroke-width:0.8;\" x=\"39.65\" xlink:href=\"#mbaf697b5a6\" y=\"164.223717\"/>\n      </g>\n     </g>\n     <g id=\"text_8\">\n      <!-- 200 -->\n      <g transform=\"translate(13.5625 168.022935)scale(0.1 -0.1)\">\n       <use xlink:href=\"#DejaVuSans-50\"/>\n       <use x=\"63.623047\" xlink:href=\"#DejaVuSans-48\"/>\n       <use x=\"127.246094\" xlink:href=\"#DejaVuSans-48\"/>\n      </g>\n     </g>\n    </g>\n    <g id=\"ytick_3\">\n     <g id=\"line2d_9\">\n      <g>\n       <use style=\"stroke:#000000;stroke-width:0.8;\" x=\"39.65\" xlink:href=\"#mbaf697b5a6\" y=\"143.049308\"/>\n      </g>\n     </g>\n     <g id=\"text_9\">\n      <!-- 400 -->\n      <g transform=\"translate(13.5625 146.848527)scale(0.1 -0.1)\">\n       <use xlink:href=\"#DejaVuSans-52\"/>\n       <use x=\"63.623047\" xlink:href=\"#DejaVuSans-48\"/>\n       <use x=\"127.246094\" xlink:href=\"#DejaVuSans-48\"/>\n      </g>\n     </g>\n    </g>\n    <g id=\"ytick_4\">\n     <g id=\"line2d_10\">\n      <g>\n       <use style=\"stroke:#000000;stroke-width:0.8;\" x=\"39.65\" xlink:href=\"#mbaf697b5a6\" y=\"121.8749\"/>\n      </g>\n     </g>\n     <g id=\"text_10\">\n      <!-- 600 -->\n      <g transform=\"translate(13.5625 125.674119)scale(0.1 -0.1)\">\n       <use xlink:href=\"#DejaVuSans-54\"/>\n       <use x=\"63.623047\" xlink:href=\"#DejaVuSans-48\"/>\n       <use x=\"127.246094\" xlink:href=\"#DejaVuSans-48\"/>\n      </g>\n     </g>\n    </g>\n    <g id=\"ytick_5\">\n     <g id=\"line2d_11\">\n      <g>\n       <use style=\"stroke:#000000;stroke-width:0.8;\" x=\"39.65\" xlink:href=\"#mbaf697b5a6\" y=\"100.700491\"/>\n      </g>\n     </g>\n     <g id=\"text_11\">\n      <!-- 800 -->\n      <g transform=\"translate(13.5625 104.49971)scale(0.1 -0.1)\">\n       <use xlink:href=\"#DejaVuSans-56\"/>\n       <use x=\"63.623047\" xlink:href=\"#DejaVuSans-48\"/>\n       <use x=\"127.246094\" xlink:href=\"#DejaVuSans-48\"/>\n      </g>\n     </g>\n    </g>\n    <g id=\"ytick_6\">\n     <g id=\"line2d_12\">\n      <g>\n       <use style=\"stroke:#000000;stroke-width:0.8;\" x=\"39.65\" xlink:href=\"#mbaf697b5a6\" y=\"79.526083\"/>\n      </g>\n     </g>\n     <g id=\"text_12\">\n      <!-- 1000 -->\n      <g transform=\"translate(7.2 83.325302)scale(0.1 -0.1)\">\n       <use xlink:href=\"#DejaVuSans-49\"/>\n       <use x=\"63.623047\" xlink:href=\"#DejaVuSans-48\"/>\n       <use x=\"127.246094\" xlink:href=\"#DejaVuSans-48\"/>\n       <use x=\"190.869141\" xlink:href=\"#DejaVuSans-48\"/>\n      </g>\n     </g>\n    </g>\n    <g id=\"ytick_7\">\n     <g id=\"line2d_13\">\n      <g>\n       <use style=\"stroke:#000000;stroke-width:0.8;\" x=\"39.65\" xlink:href=\"#mbaf697b5a6\" y=\"58.351675\"/>\n      </g>\n     </g>\n     <g id=\"text_13\">\n      <!-- 1200 -->\n      <g transform=\"translate(7.2 62.150893)scale(0.1 -0.1)\">\n       <use xlink:href=\"#DejaVuSans-49\"/>\n       <use x=\"63.623047\" xlink:href=\"#DejaVuSans-50\"/>\n       <use x=\"127.246094\" xlink:href=\"#DejaVuSans-48\"/>\n       <use x=\"190.869141\" xlink:href=\"#DejaVuSans-48\"/>\n      </g>\n     </g>\n    </g>\n    <g id=\"ytick_8\">\n     <g id=\"line2d_14\">\n      <g>\n       <use style=\"stroke:#000000;stroke-width:0.8;\" x=\"39.65\" xlink:href=\"#mbaf697b5a6\" y=\"37.177266\"/>\n      </g>\n     </g>\n     <g id=\"text_14\">\n      <!-- 1400 -->\n      <g transform=\"translate(7.2 40.976485)scale(0.1 -0.1)\">\n       <use xlink:href=\"#DejaVuSans-49\"/>\n       <use x=\"63.623047\" xlink:href=\"#DejaVuSans-52\"/>\n       <use x=\"127.246094\" xlink:href=\"#DejaVuSans-48\"/>\n       <use x=\"190.869141\" xlink:href=\"#DejaVuSans-48\"/>\n      </g>\n     </g>\n    </g>\n   </g>\n   <g id=\"patch_33\">\n    <path d=\"M 39.65 185.398125 \nL 39.65 22.318125 \n\" style=\"fill:none;stroke:#000000;stroke-linecap:square;stroke-linejoin:miter;stroke-width:0.8;\"/>\n   </g>\n   <g id=\"patch_34\">\n    <path d=\"M 374.45 185.398125 \nL 374.45 22.318125 \n\" style=\"fill:none;stroke:#000000;stroke-linecap:square;stroke-linejoin:miter;stroke-width:0.8;\"/>\n   </g>\n   <g id=\"patch_35\">\n    <path d=\"M 39.65 185.398125 \nL 374.45 185.398125 \n\" style=\"fill:none;stroke:#000000;stroke-linecap:square;stroke-linejoin:miter;stroke-width:0.8;\"/>\n   </g>\n   <g id=\"patch_36\">\n    <path d=\"M 39.65 22.318125 \nL 374.45 22.318125 \n\" style=\"fill:none;stroke:#000000;stroke-linecap:square;stroke-linejoin:miter;stroke-width:0.8;\"/>\n   </g>\n   <g id=\"text_15\">\n    <!-- Histogram of Hispanic -->\n    <g transform=\"translate(140.76875 16.318125)scale(0.12 -0.12)\">\n     <defs>\n      <path d=\"M 9.8125 72.90625 \nL 19.671875 72.90625 \nL 19.671875 43.015625 \nL 55.515625 43.015625 \nL 55.515625 72.90625 \nL 65.375 72.90625 \nL 65.375 0 \nL 55.515625 0 \nL 55.515625 34.71875 \nL 19.671875 34.71875 \nL 19.671875 0 \nL 9.8125 0 \nz\n\" id=\"DejaVuSans-72\"/>\n      <path d=\"M 9.421875 54.6875 \nL 18.40625 54.6875 \nL 18.40625 0 \nL 9.421875 0 \nz\nM 9.421875 75.984375 \nL 18.40625 75.984375 \nL 18.40625 64.59375 \nL 9.421875 64.59375 \nz\n\" id=\"DejaVuSans-105\"/>\n      <path d=\"M 44.28125 53.078125 \nL 44.28125 44.578125 \nQ 40.484375 46.53125 36.375 47.5 \nQ 32.28125 48.484375 27.875 48.484375 \nQ 21.1875 48.484375 17.84375 46.4375 \nQ 14.5 44.390625 14.5 40.28125 \nQ 14.5 37.15625 16.890625 35.375 \nQ 19.28125 33.59375 26.515625 31.984375 \nL 29.59375 31.296875 \nQ 39.15625 29.25 43.1875 25.515625 \nQ 47.21875 21.78125 47.21875 15.09375 \nQ 47.21875 7.46875 41.1875 3.015625 \nQ 35.15625 -1.421875 24.609375 -1.421875 \nQ 20.21875 -1.421875 15.453125 -0.5625 \nQ 10.6875 0.296875 5.421875 2 \nL 5.421875 11.28125 \nQ 10.40625 8.6875 15.234375 7.390625 \nQ 20.0625 6.109375 24.8125 6.109375 \nQ 31.15625 6.109375 34.5625 8.28125 \nQ 37.984375 10.453125 37.984375 14.40625 \nQ 37.984375 18.0625 35.515625 20.015625 \nQ 33.0625 21.96875 24.703125 23.78125 \nL 21.578125 24.515625 \nQ 13.234375 26.265625 9.515625 29.90625 \nQ 5.8125 33.546875 5.8125 39.890625 \nQ 5.8125 47.609375 11.28125 51.796875 \nQ 16.75 56 26.8125 56 \nQ 31.78125 56 36.171875 55.265625 \nQ 40.578125 54.546875 44.28125 53.078125 \nz\n\" id=\"DejaVuSans-115\"/>\n      <path d=\"M 18.3125 70.21875 \nL 18.3125 54.6875 \nL 36.8125 54.6875 \nL 36.8125 47.703125 \nL 18.3125 47.703125 \nL 18.3125 18.015625 \nQ 18.3125 11.328125 20.140625 9.421875 \nQ 21.96875 7.515625 27.59375 7.515625 \nL 36.8125 7.515625 \nL 36.8125 0 \nL 27.59375 0 \nQ 17.1875 0 13.234375 3.875 \nQ 9.28125 7.765625 9.28125 18.015625 \nL 9.28125 47.703125 \nL 2.6875 47.703125 \nL 2.6875 54.6875 \nL 9.28125 54.6875 \nL 9.28125 70.21875 \nz\n\" id=\"DejaVuSans-116\"/>\n      <path d=\"M 30.609375 48.390625 \nQ 23.390625 48.390625 19.1875 42.75 \nQ 14.984375 37.109375 14.984375 27.296875 \nQ 14.984375 17.484375 19.15625 11.84375 \nQ 23.34375 6.203125 30.609375 6.203125 \nQ 37.796875 6.203125 41.984375 11.859375 \nQ 46.1875 17.53125 46.1875 27.296875 \nQ 46.1875 37.015625 41.984375 42.703125 \nQ 37.796875 48.390625 30.609375 48.390625 \nz\nM 30.609375 56 \nQ 42.328125 56 49.015625 48.375 \nQ 55.71875 40.765625 55.71875 27.296875 \nQ 55.71875 13.875 49.015625 6.21875 \nQ 42.328125 -1.421875 30.609375 -1.421875 \nQ 18.84375 -1.421875 12.171875 6.21875 \nQ 5.515625 13.875 5.515625 27.296875 \nQ 5.515625 40.765625 12.171875 48.375 \nQ 18.84375 56 30.609375 56 \nz\n\" id=\"DejaVuSans-111\"/>\n      <path d=\"M 45.40625 27.984375 \nQ 45.40625 37.75 41.375 43.109375 \nQ 37.359375 48.484375 30.078125 48.484375 \nQ 22.859375 48.484375 18.828125 43.109375 \nQ 14.796875 37.75 14.796875 27.984375 \nQ 14.796875 18.265625 18.828125 12.890625 \nQ 22.859375 7.515625 30.078125 7.515625 \nQ 37.359375 7.515625 41.375 12.890625 \nQ 45.40625 18.265625 45.40625 27.984375 \nz\nM 54.390625 6.78125 \nQ 54.390625 -7.171875 48.1875 -13.984375 \nQ 42 -20.796875 29.203125 -20.796875 \nQ 24.46875 -20.796875 20.265625 -20.09375 \nQ 16.0625 -19.390625 12.109375 -17.921875 \nL 12.109375 -9.1875 \nQ 16.0625 -11.328125 19.921875 -12.34375 \nQ 23.78125 -13.375 27.78125 -13.375 \nQ 36.625 -13.375 41.015625 -8.765625 \nQ 45.40625 -4.15625 45.40625 5.171875 \nL 45.40625 9.625 \nQ 42.625 4.78125 38.28125 2.390625 \nQ 33.9375 0 27.875 0 \nQ 17.828125 0 11.671875 7.65625 \nQ 5.515625 15.328125 5.515625 27.984375 \nQ 5.515625 40.671875 11.671875 48.328125 \nQ 17.828125 56 27.875 56 \nQ 33.9375 56 38.28125 53.609375 \nQ 42.625 51.21875 45.40625 46.390625 \nL 45.40625 54.6875 \nL 54.390625 54.6875 \nz\n\" id=\"DejaVuSans-103\"/>\n      <path d=\"M 41.109375 46.296875 \nQ 39.59375 47.171875 37.8125 47.578125 \nQ 36.03125 48 33.890625 48 \nQ 26.265625 48 22.1875 43.046875 \nQ 18.109375 38.09375 18.109375 28.8125 \nL 18.109375 0 \nL 9.078125 0 \nL 9.078125 54.6875 \nL 18.109375 54.6875 \nL 18.109375 46.1875 \nQ 20.953125 51.171875 25.484375 53.578125 \nQ 30.03125 56 36.53125 56 \nQ 37.453125 56 38.578125 55.875 \nQ 39.703125 55.765625 41.0625 55.515625 \nz\n\" id=\"DejaVuSans-114\"/>\n      <path d=\"M 34.28125 27.484375 \nQ 23.390625 27.484375 19.1875 25 \nQ 14.984375 22.515625 14.984375 16.5 \nQ 14.984375 11.71875 18.140625 8.90625 \nQ 21.296875 6.109375 26.703125 6.109375 \nQ 34.1875 6.109375 38.703125 11.40625 \nQ 43.21875 16.703125 43.21875 25.484375 \nL 43.21875 27.484375 \nz\nM 52.203125 31.203125 \nL 52.203125 0 \nL 43.21875 0 \nL 43.21875 8.296875 \nQ 40.140625 3.328125 35.546875 0.953125 \nQ 30.953125 -1.421875 24.3125 -1.421875 \nQ 15.921875 -1.421875 10.953125 3.296875 \nQ 6 8.015625 6 15.921875 \nQ 6 25.140625 12.171875 29.828125 \nQ 18.359375 34.515625 30.609375 34.515625 \nL 43.21875 34.515625 \nL 43.21875 35.40625 \nQ 43.21875 41.609375 39.140625 45 \nQ 35.0625 48.390625 27.6875 48.390625 \nQ 23 48.390625 18.546875 47.265625 \nQ 14.109375 46.140625 10.015625 43.890625 \nL 10.015625 52.203125 \nQ 14.9375 54.109375 19.578125 55.046875 \nQ 24.21875 56 28.609375 56 \nQ 40.484375 56 46.34375 49.84375 \nQ 52.203125 43.703125 52.203125 31.203125 \nz\n\" id=\"DejaVuSans-97\"/>\n      <path d=\"M 52 44.1875 \nQ 55.375 50.25 60.0625 53.125 \nQ 64.75 56 71.09375 56 \nQ 79.640625 56 84.28125 50.015625 \nQ 88.921875 44.046875 88.921875 33.015625 \nL 88.921875 0 \nL 79.890625 0 \nL 79.890625 32.71875 \nQ 79.890625 40.578125 77.09375 44.375 \nQ 74.3125 48.1875 68.609375 48.1875 \nQ 61.625 48.1875 57.5625 43.546875 \nQ 53.515625 38.921875 53.515625 30.90625 \nL 53.515625 0 \nL 44.484375 0 \nL 44.484375 32.71875 \nQ 44.484375 40.625 41.703125 44.40625 \nQ 38.921875 48.1875 33.109375 48.1875 \nQ 26.21875 48.1875 22.15625 43.53125 \nQ 18.109375 38.875 18.109375 30.90625 \nL 18.109375 0 \nL 9.078125 0 \nL 9.078125 54.6875 \nL 18.109375 54.6875 \nL 18.109375 46.1875 \nQ 21.1875 51.21875 25.484375 53.609375 \nQ 29.78125 56 35.6875 56 \nQ 41.65625 56 45.828125 52.96875 \nQ 50 49.953125 52 44.1875 \nz\n\" id=\"DejaVuSans-109\"/>\n      <path id=\"DejaVuSans-32\"/>\n      <path d=\"M 37.109375 75.984375 \nL 37.109375 68.5 \nL 28.515625 68.5 \nQ 23.6875 68.5 21.796875 66.546875 \nQ 19.921875 64.59375 19.921875 59.515625 \nL 19.921875 54.6875 \nL 34.71875 54.6875 \nL 34.71875 47.703125 \nL 19.921875 47.703125 \nL 19.921875 0 \nL 10.890625 0 \nL 10.890625 47.703125 \nL 2.296875 47.703125 \nL 2.296875 54.6875 \nL 10.890625 54.6875 \nL 10.890625 58.5 \nQ 10.890625 67.625 15.140625 71.796875 \nQ 19.390625 75.984375 28.609375 75.984375 \nz\n\" id=\"DejaVuSans-102\"/>\n      <path d=\"M 18.109375 8.203125 \nL 18.109375 -20.796875 \nL 9.078125 -20.796875 \nL 9.078125 54.6875 \nL 18.109375 54.6875 \nL 18.109375 46.390625 \nQ 20.953125 51.265625 25.265625 53.625 \nQ 29.59375 56 35.59375 56 \nQ 45.5625 56 51.78125 48.09375 \nQ 58.015625 40.1875 58.015625 27.296875 \nQ 58.015625 14.40625 51.78125 6.484375 \nQ 45.5625 -1.421875 35.59375 -1.421875 \nQ 29.59375 -1.421875 25.265625 0.953125 \nQ 20.953125 3.328125 18.109375 8.203125 \nz\nM 48.6875 27.296875 \nQ 48.6875 37.203125 44.609375 42.84375 \nQ 40.53125 48.484375 33.40625 48.484375 \nQ 26.265625 48.484375 22.1875 42.84375 \nQ 18.109375 37.203125 18.109375 27.296875 \nQ 18.109375 17.390625 22.1875 11.75 \nQ 26.265625 6.109375 33.40625 6.109375 \nQ 40.53125 6.109375 44.609375 11.75 \nQ 48.6875 17.390625 48.6875 27.296875 \nz\n\" id=\"DejaVuSans-112\"/>\n      <path d=\"M 54.890625 33.015625 \nL 54.890625 0 \nL 45.90625 0 \nL 45.90625 32.71875 \nQ 45.90625 40.484375 42.875 44.328125 \nQ 39.84375 48.1875 33.796875 48.1875 \nQ 26.515625 48.1875 22.3125 43.546875 \nQ 18.109375 38.921875 18.109375 30.90625 \nL 18.109375 0 \nL 9.078125 0 \nL 9.078125 54.6875 \nL 18.109375 54.6875 \nL 18.109375 46.1875 \nQ 21.34375 51.125 25.703125 53.5625 \nQ 30.078125 56 35.796875 56 \nQ 45.21875 56 50.046875 50.171875 \nQ 54.890625 44.34375 54.890625 33.015625 \nz\n\" id=\"DejaVuSans-110\"/>\n      <path d=\"M 48.78125 52.59375 \nL 48.78125 44.1875 \nQ 44.96875 46.296875 41.140625 47.34375 \nQ 37.3125 48.390625 33.40625 48.390625 \nQ 24.65625 48.390625 19.8125 42.84375 \nQ 14.984375 37.3125 14.984375 27.296875 \nQ 14.984375 17.28125 19.8125 11.734375 \nQ 24.65625 6.203125 33.40625 6.203125 \nQ 37.3125 6.203125 41.140625 7.25 \nQ 44.96875 8.296875 48.78125 10.40625 \nL 48.78125 2.09375 \nQ 45.015625 0.34375 40.984375 -0.53125 \nQ 36.96875 -1.421875 32.421875 -1.421875 \nQ 20.0625 -1.421875 12.78125 6.34375 \nQ 5.515625 14.109375 5.515625 27.296875 \nQ 5.515625 40.671875 12.859375 48.328125 \nQ 20.21875 56 33.015625 56 \nQ 37.15625 56 41.109375 55.140625 \nQ 45.0625 54.296875 48.78125 52.59375 \nz\n\" id=\"DejaVuSans-99\"/>\n     </defs>\n     <use xlink:href=\"#DejaVuSans-72\"/>\n     <use x=\"75.195312\" xlink:href=\"#DejaVuSans-105\"/>\n     <use x=\"102.978516\" xlink:href=\"#DejaVuSans-115\"/>\n     <use x=\"155.078125\" xlink:href=\"#DejaVuSans-116\"/>\n     <use x=\"194.287109\" xlink:href=\"#DejaVuSans-111\"/>\n     <use x=\"255.46875\" xlink:href=\"#DejaVuSans-103\"/>\n     <use x=\"318.945312\" xlink:href=\"#DejaVuSans-114\"/>\n     <use x=\"360.058594\" xlink:href=\"#DejaVuSans-97\"/>\n     <use x=\"421.337891\" xlink:href=\"#DejaVuSans-109\"/>\n     <use x=\"518.75\" xlink:href=\"#DejaVuSans-32\"/>\n     <use x=\"550.537109\" xlink:href=\"#DejaVuSans-111\"/>\n     <use x=\"611.71875\" xlink:href=\"#DejaVuSans-102\"/>\n     <use x=\"646.923828\" xlink:href=\"#DejaVuSans-32\"/>\n     <use x=\"678.710938\" xlink:href=\"#DejaVuSans-72\"/>\n     <use x=\"753.90625\" xlink:href=\"#DejaVuSans-105\"/>\n     <use x=\"781.689453\" xlink:href=\"#DejaVuSans-115\"/>\n     <use x=\"833.789062\" xlink:href=\"#DejaVuSans-112\"/>\n     <use x=\"897.265625\" xlink:href=\"#DejaVuSans-97\"/>\n     <use x=\"958.544922\" xlink:href=\"#DejaVuSans-110\"/>\n     <use x=\"1021.923828\" xlink:href=\"#DejaVuSans-105\"/>\n     <use x=\"1049.707031\" xlink:href=\"#DejaVuSans-99\"/>\n    </g>\n   </g>\n  </g>\n </g>\n <defs>\n  <clipPath id=\"pd40553fab2\">\n   <rect height=\"163.08\" width=\"334.8\" x=\"39.65\" y=\"22.318125\"/>\n  </clipPath>\n </defs>\n</svg>\n",
      "image/png": "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\n"
     },
     "metadata": {
      "needs_background": "light"
     }
    },
    {
     "output_type": "display_data",
     "data": {
      "text/plain": "<Figure size 432x216 with 1 Axes>",
      "image/svg+xml": "<?xml version=\"1.0\" encoding=\"utf-8\" standalone=\"no\"?>\n<!DOCTYPE svg PUBLIC \"-//W3C//DTD SVG 1.1//EN\"\n  \"http://www.w3.org/Graphics/SVG/1.1/DTD/svg11.dtd\">\n<!-- Created with matplotlib (https://matplotlib.org/) -->\n<svg height=\"209.27625pt\" version=\"1.1\" viewBox=\"0 0 375.2875 209.27625\" width=\"375.2875pt\" xmlns=\"http://www.w3.org/2000/svg\" xmlns:xlink=\"http://www.w3.org/1999/xlink\">\n <metadata>\n  <rdf:RDF xmlns:cc=\"http://creativecommons.org/ns#\" xmlns:dc=\"http://purl.org/dc/elements/1.1/\" xmlns:rdf=\"http://www.w3.org/1999/02/22-rdf-syntax-ns#\">\n   <cc:Work>\n    <dc:type rdf:resource=\"http://purl.org/dc/dcmitype/StillImage\"/>\n    <dc:date>2021-03-20T03:25:27.312397</dc:date>\n    <dc:format>image/svg+xml</dc:format>\n    <dc:creator>\n     <cc:Agent>\n      <dc:title>Matplotlib v3.3.4, https://matplotlib.org/</dc:title>\n     </cc:Agent>\n    </dc:creator>\n   </cc:Work>\n  </rdf:RDF>\n </metadata>\n <defs>\n  <style type=\"text/css\">*{stroke-linecap:butt;stroke-linejoin:round;}</style>\n </defs>\n <g id=\"figure_1\">\n  <g id=\"patch_1\">\n   <path d=\"M 0 209.27625 \nL 375.2875 209.27625 \nL 375.2875 0 \nL 0 0 \nz\n\" style=\"fill:none;\"/>\n  </g>\n  <g id=\"axes_1\">\n   <g id=\"patch_2\">\n    <path d=\"M 33.2875 185.398125 \nL 368.0875 185.398125 \nL 368.0875 22.318125 \nL 33.2875 22.318125 \nz\n\" style=\"fill:#ffffff;\"/>\n   </g>\n   <g id=\"patch_3\">\n    <path clip-path=\"url(#p556425caf8)\" d=\"M 48.505682 185.398125 \nL 58.651136 185.398125 \nL 58.651136 165.757716 \nL 48.505682 165.757716 \nz\n\" style=\"fill:#1f77b4;\"/>\n   </g>\n   <g id=\"patch_4\">\n    <path clip-path=\"url(#p556425caf8)\" d=\"M 58.651136 185.398125 \nL 68.796591 185.398125 \nL 68.796591 182.555434 \nL 58.651136 182.555434 \nz\n\" style=\"fill:#1f77b4;\"/>\n   </g>\n   <g id=\"patch_5\">\n    <path clip-path=\"url(#p556425caf8)\" d=\"M 68.796591 185.398125 \nL 78.942045 185.398125 \nL 78.942045 184.881272 \nL 68.796591 184.881272 \nz\n\" style=\"fill:#1f77b4;\"/>\n   </g>\n   <g id=\"patch_6\">\n    <path clip-path=\"url(#p556425caf8)\" d=\"M 78.942045 185.398125 \nL 89.0875 185.398125 \nL 89.0875 182.555434 \nL 78.942045 182.555434 \nz\n\" style=\"fill:#1f77b4;\"/>\n   </g>\n   <g id=\"patch_7\">\n    <path clip-path=\"url(#p556425caf8)\" d=\"M 89.0875 185.398125 \nL 99.232955 185.398125 \nL 99.232955 181.521729 \nL 89.0875 181.521729 \nz\n\" style=\"fill:#1f77b4;\"/>\n   </g>\n   <g id=\"patch_8\">\n    <path clip-path=\"url(#p556425caf8)\" d=\"M 99.232955 185.398125 \nL 109.378409 185.398125 \nL 109.378409 181.780155 \nL 99.232955 181.780155 \nz\n\" style=\"fill:#1f77b4;\"/>\n   </g>\n   <g id=\"patch_9\">\n    <path clip-path=\"url(#p556425caf8)\" d=\"M 109.378409 185.398125 \nL 119.523864 185.398125 \nL 119.523864 182.555434 \nL 109.378409 182.555434 \nz\n\" style=\"fill:#1f77b4;\"/>\n   </g>\n   <g id=\"patch_10\">\n    <path clip-path=\"url(#p556425caf8)\" d=\"M 119.523864 185.398125 \nL 129.669318 185.398125 \nL 129.669318 182.555434 \nL 119.523864 182.555434 \nz\n\" style=\"fill:#1f77b4;\"/>\n   </g>\n   <g id=\"patch_11\">\n    <path clip-path=\"url(#p556425caf8)\" d=\"M 129.669318 185.398125 \nL 139.814773 185.398125 \nL 139.814773 179.97117 \nL 129.669318 179.97117 \nz\n\" style=\"fill:#1f77b4;\"/>\n   </g>\n   <g id=\"patch_12\">\n    <path clip-path=\"url(#p556425caf8)\" d=\"M 139.814773 185.398125 \nL 149.960227 185.398125 \nL 149.960227 178.420611 \nL 139.814773 178.420611 \nz\n\" style=\"fill:#1f77b4;\"/>\n   </g>\n   <g id=\"patch_13\">\n    <path clip-path=\"url(#p556425caf8)\" d=\"M 149.960227 185.398125 \nL 160.105682 185.398125 \nL 160.105682 176.3532 \nL 149.960227 176.3532 \nz\n\" style=\"fill:#1f77b4;\"/>\n   </g>\n   <g id=\"patch_14\">\n    <path clip-path=\"url(#p556425caf8)\" d=\"M 160.105682 185.398125 \nL 170.251136 185.398125 \nL 170.251136 172.73523 \nL 160.105682 172.73523 \nz\n\" style=\"fill:#1f77b4;\"/>\n   </g>\n   <g id=\"patch_15\">\n    <path clip-path=\"url(#p556425caf8)\" d=\"M 170.251136 185.398125 \nL 180.396591 185.398125 \nL 180.396591 171.701524 \nL 170.251136 171.701524 \nz\n\" style=\"fill:#1f77b4;\"/>\n   </g>\n   <g id=\"patch_16\">\n    <path clip-path=\"url(#p556425caf8)\" d=\"M 180.396591 185.398125 \nL 190.542045 185.398125 \nL 190.542045 172.993656 \nL 180.396591 172.993656 \nz\n\" style=\"fill:#1f77b4;\"/>\n   </g>\n   <g id=\"patch_17\">\n    <path clip-path=\"url(#p556425caf8)\" d=\"M 190.542045 185.398125 \nL 200.6875 185.398125 \nL 200.6875 171.443098 \nL 190.542045 171.443098 \nz\n\" style=\"fill:#1f77b4;\"/>\n   </g>\n   <g id=\"patch_18\">\n    <path clip-path=\"url(#p556425caf8)\" d=\"M 200.6875 185.398125 \nL 210.832955 185.398125 \nL 210.832955 171.184671 \nL 200.6875 171.184671 \nz\n\" style=\"fill:#1f77b4;\"/>\n   </g>\n   <g id=\"patch_19\">\n    <path clip-path=\"url(#p556425caf8)\" d=\"M 210.832955 185.398125 \nL 220.978409 185.398125 \nL 220.978409 166.016143 \nL 210.832955 166.016143 \nz\n\" style=\"fill:#1f77b4;\"/>\n   </g>\n   <g id=\"patch_20\">\n    <path clip-path=\"url(#p556425caf8)\" d=\"M 220.978409 185.398125 \nL 231.123864 185.398125 \nL 231.123864 159.813908 \nL 220.978409 159.813908 \nz\n\" style=\"fill:#1f77b4;\"/>\n   </g>\n   <g id=\"patch_21\">\n    <path clip-path=\"url(#p556425caf8)\" d=\"M 231.123864 185.398125 \nL 241.269318 185.398125 \nL 241.269318 160.330761 \nL 231.123864 160.330761 \nz\n\" style=\"fill:#1f77b4;\"/>\n   </g>\n   <g id=\"patch_22\">\n    <path clip-path=\"url(#p556425caf8)\" d=\"M 241.269318 185.398125 \nL 251.414773 185.398125 \nL 251.414773 150.768983 \nL 241.269318 150.768983 \nz\n\" style=\"fill:#1f77b4;\"/>\n   </g>\n   <g id=\"patch_23\">\n    <path clip-path=\"url(#p556425caf8)\" d=\"M 251.414773 185.398125 \nL 261.560227 185.398125 \nL 261.560227 155.679085 \nL 251.414773 155.679085 \nz\n\" style=\"fill:#1f77b4;\"/>\n   </g>\n   <g id=\"patch_24\">\n    <path clip-path=\"url(#p556425caf8)\" d=\"M 261.560227 185.398125 \nL 271.705682 185.398125 \nL 271.705682 157.746497 \nL 261.560227 157.746497 \nz\n\" style=\"fill:#1f77b4;\"/>\n   </g>\n   <g id=\"patch_25\">\n    <path clip-path=\"url(#p556425caf8)\" d=\"M 271.705682 185.398125 \nL 281.851136 185.398125 \nL 281.851136 151.544262 \nL 271.705682 151.544262 \nz\n\" style=\"fill:#1f77b4;\"/>\n   </g>\n   <g id=\"patch_26\">\n    <path clip-path=\"url(#p556425caf8)\" d=\"M 281.851136 185.398125 \nL 291.996591 185.398125 \nL 291.996591 144.308322 \nL 281.851136 144.308322 \nz\n\" style=\"fill:#1f77b4;\"/>\n   </g>\n   <g id=\"patch_27\">\n    <path clip-path=\"url(#p556425caf8)\" d=\"M 291.996591 185.398125 \nL 302.142045 185.398125 \nL 302.142045 147.151013 \nL 291.996591 147.151013 \nz\n\" style=\"fill:#1f77b4;\"/>\n   </g>\n   <g id=\"patch_28\">\n    <path clip-path=\"url(#p556425caf8)\" d=\"M 302.142045 185.398125 \nL 312.2875 185.398125 \nL 312.2875 128.027457 \nL 302.142045 128.027457 \nz\n\" style=\"fill:#1f77b4;\"/>\n   </g>\n   <g id=\"patch_29\">\n    <path clip-path=\"url(#p556425caf8)\" d=\"M 312.2875 185.398125 \nL 322.432955 185.398125 \nL 322.432955 116.139841 \nL 312.2875 116.139841 \nz\n\" style=\"fill:#1f77b4;\"/>\n   </g>\n   <g id=\"patch_30\">\n    <path clip-path=\"url(#p556425caf8)\" d=\"M 322.432955 185.398125 \nL 332.578409 185.398125 \nL 332.578409 92.881462 \nL 322.432955 92.881462 \nz\n\" style=\"fill:#1f77b4;\"/>\n   </g>\n   <g id=\"patch_31\">\n    <path clip-path=\"url(#p556425caf8)\" d=\"M 332.578409 185.398125 \nL 342.723864 185.398125 \nL 342.723864 30.083839 \nL 332.578409 30.083839 \nz\n\" style=\"fill:#1f77b4;\"/>\n   </g>\n   <g id=\"patch_32\">\n    <path clip-path=\"url(#p556425caf8)\" d=\"M 342.723864 185.398125 \nL 352.869318 185.398125 \nL 352.869318 130.870148 \nL 342.723864 130.870148 \nz\n\" style=\"fill:#1f77b4;\"/>\n   </g>\n   <g id=\"matplotlib.axis_1\">\n    <g id=\"xtick_1\">\n     <g id=\"line2d_1\">\n      <defs>\n       <path d=\"M 0 0 \nL 0 3.5 \n\" id=\"m1cbb29f1e2\" style=\"stroke:#000000;stroke-width:0.8;\"/>\n      </defs>\n      <g>\n       <use style=\"stroke:#000000;stroke-width:0.8;\" x=\"48.505682\" xlink:href=\"#m1cbb29f1e2\" y=\"185.398125\"/>\n      </g>\n     </g>\n     <g id=\"text_1\">\n      <!-- 0 -->\n      <g transform=\"translate(45.324432 199.996563)scale(0.1 -0.1)\">\n       <defs>\n        <path d=\"M 31.78125 66.40625 \nQ 24.171875 66.40625 20.328125 58.90625 \nQ 16.5 51.421875 16.5 36.375 \nQ 16.5 21.390625 20.328125 13.890625 \nQ 24.171875 6.390625 31.78125 6.390625 \nQ 39.453125 6.390625 43.28125 13.890625 \nQ 47.125 21.390625 47.125 36.375 \nQ 47.125 51.421875 43.28125 58.90625 \nQ 39.453125 66.40625 31.78125 66.40625 \nz\nM 31.78125 74.21875 \nQ 44.046875 74.21875 50.515625 64.515625 \nQ 56.984375 54.828125 56.984375 36.375 \nQ 56.984375 17.96875 50.515625 8.265625 \nQ 44.046875 -1.421875 31.78125 -1.421875 \nQ 19.53125 -1.421875 13.0625 8.265625 \nQ 6.59375 17.96875 6.59375 36.375 \nQ 6.59375 54.828125 13.0625 64.515625 \nQ 19.53125 74.21875 31.78125 74.21875 \nz\n\" id=\"DejaVuSans-48\"/>\n       </defs>\n       <use xlink:href=\"#DejaVuSans-48\"/>\n      </g>\n     </g>\n    </g>\n    <g id=\"xtick_2\">\n     <g id=\"line2d_2\">\n      <g>\n       <use style=\"stroke:#000000;stroke-width:0.8;\" x=\"109.500399\" xlink:href=\"#m1cbb29f1e2\" y=\"185.398125\"/>\n      </g>\n     </g>\n     <g id=\"text_2\">\n      <!-- 20 -->\n      <g transform=\"translate(103.137899 199.996563)scale(0.1 -0.1)\">\n       <defs>\n        <path d=\"M 19.1875 8.296875 \nL 53.609375 8.296875 \nL 53.609375 0 \nL 7.328125 0 \nL 7.328125 8.296875 \nQ 12.9375 14.109375 22.625 23.890625 \nQ 32.328125 33.6875 34.8125 36.53125 \nQ 39.546875 41.84375 41.421875 45.53125 \nQ 43.3125 49.21875 43.3125 52.78125 \nQ 43.3125 58.59375 39.234375 62.25 \nQ 35.15625 65.921875 28.609375 65.921875 \nQ 23.96875 65.921875 18.8125 64.3125 \nQ 13.671875 62.703125 7.8125 59.421875 \nL 7.8125 69.390625 \nQ 13.765625 71.78125 18.9375 73 \nQ 24.125 74.21875 28.421875 74.21875 \nQ 39.75 74.21875 46.484375 68.546875 \nQ 53.21875 62.890625 53.21875 53.421875 \nQ 53.21875 48.921875 51.53125 44.890625 \nQ 49.859375 40.875 45.40625 35.40625 \nQ 44.1875 33.984375 37.640625 27.21875 \nQ 31.109375 20.453125 19.1875 8.296875 \nz\n\" id=\"DejaVuSans-50\"/>\n       </defs>\n       <use xlink:href=\"#DejaVuSans-50\"/>\n       <use x=\"63.623047\" xlink:href=\"#DejaVuSans-48\"/>\n      </g>\n     </g>\n    </g>\n    <g id=\"xtick_3\">\n     <g id=\"line2d_3\">\n      <g>\n       <use style=\"stroke:#000000;stroke-width:0.8;\" x=\"170.495115\" xlink:href=\"#m1cbb29f1e2\" y=\"185.398125\"/>\n      </g>\n     </g>\n     <g id=\"text_3\">\n      <!-- 40 -->\n      <g transform=\"translate(164.132615 199.996563)scale(0.1 -0.1)\">\n       <defs>\n        <path d=\"M 37.796875 64.3125 \nL 12.890625 25.390625 \nL 37.796875 25.390625 \nz\nM 35.203125 72.90625 \nL 47.609375 72.90625 \nL 47.609375 25.390625 \nL 58.015625 25.390625 \nL 58.015625 17.1875 \nL 47.609375 17.1875 \nL 47.609375 0 \nL 37.796875 0 \nL 37.796875 17.1875 \nL 4.890625 17.1875 \nL 4.890625 26.703125 \nz\n\" id=\"DejaVuSans-52\"/>\n       </defs>\n       <use xlink:href=\"#DejaVuSans-52\"/>\n       <use x=\"63.623047\" xlink:href=\"#DejaVuSans-48\"/>\n      </g>\n     </g>\n    </g>\n    <g id=\"xtick_4\">\n     <g id=\"line2d_4\">\n      <g>\n       <use style=\"stroke:#000000;stroke-width:0.8;\" x=\"231.489832\" xlink:href=\"#m1cbb29f1e2\" y=\"185.398125\"/>\n      </g>\n     </g>\n     <g id=\"text_4\">\n      <!-- 60 -->\n      <g transform=\"translate(225.127332 199.996563)scale(0.1 -0.1)\">\n       <defs>\n        <path d=\"M 33.015625 40.375 \nQ 26.375 40.375 22.484375 35.828125 \nQ 18.609375 31.296875 18.609375 23.390625 \nQ 18.609375 15.53125 22.484375 10.953125 \nQ 26.375 6.390625 33.015625 6.390625 \nQ 39.65625 6.390625 43.53125 10.953125 \nQ 47.40625 15.53125 47.40625 23.390625 \nQ 47.40625 31.296875 43.53125 35.828125 \nQ 39.65625 40.375 33.015625 40.375 \nz\nM 52.59375 71.296875 \nL 52.59375 62.3125 \nQ 48.875 64.0625 45.09375 64.984375 \nQ 41.3125 65.921875 37.59375 65.921875 \nQ 27.828125 65.921875 22.671875 59.328125 \nQ 17.53125 52.734375 16.796875 39.40625 \nQ 19.671875 43.65625 24.015625 45.921875 \nQ 28.375 48.1875 33.59375 48.1875 \nQ 44.578125 48.1875 50.953125 41.515625 \nQ 57.328125 34.859375 57.328125 23.390625 \nQ 57.328125 12.15625 50.6875 5.359375 \nQ 44.046875 -1.421875 33.015625 -1.421875 \nQ 20.359375 -1.421875 13.671875 8.265625 \nQ 6.984375 17.96875 6.984375 36.375 \nQ 6.984375 53.65625 15.1875 63.9375 \nQ 23.390625 74.21875 37.203125 74.21875 \nQ 40.921875 74.21875 44.703125 73.484375 \nQ 48.484375 72.75 52.59375 71.296875 \nz\n\" id=\"DejaVuSans-54\"/>\n       </defs>\n       <use xlink:href=\"#DejaVuSans-54\"/>\n       <use x=\"63.623047\" xlink:href=\"#DejaVuSans-48\"/>\n      </g>\n     </g>\n    </g>\n    <g id=\"xtick_5\">\n     <g id=\"line2d_5\">\n      <g>\n       <use style=\"stroke:#000000;stroke-width:0.8;\" x=\"292.484549\" xlink:href=\"#m1cbb29f1e2\" y=\"185.398125\"/>\n      </g>\n     </g>\n     <g id=\"text_5\">\n      <!-- 80 -->\n      <g transform=\"translate(286.122049 199.996563)scale(0.1 -0.1)\">\n       <defs>\n        <path d=\"M 31.78125 34.625 \nQ 24.75 34.625 20.71875 30.859375 \nQ 16.703125 27.09375 16.703125 20.515625 \nQ 16.703125 13.921875 20.71875 10.15625 \nQ 24.75 6.390625 31.78125 6.390625 \nQ 38.8125 6.390625 42.859375 10.171875 \nQ 46.921875 13.96875 46.921875 20.515625 \nQ 46.921875 27.09375 42.890625 30.859375 \nQ 38.875 34.625 31.78125 34.625 \nz\nM 21.921875 38.8125 \nQ 15.578125 40.375 12.03125 44.71875 \nQ 8.5 49.078125 8.5 55.328125 \nQ 8.5 64.0625 14.71875 69.140625 \nQ 20.953125 74.21875 31.78125 74.21875 \nQ 42.671875 74.21875 48.875 69.140625 \nQ 55.078125 64.0625 55.078125 55.328125 \nQ 55.078125 49.078125 51.53125 44.71875 \nQ 48 40.375 41.703125 38.8125 \nQ 48.828125 37.15625 52.796875 32.3125 \nQ 56.78125 27.484375 56.78125 20.515625 \nQ 56.78125 9.90625 50.3125 4.234375 \nQ 43.84375 -1.421875 31.78125 -1.421875 \nQ 19.734375 -1.421875 13.25 4.234375 \nQ 6.78125 9.90625 6.78125 20.515625 \nQ 6.78125 27.484375 10.78125 32.3125 \nQ 14.796875 37.15625 21.921875 38.8125 \nz\nM 18.3125 54.390625 \nQ 18.3125 48.734375 21.84375 45.5625 \nQ 25.390625 42.390625 31.78125 42.390625 \nQ 38.140625 42.390625 41.71875 45.5625 \nQ 45.3125 48.734375 45.3125 54.390625 \nQ 45.3125 60.0625 41.71875 63.234375 \nQ 38.140625 66.40625 31.78125 66.40625 \nQ 25.390625 66.40625 21.84375 63.234375 \nQ 18.3125 60.0625 18.3125 54.390625 \nz\n\" id=\"DejaVuSans-56\"/>\n       </defs>\n       <use xlink:href=\"#DejaVuSans-56\"/>\n       <use x=\"63.623047\" xlink:href=\"#DejaVuSans-48\"/>\n      </g>\n     </g>\n    </g>\n    <g id=\"xtick_6\">\n     <g id=\"line2d_6\">\n      <g>\n       <use style=\"stroke:#000000;stroke-width:0.8;\" x=\"353.479265\" xlink:href=\"#m1cbb29f1e2\" y=\"185.398125\"/>\n      </g>\n     </g>\n     <g id=\"text_6\">\n      <!-- 100 -->\n      <g transform=\"translate(343.935515 199.996563)scale(0.1 -0.1)\">\n       <defs>\n        <path d=\"M 12.40625 8.296875 \nL 28.515625 8.296875 \nL 28.515625 63.921875 \nL 10.984375 60.40625 \nL 10.984375 69.390625 \nL 28.421875 72.90625 \nL 38.28125 72.90625 \nL 38.28125 8.296875 \nL 54.390625 8.296875 \nL 54.390625 0 \nL 12.40625 0 \nz\n\" id=\"DejaVuSans-49\"/>\n       </defs>\n       <use xlink:href=\"#DejaVuSans-49\"/>\n       <use x=\"63.623047\" xlink:href=\"#DejaVuSans-48\"/>\n       <use x=\"127.246094\" xlink:href=\"#DejaVuSans-48\"/>\n      </g>\n     </g>\n    </g>\n   </g>\n   <g id=\"matplotlib.axis_2\">\n    <g id=\"ytick_1\">\n     <g id=\"line2d_7\">\n      <defs>\n       <path d=\"M 0 0 \nL -3.5 0 \n\" id=\"md4242af23b\" style=\"stroke:#000000;stroke-width:0.8;\"/>\n      </defs>\n      <g>\n       <use style=\"stroke:#000000;stroke-width:0.8;\" x=\"33.2875\" xlink:href=\"#md4242af23b\" y=\"185.398125\"/>\n      </g>\n     </g>\n     <g id=\"text_7\">\n      <!-- 0 -->\n      <g transform=\"translate(19.925 189.197344)scale(0.1 -0.1)\">\n       <use xlink:href=\"#DejaVuSans-48\"/>\n      </g>\n     </g>\n    </g>\n    <g id=\"ytick_2\">\n     <g id=\"line2d_8\">\n      <g>\n       <use style=\"stroke:#000000;stroke-width:0.8;\" x=\"33.2875\" xlink:href=\"#md4242af23b\" y=\"159.555482\"/>\n      </g>\n     </g>\n     <g id=\"text_8\">\n      <!-- 100 -->\n      <g transform=\"translate(7.2 163.354701)scale(0.1 -0.1)\">\n       <use xlink:href=\"#DejaVuSans-49\"/>\n       <use x=\"63.623047\" xlink:href=\"#DejaVuSans-48\"/>\n       <use x=\"127.246094\" xlink:href=\"#DejaVuSans-48\"/>\n      </g>\n     </g>\n    </g>\n    <g id=\"ytick_3\">\n     <g id=\"line2d_9\">\n      <g>\n       <use style=\"stroke:#000000;stroke-width:0.8;\" x=\"33.2875\" xlink:href=\"#md4242af23b\" y=\"133.712839\"/>\n      </g>\n     </g>\n     <g id=\"text_9\">\n      <!-- 200 -->\n      <g transform=\"translate(7.2 137.512057)scale(0.1 -0.1)\">\n       <use xlink:href=\"#DejaVuSans-50\"/>\n       <use x=\"63.623047\" xlink:href=\"#DejaVuSans-48\"/>\n       <use x=\"127.246094\" xlink:href=\"#DejaVuSans-48\"/>\n      </g>\n     </g>\n    </g>\n    <g id=\"ytick_4\">\n     <g id=\"line2d_10\">\n      <g>\n       <use style=\"stroke:#000000;stroke-width:0.8;\" x=\"33.2875\" xlink:href=\"#md4242af23b\" y=\"107.870195\"/>\n      </g>\n     </g>\n     <g id=\"text_10\">\n      <!-- 300 -->\n      <g transform=\"translate(7.2 111.669414)scale(0.1 -0.1)\">\n       <defs>\n        <path d=\"M 40.578125 39.3125 \nQ 47.65625 37.796875 51.625 33 \nQ 55.609375 28.21875 55.609375 21.1875 \nQ 55.609375 10.40625 48.1875 4.484375 \nQ 40.765625 -1.421875 27.09375 -1.421875 \nQ 22.515625 -1.421875 17.65625 -0.515625 \nQ 12.796875 0.390625 7.625 2.203125 \nL 7.625 11.71875 \nQ 11.71875 9.328125 16.59375 8.109375 \nQ 21.484375 6.890625 26.8125 6.890625 \nQ 36.078125 6.890625 40.9375 10.546875 \nQ 45.796875 14.203125 45.796875 21.1875 \nQ 45.796875 27.640625 41.28125 31.265625 \nQ 36.765625 34.90625 28.71875 34.90625 \nL 20.21875 34.90625 \nL 20.21875 43.015625 \nL 29.109375 43.015625 \nQ 36.375 43.015625 40.234375 45.921875 \nQ 44.09375 48.828125 44.09375 54.296875 \nQ 44.09375 59.90625 40.109375 62.90625 \nQ 36.140625 65.921875 28.71875 65.921875 \nQ 24.65625 65.921875 20.015625 65.03125 \nQ 15.375 64.15625 9.8125 62.3125 \nL 9.8125 71.09375 \nQ 15.4375 72.65625 20.34375 73.4375 \nQ 25.25 74.21875 29.59375 74.21875 \nQ 40.828125 74.21875 47.359375 69.109375 \nQ 53.90625 64.015625 53.90625 55.328125 \nQ 53.90625 49.265625 50.4375 45.09375 \nQ 46.96875 40.921875 40.578125 39.3125 \nz\n\" id=\"DejaVuSans-51\"/>\n       </defs>\n       <use xlink:href=\"#DejaVuSans-51\"/>\n       <use x=\"63.623047\" xlink:href=\"#DejaVuSans-48\"/>\n       <use x=\"127.246094\" xlink:href=\"#DejaVuSans-48\"/>\n      </g>\n     </g>\n    </g>\n    <g id=\"ytick_5\">\n     <g id=\"line2d_11\">\n      <g>\n       <use style=\"stroke:#000000;stroke-width:0.8;\" x=\"33.2875\" xlink:href=\"#md4242af23b\" y=\"82.027552\"/>\n      </g>\n     </g>\n     <g id=\"text_11\">\n      <!-- 400 -->\n      <g transform=\"translate(7.2 85.826771)scale(0.1 -0.1)\">\n       <use xlink:href=\"#DejaVuSans-52\"/>\n       <use x=\"63.623047\" xlink:href=\"#DejaVuSans-48\"/>\n       <use x=\"127.246094\" xlink:href=\"#DejaVuSans-48\"/>\n      </g>\n     </g>\n    </g>\n    <g id=\"ytick_6\">\n     <g id=\"line2d_12\">\n      <g>\n       <use style=\"stroke:#000000;stroke-width:0.8;\" x=\"33.2875\" xlink:href=\"#md4242af23b\" y=\"56.184909\"/>\n      </g>\n     </g>\n     <g id=\"text_12\">\n      <!-- 500 -->\n      <g transform=\"translate(7.2 59.984128)scale(0.1 -0.1)\">\n       <defs>\n        <path d=\"M 10.796875 72.90625 \nL 49.515625 72.90625 \nL 49.515625 64.59375 \nL 19.828125 64.59375 \nL 19.828125 46.734375 \nQ 21.96875 47.46875 24.109375 47.828125 \nQ 26.265625 48.1875 28.421875 48.1875 \nQ 40.625 48.1875 47.75 41.5 \nQ 54.890625 34.8125 54.890625 23.390625 \nQ 54.890625 11.625 47.5625 5.09375 \nQ 40.234375 -1.421875 26.90625 -1.421875 \nQ 22.3125 -1.421875 17.546875 -0.640625 \nQ 12.796875 0.140625 7.71875 1.703125 \nL 7.71875 11.625 \nQ 12.109375 9.234375 16.796875 8.0625 \nQ 21.484375 6.890625 26.703125 6.890625 \nQ 35.15625 6.890625 40.078125 11.328125 \nQ 45.015625 15.765625 45.015625 23.390625 \nQ 45.015625 31 40.078125 35.4375 \nQ 35.15625 39.890625 26.703125 39.890625 \nQ 22.75 39.890625 18.8125 39.015625 \nQ 14.890625 38.140625 10.796875 36.28125 \nz\n\" id=\"DejaVuSans-53\"/>\n       </defs>\n       <use xlink:href=\"#DejaVuSans-53\"/>\n       <use x=\"63.623047\" xlink:href=\"#DejaVuSans-48\"/>\n       <use x=\"127.246094\" xlink:href=\"#DejaVuSans-48\"/>\n      </g>\n     </g>\n    </g>\n    <g id=\"ytick_7\">\n     <g id=\"line2d_13\">\n      <g>\n       <use style=\"stroke:#000000;stroke-width:0.8;\" x=\"33.2875\" xlink:href=\"#md4242af23b\" y=\"30.342266\"/>\n      </g>\n     </g>\n     <g id=\"text_13\">\n      <!-- 600 -->\n      <g transform=\"translate(7.2 34.141484)scale(0.1 -0.1)\">\n       <use xlink:href=\"#DejaVuSans-54\"/>\n       <use x=\"63.623047\" xlink:href=\"#DejaVuSans-48\"/>\n       <use x=\"127.246094\" xlink:href=\"#DejaVuSans-48\"/>\n      </g>\n     </g>\n    </g>\n   </g>\n   <g id=\"patch_33\">\n    <path d=\"M 33.2875 185.398125 \nL 33.2875 22.318125 \n\" style=\"fill:none;stroke:#000000;stroke-linecap:square;stroke-linejoin:miter;stroke-width:0.8;\"/>\n   </g>\n   <g id=\"patch_34\">\n    <path d=\"M 368.0875 185.398125 \nL 368.0875 22.318125 \n\" style=\"fill:none;stroke:#000000;stroke-linecap:square;stroke-linejoin:miter;stroke-width:0.8;\"/>\n   </g>\n   <g id=\"patch_35\">\n    <path d=\"M 33.2875 185.398125 \nL 368.0875 185.398125 \n\" style=\"fill:none;stroke:#000000;stroke-linecap:square;stroke-linejoin:miter;stroke-width:0.8;\"/>\n   </g>\n   <g id=\"patch_36\">\n    <path d=\"M 33.2875 22.318125 \nL 368.0875 22.318125 \n\" style=\"fill:none;stroke:#000000;stroke-linecap:square;stroke-linejoin:miter;stroke-width:0.8;\"/>\n   </g>\n   <g id=\"text_14\">\n    <!-- Histogram of White -->\n    <g transform=\"translate(142.519375 16.318125)scale(0.12 -0.12)\">\n     <defs>\n      <path d=\"M 9.8125 72.90625 \nL 19.671875 72.90625 \nL 19.671875 43.015625 \nL 55.515625 43.015625 \nL 55.515625 72.90625 \nL 65.375 72.90625 \nL 65.375 0 \nL 55.515625 0 \nL 55.515625 34.71875 \nL 19.671875 34.71875 \nL 19.671875 0 \nL 9.8125 0 \nz\n\" id=\"DejaVuSans-72\"/>\n      <path d=\"M 9.421875 54.6875 \nL 18.40625 54.6875 \nL 18.40625 0 \nL 9.421875 0 \nz\nM 9.421875 75.984375 \nL 18.40625 75.984375 \nL 18.40625 64.59375 \nL 9.421875 64.59375 \nz\n\" id=\"DejaVuSans-105\"/>\n      <path d=\"M 44.28125 53.078125 \nL 44.28125 44.578125 \nQ 40.484375 46.53125 36.375 47.5 \nQ 32.28125 48.484375 27.875 48.484375 \nQ 21.1875 48.484375 17.84375 46.4375 \nQ 14.5 44.390625 14.5 40.28125 \nQ 14.5 37.15625 16.890625 35.375 \nQ 19.28125 33.59375 26.515625 31.984375 \nL 29.59375 31.296875 \nQ 39.15625 29.25 43.1875 25.515625 \nQ 47.21875 21.78125 47.21875 15.09375 \nQ 47.21875 7.46875 41.1875 3.015625 \nQ 35.15625 -1.421875 24.609375 -1.421875 \nQ 20.21875 -1.421875 15.453125 -0.5625 \nQ 10.6875 0.296875 5.421875 2 \nL 5.421875 11.28125 \nQ 10.40625 8.6875 15.234375 7.390625 \nQ 20.0625 6.109375 24.8125 6.109375 \nQ 31.15625 6.109375 34.5625 8.28125 \nQ 37.984375 10.453125 37.984375 14.40625 \nQ 37.984375 18.0625 35.515625 20.015625 \nQ 33.0625 21.96875 24.703125 23.78125 \nL 21.578125 24.515625 \nQ 13.234375 26.265625 9.515625 29.90625 \nQ 5.8125 33.546875 5.8125 39.890625 \nQ 5.8125 47.609375 11.28125 51.796875 \nQ 16.75 56 26.8125 56 \nQ 31.78125 56 36.171875 55.265625 \nQ 40.578125 54.546875 44.28125 53.078125 \nz\n\" id=\"DejaVuSans-115\"/>\n      <path d=\"M 18.3125 70.21875 \nL 18.3125 54.6875 \nL 36.8125 54.6875 \nL 36.8125 47.703125 \nL 18.3125 47.703125 \nL 18.3125 18.015625 \nQ 18.3125 11.328125 20.140625 9.421875 \nQ 21.96875 7.515625 27.59375 7.515625 \nL 36.8125 7.515625 \nL 36.8125 0 \nL 27.59375 0 \nQ 17.1875 0 13.234375 3.875 \nQ 9.28125 7.765625 9.28125 18.015625 \nL 9.28125 47.703125 \nL 2.6875 47.703125 \nL 2.6875 54.6875 \nL 9.28125 54.6875 \nL 9.28125 70.21875 \nz\n\" id=\"DejaVuSans-116\"/>\n      <path d=\"M 30.609375 48.390625 \nQ 23.390625 48.390625 19.1875 42.75 \nQ 14.984375 37.109375 14.984375 27.296875 \nQ 14.984375 17.484375 19.15625 11.84375 \nQ 23.34375 6.203125 30.609375 6.203125 \nQ 37.796875 6.203125 41.984375 11.859375 \nQ 46.1875 17.53125 46.1875 27.296875 \nQ 46.1875 37.015625 41.984375 42.703125 \nQ 37.796875 48.390625 30.609375 48.390625 \nz\nM 30.609375 56 \nQ 42.328125 56 49.015625 48.375 \nQ 55.71875 40.765625 55.71875 27.296875 \nQ 55.71875 13.875 49.015625 6.21875 \nQ 42.328125 -1.421875 30.609375 -1.421875 \nQ 18.84375 -1.421875 12.171875 6.21875 \nQ 5.515625 13.875 5.515625 27.296875 \nQ 5.515625 40.765625 12.171875 48.375 \nQ 18.84375 56 30.609375 56 \nz\n\" id=\"DejaVuSans-111\"/>\n      <path d=\"M 45.40625 27.984375 \nQ 45.40625 37.75 41.375 43.109375 \nQ 37.359375 48.484375 30.078125 48.484375 \nQ 22.859375 48.484375 18.828125 43.109375 \nQ 14.796875 37.75 14.796875 27.984375 \nQ 14.796875 18.265625 18.828125 12.890625 \nQ 22.859375 7.515625 30.078125 7.515625 \nQ 37.359375 7.515625 41.375 12.890625 \nQ 45.40625 18.265625 45.40625 27.984375 \nz\nM 54.390625 6.78125 \nQ 54.390625 -7.171875 48.1875 -13.984375 \nQ 42 -20.796875 29.203125 -20.796875 \nQ 24.46875 -20.796875 20.265625 -20.09375 \nQ 16.0625 -19.390625 12.109375 -17.921875 \nL 12.109375 -9.1875 \nQ 16.0625 -11.328125 19.921875 -12.34375 \nQ 23.78125 -13.375 27.78125 -13.375 \nQ 36.625 -13.375 41.015625 -8.765625 \nQ 45.40625 -4.15625 45.40625 5.171875 \nL 45.40625 9.625 \nQ 42.625 4.78125 38.28125 2.390625 \nQ 33.9375 0 27.875 0 \nQ 17.828125 0 11.671875 7.65625 \nQ 5.515625 15.328125 5.515625 27.984375 \nQ 5.515625 40.671875 11.671875 48.328125 \nQ 17.828125 56 27.875 56 \nQ 33.9375 56 38.28125 53.609375 \nQ 42.625 51.21875 45.40625 46.390625 \nL 45.40625 54.6875 \nL 54.390625 54.6875 \nz\n\" id=\"DejaVuSans-103\"/>\n      <path d=\"M 41.109375 46.296875 \nQ 39.59375 47.171875 37.8125 47.578125 \nQ 36.03125 48 33.890625 48 \nQ 26.265625 48 22.1875 43.046875 \nQ 18.109375 38.09375 18.109375 28.8125 \nL 18.109375 0 \nL 9.078125 0 \nL 9.078125 54.6875 \nL 18.109375 54.6875 \nL 18.109375 46.1875 \nQ 20.953125 51.171875 25.484375 53.578125 \nQ 30.03125 56 36.53125 56 \nQ 37.453125 56 38.578125 55.875 \nQ 39.703125 55.765625 41.0625 55.515625 \nz\n\" id=\"DejaVuSans-114\"/>\n      <path d=\"M 34.28125 27.484375 \nQ 23.390625 27.484375 19.1875 25 \nQ 14.984375 22.515625 14.984375 16.5 \nQ 14.984375 11.71875 18.140625 8.90625 \nQ 21.296875 6.109375 26.703125 6.109375 \nQ 34.1875 6.109375 38.703125 11.40625 \nQ 43.21875 16.703125 43.21875 25.484375 \nL 43.21875 27.484375 \nz\nM 52.203125 31.203125 \nL 52.203125 0 \nL 43.21875 0 \nL 43.21875 8.296875 \nQ 40.140625 3.328125 35.546875 0.953125 \nQ 30.953125 -1.421875 24.3125 -1.421875 \nQ 15.921875 -1.421875 10.953125 3.296875 \nQ 6 8.015625 6 15.921875 \nQ 6 25.140625 12.171875 29.828125 \nQ 18.359375 34.515625 30.609375 34.515625 \nL 43.21875 34.515625 \nL 43.21875 35.40625 \nQ 43.21875 41.609375 39.140625 45 \nQ 35.0625 48.390625 27.6875 48.390625 \nQ 23 48.390625 18.546875 47.265625 \nQ 14.109375 46.140625 10.015625 43.890625 \nL 10.015625 52.203125 \nQ 14.9375 54.109375 19.578125 55.046875 \nQ 24.21875 56 28.609375 56 \nQ 40.484375 56 46.34375 49.84375 \nQ 52.203125 43.703125 52.203125 31.203125 \nz\n\" id=\"DejaVuSans-97\"/>\n      <path d=\"M 52 44.1875 \nQ 55.375 50.25 60.0625 53.125 \nQ 64.75 56 71.09375 56 \nQ 79.640625 56 84.28125 50.015625 \nQ 88.921875 44.046875 88.921875 33.015625 \nL 88.921875 0 \nL 79.890625 0 \nL 79.890625 32.71875 \nQ 79.890625 40.578125 77.09375 44.375 \nQ 74.3125 48.1875 68.609375 48.1875 \nQ 61.625 48.1875 57.5625 43.546875 \nQ 53.515625 38.921875 53.515625 30.90625 \nL 53.515625 0 \nL 44.484375 0 \nL 44.484375 32.71875 \nQ 44.484375 40.625 41.703125 44.40625 \nQ 38.921875 48.1875 33.109375 48.1875 \nQ 26.21875 48.1875 22.15625 43.53125 \nQ 18.109375 38.875 18.109375 30.90625 \nL 18.109375 0 \nL 9.078125 0 \nL 9.078125 54.6875 \nL 18.109375 54.6875 \nL 18.109375 46.1875 \nQ 21.1875 51.21875 25.484375 53.609375 \nQ 29.78125 56 35.6875 56 \nQ 41.65625 56 45.828125 52.96875 \nQ 50 49.953125 52 44.1875 \nz\n\" id=\"DejaVuSans-109\"/>\n      <path id=\"DejaVuSans-32\"/>\n      <path d=\"M 37.109375 75.984375 \nL 37.109375 68.5 \nL 28.515625 68.5 \nQ 23.6875 68.5 21.796875 66.546875 \nQ 19.921875 64.59375 19.921875 59.515625 \nL 19.921875 54.6875 \nL 34.71875 54.6875 \nL 34.71875 47.703125 \nL 19.921875 47.703125 \nL 19.921875 0 \nL 10.890625 0 \nL 10.890625 47.703125 \nL 2.296875 47.703125 \nL 2.296875 54.6875 \nL 10.890625 54.6875 \nL 10.890625 58.5 \nQ 10.890625 67.625 15.140625 71.796875 \nQ 19.390625 75.984375 28.609375 75.984375 \nz\n\" id=\"DejaVuSans-102\"/>\n      <path d=\"M 3.328125 72.90625 \nL 13.28125 72.90625 \nL 28.609375 11.28125 \nL 43.890625 72.90625 \nL 54.984375 72.90625 \nL 70.3125 11.28125 \nL 85.59375 72.90625 \nL 95.609375 72.90625 \nL 77.296875 0 \nL 64.890625 0 \nL 49.515625 63.28125 \nL 33.984375 0 \nL 21.578125 0 \nz\n\" id=\"DejaVuSans-87\"/>\n      <path d=\"M 54.890625 33.015625 \nL 54.890625 0 \nL 45.90625 0 \nL 45.90625 32.71875 \nQ 45.90625 40.484375 42.875 44.328125 \nQ 39.84375 48.1875 33.796875 48.1875 \nQ 26.515625 48.1875 22.3125 43.546875 \nQ 18.109375 38.921875 18.109375 30.90625 \nL 18.109375 0 \nL 9.078125 0 \nL 9.078125 75.984375 \nL 18.109375 75.984375 \nL 18.109375 46.1875 \nQ 21.34375 51.125 25.703125 53.5625 \nQ 30.078125 56 35.796875 56 \nQ 45.21875 56 50.046875 50.171875 \nQ 54.890625 44.34375 54.890625 33.015625 \nz\n\" id=\"DejaVuSans-104\"/>\n      <path d=\"M 56.203125 29.59375 \nL 56.203125 25.203125 \nL 14.890625 25.203125 \nQ 15.484375 15.921875 20.484375 11.0625 \nQ 25.484375 6.203125 34.421875 6.203125 \nQ 39.59375 6.203125 44.453125 7.46875 \nQ 49.3125 8.734375 54.109375 11.28125 \nL 54.109375 2.78125 \nQ 49.265625 0.734375 44.1875 -0.34375 \nQ 39.109375 -1.421875 33.890625 -1.421875 \nQ 20.796875 -1.421875 13.15625 6.1875 \nQ 5.515625 13.8125 5.515625 26.8125 \nQ 5.515625 40.234375 12.765625 48.109375 \nQ 20.015625 56 32.328125 56 \nQ 43.359375 56 49.78125 48.890625 \nQ 56.203125 41.796875 56.203125 29.59375 \nz\nM 47.21875 32.234375 \nQ 47.125 39.59375 43.09375 43.984375 \nQ 39.0625 48.390625 32.421875 48.390625 \nQ 24.90625 48.390625 20.390625 44.140625 \nQ 15.875 39.890625 15.1875 32.171875 \nz\n\" id=\"DejaVuSans-101\"/>\n     </defs>\n     <use xlink:href=\"#DejaVuSans-72\"/>\n     <use x=\"75.195312\" xlink:href=\"#DejaVuSans-105\"/>\n     <use x=\"102.978516\" xlink:href=\"#DejaVuSans-115\"/>\n     <use x=\"155.078125\" xlink:href=\"#DejaVuSans-116\"/>\n     <use x=\"194.287109\" xlink:href=\"#DejaVuSans-111\"/>\n     <use x=\"255.46875\" xlink:href=\"#DejaVuSans-103\"/>\n     <use x=\"318.945312\" xlink:href=\"#DejaVuSans-114\"/>\n     <use x=\"360.058594\" xlink:href=\"#DejaVuSans-97\"/>\n     <use x=\"421.337891\" xlink:href=\"#DejaVuSans-109\"/>\n     <use x=\"518.75\" xlink:href=\"#DejaVuSans-32\"/>\n     <use x=\"550.537109\" xlink:href=\"#DejaVuSans-111\"/>\n     <use x=\"611.71875\" xlink:href=\"#DejaVuSans-102\"/>\n     <use x=\"646.923828\" xlink:href=\"#DejaVuSans-32\"/>\n     <use x=\"678.710938\" xlink:href=\"#DejaVuSans-87\"/>\n     <use x=\"777.587891\" xlink:href=\"#DejaVuSans-104\"/>\n     <use x=\"840.966797\" xlink:href=\"#DejaVuSans-105\"/>\n     <use x=\"868.75\" xlink:href=\"#DejaVuSans-116\"/>\n     <use x=\"907.958984\" xlink:href=\"#DejaVuSans-101\"/>\n    </g>\n   </g>\n  </g>\n </g>\n <defs>\n  <clipPath id=\"p556425caf8\">\n   <rect height=\"163.08\" width=\"334.8\" x=\"33.2875\" y=\"22.318125\"/>\n  </clipPath>\n </defs>\n</svg>\n",
      "image/png": "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\n"
     },
     "metadata": {
      "needs_background": "light"
     }
    },
    {
     "output_type": "display_data",
     "data": {
      "text/plain": "<Figure size 432x216 with 1 Axes>",
      "image/svg+xml": "<?xml version=\"1.0\" encoding=\"utf-8\" standalone=\"no\"?>\n<!DOCTYPE svg PUBLIC \"-//W3C//DTD SVG 1.1//EN\"\n  \"http://www.w3.org/Graphics/SVG/1.1/DTD/svg11.dtd\">\n<!-- Created with matplotlib (https://matplotlib.org/) -->\n<svg height=\"209.27625pt\" version=\"1.1\" viewBox=\"0 0 381.65 209.27625\" width=\"381.65pt\" xmlns=\"http://www.w3.org/2000/svg\" xmlns:xlink=\"http://www.w3.org/1999/xlink\">\n <metadata>\n  <rdf:RDF xmlns:cc=\"http://creativecommons.org/ns#\" xmlns:dc=\"http://purl.org/dc/elements/1.1/\" xmlns:rdf=\"http://www.w3.org/1999/02/22-rdf-syntax-ns#\">\n   <cc:Work>\n    <dc:type rdf:resource=\"http://purl.org/dc/dcmitype/StillImage\"/>\n    <dc:date>2021-03-20T03:25:27.596599</dc:date>\n    <dc:format>image/svg+xml</dc:format>\n    <dc:creator>\n     <cc:Agent>\n      <dc:title>Matplotlib v3.3.4, https://matplotlib.org/</dc:title>\n     </cc:Agent>\n    </dc:creator>\n   </cc:Work>\n  </rdf:RDF>\n </metadata>\n <defs>\n  <style type=\"text/css\">*{stroke-linecap:butt;stroke-linejoin:round;}</style>\n </defs>\n <g id=\"figure_1\">\n  <g id=\"patch_1\">\n   <path d=\"M -0 209.27625 \nL 381.65 209.27625 \nL 381.65 0 \nL -0 0 \nz\n\" style=\"fill:none;\"/>\n  </g>\n  <g id=\"axes_1\">\n   <g id=\"patch_2\">\n    <path d=\"M 39.65 185.398125 \nL 374.45 185.398125 \nL 374.45 22.318125 \nL 39.65 22.318125 \nz\n\" style=\"fill:#ffffff;\"/>\n   </g>\n   <g id=\"patch_3\">\n    <path clip-path=\"url(#p604c3f4156)\" d=\"M 54.868182 185.398125 \nL 65.013636 185.398125 \nL 65.013636 30.083839 \nL 54.868182 30.083839 \nz\n\" style=\"fill:#1f77b4;\"/>\n   </g>\n   <g id=\"patch_4\">\n    <path clip-path=\"url(#p604c3f4156)\" d=\"M 65.013636 185.398125 \nL 75.159091 185.398125 \nL 75.159091 154.813684 \nL 65.013636 154.813684 \nz\n\" style=\"fill:#1f77b4;\"/>\n   </g>\n   <g id=\"patch_5\">\n    <path clip-path=\"url(#p604c3f4156)\" d=\"M 75.159091 185.398125 \nL 85.304545 185.398125 \nL 85.304545 170.533061 \nL 75.159091 170.533061 \nz\n\" style=\"fill:#1f77b4;\"/>\n   </g>\n   <g id=\"patch_6\">\n    <path clip-path=\"url(#p604c3f4156)\" d=\"M 85.304545 185.398125 \nL 95.45 185.398125 \nL 95.45 173.181435 \nL 85.304545 173.181435 \nz\n\" style=\"fill:#1f77b4;\"/>\n   </g>\n   <g id=\"patch_7\">\n    <path clip-path=\"url(#p604c3f4156)\" d=\"M 95.45 185.398125 \nL 105.595455 185.398125 \nL 105.595455 176.854985 \nL 95.45 176.854985 \nz\n\" style=\"fill:#1f77b4;\"/>\n   </g>\n   <g id=\"patch_8\">\n    <path clip-path=\"url(#p604c3f4156)\" d=\"M 105.595455 185.398125 \nL 115.740909 185.398125 \nL 115.740909 180.101378 \nL 105.595455 180.101378 \nz\n\" style=\"fill:#1f77b4;\"/>\n   </g>\n   <g id=\"patch_9\">\n    <path clip-path=\"url(#p604c3f4156)\" d=\"M 115.740909 185.398125 \nL 125.886364 185.398125 \nL 125.886364 179.417927 \nL 115.740909 179.417927 \nz\n\" style=\"fill:#1f77b4;\"/>\n   </g>\n   <g id=\"patch_10\">\n    <path clip-path=\"url(#p604c3f4156)\" d=\"M 125.886364 185.398125 \nL 136.031818 185.398125 \nL 136.031818 180.870261 \nL 125.886364 180.870261 \nz\n\" style=\"fill:#1f77b4;\"/>\n   </g>\n   <g id=\"patch_11\">\n    <path clip-path=\"url(#p604c3f4156)\" d=\"M 136.031818 185.398125 \nL 146.177273 185.398125 \nL 146.177273 180.613967 \nL 136.031818 180.613967 \nz\n\" style=\"fill:#1f77b4;\"/>\n   </g>\n   <g id=\"patch_12\">\n    <path clip-path=\"url(#p604c3f4156)\" d=\"M 146.177273 185.398125 \nL 156.322727 185.398125 \nL 156.322727 181.297418 \nL 146.177273 181.297418 \nz\n\" style=\"fill:#1f77b4;\"/>\n   </g>\n   <g id=\"patch_13\">\n    <path clip-path=\"url(#p604c3f4156)\" d=\"M 156.322727 185.398125 \nL 166.468182 185.398125 \nL 166.468182 181.211986 \nL 156.322727 181.211986 \nz\n\" style=\"fill:#1f77b4;\"/>\n   </g>\n   <g id=\"patch_14\">\n    <path clip-path=\"url(#p604c3f4156)\" d=\"M 166.468182 185.398125 \nL 176.613636 185.398125 \nL 176.613636 182.322595 \nL 166.468182 182.322595 \nz\n\" style=\"fill:#1f77b4;\"/>\n   </g>\n   <g id=\"patch_15\">\n    <path clip-path=\"url(#p604c3f4156)\" d=\"M 176.613636 185.398125 \nL 186.759091 185.398125 \nL 186.759091 181.980869 \nL 176.613636 181.980869 \nz\n\" style=\"fill:#1f77b4;\"/>\n   </g>\n   <g id=\"patch_16\">\n    <path clip-path=\"url(#p604c3f4156)\" d=\"M 186.759091 185.398125 \nL 196.904545 185.398125 \nL 196.904545 183.006046 \nL 186.759091 183.006046 \nz\n\" style=\"fill:#1f77b4;\"/>\n   </g>\n   <g id=\"patch_17\">\n    <path clip-path=\"url(#p604c3f4156)\" d=\"M 196.904545 185.398125 \nL 207.05 185.398125 \nL 207.05 182.237163 \nL 196.904545 182.237163 \nz\n\" style=\"fill:#1f77b4;\"/>\n   </g>\n   <g id=\"patch_18\">\n    <path clip-path=\"url(#p604c3f4156)\" d=\"M 207.05 185.398125 \nL 217.195455 185.398125 \nL 217.195455 183.518634 \nL 207.05 183.518634 \nz\n\" style=\"fill:#1f77b4;\"/>\n   </g>\n   <g id=\"patch_19\">\n    <path clip-path=\"url(#p604c3f4156)\" d=\"M 217.195455 185.398125 \nL 227.340909 185.398125 \nL 227.340909 183.774928 \nL 217.195455 183.774928 \nz\n\" style=\"fill:#1f77b4;\"/>\n   </g>\n   <g id=\"patch_20\">\n    <path clip-path=\"url(#p604c3f4156)\" d=\"M 227.340909 185.398125 \nL 237.486364 185.398125 \nL 237.486364 183.774928 \nL 227.340909 183.774928 \nz\n\" style=\"fill:#1f77b4;\"/>\n   </g>\n   <g id=\"patch_21\">\n    <path clip-path=\"url(#p604c3f4156)\" d=\"M 237.486364 185.398125 \nL 247.631818 185.398125 \nL 247.631818 184.031223 \nL 237.486364 184.031223 \nz\n\" style=\"fill:#1f77b4;\"/>\n   </g>\n   <g id=\"patch_22\">\n    <path clip-path=\"url(#p604c3f4156)\" d=\"M 247.631818 185.398125 \nL 257.777273 185.398125 \nL 257.777273 184.287517 \nL 247.631818 184.287517 \nz\n\" style=\"fill:#1f77b4;\"/>\n   </g>\n   <g id=\"patch_23\">\n    <path clip-path=\"url(#p604c3f4156)\" d=\"M 257.777273 185.398125 \nL 267.922727 185.398125 \nL 267.922727 184.287517 \nL 257.777273 184.287517 \nz\n\" style=\"fill:#1f77b4;\"/>\n   </g>\n   <g id=\"patch_24\">\n    <path clip-path=\"url(#p604c3f4156)\" d=\"M 267.922727 185.398125 \nL 278.068182 185.398125 \nL 278.068182 184.372948 \nL 267.922727 184.372948 \nz\n\" style=\"fill:#1f77b4;\"/>\n   </g>\n   <g id=\"patch_25\">\n    <path clip-path=\"url(#p604c3f4156)\" d=\"M 278.068182 185.398125 \nL 288.213636 185.398125 \nL 288.213636 184.970968 \nL 278.068182 184.970968 \nz\n\" style=\"fill:#1f77b4;\"/>\n   </g>\n   <g id=\"patch_26\">\n    <path clip-path=\"url(#p604c3f4156)\" d=\"M 288.213636 185.398125 \nL 298.359091 185.398125 \nL 298.359091 185.227262 \nL 288.213636 185.227262 \nz\n\" style=\"fill:#1f77b4;\"/>\n   </g>\n   <g id=\"patch_27\">\n    <path clip-path=\"url(#p604c3f4156)\" d=\"M 298.359091 185.398125 \nL 308.504545 185.398125 \nL 308.504545 184.714674 \nL 298.359091 184.714674 \nz\n\" style=\"fill:#1f77b4;\"/>\n   </g>\n   <g id=\"patch_28\">\n    <path clip-path=\"url(#p604c3f4156)\" d=\"M 308.504545 185.398125 \nL 318.65 185.398125 \nL 318.65 184.714674 \nL 308.504545 184.714674 \nz\n\" style=\"fill:#1f77b4;\"/>\n   </g>\n   <g id=\"patch_29\">\n    <path clip-path=\"url(#p604c3f4156)\" d=\"M 318.65 185.398125 \nL 328.795455 185.398125 \nL 328.795455 185.056399 \nL 318.65 185.056399 \nz\n\" style=\"fill:#1f77b4;\"/>\n   </g>\n   <g id=\"patch_30\">\n    <path clip-path=\"url(#p604c3f4156)\" d=\"M 328.795455 185.398125 \nL 338.940909 185.398125 \nL 338.940909 185.398125 \nL 328.795455 185.398125 \nz\n\" style=\"fill:#1f77b4;\"/>\n   </g>\n   <g id=\"patch_31\">\n    <path clip-path=\"url(#p604c3f4156)\" d=\"M 338.940909 185.398125 \nL 349.086364 185.398125 \nL 349.086364 185.141831 \nL 338.940909 185.141831 \nz\n\" style=\"fill:#1f77b4;\"/>\n   </g>\n   <g id=\"patch_32\">\n    <path clip-path=\"url(#p604c3f4156)\" d=\"M 349.086364 185.398125 \nL 359.231818 185.398125 \nL 359.231818 185.227262 \nL 349.086364 185.227262 \nz\n\" style=\"fill:#1f77b4;\"/>\n   </g>\n   <g id=\"matplotlib.axis_1\">\n    <g id=\"xtick_1\">\n     <g id=\"line2d_1\">\n      <defs>\n       <path d=\"M 0 0 \nL 0 3.5 \n\" id=\"mef4b960752\" style=\"stroke:#000000;stroke-width:0.8;\"/>\n      </defs>\n      <g>\n       <use style=\"stroke:#000000;stroke-width:0.8;\" x=\"54.868182\" xlink:href=\"#mef4b960752\" y=\"185.398125\"/>\n      </g>\n     </g>\n     <g id=\"text_1\">\n      <!-- 0 -->\n      <g transform=\"translate(51.686932 199.996563)scale(0.1 -0.1)\">\n       <defs>\n        <path d=\"M 31.78125 66.40625 \nQ 24.171875 66.40625 20.328125 58.90625 \nQ 16.5 51.421875 16.5 36.375 \nQ 16.5 21.390625 20.328125 13.890625 \nQ 24.171875 6.390625 31.78125 6.390625 \nQ 39.453125 6.390625 43.28125 13.890625 \nQ 47.125 21.390625 47.125 36.375 \nQ 47.125 51.421875 43.28125 58.90625 \nQ 39.453125 66.40625 31.78125 66.40625 \nz\nM 31.78125 74.21875 \nQ 44.046875 74.21875 50.515625 64.515625 \nQ 56.984375 54.828125 56.984375 36.375 \nQ 56.984375 17.96875 50.515625 8.265625 \nQ 44.046875 -1.421875 31.78125 -1.421875 \nQ 19.53125 -1.421875 13.0625 8.265625 \nQ 6.59375 17.96875 6.59375 36.375 \nQ 6.59375 54.828125 13.0625 64.515625 \nQ 19.53125 74.21875 31.78125 74.21875 \nz\n\" id=\"DejaVuSans-48\"/>\n       </defs>\n       <use xlink:href=\"#DejaVuSans-48\"/>\n      </g>\n     </g>\n    </g>\n    <g id=\"xtick_2\">\n     <g id=\"line2d_2\">\n      <g>\n       <use style=\"stroke:#000000;stroke-width:0.8;\" x=\"125.732824\" xlink:href=\"#mef4b960752\" y=\"185.398125\"/>\n      </g>\n     </g>\n     <g id=\"text_2\">\n      <!-- 20 -->\n      <g transform=\"translate(119.370324 199.996563)scale(0.1 -0.1)\">\n       <defs>\n        <path d=\"M 19.1875 8.296875 \nL 53.609375 8.296875 \nL 53.609375 0 \nL 7.328125 0 \nL 7.328125 8.296875 \nQ 12.9375 14.109375 22.625 23.890625 \nQ 32.328125 33.6875 34.8125 36.53125 \nQ 39.546875 41.84375 41.421875 45.53125 \nQ 43.3125 49.21875 43.3125 52.78125 \nQ 43.3125 58.59375 39.234375 62.25 \nQ 35.15625 65.921875 28.609375 65.921875 \nQ 23.96875 65.921875 18.8125 64.3125 \nQ 13.671875 62.703125 7.8125 59.421875 \nL 7.8125 69.390625 \nQ 13.765625 71.78125 18.9375 73 \nQ 24.125 74.21875 28.421875 74.21875 \nQ 39.75 74.21875 46.484375 68.546875 \nQ 53.21875 62.890625 53.21875 53.421875 \nQ 53.21875 48.921875 51.53125 44.890625 \nQ 49.859375 40.875 45.40625 35.40625 \nQ 44.1875 33.984375 37.640625 27.21875 \nQ 31.109375 20.453125 19.1875 8.296875 \nz\n\" id=\"DejaVuSans-50\"/>\n       </defs>\n       <use xlink:href=\"#DejaVuSans-50\"/>\n       <use x=\"63.623047\" xlink:href=\"#DejaVuSans-48\"/>\n      </g>\n     </g>\n    </g>\n    <g id=\"xtick_3\">\n     <g id=\"line2d_3\">\n      <g>\n       <use style=\"stroke:#000000;stroke-width:0.8;\" x=\"196.597465\" xlink:href=\"#mef4b960752\" y=\"185.398125\"/>\n      </g>\n     </g>\n     <g id=\"text_3\">\n      <!-- 40 -->\n      <g transform=\"translate(190.234965 199.996563)scale(0.1 -0.1)\">\n       <defs>\n        <path d=\"M 37.796875 64.3125 \nL 12.890625 25.390625 \nL 37.796875 25.390625 \nz\nM 35.203125 72.90625 \nL 47.609375 72.90625 \nL 47.609375 25.390625 \nL 58.015625 25.390625 \nL 58.015625 17.1875 \nL 47.609375 17.1875 \nL 47.609375 0 \nL 37.796875 0 \nL 37.796875 17.1875 \nL 4.890625 17.1875 \nL 4.890625 26.703125 \nz\n\" id=\"DejaVuSans-52\"/>\n       </defs>\n       <use xlink:href=\"#DejaVuSans-52\"/>\n       <use x=\"63.623047\" xlink:href=\"#DejaVuSans-48\"/>\n      </g>\n     </g>\n    </g>\n    <g id=\"xtick_4\">\n     <g id=\"line2d_4\">\n      <g>\n       <use style=\"stroke:#000000;stroke-width:0.8;\" x=\"267.462107\" xlink:href=\"#mef4b960752\" y=\"185.398125\"/>\n      </g>\n     </g>\n     <g id=\"text_4\">\n      <!-- 60 -->\n      <g transform=\"translate(261.099607 199.996563)scale(0.1 -0.1)\">\n       <defs>\n        <path d=\"M 33.015625 40.375 \nQ 26.375 40.375 22.484375 35.828125 \nQ 18.609375 31.296875 18.609375 23.390625 \nQ 18.609375 15.53125 22.484375 10.953125 \nQ 26.375 6.390625 33.015625 6.390625 \nQ 39.65625 6.390625 43.53125 10.953125 \nQ 47.40625 15.53125 47.40625 23.390625 \nQ 47.40625 31.296875 43.53125 35.828125 \nQ 39.65625 40.375 33.015625 40.375 \nz\nM 52.59375 71.296875 \nL 52.59375 62.3125 \nQ 48.875 64.0625 45.09375 64.984375 \nQ 41.3125 65.921875 37.59375 65.921875 \nQ 27.828125 65.921875 22.671875 59.328125 \nQ 17.53125 52.734375 16.796875 39.40625 \nQ 19.671875 43.65625 24.015625 45.921875 \nQ 28.375 48.1875 33.59375 48.1875 \nQ 44.578125 48.1875 50.953125 41.515625 \nQ 57.328125 34.859375 57.328125 23.390625 \nQ 57.328125 12.15625 50.6875 5.359375 \nQ 44.046875 -1.421875 33.015625 -1.421875 \nQ 20.359375 -1.421875 13.671875 8.265625 \nQ 6.984375 17.96875 6.984375 36.375 \nQ 6.984375 53.65625 15.1875 63.9375 \nQ 23.390625 74.21875 37.203125 74.21875 \nQ 40.921875 74.21875 44.703125 73.484375 \nQ 48.484375 72.75 52.59375 71.296875 \nz\n\" id=\"DejaVuSans-54\"/>\n       </defs>\n       <use xlink:href=\"#DejaVuSans-54\"/>\n       <use x=\"63.623047\" xlink:href=\"#DejaVuSans-48\"/>\n      </g>\n     </g>\n    </g>\n    <g id=\"xtick_5\">\n     <g id=\"line2d_5\">\n      <g>\n       <use style=\"stroke:#000000;stroke-width:0.8;\" x=\"338.326749\" xlink:href=\"#mef4b960752\" y=\"185.398125\"/>\n      </g>\n     </g>\n     <g id=\"text_5\">\n      <!-- 80 -->\n      <g transform=\"translate(331.964249 199.996563)scale(0.1 -0.1)\">\n       <defs>\n        <path d=\"M 31.78125 34.625 \nQ 24.75 34.625 20.71875 30.859375 \nQ 16.703125 27.09375 16.703125 20.515625 \nQ 16.703125 13.921875 20.71875 10.15625 \nQ 24.75 6.390625 31.78125 6.390625 \nQ 38.8125 6.390625 42.859375 10.171875 \nQ 46.921875 13.96875 46.921875 20.515625 \nQ 46.921875 27.09375 42.890625 30.859375 \nQ 38.875 34.625 31.78125 34.625 \nz\nM 21.921875 38.8125 \nQ 15.578125 40.375 12.03125 44.71875 \nQ 8.5 49.078125 8.5 55.328125 \nQ 8.5 64.0625 14.71875 69.140625 \nQ 20.953125 74.21875 31.78125 74.21875 \nQ 42.671875 74.21875 48.875 69.140625 \nQ 55.078125 64.0625 55.078125 55.328125 \nQ 55.078125 49.078125 51.53125 44.71875 \nQ 48 40.375 41.703125 38.8125 \nQ 48.828125 37.15625 52.796875 32.3125 \nQ 56.78125 27.484375 56.78125 20.515625 \nQ 56.78125 9.90625 50.3125 4.234375 \nQ 43.84375 -1.421875 31.78125 -1.421875 \nQ 19.734375 -1.421875 13.25 4.234375 \nQ 6.78125 9.90625 6.78125 20.515625 \nQ 6.78125 27.484375 10.78125 32.3125 \nQ 14.796875 37.15625 21.921875 38.8125 \nz\nM 18.3125 54.390625 \nQ 18.3125 48.734375 21.84375 45.5625 \nQ 25.390625 42.390625 31.78125 42.390625 \nQ 38.140625 42.390625 41.71875 45.5625 \nQ 45.3125 48.734375 45.3125 54.390625 \nQ 45.3125 60.0625 41.71875 63.234375 \nQ 38.140625 66.40625 31.78125 66.40625 \nQ 25.390625 66.40625 21.84375 63.234375 \nQ 18.3125 60.0625 18.3125 54.390625 \nz\n\" id=\"DejaVuSans-56\"/>\n       </defs>\n       <use xlink:href=\"#DejaVuSans-56\"/>\n       <use x=\"63.623047\" xlink:href=\"#DejaVuSans-48\"/>\n      </g>\n     </g>\n    </g>\n   </g>\n   <g id=\"matplotlib.axis_2\">\n    <g id=\"ytick_1\">\n     <g id=\"line2d_6\">\n      <defs>\n       <path d=\"M 0 0 \nL -3.5 0 \n\" id=\"m5b620917bb\" style=\"stroke:#000000;stroke-width:0.8;\"/>\n      </defs>\n      <g>\n       <use style=\"stroke:#000000;stroke-width:0.8;\" x=\"39.65\" xlink:href=\"#m5b620917bb\" y=\"185.398125\"/>\n      </g>\n     </g>\n     <g id=\"text_6\">\n      <!-- 0 -->\n      <g transform=\"translate(26.2875 189.197344)scale(0.1 -0.1)\">\n       <use xlink:href=\"#DejaVuSans-48\"/>\n      </g>\n     </g>\n    </g>\n    <g id=\"ytick_2\">\n     <g id=\"line2d_7\">\n      <g>\n       <use style=\"stroke:#000000;stroke-width:0.8;\" x=\"39.65\" xlink:href=\"#m5b620917bb\" y=\"164.040275\"/>\n      </g>\n     </g>\n     <g id=\"text_7\">\n      <!-- 250 -->\n      <g transform=\"translate(13.5625 167.839494)scale(0.1 -0.1)\">\n       <defs>\n        <path d=\"M 10.796875 72.90625 \nL 49.515625 72.90625 \nL 49.515625 64.59375 \nL 19.828125 64.59375 \nL 19.828125 46.734375 \nQ 21.96875 47.46875 24.109375 47.828125 \nQ 26.265625 48.1875 28.421875 48.1875 \nQ 40.625 48.1875 47.75 41.5 \nQ 54.890625 34.8125 54.890625 23.390625 \nQ 54.890625 11.625 47.5625 5.09375 \nQ 40.234375 -1.421875 26.90625 -1.421875 \nQ 22.3125 -1.421875 17.546875 -0.640625 \nQ 12.796875 0.140625 7.71875 1.703125 \nL 7.71875 11.625 \nQ 12.109375 9.234375 16.796875 8.0625 \nQ 21.484375 6.890625 26.703125 6.890625 \nQ 35.15625 6.890625 40.078125 11.328125 \nQ 45.015625 15.765625 45.015625 23.390625 \nQ 45.015625 31 40.078125 35.4375 \nQ 35.15625 39.890625 26.703125 39.890625 \nQ 22.75 39.890625 18.8125 39.015625 \nQ 14.890625 38.140625 10.796875 36.28125 \nz\n\" id=\"DejaVuSans-53\"/>\n       </defs>\n       <use xlink:href=\"#DejaVuSans-50\"/>\n       <use x=\"63.623047\" xlink:href=\"#DejaVuSans-53\"/>\n       <use x=\"127.246094\" xlink:href=\"#DejaVuSans-48\"/>\n      </g>\n     </g>\n    </g>\n    <g id=\"ytick_3\">\n     <g id=\"line2d_8\">\n      <g>\n       <use style=\"stroke:#000000;stroke-width:0.8;\" x=\"39.65\" xlink:href=\"#m5b620917bb\" y=\"142.682425\"/>\n      </g>\n     </g>\n     <g id=\"text_8\">\n      <!-- 500 -->\n      <g transform=\"translate(13.5625 146.481644)scale(0.1 -0.1)\">\n       <use xlink:href=\"#DejaVuSans-53\"/>\n       <use x=\"63.623047\" xlink:href=\"#DejaVuSans-48\"/>\n       <use x=\"127.246094\" xlink:href=\"#DejaVuSans-48\"/>\n      </g>\n     </g>\n    </g>\n    <g id=\"ytick_4\">\n     <g id=\"line2d_9\">\n      <g>\n       <use style=\"stroke:#000000;stroke-width:0.8;\" x=\"39.65\" xlink:href=\"#m5b620917bb\" y=\"121.324575\"/>\n      </g>\n     </g>\n     <g id=\"text_9\">\n      <!-- 750 -->\n      <g transform=\"translate(13.5625 125.123794)scale(0.1 -0.1)\">\n       <defs>\n        <path d=\"M 8.203125 72.90625 \nL 55.078125 72.90625 \nL 55.078125 68.703125 \nL 28.609375 0 \nL 18.3125 0 \nL 43.21875 64.59375 \nL 8.203125 64.59375 \nz\n\" id=\"DejaVuSans-55\"/>\n       </defs>\n       <use xlink:href=\"#DejaVuSans-55\"/>\n       <use x=\"63.623047\" xlink:href=\"#DejaVuSans-53\"/>\n       <use x=\"127.246094\" xlink:href=\"#DejaVuSans-48\"/>\n      </g>\n     </g>\n    </g>\n    <g id=\"ytick_5\">\n     <g id=\"line2d_10\">\n      <g>\n       <use style=\"stroke:#000000;stroke-width:0.8;\" x=\"39.65\" xlink:href=\"#m5b620917bb\" y=\"99.966725\"/>\n      </g>\n     </g>\n     <g id=\"text_10\">\n      <!-- 1000 -->\n      <g transform=\"translate(7.2 103.765943)scale(0.1 -0.1)\">\n       <defs>\n        <path d=\"M 12.40625 8.296875 \nL 28.515625 8.296875 \nL 28.515625 63.921875 \nL 10.984375 60.40625 \nL 10.984375 69.390625 \nL 28.421875 72.90625 \nL 38.28125 72.90625 \nL 38.28125 8.296875 \nL 54.390625 8.296875 \nL 54.390625 0 \nL 12.40625 0 \nz\n\" id=\"DejaVuSans-49\"/>\n       </defs>\n       <use xlink:href=\"#DejaVuSans-49\"/>\n       <use x=\"63.623047\" xlink:href=\"#DejaVuSans-48\"/>\n       <use x=\"127.246094\" xlink:href=\"#DejaVuSans-48\"/>\n       <use x=\"190.869141\" xlink:href=\"#DejaVuSans-48\"/>\n      </g>\n     </g>\n    </g>\n    <g id=\"ytick_6\">\n     <g id=\"line2d_11\">\n      <g>\n       <use style=\"stroke:#000000;stroke-width:0.8;\" x=\"39.65\" xlink:href=\"#m5b620917bb\" y=\"78.608875\"/>\n      </g>\n     </g>\n     <g id=\"text_11\">\n      <!-- 1250 -->\n      <g transform=\"translate(7.2 82.408093)scale(0.1 -0.1)\">\n       <use xlink:href=\"#DejaVuSans-49\"/>\n       <use x=\"63.623047\" xlink:href=\"#DejaVuSans-50\"/>\n       <use x=\"127.246094\" xlink:href=\"#DejaVuSans-53\"/>\n       <use x=\"190.869141\" xlink:href=\"#DejaVuSans-48\"/>\n      </g>\n     </g>\n    </g>\n    <g id=\"ytick_7\">\n     <g id=\"line2d_12\">\n      <g>\n       <use style=\"stroke:#000000;stroke-width:0.8;\" x=\"39.65\" xlink:href=\"#m5b620917bb\" y=\"57.251025\"/>\n      </g>\n     </g>\n     <g id=\"text_12\">\n      <!-- 1500 -->\n      <g transform=\"translate(7.2 61.050243)scale(0.1 -0.1)\">\n       <use xlink:href=\"#DejaVuSans-49\"/>\n       <use x=\"63.623047\" xlink:href=\"#DejaVuSans-53\"/>\n       <use x=\"127.246094\" xlink:href=\"#DejaVuSans-48\"/>\n       <use x=\"190.869141\" xlink:href=\"#DejaVuSans-48\"/>\n      </g>\n     </g>\n    </g>\n    <g id=\"ytick_8\">\n     <g id=\"line2d_13\">\n      <g>\n       <use style=\"stroke:#000000;stroke-width:0.8;\" x=\"39.65\" xlink:href=\"#m5b620917bb\" y=\"35.893175\"/>\n      </g>\n     </g>\n     <g id=\"text_13\">\n      <!-- 1750 -->\n      <g transform=\"translate(7.2 39.692393)scale(0.1 -0.1)\">\n       <use xlink:href=\"#DejaVuSans-49\"/>\n       <use x=\"63.623047\" xlink:href=\"#DejaVuSans-55\"/>\n       <use x=\"127.246094\" xlink:href=\"#DejaVuSans-53\"/>\n       <use x=\"190.869141\" xlink:href=\"#DejaVuSans-48\"/>\n      </g>\n     </g>\n    </g>\n   </g>\n   <g id=\"patch_33\">\n    <path d=\"M 39.65 185.398125 \nL 39.65 22.318125 \n\" style=\"fill:none;stroke:#000000;stroke-linecap:square;stroke-linejoin:miter;stroke-width:0.8;\"/>\n   </g>\n   <g id=\"patch_34\">\n    <path d=\"M 374.45 185.398125 \nL 374.45 22.318125 \n\" style=\"fill:none;stroke:#000000;stroke-linecap:square;stroke-linejoin:miter;stroke-width:0.8;\"/>\n   </g>\n   <g id=\"patch_35\">\n    <path d=\"M 39.65 185.398125 \nL 374.45 185.398125 \n\" style=\"fill:none;stroke:#000000;stroke-linecap:square;stroke-linejoin:miter;stroke-width:0.8;\"/>\n   </g>\n   <g id=\"patch_36\">\n    <path d=\"M 39.65 22.318125 \nL 374.45 22.318125 \n\" style=\"fill:none;stroke:#000000;stroke-linecap:square;stroke-linejoin:miter;stroke-width:0.8;\"/>\n   </g>\n   <g id=\"text_14\">\n    <!-- Histogram of Black -->\n    <g transform=\"translate(150.094063 16.318125)scale(0.12 -0.12)\">\n     <defs>\n      <path d=\"M 9.8125 72.90625 \nL 19.671875 72.90625 \nL 19.671875 43.015625 \nL 55.515625 43.015625 \nL 55.515625 72.90625 \nL 65.375 72.90625 \nL 65.375 0 \nL 55.515625 0 \nL 55.515625 34.71875 \nL 19.671875 34.71875 \nL 19.671875 0 \nL 9.8125 0 \nz\n\" id=\"DejaVuSans-72\"/>\n      <path d=\"M 9.421875 54.6875 \nL 18.40625 54.6875 \nL 18.40625 0 \nL 9.421875 0 \nz\nM 9.421875 75.984375 \nL 18.40625 75.984375 \nL 18.40625 64.59375 \nL 9.421875 64.59375 \nz\n\" id=\"DejaVuSans-105\"/>\n      <path d=\"M 44.28125 53.078125 \nL 44.28125 44.578125 \nQ 40.484375 46.53125 36.375 47.5 \nQ 32.28125 48.484375 27.875 48.484375 \nQ 21.1875 48.484375 17.84375 46.4375 \nQ 14.5 44.390625 14.5 40.28125 \nQ 14.5 37.15625 16.890625 35.375 \nQ 19.28125 33.59375 26.515625 31.984375 \nL 29.59375 31.296875 \nQ 39.15625 29.25 43.1875 25.515625 \nQ 47.21875 21.78125 47.21875 15.09375 \nQ 47.21875 7.46875 41.1875 3.015625 \nQ 35.15625 -1.421875 24.609375 -1.421875 \nQ 20.21875 -1.421875 15.453125 -0.5625 \nQ 10.6875 0.296875 5.421875 2 \nL 5.421875 11.28125 \nQ 10.40625 8.6875 15.234375 7.390625 \nQ 20.0625 6.109375 24.8125 6.109375 \nQ 31.15625 6.109375 34.5625 8.28125 \nQ 37.984375 10.453125 37.984375 14.40625 \nQ 37.984375 18.0625 35.515625 20.015625 \nQ 33.0625 21.96875 24.703125 23.78125 \nL 21.578125 24.515625 \nQ 13.234375 26.265625 9.515625 29.90625 \nQ 5.8125 33.546875 5.8125 39.890625 \nQ 5.8125 47.609375 11.28125 51.796875 \nQ 16.75 56 26.8125 56 \nQ 31.78125 56 36.171875 55.265625 \nQ 40.578125 54.546875 44.28125 53.078125 \nz\n\" id=\"DejaVuSans-115\"/>\n      <path d=\"M 18.3125 70.21875 \nL 18.3125 54.6875 \nL 36.8125 54.6875 \nL 36.8125 47.703125 \nL 18.3125 47.703125 \nL 18.3125 18.015625 \nQ 18.3125 11.328125 20.140625 9.421875 \nQ 21.96875 7.515625 27.59375 7.515625 \nL 36.8125 7.515625 \nL 36.8125 0 \nL 27.59375 0 \nQ 17.1875 0 13.234375 3.875 \nQ 9.28125 7.765625 9.28125 18.015625 \nL 9.28125 47.703125 \nL 2.6875 47.703125 \nL 2.6875 54.6875 \nL 9.28125 54.6875 \nL 9.28125 70.21875 \nz\n\" id=\"DejaVuSans-116\"/>\n      <path d=\"M 30.609375 48.390625 \nQ 23.390625 48.390625 19.1875 42.75 \nQ 14.984375 37.109375 14.984375 27.296875 \nQ 14.984375 17.484375 19.15625 11.84375 \nQ 23.34375 6.203125 30.609375 6.203125 \nQ 37.796875 6.203125 41.984375 11.859375 \nQ 46.1875 17.53125 46.1875 27.296875 \nQ 46.1875 37.015625 41.984375 42.703125 \nQ 37.796875 48.390625 30.609375 48.390625 \nz\nM 30.609375 56 \nQ 42.328125 56 49.015625 48.375 \nQ 55.71875 40.765625 55.71875 27.296875 \nQ 55.71875 13.875 49.015625 6.21875 \nQ 42.328125 -1.421875 30.609375 -1.421875 \nQ 18.84375 -1.421875 12.171875 6.21875 \nQ 5.515625 13.875 5.515625 27.296875 \nQ 5.515625 40.765625 12.171875 48.375 \nQ 18.84375 56 30.609375 56 \nz\n\" id=\"DejaVuSans-111\"/>\n      <path d=\"M 45.40625 27.984375 \nQ 45.40625 37.75 41.375 43.109375 \nQ 37.359375 48.484375 30.078125 48.484375 \nQ 22.859375 48.484375 18.828125 43.109375 \nQ 14.796875 37.75 14.796875 27.984375 \nQ 14.796875 18.265625 18.828125 12.890625 \nQ 22.859375 7.515625 30.078125 7.515625 \nQ 37.359375 7.515625 41.375 12.890625 \nQ 45.40625 18.265625 45.40625 27.984375 \nz\nM 54.390625 6.78125 \nQ 54.390625 -7.171875 48.1875 -13.984375 \nQ 42 -20.796875 29.203125 -20.796875 \nQ 24.46875 -20.796875 20.265625 -20.09375 \nQ 16.0625 -19.390625 12.109375 -17.921875 \nL 12.109375 -9.1875 \nQ 16.0625 -11.328125 19.921875 -12.34375 \nQ 23.78125 -13.375 27.78125 -13.375 \nQ 36.625 -13.375 41.015625 -8.765625 \nQ 45.40625 -4.15625 45.40625 5.171875 \nL 45.40625 9.625 \nQ 42.625 4.78125 38.28125 2.390625 \nQ 33.9375 0 27.875 0 \nQ 17.828125 0 11.671875 7.65625 \nQ 5.515625 15.328125 5.515625 27.984375 \nQ 5.515625 40.671875 11.671875 48.328125 \nQ 17.828125 56 27.875 56 \nQ 33.9375 56 38.28125 53.609375 \nQ 42.625 51.21875 45.40625 46.390625 \nL 45.40625 54.6875 \nL 54.390625 54.6875 \nz\n\" id=\"DejaVuSans-103\"/>\n      <path d=\"M 41.109375 46.296875 \nQ 39.59375 47.171875 37.8125 47.578125 \nQ 36.03125 48 33.890625 48 \nQ 26.265625 48 22.1875 43.046875 \nQ 18.109375 38.09375 18.109375 28.8125 \nL 18.109375 0 \nL 9.078125 0 \nL 9.078125 54.6875 \nL 18.109375 54.6875 \nL 18.109375 46.1875 \nQ 20.953125 51.171875 25.484375 53.578125 \nQ 30.03125 56 36.53125 56 \nQ 37.453125 56 38.578125 55.875 \nQ 39.703125 55.765625 41.0625 55.515625 \nz\n\" id=\"DejaVuSans-114\"/>\n      <path d=\"M 34.28125 27.484375 \nQ 23.390625 27.484375 19.1875 25 \nQ 14.984375 22.515625 14.984375 16.5 \nQ 14.984375 11.71875 18.140625 8.90625 \nQ 21.296875 6.109375 26.703125 6.109375 \nQ 34.1875 6.109375 38.703125 11.40625 \nQ 43.21875 16.703125 43.21875 25.484375 \nL 43.21875 27.484375 \nz\nM 52.203125 31.203125 \nL 52.203125 0 \nL 43.21875 0 \nL 43.21875 8.296875 \nQ 40.140625 3.328125 35.546875 0.953125 \nQ 30.953125 -1.421875 24.3125 -1.421875 \nQ 15.921875 -1.421875 10.953125 3.296875 \nQ 6 8.015625 6 15.921875 \nQ 6 25.140625 12.171875 29.828125 \nQ 18.359375 34.515625 30.609375 34.515625 \nL 43.21875 34.515625 \nL 43.21875 35.40625 \nQ 43.21875 41.609375 39.140625 45 \nQ 35.0625 48.390625 27.6875 48.390625 \nQ 23 48.390625 18.546875 47.265625 \nQ 14.109375 46.140625 10.015625 43.890625 \nL 10.015625 52.203125 \nQ 14.9375 54.109375 19.578125 55.046875 \nQ 24.21875 56 28.609375 56 \nQ 40.484375 56 46.34375 49.84375 \nQ 52.203125 43.703125 52.203125 31.203125 \nz\n\" id=\"DejaVuSans-97\"/>\n      <path d=\"M 52 44.1875 \nQ 55.375 50.25 60.0625 53.125 \nQ 64.75 56 71.09375 56 \nQ 79.640625 56 84.28125 50.015625 \nQ 88.921875 44.046875 88.921875 33.015625 \nL 88.921875 0 \nL 79.890625 0 \nL 79.890625 32.71875 \nQ 79.890625 40.578125 77.09375 44.375 \nQ 74.3125 48.1875 68.609375 48.1875 \nQ 61.625 48.1875 57.5625 43.546875 \nQ 53.515625 38.921875 53.515625 30.90625 \nL 53.515625 0 \nL 44.484375 0 \nL 44.484375 32.71875 \nQ 44.484375 40.625 41.703125 44.40625 \nQ 38.921875 48.1875 33.109375 48.1875 \nQ 26.21875 48.1875 22.15625 43.53125 \nQ 18.109375 38.875 18.109375 30.90625 \nL 18.109375 0 \nL 9.078125 0 \nL 9.078125 54.6875 \nL 18.109375 54.6875 \nL 18.109375 46.1875 \nQ 21.1875 51.21875 25.484375 53.609375 \nQ 29.78125 56 35.6875 56 \nQ 41.65625 56 45.828125 52.96875 \nQ 50 49.953125 52 44.1875 \nz\n\" id=\"DejaVuSans-109\"/>\n      <path id=\"DejaVuSans-32\"/>\n      <path d=\"M 37.109375 75.984375 \nL 37.109375 68.5 \nL 28.515625 68.5 \nQ 23.6875 68.5 21.796875 66.546875 \nQ 19.921875 64.59375 19.921875 59.515625 \nL 19.921875 54.6875 \nL 34.71875 54.6875 \nL 34.71875 47.703125 \nL 19.921875 47.703125 \nL 19.921875 0 \nL 10.890625 0 \nL 10.890625 47.703125 \nL 2.296875 47.703125 \nL 2.296875 54.6875 \nL 10.890625 54.6875 \nL 10.890625 58.5 \nQ 10.890625 67.625 15.140625 71.796875 \nQ 19.390625 75.984375 28.609375 75.984375 \nz\n\" id=\"DejaVuSans-102\"/>\n      <path d=\"M 19.671875 34.8125 \nL 19.671875 8.109375 \nL 35.5 8.109375 \nQ 43.453125 8.109375 47.28125 11.40625 \nQ 51.125 14.703125 51.125 21.484375 \nQ 51.125 28.328125 47.28125 31.5625 \nQ 43.453125 34.8125 35.5 34.8125 \nz\nM 19.671875 64.796875 \nL 19.671875 42.828125 \nL 34.28125 42.828125 \nQ 41.5 42.828125 45.03125 45.53125 \nQ 48.578125 48.25 48.578125 53.8125 \nQ 48.578125 59.328125 45.03125 62.0625 \nQ 41.5 64.796875 34.28125 64.796875 \nz\nM 9.8125 72.90625 \nL 35.015625 72.90625 \nQ 46.296875 72.90625 52.390625 68.21875 \nQ 58.5 63.53125 58.5 54.890625 \nQ 58.5 48.1875 55.375 44.234375 \nQ 52.25 40.28125 46.1875 39.3125 \nQ 53.46875 37.75 57.5 32.78125 \nQ 61.53125 27.828125 61.53125 20.40625 \nQ 61.53125 10.640625 54.890625 5.3125 \nQ 48.25 0 35.984375 0 \nL 9.8125 0 \nz\n\" id=\"DejaVuSans-66\"/>\n      <path d=\"M 9.421875 75.984375 \nL 18.40625 75.984375 \nL 18.40625 0 \nL 9.421875 0 \nz\n\" id=\"DejaVuSans-108\"/>\n      <path d=\"M 48.78125 52.59375 \nL 48.78125 44.1875 \nQ 44.96875 46.296875 41.140625 47.34375 \nQ 37.3125 48.390625 33.40625 48.390625 \nQ 24.65625 48.390625 19.8125 42.84375 \nQ 14.984375 37.3125 14.984375 27.296875 \nQ 14.984375 17.28125 19.8125 11.734375 \nQ 24.65625 6.203125 33.40625 6.203125 \nQ 37.3125 6.203125 41.140625 7.25 \nQ 44.96875 8.296875 48.78125 10.40625 \nL 48.78125 2.09375 \nQ 45.015625 0.34375 40.984375 -0.53125 \nQ 36.96875 -1.421875 32.421875 -1.421875 \nQ 20.0625 -1.421875 12.78125 6.34375 \nQ 5.515625 14.109375 5.515625 27.296875 \nQ 5.515625 40.671875 12.859375 48.328125 \nQ 20.21875 56 33.015625 56 \nQ 37.15625 56 41.109375 55.140625 \nQ 45.0625 54.296875 48.78125 52.59375 \nz\n\" id=\"DejaVuSans-99\"/>\n      <path d=\"M 9.078125 75.984375 \nL 18.109375 75.984375 \nL 18.109375 31.109375 \nL 44.921875 54.6875 \nL 56.390625 54.6875 \nL 27.390625 29.109375 \nL 57.625 0 \nL 45.90625 0 \nL 18.109375 26.703125 \nL 18.109375 0 \nL 9.078125 0 \nz\n\" id=\"DejaVuSans-107\"/>\n     </defs>\n     <use xlink:href=\"#DejaVuSans-72\"/>\n     <use x=\"75.195312\" xlink:href=\"#DejaVuSans-105\"/>\n     <use x=\"102.978516\" xlink:href=\"#DejaVuSans-115\"/>\n     <use x=\"155.078125\" xlink:href=\"#DejaVuSans-116\"/>\n     <use x=\"194.287109\" xlink:href=\"#DejaVuSans-111\"/>\n     <use x=\"255.46875\" xlink:href=\"#DejaVuSans-103\"/>\n     <use x=\"318.945312\" xlink:href=\"#DejaVuSans-114\"/>\n     <use x=\"360.058594\" xlink:href=\"#DejaVuSans-97\"/>\n     <use x=\"421.337891\" xlink:href=\"#DejaVuSans-109\"/>\n     <use x=\"518.75\" xlink:href=\"#DejaVuSans-32\"/>\n     <use x=\"550.537109\" xlink:href=\"#DejaVuSans-111\"/>\n     <use x=\"611.71875\" xlink:href=\"#DejaVuSans-102\"/>\n     <use x=\"646.923828\" xlink:href=\"#DejaVuSans-32\"/>\n     <use x=\"678.710938\" xlink:href=\"#DejaVuSans-66\"/>\n     <use x=\"747.314453\" xlink:href=\"#DejaVuSans-108\"/>\n     <use x=\"775.097656\" xlink:href=\"#DejaVuSans-97\"/>\n     <use x=\"836.376953\" xlink:href=\"#DejaVuSans-99\"/>\n     <use x=\"891.357422\" xlink:href=\"#DejaVuSans-107\"/>\n    </g>\n   </g>\n  </g>\n </g>\n <defs>\n  <clipPath id=\"p604c3f4156\">\n   <rect height=\"163.08\" width=\"334.8\" x=\"39.65\" y=\"22.318125\"/>\n  </clipPath>\n </defs>\n</svg>\n",
      "image/png": "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\n"
     },
     "metadata": {
      "needs_background": "light"
     }
    },
    {
     "output_type": "display_data",
     "data": {
      "text/plain": "<Figure size 432x216 with 1 Axes>",
      "image/svg+xml": "<?xml version=\"1.0\" encoding=\"utf-8\" standalone=\"no\"?>\n<!DOCTYPE svg PUBLIC \"-//W3C//DTD SVG 1.1//EN\"\n  \"http://www.w3.org/Graphics/SVG/1.1/DTD/svg11.dtd\">\n<!-- Created with matplotlib (https://matplotlib.org/) -->\n<svg height=\"209.27625pt\" version=\"1.1\" viewBox=\"0 0 381.65 209.27625\" width=\"381.65pt\" xmlns=\"http://www.w3.org/2000/svg\" xmlns:xlink=\"http://www.w3.org/1999/xlink\">\n <metadata>\n  <rdf:RDF xmlns:cc=\"http://creativecommons.org/ns#\" xmlns:dc=\"http://purl.org/dc/elements/1.1/\" xmlns:rdf=\"http://www.w3.org/1999/02/22-rdf-syntax-ns#\">\n   <cc:Work>\n    <dc:type rdf:resource=\"http://purl.org/dc/dcmitype/StillImage\"/>\n    <dc:date>2021-03-20T03:25:27.874373</dc:date>\n    <dc:format>image/svg+xml</dc:format>\n    <dc:creator>\n     <cc:Agent>\n      <dc:title>Matplotlib v3.3.4, https://matplotlib.org/</dc:title>\n     </cc:Agent>\n    </dc:creator>\n   </cc:Work>\n  </rdf:RDF>\n </metadata>\n <defs>\n  <style type=\"text/css\">*{stroke-linecap:butt;stroke-linejoin:round;}</style>\n </defs>\n <g id=\"figure_1\">\n  <g id=\"patch_1\">\n   <path d=\"M -0 209.27625 \nL 381.65 209.27625 \nL 381.65 0 \nL -0 0 \nz\n\" style=\"fill:none;\"/>\n  </g>\n  <g id=\"axes_1\">\n   <g id=\"patch_2\">\n    <path d=\"M 39.65 185.398125 \nL 374.45 185.398125 \nL 374.45 22.318125 \nL 39.65 22.318125 \nz\n\" style=\"fill:#ffffff;\"/>\n   </g>\n   <g id=\"patch_3\">\n    <path clip-path=\"url(#p712b5b710f)\" d=\"M 54.868182 185.398125 \nL 65.013636 185.398125 \nL 65.013636 30.083839 \nL 54.868182 30.083839 \nz\n\" style=\"fill:#1f77b4;\"/>\n   </g>\n   <g id=\"patch_4\">\n    <path clip-path=\"url(#p712b5b710f)\" d=\"M 65.013636 185.398125 \nL 75.159091 185.398125 \nL 75.159091 180.135018 \nL 65.013636 180.135018 \nz\n\" style=\"fill:#1f77b4;\"/>\n   </g>\n   <g id=\"patch_5\">\n    <path clip-path=\"url(#p712b5b710f)\" d=\"M 75.159091 185.398125 \nL 85.304545 185.398125 \nL 85.304545 182.924465 \nL 75.159091 182.924465 \nz\n\" style=\"fill:#1f77b4;\"/>\n   </g>\n   <g id=\"patch_6\">\n    <path clip-path=\"url(#p712b5b710f)\" d=\"M 85.304545 185.398125 \nL 95.45 185.398125 \nL 95.45 183.924455 \nL 85.304545 183.924455 \nz\n\" style=\"fill:#1f77b4;\"/>\n   </g>\n   <g id=\"patch_7\">\n    <path clip-path=\"url(#p712b5b710f)\" d=\"M 95.45 185.398125 \nL 105.595455 185.398125 \nL 105.595455 184.240241 \nL 95.45 184.240241 \nz\n\" style=\"fill:#1f77b4;\"/>\n   </g>\n   <g id=\"patch_8\">\n    <path clip-path=\"url(#p712b5b710f)\" d=\"M 105.595455 185.398125 \nL 115.740909 185.398125 \nL 115.740909 184.819183 \nL 105.595455 184.819183 \nz\n\" style=\"fill:#1f77b4;\"/>\n   </g>\n   <g id=\"patch_9\">\n    <path clip-path=\"url(#p712b5b710f)\" d=\"M 115.740909 185.398125 \nL 125.886364 185.398125 \nL 125.886364 184.977076 \nL 115.740909 184.977076 \nz\n\" style=\"fill:#1f77b4;\"/>\n   </g>\n   <g id=\"patch_10\">\n    <path clip-path=\"url(#p712b5b710f)\" d=\"M 125.886364 185.398125 \nL 136.031818 185.398125 \nL 136.031818 185.240232 \nL 125.886364 185.240232 \nz\n\" style=\"fill:#1f77b4;\"/>\n   </g>\n   <g id=\"patch_11\">\n    <path clip-path=\"url(#p712b5b710f)\" d=\"M 136.031818 185.398125 \nL 146.177273 185.398125 \nL 146.177273 185.240232 \nL 136.031818 185.240232 \nz\n\" style=\"fill:#1f77b4;\"/>\n   </g>\n   <g id=\"patch_12\">\n    <path clip-path=\"url(#p712b5b710f)\" d=\"M 146.177273 185.398125 \nL 156.322727 185.398125 \nL 156.322727 185.292863 \nL 146.177273 185.292863 \nz\n\" style=\"fill:#1f77b4;\"/>\n   </g>\n   <g id=\"patch_13\">\n    <path clip-path=\"url(#p712b5b710f)\" d=\"M 156.322727 185.398125 \nL 166.468182 185.398125 \nL 166.468182 185.13497 \nL 156.322727 185.13497 \nz\n\" style=\"fill:#1f77b4;\"/>\n   </g>\n   <g id=\"patch_14\">\n    <path clip-path=\"url(#p712b5b710f)\" d=\"M 166.468182 185.398125 \nL 176.613636 185.398125 \nL 176.613636 185.292863 \nL 166.468182 185.292863 \nz\n\" style=\"fill:#1f77b4;\"/>\n   </g>\n   <g id=\"patch_15\">\n    <path clip-path=\"url(#p712b5b710f)\" d=\"M 176.613636 185.398125 \nL 186.759091 185.398125 \nL 186.759091 185.13497 \nL 176.613636 185.13497 \nz\n\" style=\"fill:#1f77b4;\"/>\n   </g>\n   <g id=\"patch_16\">\n    <path clip-path=\"url(#p712b5b710f)\" d=\"M 186.759091 185.398125 \nL 196.904545 185.398125 \nL 196.904545 185.345494 \nL 186.759091 185.345494 \nz\n\" style=\"fill:#1f77b4;\"/>\n   </g>\n   <g id=\"patch_17\">\n    <path clip-path=\"url(#p712b5b710f)\" d=\"M 196.904545 185.398125 \nL 207.05 185.398125 \nL 207.05 185.345494 \nL 196.904545 185.345494 \nz\n\" style=\"fill:#1f77b4;\"/>\n   </g>\n   <g id=\"patch_18\">\n    <path clip-path=\"url(#p712b5b710f)\" d=\"M 207.05 185.398125 \nL 217.195455 185.398125 \nL 217.195455 185.187601 \nL 207.05 185.187601 \nz\n\" style=\"fill:#1f77b4;\"/>\n   </g>\n   <g id=\"patch_19\">\n    <path clip-path=\"url(#p712b5b710f)\" d=\"M 217.195455 185.398125 \nL 227.340909 185.398125 \nL 227.340909 185.345494 \nL 217.195455 185.345494 \nz\n\" style=\"fill:#1f77b4;\"/>\n   </g>\n   <g id=\"patch_20\">\n    <path clip-path=\"url(#p712b5b710f)\" d=\"M 227.340909 185.398125 \nL 237.486364 185.398125 \nL 237.486364 185.240232 \nL 227.340909 185.240232 \nz\n\" style=\"fill:#1f77b4;\"/>\n   </g>\n   <g id=\"patch_21\">\n    <path clip-path=\"url(#p712b5b710f)\" d=\"M 237.486364 185.398125 \nL 247.631818 185.398125 \nL 247.631818 185.345494 \nL 237.486364 185.345494 \nz\n\" style=\"fill:#1f77b4;\"/>\n   </g>\n   <g id=\"patch_22\">\n    <path clip-path=\"url(#p712b5b710f)\" d=\"M 247.631818 185.398125 \nL 257.777273 185.398125 \nL 257.777273 185.398125 \nL 247.631818 185.398125 \nz\n\" style=\"fill:#1f77b4;\"/>\n   </g>\n   <g id=\"patch_23\">\n    <path clip-path=\"url(#p712b5b710f)\" d=\"M 257.777273 185.398125 \nL 267.922727 185.398125 \nL 267.922727 185.292863 \nL 257.777273 185.292863 \nz\n\" style=\"fill:#1f77b4;\"/>\n   </g>\n   <g id=\"patch_24\">\n    <path clip-path=\"url(#p712b5b710f)\" d=\"M 267.922727 185.398125 \nL 278.068182 185.398125 \nL 278.068182 185.345494 \nL 267.922727 185.345494 \nz\n\" style=\"fill:#1f77b4;\"/>\n   </g>\n   <g id=\"patch_25\">\n    <path clip-path=\"url(#p712b5b710f)\" d=\"M 278.068182 185.398125 \nL 288.213636 185.398125 \nL 288.213636 185.187601 \nL 278.068182 185.187601 \nz\n\" style=\"fill:#1f77b4;\"/>\n   </g>\n   <g id=\"patch_26\">\n    <path clip-path=\"url(#p712b5b710f)\" d=\"M 288.213636 185.398125 \nL 298.359091 185.398125 \nL 298.359091 185.240232 \nL 288.213636 185.240232 \nz\n\" style=\"fill:#1f77b4;\"/>\n   </g>\n   <g id=\"patch_27\">\n    <path clip-path=\"url(#p712b5b710f)\" d=\"M 298.359091 185.398125 \nL 308.504545 185.398125 \nL 308.504545 185.240232 \nL 298.359091 185.240232 \nz\n\" style=\"fill:#1f77b4;\"/>\n   </g>\n   <g id=\"patch_28\">\n    <path clip-path=\"url(#p712b5b710f)\" d=\"M 308.504545 185.398125 \nL 318.65 185.398125 \nL 318.65 185.292863 \nL 308.504545 185.292863 \nz\n\" style=\"fill:#1f77b4;\"/>\n   </g>\n   <g id=\"patch_29\">\n    <path clip-path=\"url(#p712b5b710f)\" d=\"M 318.65 185.398125 \nL 328.795455 185.398125 \nL 328.795455 185.240232 \nL 318.65 185.240232 \nz\n\" style=\"fill:#1f77b4;\"/>\n   </g>\n   <g id=\"patch_30\">\n    <path clip-path=\"url(#p712b5b710f)\" d=\"M 328.795455 185.398125 \nL 338.940909 185.398125 \nL 338.940909 185.398125 \nL 328.795455 185.398125 \nz\n\" style=\"fill:#1f77b4;\"/>\n   </g>\n   <g id=\"patch_31\">\n    <path clip-path=\"url(#p712b5b710f)\" d=\"M 338.940909 185.398125 \nL 349.086364 185.398125 \nL 349.086364 185.345494 \nL 338.940909 185.345494 \nz\n\" style=\"fill:#1f77b4;\"/>\n   </g>\n   <g id=\"patch_32\">\n    <path clip-path=\"url(#p712b5b710f)\" d=\"M 349.086364 185.398125 \nL 359.231818 185.398125 \nL 359.231818 185.345494 \nL 349.086364 185.345494 \nz\n\" style=\"fill:#1f77b4;\"/>\n   </g>\n   <g id=\"matplotlib.axis_1\">\n    <g id=\"xtick_1\">\n     <g id=\"line2d_1\">\n      <defs>\n       <path d=\"M 0 0 \nL 0 3.5 \n\" id=\"m3d57877243\" style=\"stroke:#000000;stroke-width:0.8;\"/>\n      </defs>\n      <g>\n       <use style=\"stroke:#000000;stroke-width:0.8;\" x=\"54.868182\" xlink:href=\"#m3d57877243\" y=\"185.398125\"/>\n      </g>\n     </g>\n     <g id=\"text_1\">\n      <!-- 0 -->\n      <g transform=\"translate(51.686932 199.996563)scale(0.1 -0.1)\">\n       <defs>\n        <path d=\"M 31.78125 66.40625 \nQ 24.171875 66.40625 20.328125 58.90625 \nQ 16.5 51.421875 16.5 36.375 \nQ 16.5 21.390625 20.328125 13.890625 \nQ 24.171875 6.390625 31.78125 6.390625 \nQ 39.453125 6.390625 43.28125 13.890625 \nQ 47.125 21.390625 47.125 36.375 \nQ 47.125 51.421875 43.28125 58.90625 \nQ 39.453125 66.40625 31.78125 66.40625 \nz\nM 31.78125 74.21875 \nQ 44.046875 74.21875 50.515625 64.515625 \nQ 56.984375 54.828125 56.984375 36.375 \nQ 56.984375 17.96875 50.515625 8.265625 \nQ 44.046875 -1.421875 31.78125 -1.421875 \nQ 19.53125 -1.421875 13.0625 8.265625 \nQ 6.59375 17.96875 6.59375 36.375 \nQ 6.59375 54.828125 13.0625 64.515625 \nQ 19.53125 74.21875 31.78125 74.21875 \nz\n\" id=\"DejaVuSans-48\"/>\n       </defs>\n       <use xlink:href=\"#DejaVuSans-48\"/>\n      </g>\n     </g>\n    </g>\n    <g id=\"xtick_2\">\n     <g id=\"line2d_2\">\n      <g>\n       <use style=\"stroke:#000000;stroke-width:0.8;\" x=\"120.962348\" xlink:href=\"#m3d57877243\" y=\"185.398125\"/>\n      </g>\n     </g>\n     <g id=\"text_2\">\n      <!-- 20 -->\n      <g transform=\"translate(114.599848 199.996563)scale(0.1 -0.1)\">\n       <defs>\n        <path d=\"M 19.1875 8.296875 \nL 53.609375 8.296875 \nL 53.609375 0 \nL 7.328125 0 \nL 7.328125 8.296875 \nQ 12.9375 14.109375 22.625 23.890625 \nQ 32.328125 33.6875 34.8125 36.53125 \nQ 39.546875 41.84375 41.421875 45.53125 \nQ 43.3125 49.21875 43.3125 52.78125 \nQ 43.3125 58.59375 39.234375 62.25 \nQ 35.15625 65.921875 28.609375 65.921875 \nQ 23.96875 65.921875 18.8125 64.3125 \nQ 13.671875 62.703125 7.8125 59.421875 \nL 7.8125 69.390625 \nQ 13.765625 71.78125 18.9375 73 \nQ 24.125 74.21875 28.421875 74.21875 \nQ 39.75 74.21875 46.484375 68.546875 \nQ 53.21875 62.890625 53.21875 53.421875 \nQ 53.21875 48.921875 51.53125 44.890625 \nQ 49.859375 40.875 45.40625 35.40625 \nQ 44.1875 33.984375 37.640625 27.21875 \nQ 31.109375 20.453125 19.1875 8.296875 \nz\n\" id=\"DejaVuSans-50\"/>\n       </defs>\n       <use xlink:href=\"#DejaVuSans-50\"/>\n       <use x=\"63.623047\" xlink:href=\"#DejaVuSans-48\"/>\n      </g>\n     </g>\n    </g>\n    <g id=\"xtick_3\">\n     <g id=\"line2d_3\">\n      <g>\n       <use style=\"stroke:#000000;stroke-width:0.8;\" x=\"187.056515\" xlink:href=\"#m3d57877243\" y=\"185.398125\"/>\n      </g>\n     </g>\n     <g id=\"text_3\">\n      <!-- 40 -->\n      <g transform=\"translate(180.694015 199.996563)scale(0.1 -0.1)\">\n       <defs>\n        <path d=\"M 37.796875 64.3125 \nL 12.890625 25.390625 \nL 37.796875 25.390625 \nz\nM 35.203125 72.90625 \nL 47.609375 72.90625 \nL 47.609375 25.390625 \nL 58.015625 25.390625 \nL 58.015625 17.1875 \nL 47.609375 17.1875 \nL 47.609375 0 \nL 37.796875 0 \nL 37.796875 17.1875 \nL 4.890625 17.1875 \nL 4.890625 26.703125 \nz\n\" id=\"DejaVuSans-52\"/>\n       </defs>\n       <use xlink:href=\"#DejaVuSans-52\"/>\n       <use x=\"63.623047\" xlink:href=\"#DejaVuSans-48\"/>\n      </g>\n     </g>\n    </g>\n    <g id=\"xtick_4\">\n     <g id=\"line2d_4\">\n      <g>\n       <use style=\"stroke:#000000;stroke-width:0.8;\" x=\"253.150681\" xlink:href=\"#m3d57877243\" y=\"185.398125\"/>\n      </g>\n     </g>\n     <g id=\"text_4\">\n      <!-- 60 -->\n      <g transform=\"translate(246.788181 199.996563)scale(0.1 -0.1)\">\n       <defs>\n        <path d=\"M 33.015625 40.375 \nQ 26.375 40.375 22.484375 35.828125 \nQ 18.609375 31.296875 18.609375 23.390625 \nQ 18.609375 15.53125 22.484375 10.953125 \nQ 26.375 6.390625 33.015625 6.390625 \nQ 39.65625 6.390625 43.53125 10.953125 \nQ 47.40625 15.53125 47.40625 23.390625 \nQ 47.40625 31.296875 43.53125 35.828125 \nQ 39.65625 40.375 33.015625 40.375 \nz\nM 52.59375 71.296875 \nL 52.59375 62.3125 \nQ 48.875 64.0625 45.09375 64.984375 \nQ 41.3125 65.921875 37.59375 65.921875 \nQ 27.828125 65.921875 22.671875 59.328125 \nQ 17.53125 52.734375 16.796875 39.40625 \nQ 19.671875 43.65625 24.015625 45.921875 \nQ 28.375 48.1875 33.59375 48.1875 \nQ 44.578125 48.1875 50.953125 41.515625 \nQ 57.328125 34.859375 57.328125 23.390625 \nQ 57.328125 12.15625 50.6875 5.359375 \nQ 44.046875 -1.421875 33.015625 -1.421875 \nQ 20.359375 -1.421875 13.671875 8.265625 \nQ 6.984375 17.96875 6.984375 36.375 \nQ 6.984375 53.65625 15.1875 63.9375 \nQ 23.390625 74.21875 37.203125 74.21875 \nQ 40.921875 74.21875 44.703125 73.484375 \nQ 48.484375 72.75 52.59375 71.296875 \nz\n\" id=\"DejaVuSans-54\"/>\n       </defs>\n       <use xlink:href=\"#DejaVuSans-54\"/>\n       <use x=\"63.623047\" xlink:href=\"#DejaVuSans-48\"/>\n      </g>\n     </g>\n    </g>\n    <g id=\"xtick_5\">\n     <g id=\"line2d_5\">\n      <g>\n       <use style=\"stroke:#000000;stroke-width:0.8;\" x=\"319.244847\" xlink:href=\"#m3d57877243\" y=\"185.398125\"/>\n      </g>\n     </g>\n     <g id=\"text_5\">\n      <!-- 80 -->\n      <g transform=\"translate(312.882347 199.996563)scale(0.1 -0.1)\">\n       <defs>\n        <path d=\"M 31.78125 34.625 \nQ 24.75 34.625 20.71875 30.859375 \nQ 16.703125 27.09375 16.703125 20.515625 \nQ 16.703125 13.921875 20.71875 10.15625 \nQ 24.75 6.390625 31.78125 6.390625 \nQ 38.8125 6.390625 42.859375 10.171875 \nQ 46.921875 13.96875 46.921875 20.515625 \nQ 46.921875 27.09375 42.890625 30.859375 \nQ 38.875 34.625 31.78125 34.625 \nz\nM 21.921875 38.8125 \nQ 15.578125 40.375 12.03125 44.71875 \nQ 8.5 49.078125 8.5 55.328125 \nQ 8.5 64.0625 14.71875 69.140625 \nQ 20.953125 74.21875 31.78125 74.21875 \nQ 42.671875 74.21875 48.875 69.140625 \nQ 55.078125 64.0625 55.078125 55.328125 \nQ 55.078125 49.078125 51.53125 44.71875 \nQ 48 40.375 41.703125 38.8125 \nQ 48.828125 37.15625 52.796875 32.3125 \nQ 56.78125 27.484375 56.78125 20.515625 \nQ 56.78125 9.90625 50.3125 4.234375 \nQ 43.84375 -1.421875 31.78125 -1.421875 \nQ 19.734375 -1.421875 13.25 4.234375 \nQ 6.78125 9.90625 6.78125 20.515625 \nQ 6.78125 27.484375 10.78125 32.3125 \nQ 14.796875 37.15625 21.921875 38.8125 \nz\nM 18.3125 54.390625 \nQ 18.3125 48.734375 21.84375 45.5625 \nQ 25.390625 42.390625 31.78125 42.390625 \nQ 38.140625 42.390625 41.71875 45.5625 \nQ 45.3125 48.734375 45.3125 54.390625 \nQ 45.3125 60.0625 41.71875 63.234375 \nQ 38.140625 66.40625 31.78125 66.40625 \nQ 25.390625 66.40625 21.84375 63.234375 \nQ 18.3125 60.0625 18.3125 54.390625 \nz\n\" id=\"DejaVuSans-56\"/>\n       </defs>\n       <use xlink:href=\"#DejaVuSans-56\"/>\n       <use x=\"63.623047\" xlink:href=\"#DejaVuSans-48\"/>\n      </g>\n     </g>\n    </g>\n   </g>\n   <g id=\"matplotlib.axis_2\">\n    <g id=\"ytick_1\">\n     <g id=\"line2d_6\">\n      <defs>\n       <path d=\"M 0 0 \nL -3.5 0 \n\" id=\"mdf15b10993\" style=\"stroke:#000000;stroke-width:0.8;\"/>\n      </defs>\n      <g>\n       <use style=\"stroke:#000000;stroke-width:0.8;\" x=\"39.65\" xlink:href=\"#mdf15b10993\" y=\"185.398125\"/>\n      </g>\n     </g>\n     <g id=\"text_6\">\n      <!-- 0 -->\n      <g transform=\"translate(26.2875 189.197344)scale(0.1 -0.1)\">\n       <use xlink:href=\"#DejaVuSans-48\"/>\n      </g>\n     </g>\n    </g>\n    <g id=\"ytick_2\">\n     <g id=\"line2d_7\">\n      <g>\n       <use style=\"stroke:#000000;stroke-width:0.8;\" x=\"39.65\" xlink:href=\"#mdf15b10993\" y=\"159.08259\"/>\n      </g>\n     </g>\n     <g id=\"text_7\">\n      <!-- 500 -->\n      <g transform=\"translate(13.5625 162.881809)scale(0.1 -0.1)\">\n       <defs>\n        <path d=\"M 10.796875 72.90625 \nL 49.515625 72.90625 \nL 49.515625 64.59375 \nL 19.828125 64.59375 \nL 19.828125 46.734375 \nQ 21.96875 47.46875 24.109375 47.828125 \nQ 26.265625 48.1875 28.421875 48.1875 \nQ 40.625 48.1875 47.75 41.5 \nQ 54.890625 34.8125 54.890625 23.390625 \nQ 54.890625 11.625 47.5625 5.09375 \nQ 40.234375 -1.421875 26.90625 -1.421875 \nQ 22.3125 -1.421875 17.546875 -0.640625 \nQ 12.796875 0.140625 7.71875 1.703125 \nL 7.71875 11.625 \nQ 12.109375 9.234375 16.796875 8.0625 \nQ 21.484375 6.890625 26.703125 6.890625 \nQ 35.15625 6.890625 40.078125 11.328125 \nQ 45.015625 15.765625 45.015625 23.390625 \nQ 45.015625 31 40.078125 35.4375 \nQ 35.15625 39.890625 26.703125 39.890625 \nQ 22.75 39.890625 18.8125 39.015625 \nQ 14.890625 38.140625 10.796875 36.28125 \nz\n\" id=\"DejaVuSans-53\"/>\n       </defs>\n       <use xlink:href=\"#DejaVuSans-53\"/>\n       <use x=\"63.623047\" xlink:href=\"#DejaVuSans-48\"/>\n       <use x=\"127.246094\" xlink:href=\"#DejaVuSans-48\"/>\n      </g>\n     </g>\n    </g>\n    <g id=\"ytick_3\">\n     <g id=\"line2d_8\">\n      <g>\n       <use style=\"stroke:#000000;stroke-width:0.8;\" x=\"39.65\" xlink:href=\"#mdf15b10993\" y=\"132.767056\"/>\n      </g>\n     </g>\n     <g id=\"text_8\">\n      <!-- 1000 -->\n      <g transform=\"translate(7.2 136.566274)scale(0.1 -0.1)\">\n       <defs>\n        <path d=\"M 12.40625 8.296875 \nL 28.515625 8.296875 \nL 28.515625 63.921875 \nL 10.984375 60.40625 \nL 10.984375 69.390625 \nL 28.421875 72.90625 \nL 38.28125 72.90625 \nL 38.28125 8.296875 \nL 54.390625 8.296875 \nL 54.390625 0 \nL 12.40625 0 \nz\n\" id=\"DejaVuSans-49\"/>\n       </defs>\n       <use xlink:href=\"#DejaVuSans-49\"/>\n       <use x=\"63.623047\" xlink:href=\"#DejaVuSans-48\"/>\n       <use x=\"127.246094\" xlink:href=\"#DejaVuSans-48\"/>\n       <use x=\"190.869141\" xlink:href=\"#DejaVuSans-48\"/>\n      </g>\n     </g>\n    </g>\n    <g id=\"ytick_4\">\n     <g id=\"line2d_9\">\n      <g>\n       <use style=\"stroke:#000000;stroke-width:0.8;\" x=\"39.65\" xlink:href=\"#mdf15b10993\" y=\"106.451521\"/>\n      </g>\n     </g>\n     <g id=\"text_9\">\n      <!-- 1500 -->\n      <g transform=\"translate(7.2 110.25074)scale(0.1 -0.1)\">\n       <use xlink:href=\"#DejaVuSans-49\"/>\n       <use x=\"63.623047\" xlink:href=\"#DejaVuSans-53\"/>\n       <use x=\"127.246094\" xlink:href=\"#DejaVuSans-48\"/>\n       <use x=\"190.869141\" xlink:href=\"#DejaVuSans-48\"/>\n      </g>\n     </g>\n    </g>\n    <g id=\"ytick_5\">\n     <g id=\"line2d_10\">\n      <g>\n       <use style=\"stroke:#000000;stroke-width:0.8;\" x=\"39.65\" xlink:href=\"#mdf15b10993\" y=\"80.135986\"/>\n      </g>\n     </g>\n     <g id=\"text_10\">\n      <!-- 2000 -->\n      <g transform=\"translate(7.2 83.935205)scale(0.1 -0.1)\">\n       <use xlink:href=\"#DejaVuSans-50\"/>\n       <use x=\"63.623047\" xlink:href=\"#DejaVuSans-48\"/>\n       <use x=\"127.246094\" xlink:href=\"#DejaVuSans-48\"/>\n       <use x=\"190.869141\" xlink:href=\"#DejaVuSans-48\"/>\n      </g>\n     </g>\n    </g>\n    <g id=\"ytick_6\">\n     <g id=\"line2d_11\">\n      <g>\n       <use style=\"stroke:#000000;stroke-width:0.8;\" x=\"39.65\" xlink:href=\"#mdf15b10993\" y=\"53.820452\"/>\n      </g>\n     </g>\n     <g id=\"text_11\">\n      <!-- 2500 -->\n      <g transform=\"translate(7.2 57.61967)scale(0.1 -0.1)\">\n       <use xlink:href=\"#DejaVuSans-50\"/>\n       <use x=\"63.623047\" xlink:href=\"#DejaVuSans-53\"/>\n       <use x=\"127.246094\" xlink:href=\"#DejaVuSans-48\"/>\n       <use x=\"190.869141\" xlink:href=\"#DejaVuSans-48\"/>\n      </g>\n     </g>\n    </g>\n    <g id=\"ytick_7\">\n     <g id=\"line2d_12\">\n      <g>\n       <use style=\"stroke:#000000;stroke-width:0.8;\" x=\"39.65\" xlink:href=\"#mdf15b10993\" y=\"27.504917\"/>\n      </g>\n     </g>\n     <g id=\"text_12\">\n      <!-- 3000 -->\n      <g transform=\"translate(7.2 31.304136)scale(0.1 -0.1)\">\n       <defs>\n        <path d=\"M 40.578125 39.3125 \nQ 47.65625 37.796875 51.625 33 \nQ 55.609375 28.21875 55.609375 21.1875 \nQ 55.609375 10.40625 48.1875 4.484375 \nQ 40.765625 -1.421875 27.09375 -1.421875 \nQ 22.515625 -1.421875 17.65625 -0.515625 \nQ 12.796875 0.390625 7.625 2.203125 \nL 7.625 11.71875 \nQ 11.71875 9.328125 16.59375 8.109375 \nQ 21.484375 6.890625 26.8125 6.890625 \nQ 36.078125 6.890625 40.9375 10.546875 \nQ 45.796875 14.203125 45.796875 21.1875 \nQ 45.796875 27.640625 41.28125 31.265625 \nQ 36.765625 34.90625 28.71875 34.90625 \nL 20.21875 34.90625 \nL 20.21875 43.015625 \nL 29.109375 43.015625 \nQ 36.375 43.015625 40.234375 45.921875 \nQ 44.09375 48.828125 44.09375 54.296875 \nQ 44.09375 59.90625 40.109375 62.90625 \nQ 36.140625 65.921875 28.71875 65.921875 \nQ 24.65625 65.921875 20.015625 65.03125 \nQ 15.375 64.15625 9.8125 62.3125 \nL 9.8125 71.09375 \nQ 15.4375 72.65625 20.34375 73.4375 \nQ 25.25 74.21875 29.59375 74.21875 \nQ 40.828125 74.21875 47.359375 69.109375 \nQ 53.90625 64.015625 53.90625 55.328125 \nQ 53.90625 49.265625 50.4375 45.09375 \nQ 46.96875 40.921875 40.578125 39.3125 \nz\n\" id=\"DejaVuSans-51\"/>\n       </defs>\n       <use xlink:href=\"#DejaVuSans-51\"/>\n       <use x=\"63.623047\" xlink:href=\"#DejaVuSans-48\"/>\n       <use x=\"127.246094\" xlink:href=\"#DejaVuSans-48\"/>\n       <use x=\"190.869141\" xlink:href=\"#DejaVuSans-48\"/>\n      </g>\n     </g>\n    </g>\n   </g>\n   <g id=\"patch_33\">\n    <path d=\"M 39.65 185.398125 \nL 39.65 22.318125 \n\" style=\"fill:none;stroke:#000000;stroke-linecap:square;stroke-linejoin:miter;stroke-width:0.8;\"/>\n   </g>\n   <g id=\"patch_34\">\n    <path d=\"M 374.45 185.398125 \nL 374.45 22.318125 \n\" style=\"fill:none;stroke:#000000;stroke-linecap:square;stroke-linejoin:miter;stroke-width:0.8;\"/>\n   </g>\n   <g id=\"patch_35\">\n    <path d=\"M 39.65 185.398125 \nL 374.45 185.398125 \n\" style=\"fill:none;stroke:#000000;stroke-linecap:square;stroke-linejoin:miter;stroke-width:0.8;\"/>\n   </g>\n   <g id=\"patch_36\">\n    <path d=\"M 39.65 22.318125 \nL 374.45 22.318125 \n\" style=\"fill:none;stroke:#000000;stroke-linecap:square;stroke-linejoin:miter;stroke-width:0.8;\"/>\n   </g>\n   <g id=\"text_13\">\n    <!-- Histogram of Native -->\n    <g transform=\"translate(146.9 16.318125)scale(0.12 -0.12)\">\n     <defs>\n      <path d=\"M 9.8125 72.90625 \nL 19.671875 72.90625 \nL 19.671875 43.015625 \nL 55.515625 43.015625 \nL 55.515625 72.90625 \nL 65.375 72.90625 \nL 65.375 0 \nL 55.515625 0 \nL 55.515625 34.71875 \nL 19.671875 34.71875 \nL 19.671875 0 \nL 9.8125 0 \nz\n\" id=\"DejaVuSans-72\"/>\n      <path d=\"M 9.421875 54.6875 \nL 18.40625 54.6875 \nL 18.40625 0 \nL 9.421875 0 \nz\nM 9.421875 75.984375 \nL 18.40625 75.984375 \nL 18.40625 64.59375 \nL 9.421875 64.59375 \nz\n\" id=\"DejaVuSans-105\"/>\n      <path d=\"M 44.28125 53.078125 \nL 44.28125 44.578125 \nQ 40.484375 46.53125 36.375 47.5 \nQ 32.28125 48.484375 27.875 48.484375 \nQ 21.1875 48.484375 17.84375 46.4375 \nQ 14.5 44.390625 14.5 40.28125 \nQ 14.5 37.15625 16.890625 35.375 \nQ 19.28125 33.59375 26.515625 31.984375 \nL 29.59375 31.296875 \nQ 39.15625 29.25 43.1875 25.515625 \nQ 47.21875 21.78125 47.21875 15.09375 \nQ 47.21875 7.46875 41.1875 3.015625 \nQ 35.15625 -1.421875 24.609375 -1.421875 \nQ 20.21875 -1.421875 15.453125 -0.5625 \nQ 10.6875 0.296875 5.421875 2 \nL 5.421875 11.28125 \nQ 10.40625 8.6875 15.234375 7.390625 \nQ 20.0625 6.109375 24.8125 6.109375 \nQ 31.15625 6.109375 34.5625 8.28125 \nQ 37.984375 10.453125 37.984375 14.40625 \nQ 37.984375 18.0625 35.515625 20.015625 \nQ 33.0625 21.96875 24.703125 23.78125 \nL 21.578125 24.515625 \nQ 13.234375 26.265625 9.515625 29.90625 \nQ 5.8125 33.546875 5.8125 39.890625 \nQ 5.8125 47.609375 11.28125 51.796875 \nQ 16.75 56 26.8125 56 \nQ 31.78125 56 36.171875 55.265625 \nQ 40.578125 54.546875 44.28125 53.078125 \nz\n\" id=\"DejaVuSans-115\"/>\n      <path d=\"M 18.3125 70.21875 \nL 18.3125 54.6875 \nL 36.8125 54.6875 \nL 36.8125 47.703125 \nL 18.3125 47.703125 \nL 18.3125 18.015625 \nQ 18.3125 11.328125 20.140625 9.421875 \nQ 21.96875 7.515625 27.59375 7.515625 \nL 36.8125 7.515625 \nL 36.8125 0 \nL 27.59375 0 \nQ 17.1875 0 13.234375 3.875 \nQ 9.28125 7.765625 9.28125 18.015625 \nL 9.28125 47.703125 \nL 2.6875 47.703125 \nL 2.6875 54.6875 \nL 9.28125 54.6875 \nL 9.28125 70.21875 \nz\n\" id=\"DejaVuSans-116\"/>\n      <path d=\"M 30.609375 48.390625 \nQ 23.390625 48.390625 19.1875 42.75 \nQ 14.984375 37.109375 14.984375 27.296875 \nQ 14.984375 17.484375 19.15625 11.84375 \nQ 23.34375 6.203125 30.609375 6.203125 \nQ 37.796875 6.203125 41.984375 11.859375 \nQ 46.1875 17.53125 46.1875 27.296875 \nQ 46.1875 37.015625 41.984375 42.703125 \nQ 37.796875 48.390625 30.609375 48.390625 \nz\nM 30.609375 56 \nQ 42.328125 56 49.015625 48.375 \nQ 55.71875 40.765625 55.71875 27.296875 \nQ 55.71875 13.875 49.015625 6.21875 \nQ 42.328125 -1.421875 30.609375 -1.421875 \nQ 18.84375 -1.421875 12.171875 6.21875 \nQ 5.515625 13.875 5.515625 27.296875 \nQ 5.515625 40.765625 12.171875 48.375 \nQ 18.84375 56 30.609375 56 \nz\n\" id=\"DejaVuSans-111\"/>\n      <path d=\"M 45.40625 27.984375 \nQ 45.40625 37.75 41.375 43.109375 \nQ 37.359375 48.484375 30.078125 48.484375 \nQ 22.859375 48.484375 18.828125 43.109375 \nQ 14.796875 37.75 14.796875 27.984375 \nQ 14.796875 18.265625 18.828125 12.890625 \nQ 22.859375 7.515625 30.078125 7.515625 \nQ 37.359375 7.515625 41.375 12.890625 \nQ 45.40625 18.265625 45.40625 27.984375 \nz\nM 54.390625 6.78125 \nQ 54.390625 -7.171875 48.1875 -13.984375 \nQ 42 -20.796875 29.203125 -20.796875 \nQ 24.46875 -20.796875 20.265625 -20.09375 \nQ 16.0625 -19.390625 12.109375 -17.921875 \nL 12.109375 -9.1875 \nQ 16.0625 -11.328125 19.921875 -12.34375 \nQ 23.78125 -13.375 27.78125 -13.375 \nQ 36.625 -13.375 41.015625 -8.765625 \nQ 45.40625 -4.15625 45.40625 5.171875 \nL 45.40625 9.625 \nQ 42.625 4.78125 38.28125 2.390625 \nQ 33.9375 0 27.875 0 \nQ 17.828125 0 11.671875 7.65625 \nQ 5.515625 15.328125 5.515625 27.984375 \nQ 5.515625 40.671875 11.671875 48.328125 \nQ 17.828125 56 27.875 56 \nQ 33.9375 56 38.28125 53.609375 \nQ 42.625 51.21875 45.40625 46.390625 \nL 45.40625 54.6875 \nL 54.390625 54.6875 \nz\n\" id=\"DejaVuSans-103\"/>\n      <path d=\"M 41.109375 46.296875 \nQ 39.59375 47.171875 37.8125 47.578125 \nQ 36.03125 48 33.890625 48 \nQ 26.265625 48 22.1875 43.046875 \nQ 18.109375 38.09375 18.109375 28.8125 \nL 18.109375 0 \nL 9.078125 0 \nL 9.078125 54.6875 \nL 18.109375 54.6875 \nL 18.109375 46.1875 \nQ 20.953125 51.171875 25.484375 53.578125 \nQ 30.03125 56 36.53125 56 \nQ 37.453125 56 38.578125 55.875 \nQ 39.703125 55.765625 41.0625 55.515625 \nz\n\" id=\"DejaVuSans-114\"/>\n      <path d=\"M 34.28125 27.484375 \nQ 23.390625 27.484375 19.1875 25 \nQ 14.984375 22.515625 14.984375 16.5 \nQ 14.984375 11.71875 18.140625 8.90625 \nQ 21.296875 6.109375 26.703125 6.109375 \nQ 34.1875 6.109375 38.703125 11.40625 \nQ 43.21875 16.703125 43.21875 25.484375 \nL 43.21875 27.484375 \nz\nM 52.203125 31.203125 \nL 52.203125 0 \nL 43.21875 0 \nL 43.21875 8.296875 \nQ 40.140625 3.328125 35.546875 0.953125 \nQ 30.953125 -1.421875 24.3125 -1.421875 \nQ 15.921875 -1.421875 10.953125 3.296875 \nQ 6 8.015625 6 15.921875 \nQ 6 25.140625 12.171875 29.828125 \nQ 18.359375 34.515625 30.609375 34.515625 \nL 43.21875 34.515625 \nL 43.21875 35.40625 \nQ 43.21875 41.609375 39.140625 45 \nQ 35.0625 48.390625 27.6875 48.390625 \nQ 23 48.390625 18.546875 47.265625 \nQ 14.109375 46.140625 10.015625 43.890625 \nL 10.015625 52.203125 \nQ 14.9375 54.109375 19.578125 55.046875 \nQ 24.21875 56 28.609375 56 \nQ 40.484375 56 46.34375 49.84375 \nQ 52.203125 43.703125 52.203125 31.203125 \nz\n\" id=\"DejaVuSans-97\"/>\n      <path d=\"M 52 44.1875 \nQ 55.375 50.25 60.0625 53.125 \nQ 64.75 56 71.09375 56 \nQ 79.640625 56 84.28125 50.015625 \nQ 88.921875 44.046875 88.921875 33.015625 \nL 88.921875 0 \nL 79.890625 0 \nL 79.890625 32.71875 \nQ 79.890625 40.578125 77.09375 44.375 \nQ 74.3125 48.1875 68.609375 48.1875 \nQ 61.625 48.1875 57.5625 43.546875 \nQ 53.515625 38.921875 53.515625 30.90625 \nL 53.515625 0 \nL 44.484375 0 \nL 44.484375 32.71875 \nQ 44.484375 40.625 41.703125 44.40625 \nQ 38.921875 48.1875 33.109375 48.1875 \nQ 26.21875 48.1875 22.15625 43.53125 \nQ 18.109375 38.875 18.109375 30.90625 \nL 18.109375 0 \nL 9.078125 0 \nL 9.078125 54.6875 \nL 18.109375 54.6875 \nL 18.109375 46.1875 \nQ 21.1875 51.21875 25.484375 53.609375 \nQ 29.78125 56 35.6875 56 \nQ 41.65625 56 45.828125 52.96875 \nQ 50 49.953125 52 44.1875 \nz\n\" id=\"DejaVuSans-109\"/>\n      <path id=\"DejaVuSans-32\"/>\n      <path d=\"M 37.109375 75.984375 \nL 37.109375 68.5 \nL 28.515625 68.5 \nQ 23.6875 68.5 21.796875 66.546875 \nQ 19.921875 64.59375 19.921875 59.515625 \nL 19.921875 54.6875 \nL 34.71875 54.6875 \nL 34.71875 47.703125 \nL 19.921875 47.703125 \nL 19.921875 0 \nL 10.890625 0 \nL 10.890625 47.703125 \nL 2.296875 47.703125 \nL 2.296875 54.6875 \nL 10.890625 54.6875 \nL 10.890625 58.5 \nQ 10.890625 67.625 15.140625 71.796875 \nQ 19.390625 75.984375 28.609375 75.984375 \nz\n\" id=\"DejaVuSans-102\"/>\n      <path d=\"M 9.8125 72.90625 \nL 23.09375 72.90625 \nL 55.421875 11.921875 \nL 55.421875 72.90625 \nL 64.984375 72.90625 \nL 64.984375 0 \nL 51.703125 0 \nL 19.390625 60.984375 \nL 19.390625 0 \nL 9.8125 0 \nz\n\" id=\"DejaVuSans-78\"/>\n      <path d=\"M 2.984375 54.6875 \nL 12.5 54.6875 \nL 29.59375 8.796875 \nL 46.6875 54.6875 \nL 56.203125 54.6875 \nL 35.6875 0 \nL 23.484375 0 \nz\n\" id=\"DejaVuSans-118\"/>\n      <path d=\"M 56.203125 29.59375 \nL 56.203125 25.203125 \nL 14.890625 25.203125 \nQ 15.484375 15.921875 20.484375 11.0625 \nQ 25.484375 6.203125 34.421875 6.203125 \nQ 39.59375 6.203125 44.453125 7.46875 \nQ 49.3125 8.734375 54.109375 11.28125 \nL 54.109375 2.78125 \nQ 49.265625 0.734375 44.1875 -0.34375 \nQ 39.109375 -1.421875 33.890625 -1.421875 \nQ 20.796875 -1.421875 13.15625 6.1875 \nQ 5.515625 13.8125 5.515625 26.8125 \nQ 5.515625 40.234375 12.765625 48.109375 \nQ 20.015625 56 32.328125 56 \nQ 43.359375 56 49.78125 48.890625 \nQ 56.203125 41.796875 56.203125 29.59375 \nz\nM 47.21875 32.234375 \nQ 47.125 39.59375 43.09375 43.984375 \nQ 39.0625 48.390625 32.421875 48.390625 \nQ 24.90625 48.390625 20.390625 44.140625 \nQ 15.875 39.890625 15.1875 32.171875 \nz\n\" id=\"DejaVuSans-101\"/>\n     </defs>\n     <use xlink:href=\"#DejaVuSans-72\"/>\n     <use x=\"75.195312\" xlink:href=\"#DejaVuSans-105\"/>\n     <use x=\"102.978516\" xlink:href=\"#DejaVuSans-115\"/>\n     <use x=\"155.078125\" xlink:href=\"#DejaVuSans-116\"/>\n     <use x=\"194.287109\" xlink:href=\"#DejaVuSans-111\"/>\n     <use x=\"255.46875\" xlink:href=\"#DejaVuSans-103\"/>\n     <use x=\"318.945312\" xlink:href=\"#DejaVuSans-114\"/>\n     <use x=\"360.058594\" xlink:href=\"#DejaVuSans-97\"/>\n     <use x=\"421.337891\" xlink:href=\"#DejaVuSans-109\"/>\n     <use x=\"518.75\" xlink:href=\"#DejaVuSans-32\"/>\n     <use x=\"550.537109\" xlink:href=\"#DejaVuSans-111\"/>\n     <use x=\"611.71875\" xlink:href=\"#DejaVuSans-102\"/>\n     <use x=\"646.923828\" xlink:href=\"#DejaVuSans-32\"/>\n     <use x=\"678.710938\" xlink:href=\"#DejaVuSans-78\"/>\n     <use x=\"753.515625\" xlink:href=\"#DejaVuSans-97\"/>\n     <use x=\"814.794922\" xlink:href=\"#DejaVuSans-116\"/>\n     <use x=\"854.003906\" xlink:href=\"#DejaVuSans-105\"/>\n     <use x=\"881.787109\" xlink:href=\"#DejaVuSans-118\"/>\n     <use x=\"940.966797\" xlink:href=\"#DejaVuSans-101\"/>\n    </g>\n   </g>\n  </g>\n </g>\n <defs>\n  <clipPath id=\"p712b5b710f\">\n   <rect height=\"163.08\" width=\"334.8\" x=\"39.65\" y=\"22.318125\"/>\n  </clipPath>\n </defs>\n</svg>\n",
      "image/png": "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\n"
     },
     "metadata": {
      "needs_background": "light"
     }
    },
    {
     "output_type": "display_data",
     "data": {
      "text/plain": "<Figure size 432x216 with 1 Axes>",
      "image/svg+xml": "<?xml version=\"1.0\" encoding=\"utf-8\" standalone=\"no\"?>\n<!DOCTYPE svg PUBLIC \"-//W3C//DTD SVG 1.1//EN\"\n  \"http://www.w3.org/Graphics/SVG/1.1/DTD/svg11.dtd\">\n<!-- Created with matplotlib (https://matplotlib.org/) -->\n<svg height=\"209.27625pt\" version=\"1.1\" viewBox=\"0 0 381.65 209.27625\" width=\"381.65pt\" xmlns=\"http://www.w3.org/2000/svg\" xmlns:xlink=\"http://www.w3.org/1999/xlink\">\n <metadata>\n  <rdf:RDF xmlns:cc=\"http://creativecommons.org/ns#\" xmlns:dc=\"http://purl.org/dc/elements/1.1/\" xmlns:rdf=\"http://www.w3.org/1999/02/22-rdf-syntax-ns#\">\n   <cc:Work>\n    <dc:type rdf:resource=\"http://purl.org/dc/dcmitype/StillImage\"/>\n    <dc:date>2021-03-20T03:25:28.144883</dc:date>\n    <dc:format>image/svg+xml</dc:format>\n    <dc:creator>\n     <cc:Agent>\n      <dc:title>Matplotlib v3.3.4, https://matplotlib.org/</dc:title>\n     </cc:Agent>\n    </dc:creator>\n   </cc:Work>\n  </rdf:RDF>\n </metadata>\n <defs>\n  <style type=\"text/css\">*{stroke-linecap:butt;stroke-linejoin:round;}</style>\n </defs>\n <g id=\"figure_1\">\n  <g id=\"patch_1\">\n   <path d=\"M -0 209.27625 \nL 381.65 209.27625 \nL 381.65 0 \nL -0 0 \nz\n\" style=\"fill:none;\"/>\n  </g>\n  <g id=\"axes_1\">\n   <g id=\"patch_2\">\n    <path d=\"M 39.65 185.398125 \nL 374.45 185.398125 \nL 374.45 22.318125 \nL 39.65 22.318125 \nz\n\" style=\"fill:#ffffff;\"/>\n   </g>\n   <g id=\"patch_3\">\n    <path clip-path=\"url(#pd875993347)\" d=\"M 54.868182 185.398125 \nL 65.013636 185.398125 \nL 65.013636 30.083839 \nL 54.868182 30.083839 \nz\n\" style=\"fill:#1f77b4;\"/>\n   </g>\n   <g id=\"patch_4\">\n    <path clip-path=\"url(#pd875993347)\" d=\"M 65.013636 185.398125 \nL 75.159091 185.398125 \nL 75.159091 163.070163 \nL 65.013636 163.070163 \nz\n\" style=\"fill:#1f77b4;\"/>\n   </g>\n   <g id=\"patch_5\">\n    <path clip-path=\"url(#pd875993347)\" d=\"M 75.159091 185.398125 \nL 85.304545 185.398125 \nL 85.304545 176.933128 \nL 75.159091 176.933128 \nz\n\" style=\"fill:#1f77b4;\"/>\n   </g>\n   <g id=\"patch_6\">\n    <path clip-path=\"url(#pd875993347)\" d=\"M 85.304545 185.398125 \nL 95.45 185.398125 \nL 95.45 181.656351 \nL 85.304545 181.656351 \nz\n\" style=\"fill:#1f77b4;\"/>\n   </g>\n   <g id=\"patch_7\">\n    <path clip-path=\"url(#pd875993347)\" d=\"M 95.45 185.398125 \nL 105.595455 185.398125 \nL 105.595455 182.453778 \nL 95.45 182.453778 \nz\n\" style=\"fill:#1f77b4;\"/>\n   </g>\n   <g id=\"patch_8\">\n    <path clip-path=\"url(#pd875993347)\" d=\"M 105.595455 185.398125 \nL 115.740909 185.398125 \nL 115.740909 184.293995 \nL 105.595455 184.293995 \nz\n\" style=\"fill:#1f77b4;\"/>\n   </g>\n   <g id=\"patch_9\">\n    <path clip-path=\"url(#pd875993347)\" d=\"M 115.740909 185.398125 \nL 125.886364 185.398125 \nL 125.886364 184.662038 \nL 115.740909 184.662038 \nz\n\" style=\"fill:#1f77b4;\"/>\n   </g>\n   <g id=\"patch_10\">\n    <path clip-path=\"url(#pd875993347)\" d=\"M 125.886364 185.398125 \nL 136.031818 185.398125 \nL 136.031818 184.907401 \nL 125.886364 184.907401 \nz\n\" style=\"fill:#1f77b4;\"/>\n   </g>\n   <g id=\"patch_11\">\n    <path clip-path=\"url(#pd875993347)\" d=\"M 136.031818 185.398125 \nL 146.177273 185.398125 \nL 146.177273 185.091422 \nL 136.031818 185.091422 \nz\n\" style=\"fill:#1f77b4;\"/>\n   </g>\n   <g id=\"patch_12\">\n    <path clip-path=\"url(#pd875993347)\" d=\"M 146.177273 185.398125 \nL 156.322727 185.398125 \nL 156.322727 185.275444 \nL 146.177273 185.275444 \nz\n\" style=\"fill:#1f77b4;\"/>\n   </g>\n   <g id=\"patch_13\">\n    <path clip-path=\"url(#pd875993347)\" d=\"M 156.322727 185.398125 \nL 166.468182 185.398125 \nL 166.468182 184.907401 \nL 156.322727 184.907401 \nz\n\" style=\"fill:#1f77b4;\"/>\n   </g>\n   <g id=\"patch_14\">\n    <path clip-path=\"url(#pd875993347)\" d=\"M 166.468182 185.398125 \nL 176.613636 185.398125 \nL 176.613636 185.030082 \nL 166.468182 185.030082 \nz\n\" style=\"fill:#1f77b4;\"/>\n   </g>\n   <g id=\"patch_15\">\n    <path clip-path=\"url(#pd875993347)\" d=\"M 176.613636 185.398125 \nL 186.759091 185.398125 \nL 186.759091 185.398125 \nL 176.613636 185.398125 \nz\n\" style=\"fill:#1f77b4;\"/>\n   </g>\n   <g id=\"patch_16\">\n    <path clip-path=\"url(#pd875993347)\" d=\"M 186.759091 185.398125 \nL 196.904545 185.398125 \nL 196.904545 185.214103 \nL 186.759091 185.214103 \nz\n\" style=\"fill:#1f77b4;\"/>\n   </g>\n   <g id=\"patch_17\">\n    <path clip-path=\"url(#pd875993347)\" d=\"M 196.904545 185.398125 \nL 207.05 185.398125 \nL 207.05 185.398125 \nL 196.904545 185.398125 \nz\n\" style=\"fill:#1f77b4;\"/>\n   </g>\n   <g id=\"patch_18\">\n    <path clip-path=\"url(#pd875993347)\" d=\"M 207.05 185.398125 \nL 217.195455 185.398125 \nL 217.195455 185.275444 \nL 207.05 185.275444 \nz\n\" style=\"fill:#1f77b4;\"/>\n   </g>\n   <g id=\"patch_19\">\n    <path clip-path=\"url(#pd875993347)\" d=\"M 217.195455 185.398125 \nL 227.340909 185.398125 \nL 227.340909 185.336784 \nL 217.195455 185.336784 \nz\n\" style=\"fill:#1f77b4;\"/>\n   </g>\n   <g id=\"patch_20\">\n    <path clip-path=\"url(#pd875993347)\" d=\"M 227.340909 185.398125 \nL 237.486364 185.398125 \nL 237.486364 185.336784 \nL 227.340909 185.336784 \nz\n\" style=\"fill:#1f77b4;\"/>\n   </g>\n   <g id=\"patch_21\">\n    <path clip-path=\"url(#pd875993347)\" d=\"M 237.486364 185.398125 \nL 247.631818 185.398125 \nL 247.631818 185.336784 \nL 237.486364 185.336784 \nz\n\" style=\"fill:#1f77b4;\"/>\n   </g>\n   <g id=\"patch_22\">\n    <path clip-path=\"url(#pd875993347)\" d=\"M 247.631818 185.398125 \nL 257.777273 185.398125 \nL 257.777273 185.275444 \nL 247.631818 185.275444 \nz\n\" style=\"fill:#1f77b4;\"/>\n   </g>\n   <g id=\"patch_23\">\n    <path clip-path=\"url(#pd875993347)\" d=\"M 257.777273 185.398125 \nL 267.922727 185.398125 \nL 267.922727 185.398125 \nL 257.777273 185.398125 \nz\n\" style=\"fill:#1f77b4;\"/>\n   </g>\n   <g id=\"patch_24\">\n    <path clip-path=\"url(#pd875993347)\" d=\"M 267.922727 185.398125 \nL 278.068182 185.398125 \nL 278.068182 185.336784 \nL 267.922727 185.336784 \nz\n\" style=\"fill:#1f77b4;\"/>\n   </g>\n   <g id=\"patch_25\">\n    <path clip-path=\"url(#pd875993347)\" d=\"M 278.068182 185.398125 \nL 288.213636 185.398125 \nL 288.213636 185.398125 \nL 278.068182 185.398125 \nz\n\" style=\"fill:#1f77b4;\"/>\n   </g>\n   <g id=\"patch_26\">\n    <path clip-path=\"url(#pd875993347)\" d=\"M 288.213636 185.398125 \nL 298.359091 185.398125 \nL 298.359091 185.398125 \nL 288.213636 185.398125 \nz\n\" style=\"fill:#1f77b4;\"/>\n   </g>\n   <g id=\"patch_27\">\n    <path clip-path=\"url(#pd875993347)\" d=\"M 298.359091 185.398125 \nL 308.504545 185.398125 \nL 308.504545 185.214103 \nL 298.359091 185.214103 \nz\n\" style=\"fill:#1f77b4;\"/>\n   </g>\n   <g id=\"patch_28\">\n    <path clip-path=\"url(#pd875993347)\" d=\"M 308.504545 185.398125 \nL 318.65 185.398125 \nL 318.65 185.398125 \nL 308.504545 185.398125 \nz\n\" style=\"fill:#1f77b4;\"/>\n   </g>\n   <g id=\"patch_29\">\n    <path clip-path=\"url(#pd875993347)\" d=\"M 318.65 185.398125 \nL 328.795455 185.398125 \nL 328.795455 185.336784 \nL 318.65 185.336784 \nz\n\" style=\"fill:#1f77b4;\"/>\n   </g>\n   <g id=\"patch_30\">\n    <path clip-path=\"url(#pd875993347)\" d=\"M 328.795455 185.398125 \nL 338.940909 185.398125 \nL 338.940909 185.398125 \nL 328.795455 185.398125 \nz\n\" style=\"fill:#1f77b4;\"/>\n   </g>\n   <g id=\"patch_31\">\n    <path clip-path=\"url(#pd875993347)\" d=\"M 338.940909 185.398125 \nL 349.086364 185.398125 \nL 349.086364 185.398125 \nL 338.940909 185.398125 \nz\n\" style=\"fill:#1f77b4;\"/>\n   </g>\n   <g id=\"patch_32\">\n    <path clip-path=\"url(#pd875993347)\" d=\"M 349.086364 185.398125 \nL 359.231818 185.398125 \nL 359.231818 185.336784 \nL 349.086364 185.336784 \nz\n\" style=\"fill:#1f77b4;\"/>\n   </g>\n   <g id=\"matplotlib.axis_1\">\n    <g id=\"xtick_1\">\n     <g id=\"line2d_1\">\n      <defs>\n       <path d=\"M 0 0 \nL 0 3.5 \n\" id=\"m92dc319bad\" style=\"stroke:#000000;stroke-width:0.8;\"/>\n      </defs>\n      <g>\n       <use style=\"stroke:#000000;stroke-width:0.8;\" x=\"54.868182\" xlink:href=\"#m92dc319bad\" y=\"185.398125\"/>\n      </g>\n     </g>\n     <g id=\"text_1\">\n      <!-- 0 -->\n      <g transform=\"translate(51.686932 199.996563)scale(0.1 -0.1)\">\n       <defs>\n        <path d=\"M 31.78125 66.40625 \nQ 24.171875 66.40625 20.328125 58.90625 \nQ 16.5 51.421875 16.5 36.375 \nQ 16.5 21.390625 20.328125 13.890625 \nQ 24.171875 6.390625 31.78125 6.390625 \nQ 39.453125 6.390625 43.28125 13.890625 \nQ 47.125 21.390625 47.125 36.375 \nQ 47.125 51.421875 43.28125 58.90625 \nQ 39.453125 66.40625 31.78125 66.40625 \nz\nM 31.78125 74.21875 \nQ 44.046875 74.21875 50.515625 64.515625 \nQ 56.984375 54.828125 56.984375 36.375 \nQ 56.984375 17.96875 50.515625 8.265625 \nQ 44.046875 -1.421875 31.78125 -1.421875 \nQ 19.53125 -1.421875 13.0625 8.265625 \nQ 6.59375 17.96875 6.59375 36.375 \nQ 6.59375 54.828125 13.0625 64.515625 \nQ 19.53125 74.21875 31.78125 74.21875 \nz\n\" id=\"DejaVuSans-48\"/>\n       </defs>\n       <use xlink:href=\"#DejaVuSans-48\"/>\n      </g>\n     </g>\n    </g>\n    <g id=\"xtick_2\">\n     <g id=\"line2d_2\">\n      <g>\n       <use style=\"stroke:#000000;stroke-width:0.8;\" x=\"128.032517\" xlink:href=\"#m92dc319bad\" y=\"185.398125\"/>\n      </g>\n     </g>\n     <g id=\"text_2\">\n      <!-- 10 -->\n      <g transform=\"translate(121.670017 199.996563)scale(0.1 -0.1)\">\n       <defs>\n        <path d=\"M 12.40625 8.296875 \nL 28.515625 8.296875 \nL 28.515625 63.921875 \nL 10.984375 60.40625 \nL 10.984375 69.390625 \nL 28.421875 72.90625 \nL 38.28125 72.90625 \nL 38.28125 8.296875 \nL 54.390625 8.296875 \nL 54.390625 0 \nL 12.40625 0 \nz\n\" id=\"DejaVuSans-49\"/>\n       </defs>\n       <use xlink:href=\"#DejaVuSans-49\"/>\n       <use x=\"63.623047\" xlink:href=\"#DejaVuSans-48\"/>\n      </g>\n     </g>\n    </g>\n    <g id=\"xtick_3\">\n     <g id=\"line2d_3\">\n      <g>\n       <use style=\"stroke:#000000;stroke-width:0.8;\" x=\"201.196853\" xlink:href=\"#m92dc319bad\" y=\"185.398125\"/>\n      </g>\n     </g>\n     <g id=\"text_3\">\n      <!-- 20 -->\n      <g transform=\"translate(194.834353 199.996563)scale(0.1 -0.1)\">\n       <defs>\n        <path d=\"M 19.1875 8.296875 \nL 53.609375 8.296875 \nL 53.609375 0 \nL 7.328125 0 \nL 7.328125 8.296875 \nQ 12.9375 14.109375 22.625 23.890625 \nQ 32.328125 33.6875 34.8125 36.53125 \nQ 39.546875 41.84375 41.421875 45.53125 \nQ 43.3125 49.21875 43.3125 52.78125 \nQ 43.3125 58.59375 39.234375 62.25 \nQ 35.15625 65.921875 28.609375 65.921875 \nQ 23.96875 65.921875 18.8125 64.3125 \nQ 13.671875 62.703125 7.8125 59.421875 \nL 7.8125 69.390625 \nQ 13.765625 71.78125 18.9375 73 \nQ 24.125 74.21875 28.421875 74.21875 \nQ 39.75 74.21875 46.484375 68.546875 \nQ 53.21875 62.890625 53.21875 53.421875 \nQ 53.21875 48.921875 51.53125 44.890625 \nQ 49.859375 40.875 45.40625 35.40625 \nQ 44.1875 33.984375 37.640625 27.21875 \nQ 31.109375 20.453125 19.1875 8.296875 \nz\n\" id=\"DejaVuSans-50\"/>\n       </defs>\n       <use xlink:href=\"#DejaVuSans-50\"/>\n       <use x=\"63.623047\" xlink:href=\"#DejaVuSans-48\"/>\n      </g>\n     </g>\n    </g>\n    <g id=\"xtick_4\">\n     <g id=\"line2d_4\">\n      <g>\n       <use style=\"stroke:#000000;stroke-width:0.8;\" x=\"274.361189\" xlink:href=\"#m92dc319bad\" y=\"185.398125\"/>\n      </g>\n     </g>\n     <g id=\"text_4\">\n      <!-- 30 -->\n      <g transform=\"translate(267.998689 199.996563)scale(0.1 -0.1)\">\n       <defs>\n        <path d=\"M 40.578125 39.3125 \nQ 47.65625 37.796875 51.625 33 \nQ 55.609375 28.21875 55.609375 21.1875 \nQ 55.609375 10.40625 48.1875 4.484375 \nQ 40.765625 -1.421875 27.09375 -1.421875 \nQ 22.515625 -1.421875 17.65625 -0.515625 \nQ 12.796875 0.390625 7.625 2.203125 \nL 7.625 11.71875 \nQ 11.71875 9.328125 16.59375 8.109375 \nQ 21.484375 6.890625 26.8125 6.890625 \nQ 36.078125 6.890625 40.9375 10.546875 \nQ 45.796875 14.203125 45.796875 21.1875 \nQ 45.796875 27.640625 41.28125 31.265625 \nQ 36.765625 34.90625 28.71875 34.90625 \nL 20.21875 34.90625 \nL 20.21875 43.015625 \nL 29.109375 43.015625 \nQ 36.375 43.015625 40.234375 45.921875 \nQ 44.09375 48.828125 44.09375 54.296875 \nQ 44.09375 59.90625 40.109375 62.90625 \nQ 36.140625 65.921875 28.71875 65.921875 \nQ 24.65625 65.921875 20.015625 65.03125 \nQ 15.375 64.15625 9.8125 62.3125 \nL 9.8125 71.09375 \nQ 15.4375 72.65625 20.34375 73.4375 \nQ 25.25 74.21875 29.59375 74.21875 \nQ 40.828125 74.21875 47.359375 69.109375 \nQ 53.90625 64.015625 53.90625 55.328125 \nQ 53.90625 49.265625 50.4375 45.09375 \nQ 46.96875 40.921875 40.578125 39.3125 \nz\n\" id=\"DejaVuSans-51\"/>\n       </defs>\n       <use xlink:href=\"#DejaVuSans-51\"/>\n       <use x=\"63.623047\" xlink:href=\"#DejaVuSans-48\"/>\n      </g>\n     </g>\n    </g>\n    <g id=\"xtick_5\">\n     <g id=\"line2d_5\">\n      <g>\n       <use style=\"stroke:#000000;stroke-width:0.8;\" x=\"347.525524\" xlink:href=\"#m92dc319bad\" y=\"185.398125\"/>\n      </g>\n     </g>\n     <g id=\"text_5\">\n      <!-- 40 -->\n      <g transform=\"translate(341.163024 199.996563)scale(0.1 -0.1)\">\n       <defs>\n        <path d=\"M 37.796875 64.3125 \nL 12.890625 25.390625 \nL 37.796875 25.390625 \nz\nM 35.203125 72.90625 \nL 47.609375 72.90625 \nL 47.609375 25.390625 \nL 58.015625 25.390625 \nL 58.015625 17.1875 \nL 47.609375 17.1875 \nL 47.609375 0 \nL 37.796875 0 \nL 37.796875 17.1875 \nL 4.890625 17.1875 \nL 4.890625 26.703125 \nz\n\" id=\"DejaVuSans-52\"/>\n       </defs>\n       <use xlink:href=\"#DejaVuSans-52\"/>\n       <use x=\"63.623047\" xlink:href=\"#DejaVuSans-48\"/>\n      </g>\n     </g>\n    </g>\n   </g>\n   <g id=\"matplotlib.axis_2\">\n    <g id=\"ytick_1\">\n     <g id=\"line2d_6\">\n      <defs>\n       <path d=\"M 0 0 \nL -3.5 0 \n\" id=\"m03f58c4f6f\" style=\"stroke:#000000;stroke-width:0.8;\"/>\n      </defs>\n      <g>\n       <use style=\"stroke:#000000;stroke-width:0.8;\" x=\"39.65\" xlink:href=\"#m03f58c4f6f\" y=\"185.398125\"/>\n      </g>\n     </g>\n     <g id=\"text_6\">\n      <!-- 0 -->\n      <g transform=\"translate(26.2875 189.197344)scale(0.1 -0.1)\">\n       <use xlink:href=\"#DejaVuSans-48\"/>\n      </g>\n     </g>\n    </g>\n    <g id=\"ytick_2\">\n     <g id=\"line2d_7\">\n      <g>\n       <use style=\"stroke:#000000;stroke-width:0.8;\" x=\"39.65\" xlink:href=\"#m03f58c4f6f\" y=\"154.727847\"/>\n      </g>\n     </g>\n     <g id=\"text_7\">\n      <!-- 500 -->\n      <g transform=\"translate(13.5625 158.527066)scale(0.1 -0.1)\">\n       <defs>\n        <path d=\"M 10.796875 72.90625 \nL 49.515625 72.90625 \nL 49.515625 64.59375 \nL 19.828125 64.59375 \nL 19.828125 46.734375 \nQ 21.96875 47.46875 24.109375 47.828125 \nQ 26.265625 48.1875 28.421875 48.1875 \nQ 40.625 48.1875 47.75 41.5 \nQ 54.890625 34.8125 54.890625 23.390625 \nQ 54.890625 11.625 47.5625 5.09375 \nQ 40.234375 -1.421875 26.90625 -1.421875 \nQ 22.3125 -1.421875 17.546875 -0.640625 \nQ 12.796875 0.140625 7.71875 1.703125 \nL 7.71875 11.625 \nQ 12.109375 9.234375 16.796875 8.0625 \nQ 21.484375 6.890625 26.703125 6.890625 \nQ 35.15625 6.890625 40.078125 11.328125 \nQ 45.015625 15.765625 45.015625 23.390625 \nQ 45.015625 31 40.078125 35.4375 \nQ 35.15625 39.890625 26.703125 39.890625 \nQ 22.75 39.890625 18.8125 39.015625 \nQ 14.890625 38.140625 10.796875 36.28125 \nz\n\" id=\"DejaVuSans-53\"/>\n       </defs>\n       <use xlink:href=\"#DejaVuSans-53\"/>\n       <use x=\"63.623047\" xlink:href=\"#DejaVuSans-48\"/>\n       <use x=\"127.246094\" xlink:href=\"#DejaVuSans-48\"/>\n      </g>\n     </g>\n    </g>\n    <g id=\"ytick_3\">\n     <g id=\"line2d_8\">\n      <g>\n       <use style=\"stroke:#000000;stroke-width:0.8;\" x=\"39.65\" xlink:href=\"#m03f58c4f6f\" y=\"124.05757\"/>\n      </g>\n     </g>\n     <g id=\"text_8\">\n      <!-- 1000 -->\n      <g transform=\"translate(7.2 127.856789)scale(0.1 -0.1)\">\n       <use xlink:href=\"#DejaVuSans-49\"/>\n       <use x=\"63.623047\" xlink:href=\"#DejaVuSans-48\"/>\n       <use x=\"127.246094\" xlink:href=\"#DejaVuSans-48\"/>\n       <use x=\"190.869141\" xlink:href=\"#DejaVuSans-48\"/>\n      </g>\n     </g>\n    </g>\n    <g id=\"ytick_4\">\n     <g id=\"line2d_9\">\n      <g>\n       <use style=\"stroke:#000000;stroke-width:0.8;\" x=\"39.65\" xlink:href=\"#m03f58c4f6f\" y=\"93.387292\"/>\n      </g>\n     </g>\n     <g id=\"text_9\">\n      <!-- 1500 -->\n      <g transform=\"translate(7.2 97.186511)scale(0.1 -0.1)\">\n       <use xlink:href=\"#DejaVuSans-49\"/>\n       <use x=\"63.623047\" xlink:href=\"#DejaVuSans-53\"/>\n       <use x=\"127.246094\" xlink:href=\"#DejaVuSans-48\"/>\n       <use x=\"190.869141\" xlink:href=\"#DejaVuSans-48\"/>\n      </g>\n     </g>\n    </g>\n    <g id=\"ytick_5\">\n     <g id=\"line2d_10\">\n      <g>\n       <use style=\"stroke:#000000;stroke-width:0.8;\" x=\"39.65\" xlink:href=\"#m03f58c4f6f\" y=\"62.717015\"/>\n      </g>\n     </g>\n     <g id=\"text_10\">\n      <!-- 2000 -->\n      <g transform=\"translate(7.2 66.516233)scale(0.1 -0.1)\">\n       <use xlink:href=\"#DejaVuSans-50\"/>\n       <use x=\"63.623047\" xlink:href=\"#DejaVuSans-48\"/>\n       <use x=\"127.246094\" xlink:href=\"#DejaVuSans-48\"/>\n       <use x=\"190.869141\" xlink:href=\"#DejaVuSans-48\"/>\n      </g>\n     </g>\n    </g>\n    <g id=\"ytick_6\">\n     <g id=\"line2d_11\">\n      <g>\n       <use style=\"stroke:#000000;stroke-width:0.8;\" x=\"39.65\" xlink:href=\"#m03f58c4f6f\" y=\"32.046737\"/>\n      </g>\n     </g>\n     <g id=\"text_11\">\n      <!-- 2500 -->\n      <g transform=\"translate(7.2 35.845956)scale(0.1 -0.1)\">\n       <use xlink:href=\"#DejaVuSans-50\"/>\n       <use x=\"63.623047\" xlink:href=\"#DejaVuSans-53\"/>\n       <use x=\"127.246094\" xlink:href=\"#DejaVuSans-48\"/>\n       <use x=\"190.869141\" xlink:href=\"#DejaVuSans-48\"/>\n      </g>\n     </g>\n    </g>\n   </g>\n   <g id=\"patch_33\">\n    <path d=\"M 39.65 185.398125 \nL 39.65 22.318125 \n\" style=\"fill:none;stroke:#000000;stroke-linecap:square;stroke-linejoin:miter;stroke-width:0.8;\"/>\n   </g>\n   <g id=\"patch_34\">\n    <path d=\"M 374.45 185.398125 \nL 374.45 22.318125 \n\" style=\"fill:none;stroke:#000000;stroke-linecap:square;stroke-linejoin:miter;stroke-width:0.8;\"/>\n   </g>\n   <g id=\"patch_35\">\n    <path d=\"M 39.65 185.398125 \nL 374.45 185.398125 \n\" style=\"fill:none;stroke:#000000;stroke-linecap:square;stroke-linejoin:miter;stroke-width:0.8;\"/>\n   </g>\n   <g id=\"patch_36\">\n    <path d=\"M 39.65 22.318125 \nL 374.45 22.318125 \n\" style=\"fill:none;stroke:#000000;stroke-linecap:square;stroke-linejoin:miter;stroke-width:0.8;\"/>\n   </g>\n   <g id=\"text_12\">\n    <!-- Histogram of Asian -->\n    <g transform=\"translate(149.951563 16.318125)scale(0.12 -0.12)\">\n     <defs>\n      <path d=\"M 9.8125 72.90625 \nL 19.671875 72.90625 \nL 19.671875 43.015625 \nL 55.515625 43.015625 \nL 55.515625 72.90625 \nL 65.375 72.90625 \nL 65.375 0 \nL 55.515625 0 \nL 55.515625 34.71875 \nL 19.671875 34.71875 \nL 19.671875 0 \nL 9.8125 0 \nz\n\" id=\"DejaVuSans-72\"/>\n      <path d=\"M 9.421875 54.6875 \nL 18.40625 54.6875 \nL 18.40625 0 \nL 9.421875 0 \nz\nM 9.421875 75.984375 \nL 18.40625 75.984375 \nL 18.40625 64.59375 \nL 9.421875 64.59375 \nz\n\" id=\"DejaVuSans-105\"/>\n      <path d=\"M 44.28125 53.078125 \nL 44.28125 44.578125 \nQ 40.484375 46.53125 36.375 47.5 \nQ 32.28125 48.484375 27.875 48.484375 \nQ 21.1875 48.484375 17.84375 46.4375 \nQ 14.5 44.390625 14.5 40.28125 \nQ 14.5 37.15625 16.890625 35.375 \nQ 19.28125 33.59375 26.515625 31.984375 \nL 29.59375 31.296875 \nQ 39.15625 29.25 43.1875 25.515625 \nQ 47.21875 21.78125 47.21875 15.09375 \nQ 47.21875 7.46875 41.1875 3.015625 \nQ 35.15625 -1.421875 24.609375 -1.421875 \nQ 20.21875 -1.421875 15.453125 -0.5625 \nQ 10.6875 0.296875 5.421875 2 \nL 5.421875 11.28125 \nQ 10.40625 8.6875 15.234375 7.390625 \nQ 20.0625 6.109375 24.8125 6.109375 \nQ 31.15625 6.109375 34.5625 8.28125 \nQ 37.984375 10.453125 37.984375 14.40625 \nQ 37.984375 18.0625 35.515625 20.015625 \nQ 33.0625 21.96875 24.703125 23.78125 \nL 21.578125 24.515625 \nQ 13.234375 26.265625 9.515625 29.90625 \nQ 5.8125 33.546875 5.8125 39.890625 \nQ 5.8125 47.609375 11.28125 51.796875 \nQ 16.75 56 26.8125 56 \nQ 31.78125 56 36.171875 55.265625 \nQ 40.578125 54.546875 44.28125 53.078125 \nz\n\" id=\"DejaVuSans-115\"/>\n      <path d=\"M 18.3125 70.21875 \nL 18.3125 54.6875 \nL 36.8125 54.6875 \nL 36.8125 47.703125 \nL 18.3125 47.703125 \nL 18.3125 18.015625 \nQ 18.3125 11.328125 20.140625 9.421875 \nQ 21.96875 7.515625 27.59375 7.515625 \nL 36.8125 7.515625 \nL 36.8125 0 \nL 27.59375 0 \nQ 17.1875 0 13.234375 3.875 \nQ 9.28125 7.765625 9.28125 18.015625 \nL 9.28125 47.703125 \nL 2.6875 47.703125 \nL 2.6875 54.6875 \nL 9.28125 54.6875 \nL 9.28125 70.21875 \nz\n\" id=\"DejaVuSans-116\"/>\n      <path d=\"M 30.609375 48.390625 \nQ 23.390625 48.390625 19.1875 42.75 \nQ 14.984375 37.109375 14.984375 27.296875 \nQ 14.984375 17.484375 19.15625 11.84375 \nQ 23.34375 6.203125 30.609375 6.203125 \nQ 37.796875 6.203125 41.984375 11.859375 \nQ 46.1875 17.53125 46.1875 27.296875 \nQ 46.1875 37.015625 41.984375 42.703125 \nQ 37.796875 48.390625 30.609375 48.390625 \nz\nM 30.609375 56 \nQ 42.328125 56 49.015625 48.375 \nQ 55.71875 40.765625 55.71875 27.296875 \nQ 55.71875 13.875 49.015625 6.21875 \nQ 42.328125 -1.421875 30.609375 -1.421875 \nQ 18.84375 -1.421875 12.171875 6.21875 \nQ 5.515625 13.875 5.515625 27.296875 \nQ 5.515625 40.765625 12.171875 48.375 \nQ 18.84375 56 30.609375 56 \nz\n\" id=\"DejaVuSans-111\"/>\n      <path d=\"M 45.40625 27.984375 \nQ 45.40625 37.75 41.375 43.109375 \nQ 37.359375 48.484375 30.078125 48.484375 \nQ 22.859375 48.484375 18.828125 43.109375 \nQ 14.796875 37.75 14.796875 27.984375 \nQ 14.796875 18.265625 18.828125 12.890625 \nQ 22.859375 7.515625 30.078125 7.515625 \nQ 37.359375 7.515625 41.375 12.890625 \nQ 45.40625 18.265625 45.40625 27.984375 \nz\nM 54.390625 6.78125 \nQ 54.390625 -7.171875 48.1875 -13.984375 \nQ 42 -20.796875 29.203125 -20.796875 \nQ 24.46875 -20.796875 20.265625 -20.09375 \nQ 16.0625 -19.390625 12.109375 -17.921875 \nL 12.109375 -9.1875 \nQ 16.0625 -11.328125 19.921875 -12.34375 \nQ 23.78125 -13.375 27.78125 -13.375 \nQ 36.625 -13.375 41.015625 -8.765625 \nQ 45.40625 -4.15625 45.40625 5.171875 \nL 45.40625 9.625 \nQ 42.625 4.78125 38.28125 2.390625 \nQ 33.9375 0 27.875 0 \nQ 17.828125 0 11.671875 7.65625 \nQ 5.515625 15.328125 5.515625 27.984375 \nQ 5.515625 40.671875 11.671875 48.328125 \nQ 17.828125 56 27.875 56 \nQ 33.9375 56 38.28125 53.609375 \nQ 42.625 51.21875 45.40625 46.390625 \nL 45.40625 54.6875 \nL 54.390625 54.6875 \nz\n\" id=\"DejaVuSans-103\"/>\n      <path d=\"M 41.109375 46.296875 \nQ 39.59375 47.171875 37.8125 47.578125 \nQ 36.03125 48 33.890625 48 \nQ 26.265625 48 22.1875 43.046875 \nQ 18.109375 38.09375 18.109375 28.8125 \nL 18.109375 0 \nL 9.078125 0 \nL 9.078125 54.6875 \nL 18.109375 54.6875 \nL 18.109375 46.1875 \nQ 20.953125 51.171875 25.484375 53.578125 \nQ 30.03125 56 36.53125 56 \nQ 37.453125 56 38.578125 55.875 \nQ 39.703125 55.765625 41.0625 55.515625 \nz\n\" id=\"DejaVuSans-114\"/>\n      <path d=\"M 34.28125 27.484375 \nQ 23.390625 27.484375 19.1875 25 \nQ 14.984375 22.515625 14.984375 16.5 \nQ 14.984375 11.71875 18.140625 8.90625 \nQ 21.296875 6.109375 26.703125 6.109375 \nQ 34.1875 6.109375 38.703125 11.40625 \nQ 43.21875 16.703125 43.21875 25.484375 \nL 43.21875 27.484375 \nz\nM 52.203125 31.203125 \nL 52.203125 0 \nL 43.21875 0 \nL 43.21875 8.296875 \nQ 40.140625 3.328125 35.546875 0.953125 \nQ 30.953125 -1.421875 24.3125 -1.421875 \nQ 15.921875 -1.421875 10.953125 3.296875 \nQ 6 8.015625 6 15.921875 \nQ 6 25.140625 12.171875 29.828125 \nQ 18.359375 34.515625 30.609375 34.515625 \nL 43.21875 34.515625 \nL 43.21875 35.40625 \nQ 43.21875 41.609375 39.140625 45 \nQ 35.0625 48.390625 27.6875 48.390625 \nQ 23 48.390625 18.546875 47.265625 \nQ 14.109375 46.140625 10.015625 43.890625 \nL 10.015625 52.203125 \nQ 14.9375 54.109375 19.578125 55.046875 \nQ 24.21875 56 28.609375 56 \nQ 40.484375 56 46.34375 49.84375 \nQ 52.203125 43.703125 52.203125 31.203125 \nz\n\" id=\"DejaVuSans-97\"/>\n      <path d=\"M 52 44.1875 \nQ 55.375 50.25 60.0625 53.125 \nQ 64.75 56 71.09375 56 \nQ 79.640625 56 84.28125 50.015625 \nQ 88.921875 44.046875 88.921875 33.015625 \nL 88.921875 0 \nL 79.890625 0 \nL 79.890625 32.71875 \nQ 79.890625 40.578125 77.09375 44.375 \nQ 74.3125 48.1875 68.609375 48.1875 \nQ 61.625 48.1875 57.5625 43.546875 \nQ 53.515625 38.921875 53.515625 30.90625 \nL 53.515625 0 \nL 44.484375 0 \nL 44.484375 32.71875 \nQ 44.484375 40.625 41.703125 44.40625 \nQ 38.921875 48.1875 33.109375 48.1875 \nQ 26.21875 48.1875 22.15625 43.53125 \nQ 18.109375 38.875 18.109375 30.90625 \nL 18.109375 0 \nL 9.078125 0 \nL 9.078125 54.6875 \nL 18.109375 54.6875 \nL 18.109375 46.1875 \nQ 21.1875 51.21875 25.484375 53.609375 \nQ 29.78125 56 35.6875 56 \nQ 41.65625 56 45.828125 52.96875 \nQ 50 49.953125 52 44.1875 \nz\n\" id=\"DejaVuSans-109\"/>\n      <path id=\"DejaVuSans-32\"/>\n      <path d=\"M 37.109375 75.984375 \nL 37.109375 68.5 \nL 28.515625 68.5 \nQ 23.6875 68.5 21.796875 66.546875 \nQ 19.921875 64.59375 19.921875 59.515625 \nL 19.921875 54.6875 \nL 34.71875 54.6875 \nL 34.71875 47.703125 \nL 19.921875 47.703125 \nL 19.921875 0 \nL 10.890625 0 \nL 10.890625 47.703125 \nL 2.296875 47.703125 \nL 2.296875 54.6875 \nL 10.890625 54.6875 \nL 10.890625 58.5 \nQ 10.890625 67.625 15.140625 71.796875 \nQ 19.390625 75.984375 28.609375 75.984375 \nz\n\" id=\"DejaVuSans-102\"/>\n      <path d=\"M 34.1875 63.1875 \nL 20.796875 26.90625 \nL 47.609375 26.90625 \nz\nM 28.609375 72.90625 \nL 39.796875 72.90625 \nL 67.578125 0 \nL 57.328125 0 \nL 50.6875 18.703125 \nL 17.828125 18.703125 \nL 11.1875 0 \nL 0.78125 0 \nz\n\" id=\"DejaVuSans-65\"/>\n      <path d=\"M 54.890625 33.015625 \nL 54.890625 0 \nL 45.90625 0 \nL 45.90625 32.71875 \nQ 45.90625 40.484375 42.875 44.328125 \nQ 39.84375 48.1875 33.796875 48.1875 \nQ 26.515625 48.1875 22.3125 43.546875 \nQ 18.109375 38.921875 18.109375 30.90625 \nL 18.109375 0 \nL 9.078125 0 \nL 9.078125 54.6875 \nL 18.109375 54.6875 \nL 18.109375 46.1875 \nQ 21.34375 51.125 25.703125 53.5625 \nQ 30.078125 56 35.796875 56 \nQ 45.21875 56 50.046875 50.171875 \nQ 54.890625 44.34375 54.890625 33.015625 \nz\n\" id=\"DejaVuSans-110\"/>\n     </defs>\n     <use xlink:href=\"#DejaVuSans-72\"/>\n     <use x=\"75.195312\" xlink:href=\"#DejaVuSans-105\"/>\n     <use x=\"102.978516\" xlink:href=\"#DejaVuSans-115\"/>\n     <use x=\"155.078125\" xlink:href=\"#DejaVuSans-116\"/>\n     <use x=\"194.287109\" xlink:href=\"#DejaVuSans-111\"/>\n     <use x=\"255.46875\" xlink:href=\"#DejaVuSans-103\"/>\n     <use x=\"318.945312\" xlink:href=\"#DejaVuSans-114\"/>\n     <use x=\"360.058594\" xlink:href=\"#DejaVuSans-97\"/>\n     <use x=\"421.337891\" xlink:href=\"#DejaVuSans-109\"/>\n     <use x=\"518.75\" xlink:href=\"#DejaVuSans-32\"/>\n     <use x=\"550.537109\" xlink:href=\"#DejaVuSans-111\"/>\n     <use x=\"611.71875\" xlink:href=\"#DejaVuSans-102\"/>\n     <use x=\"646.923828\" xlink:href=\"#DejaVuSans-32\"/>\n     <use x=\"678.710938\" xlink:href=\"#DejaVuSans-65\"/>\n     <use x=\"747.119141\" xlink:href=\"#DejaVuSans-115\"/>\n     <use x=\"799.21875\" xlink:href=\"#DejaVuSans-105\"/>\n     <use x=\"827.001953\" xlink:href=\"#DejaVuSans-97\"/>\n     <use x=\"888.28125\" xlink:href=\"#DejaVuSans-110\"/>\n    </g>\n   </g>\n  </g>\n </g>\n <defs>\n  <clipPath id=\"pd875993347\">\n   <rect height=\"163.08\" width=\"334.8\" x=\"39.65\" y=\"22.318125\"/>\n  </clipPath>\n </defs>\n</svg>\n",
      "image/png": "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\n"
     },
     "metadata": {
      "needs_background": "light"
     }
>>>>>>> Stashed changes
    }
   ],
   "source": [
    "# Definition of histograms to be generated\n",
    "columns_to_hist = ['Men', 'Women', 'Hispanic', 'White', 'Black', 'Native', 'Asian']\n",
    "n_bins = 30\n",
    "\n",
    "\n",
    "for column_name in columns_to_hist:\n",
    "    ax=plt.subplots(figsize=(6,3))\n",
    "    # get data by column_name and display a histogram\n",
    "    ax = plt.hist(clean_counties_df[column_name], bins=n_bins)\n",
    "    title=f\"Histogram of {column_name}\"\n",
    "    plt.title(title, fontsize=12)\n",
    "    plt.show()\n"
   ]
  },
  {
   "cell_type": "markdown",
   "metadata": {},
   "source": [
    "## Data normalization (Pre-training)\n",
    "\n",
    "Since the dataset columns present distinct range of values, at different scales, I use an MinMaxScaler to standardize numerical values."
   ]
  },
  {
   "cell_type": "code",
<<<<<<< Updated upstream
   "execution_count": 12,
   "metadata": {},
   "outputs": [
    {
     "data": {
      "text/html": [
       "<div>\n",
       "<style scoped>\n",
       "    .dataframe tbody tr th:only-of-type {\n",
       "        vertical-align: middle;\n",
       "    }\n",
       "\n",
       "    .dataframe tbody tr th {\n",
       "        vertical-align: top;\n",
       "    }\n",
       "\n",
       "    .dataframe thead th {\n",
       "        text-align: right;\n",
       "    }\n",
       "</style>\n",
       "<table border=\"1\" class=\"dataframe\">\n",
       "  <thead>\n",
       "    <tr style=\"text-align: right;\">\n",
       "      <th></th>\n",
       "      <th>TotalPop</th>\n",
       "      <th>Men</th>\n",
       "      <th>Women</th>\n",
       "      <th>Hispanic</th>\n",
       "      <th>White</th>\n",
       "      <th>Black</th>\n",
       "      <th>Native</th>\n",
       "      <th>Asian</th>\n",
       "      <th>Pacific</th>\n",
       "      <th>Citizen</th>\n",
       "      <th>...</th>\n",
       "      <th>Walk</th>\n",
       "      <th>OtherTransp</th>\n",
       "      <th>WorkAtHome</th>\n",
       "      <th>MeanCommute</th>\n",
       "      <th>Employed</th>\n",
       "      <th>PrivateWork</th>\n",
       "      <th>PublicWork</th>\n",
       "      <th>SelfEmployed</th>\n",
       "      <th>FamilyWork</th>\n",
       "      <th>Unemployment</th>\n",
       "    </tr>\n",
       "  </thead>\n",
       "  <tbody>\n",
       "    <tr>\n",
       "      <th>count</th>\n",
       "      <td>3218.000000</td>\n",
       "      <td>3218.000000</td>\n",
       "      <td>3218.000000</td>\n",
       "      <td>3218.000000</td>\n",
       "      <td>3218.000000</td>\n",
       "      <td>3218.000000</td>\n",
       "      <td>3218.000000</td>\n",
       "      <td>3218.000000</td>\n",
       "      <td>3218.000000</td>\n",
       "      <td>3218.000000</td>\n",
       "      <td>...</td>\n",
       "      <td>3218.000000</td>\n",
       "      <td>3218.000000</td>\n",
       "      <td>3218.000000</td>\n",
       "      <td>3218.000000</td>\n",
       "      <td>3218.000000</td>\n",
       "      <td>3218.000000</td>\n",
       "      <td>3218.000000</td>\n",
       "      <td>3218.000000</td>\n",
       "      <td>3218.000000</td>\n",
       "      <td>3218.000000</td>\n",
       "    </tr>\n",
       "    <tr>\n",
       "      <th>mean</th>\n",
       "      <td>0.009883</td>\n",
       "      <td>0.009866</td>\n",
       "      <td>0.009899</td>\n",
       "      <td>0.110170</td>\n",
       "      <td>0.756024</td>\n",
       "      <td>0.100942</td>\n",
       "      <td>0.018682</td>\n",
       "      <td>0.029405</td>\n",
       "      <td>0.006470</td>\n",
       "      <td>0.011540</td>\n",
       "      <td>...</td>\n",
       "      <td>0.046496</td>\n",
       "      <td>0.041154</td>\n",
       "      <td>0.124428</td>\n",
       "      <td>0.470140</td>\n",
       "      <td>0.009806</td>\n",
       "      <td>0.760810</td>\n",
       "      <td>0.194426</td>\n",
       "      <td>0.216744</td>\n",
       "      <td>0.029417</td>\n",
       "      <td>0.221775</td>\n",
       "    </tr>\n",
       "    <tr>\n",
       "      <th>std</th>\n",
       "      <td>0.031818</td>\n",
       "      <td>0.031692</td>\n",
       "      <td>0.031948</td>\n",
       "      <td>0.192617</td>\n",
       "      <td>0.229682</td>\n",
       "      <td>0.166262</td>\n",
       "      <td>0.078748</td>\n",
       "      <td>0.062744</td>\n",
       "      <td>0.035446</td>\n",
       "      <td>0.033933</td>\n",
       "      <td>...</td>\n",
       "      <td>0.051956</td>\n",
       "      <td>0.042321</td>\n",
       "      <td>0.085301</td>\n",
       "      <td>0.143135</td>\n",
       "      <td>0.032305</td>\n",
       "      <td>0.132949</td>\n",
       "      <td>0.106923</td>\n",
       "      <td>0.106947</td>\n",
       "      <td>0.046451</td>\n",
       "      <td>0.112138</td>\n",
       "    </tr>\n",
       "    <tr>\n",
       "      <th>min</th>\n",
       "      <td>0.000000</td>\n",
       "      <td>0.000000</td>\n",
       "      <td>0.000000</td>\n",
       "      <td>0.000000</td>\n",
       "      <td>0.000000</td>\n",
       "      <td>0.000000</td>\n",
       "      <td>0.000000</td>\n",
       "      <td>0.000000</td>\n",
       "      <td>0.000000</td>\n",
       "      <td>0.000000</td>\n",
       "      <td>...</td>\n",
       "      <td>0.000000</td>\n",
       "      <td>0.000000</td>\n",
       "      <td>0.000000</td>\n",
       "      <td>0.000000</td>\n",
       "      <td>0.000000</td>\n",
       "      <td>0.000000</td>\n",
       "      <td>0.000000</td>\n",
       "      <td>0.000000</td>\n",
       "      <td>0.000000</td>\n",
       "      <td>0.000000</td>\n",
       "    </tr>\n",
       "    <tr>\n",
       "      <th>25%</th>\n",
       "      <td>0.001092</td>\n",
       "      <td>0.001117</td>\n",
       "      <td>0.001069</td>\n",
       "      <td>0.019019</td>\n",
       "      <td>0.642285</td>\n",
       "      <td>0.005821</td>\n",
       "      <td>0.001086</td>\n",
       "      <td>0.004808</td>\n",
       "      <td>0.000000</td>\n",
       "      <td>0.001371</td>\n",
       "      <td>...</td>\n",
       "      <td>0.019663</td>\n",
       "      <td>0.023018</td>\n",
       "      <td>0.072581</td>\n",
       "      <td>0.373402</td>\n",
       "      <td>0.000948</td>\n",
       "      <td>0.697279</td>\n",
       "      <td>0.120861</td>\n",
       "      <td>0.147541</td>\n",
       "      <td>0.010204</td>\n",
       "      <td>0.150685</td>\n",
       "    </tr>\n",
       "    <tr>\n",
       "      <th>50%</th>\n",
       "      <td>0.002571</td>\n",
       "      <td>0.002591</td>\n",
       "      <td>0.002539</td>\n",
       "      <td>0.039039</td>\n",
       "      <td>0.842685</td>\n",
       "      <td>0.022119</td>\n",
       "      <td>0.003257</td>\n",
       "      <td>0.012019</td>\n",
       "      <td>0.000000</td>\n",
       "      <td>0.003219</td>\n",
       "      <td>...</td>\n",
       "      <td>0.033708</td>\n",
       "      <td>0.033248</td>\n",
       "      <td>0.104839</td>\n",
       "      <td>0.462916</td>\n",
       "      <td>0.002234</td>\n",
       "      <td>0.785714</td>\n",
       "      <td>0.172185</td>\n",
       "      <td>0.188525</td>\n",
       "      <td>0.020408</td>\n",
       "      <td>0.208219</td>\n",
       "    </tr>\n",
       "    <tr>\n",
       "      <th>75%</th>\n",
       "      <td>0.006594</td>\n",
       "      <td>0.006645</td>\n",
       "      <td>0.006556</td>\n",
       "      <td>0.098098</td>\n",
       "      <td>0.933868</td>\n",
       "      <td>0.111758</td>\n",
       "      <td>0.006515</td>\n",
       "      <td>0.028846</td>\n",
       "      <td>0.000000</td>\n",
       "      <td>0.008237</td>\n",
       "      <td>...</td>\n",
       "      <td>0.056180</td>\n",
       "      <td>0.048593</td>\n",
       "      <td>0.150538</td>\n",
       "      <td>0.560102</td>\n",
       "      <td>0.006144</td>\n",
       "      <td>0.853741</td>\n",
       "      <td>0.243377</td>\n",
       "      <td>0.256831</td>\n",
       "      <td>0.030612</td>\n",
       "      <td>0.271233</td>\n",
       "    </tr>\n",
       "    <tr>\n",
       "      <th>max</th>\n",
       "      <td>1.000000</td>\n",
       "      <td>1.000000</td>\n",
       "      <td>1.000000</td>\n",
       "      <td>1.000000</td>\n",
       "      <td>1.000000</td>\n",
       "      <td>1.000000</td>\n",
       "      <td>1.000000</td>\n",
       "      <td>1.000000</td>\n",
       "      <td>1.000000</td>\n",
       "      <td>1.000000</td>\n",
       "      <td>...</td>\n",
       "      <td>1.000000</td>\n",
       "      <td>1.000000</td>\n",
       "      <td>1.000000</td>\n",
       "      <td>1.000000</td>\n",
       "      <td>1.000000</td>\n",
       "      <td>1.000000</td>\n",
       "      <td>1.000000</td>\n",
       "      <td>1.000000</td>\n",
       "      <td>1.000000</td>\n",
       "      <td>1.000000</td>\n",
       "    </tr>\n",
       "  </tbody>\n",
       "</table>\n",
       "<p>8 rows × 34 columns</p>\n",
       "</div>"
      ],
=======
   "execution_count": 30,
   "metadata": {},
   "outputs": [
    {
     "output_type": "execute_result",
     "data": {
>>>>>>> Stashed changes
      "text/plain": [
       "          TotalPop          Men        Women     Hispanic        White  \\\n",
       "count  3218.000000  3218.000000  3218.000000  3218.000000  3218.000000   \n",
       "mean      0.009883     0.009866     0.009899     0.110170     0.756024   \n",
       "std       0.031818     0.031692     0.031948     0.192617     0.229682   \n",
       "min       0.000000     0.000000     0.000000     0.000000     0.000000   \n",
       "25%       0.001092     0.001117     0.001069     0.019019     0.642285   \n",
       "50%       0.002571     0.002591     0.002539     0.039039     0.842685   \n",
       "75%       0.006594     0.006645     0.006556     0.098098     0.933868   \n",
       "max       1.000000     1.000000     1.000000     1.000000     1.000000   \n",
       "\n",
       "             Black       Native        Asian      Pacific      Citizen  ...  \\\n",
       "count  3218.000000  3218.000000  3218.000000  3218.000000  3218.000000  ...   \n",
       "mean      0.100942     0.018682     0.029405     0.006470     0.011540  ...   \n",
       "std       0.166262     0.078748     0.062744     0.035446     0.033933  ...   \n",
       "min       0.000000     0.000000     0.000000     0.000000     0.000000  ...   \n",
       "25%       0.005821     0.001086     0.004808     0.000000     0.001371  ...   \n",
       "50%       0.022119     0.003257     0.012019     0.000000     0.003219  ...   \n",
       "75%       0.111758     0.006515     0.028846     0.000000     0.008237  ...   \n",
       "max       1.000000     1.000000     1.000000     1.000000     1.000000  ...   \n",
       "\n",
       "              Walk  OtherTransp   WorkAtHome  MeanCommute     Employed  \\\n",
       "count  3218.000000  3218.000000  3218.000000  3218.000000  3218.000000   \n",
       "mean      0.046496     0.041154     0.124428     0.470140     0.009806   \n",
       "std       0.051956     0.042321     0.085301     0.143135     0.032305   \n",
       "min       0.000000     0.000000     0.000000     0.000000     0.000000   \n",
       "25%       0.019663     0.023018     0.072581     0.373402     0.000948   \n",
       "50%       0.033708     0.033248     0.104839     0.462916     0.002234   \n",
       "75%       0.056180     0.048593     0.150538     0.560102     0.006144   \n",
       "max       1.000000     1.000000     1.000000     1.000000     1.000000   \n",
       "\n",
       "       PrivateWork   PublicWork  SelfEmployed   FamilyWork  Unemployment  \n",
       "count  3218.000000  3218.000000   3218.000000  3218.000000   3218.000000  \n",
       "mean      0.760810     0.194426      0.216744     0.029417      0.221775  \n",
       "std       0.132949     0.106923      0.106947     0.046451      0.112138  \n",
       "min       0.000000     0.000000      0.000000     0.000000      0.000000  \n",
       "25%       0.697279     0.120861      0.147541     0.010204      0.150685  \n",
       "50%       0.785714     0.172185      0.188525     0.020408      0.208219  \n",
       "75%       0.853741     0.243377      0.256831     0.030612      0.271233  \n",
       "max       1.000000     1.000000      1.000000     1.000000      1.000000  \n",
       "\n",
       "[8 rows x 34 columns]"
<<<<<<< Updated upstream
      ]
     },
     "execution_count": 12,
     "metadata": {},
     "output_type": "execute_result"
=======
      ],
      "text/html": "<div>\n<style scoped>\n    .dataframe tbody tr th:only-of-type {\n        vertical-align: middle;\n    }\n\n    .dataframe tbody tr th {\n        vertical-align: top;\n    }\n\n    .dataframe thead th {\n        text-align: right;\n    }\n</style>\n<table border=\"1\" class=\"dataframe\">\n  <thead>\n    <tr style=\"text-align: right;\">\n      <th></th>\n      <th>TotalPop</th>\n      <th>Men</th>\n      <th>Women</th>\n      <th>Hispanic</th>\n      <th>White</th>\n      <th>Black</th>\n      <th>Native</th>\n      <th>Asian</th>\n      <th>Pacific</th>\n      <th>Citizen</th>\n      <th>...</th>\n      <th>Walk</th>\n      <th>OtherTransp</th>\n      <th>WorkAtHome</th>\n      <th>MeanCommute</th>\n      <th>Employed</th>\n      <th>PrivateWork</th>\n      <th>PublicWork</th>\n      <th>SelfEmployed</th>\n      <th>FamilyWork</th>\n      <th>Unemployment</th>\n    </tr>\n  </thead>\n  <tbody>\n    <tr>\n      <th>count</th>\n      <td>3218.000000</td>\n      <td>3218.000000</td>\n      <td>3218.000000</td>\n      <td>3218.000000</td>\n      <td>3218.000000</td>\n      <td>3218.000000</td>\n      <td>3218.000000</td>\n      <td>3218.000000</td>\n      <td>3218.000000</td>\n      <td>3218.000000</td>\n      <td>...</td>\n      <td>3218.000000</td>\n      <td>3218.000000</td>\n      <td>3218.000000</td>\n      <td>3218.000000</td>\n      <td>3218.000000</td>\n      <td>3218.000000</td>\n      <td>3218.000000</td>\n      <td>3218.000000</td>\n      <td>3218.000000</td>\n      <td>3218.000000</td>\n    </tr>\n    <tr>\n      <th>mean</th>\n      <td>0.009883</td>\n      <td>0.009866</td>\n      <td>0.009899</td>\n      <td>0.110170</td>\n      <td>0.756024</td>\n      <td>0.100942</td>\n      <td>0.018682</td>\n      <td>0.029405</td>\n      <td>0.006470</td>\n      <td>0.011540</td>\n      <td>...</td>\n      <td>0.046496</td>\n      <td>0.041154</td>\n      <td>0.124428</td>\n      <td>0.470140</td>\n      <td>0.009806</td>\n      <td>0.760810</td>\n      <td>0.194426</td>\n      <td>0.216744</td>\n      <td>0.029417</td>\n      <td>0.221775</td>\n    </tr>\n    <tr>\n      <th>std</th>\n      <td>0.031818</td>\n      <td>0.031692</td>\n      <td>0.031948</td>\n      <td>0.192617</td>\n      <td>0.229682</td>\n      <td>0.166262</td>\n      <td>0.078748</td>\n      <td>0.062744</td>\n      <td>0.035446</td>\n      <td>0.033933</td>\n      <td>...</td>\n      <td>0.051956</td>\n      <td>0.042321</td>\n      <td>0.085301</td>\n      <td>0.143135</td>\n      <td>0.032305</td>\n      <td>0.132949</td>\n      <td>0.106923</td>\n      <td>0.106947</td>\n      <td>0.046451</td>\n      <td>0.112138</td>\n    </tr>\n    <tr>\n      <th>min</th>\n      <td>0.000000</td>\n      <td>0.000000</td>\n      <td>0.000000</td>\n      <td>0.000000</td>\n      <td>0.000000</td>\n      <td>0.000000</td>\n      <td>0.000000</td>\n      <td>0.000000</td>\n      <td>0.000000</td>\n      <td>0.000000</td>\n      <td>...</td>\n      <td>0.000000</td>\n      <td>0.000000</td>\n      <td>0.000000</td>\n      <td>0.000000</td>\n      <td>0.000000</td>\n      <td>0.000000</td>\n      <td>0.000000</td>\n      <td>0.000000</td>\n      <td>0.000000</td>\n      <td>0.000000</td>\n    </tr>\n    <tr>\n      <th>25%</th>\n      <td>0.001092</td>\n      <td>0.001117</td>\n      <td>0.001069</td>\n      <td>0.019019</td>\n      <td>0.642285</td>\n      <td>0.005821</td>\n      <td>0.001086</td>\n      <td>0.004808</td>\n      <td>0.000000</td>\n      <td>0.001371</td>\n      <td>...</td>\n      <td>0.019663</td>\n      <td>0.023018</td>\n      <td>0.072581</td>\n      <td>0.373402</td>\n      <td>0.000948</td>\n      <td>0.697279</td>\n      <td>0.120861</td>\n      <td>0.147541</td>\n      <td>0.010204</td>\n      <td>0.150685</td>\n    </tr>\n    <tr>\n      <th>50%</th>\n      <td>0.002571</td>\n      <td>0.002591</td>\n      <td>0.002539</td>\n      <td>0.039039</td>\n      <td>0.842685</td>\n      <td>0.022119</td>\n      <td>0.003257</td>\n      <td>0.012019</td>\n      <td>0.000000</td>\n      <td>0.003219</td>\n      <td>...</td>\n      <td>0.033708</td>\n      <td>0.033248</td>\n      <td>0.104839</td>\n      <td>0.462916</td>\n      <td>0.002234</td>\n      <td>0.785714</td>\n      <td>0.172185</td>\n      <td>0.188525</td>\n      <td>0.020408</td>\n      <td>0.208219</td>\n    </tr>\n    <tr>\n      <th>75%</th>\n      <td>0.006594</td>\n      <td>0.006645</td>\n      <td>0.006556</td>\n      <td>0.098098</td>\n      <td>0.933868</td>\n      <td>0.111758</td>\n      <td>0.006515</td>\n      <td>0.028846</td>\n      <td>0.000000</td>\n      <td>0.008237</td>\n      <td>...</td>\n      <td>0.056180</td>\n      <td>0.048593</td>\n      <td>0.150538</td>\n      <td>0.560102</td>\n      <td>0.006144</td>\n      <td>0.853741</td>\n      <td>0.243377</td>\n      <td>0.256831</td>\n      <td>0.030612</td>\n      <td>0.271233</td>\n    </tr>\n    <tr>\n      <th>max</th>\n      <td>1.000000</td>\n      <td>1.000000</td>\n      <td>1.000000</td>\n      <td>1.000000</td>\n      <td>1.000000</td>\n      <td>1.000000</td>\n      <td>1.000000</td>\n      <td>1.000000</td>\n      <td>1.000000</td>\n      <td>1.000000</td>\n      <td>...</td>\n      <td>1.000000</td>\n      <td>1.000000</td>\n      <td>1.000000</td>\n      <td>1.000000</td>\n      <td>1.000000</td>\n      <td>1.000000</td>\n      <td>1.000000</td>\n      <td>1.000000</td>\n      <td>1.000000</td>\n      <td>1.000000</td>\n    </tr>\n  </tbody>\n</table>\n<p>8 rows × 34 columns</p>\n</div>"
     },
     "metadata": {},
     "execution_count": 30
>>>>>>> Stashed changes
    }
   ],
   "source": [
    "from sklearn.preprocessing import MinMaxScaler\n",
    "# scale numerical features into a normalized range, 0-1\n",
    "# store them in this dataframe\n",
    "counties_scaled = clean_counties_df.copy()\n",
    "for column in counties_scaled:\n",
    "    counties_scaled[[column]] = MinMaxScaler().fit_transform(clean_counties_df[[column]])\n",
    "    \n",
    "counties_scaled.describe()"
   ]
  },
  {
   "cell_type": "markdown",
   "metadata": {},
   "source": [
    "## Get session, IAM role and bucket"
   ]
  },
  {
   "cell_type": "code",
<<<<<<< Updated upstream
   "execution_count": 13,
=======
   "execution_count": 37,
>>>>>>> Stashed changes
   "metadata": {},
   "outputs": [
    {
     "output_type": "stream",
     "name": "stderr",
     "text": [
      "Couldn't call 'get_role' to get Role ARN from role name SagemakerFromEC2 to get Role path.\n"
     ]
    },
    {
     "output_type": "error",
     "ename": "ClientError",
     "evalue": "An error occurred (AccessDenied) when calling the CreateBucket operation: Access Denied",
     "traceback": [
      "\u001b[0;31m---------------------------------------------------------------------------\u001b[0m",
      "\u001b[0;31mKeyError\u001b[0m                                  Traceback (most recent call last)",
      "\u001b[0;32m<ipython-input-37-7f9ea1a557cd>\u001b[0m in \u001b[0;36m<module>\u001b[0;34m\u001b[0m\n\u001b[1;32m      8\u001b[0m \u001b[0;32mtry\u001b[0m\u001b[0;34m:\u001b[0m\u001b[0;34m\u001b[0m\u001b[0;34m\u001b[0m\u001b[0m\n\u001b[0;32m----> 9\u001b[0;31m     \u001b[0mbucket_name\u001b[0m \u001b[0;34m=\u001b[0m \u001b[0mos\u001b[0m\u001b[0;34m.\u001b[0m\u001b[0menviron\u001b[0m\u001b[0;34m[\u001b[0m\u001b[0;34m'AWS_PROJECT_BUCKET'\u001b[0m\u001b[0;34m]\u001b[0m\u001b[0;34m\u001b[0m\u001b[0;34m\u001b[0m\u001b[0m\n\u001b[0m\u001b[1;32m     10\u001b[0m \u001b[0;32mexcept\u001b[0m\u001b[0;34m:\u001b[0m\u001b[0;34m\u001b[0m\u001b[0;34m\u001b[0m\u001b[0m\n",
      "\u001b[0;32m/usr/lib/python3.8/os.py\u001b[0m in \u001b[0;36m__getitem__\u001b[0;34m(self, key)\u001b[0m\n\u001b[1;32m    674\u001b[0m             \u001b[0;31m# raise KeyError with the original key value\u001b[0m\u001b[0;34m\u001b[0m\u001b[0;34m\u001b[0m\u001b[0;34m\u001b[0m\u001b[0m\n\u001b[0;32m--> 675\u001b[0;31m             \u001b[0;32mraise\u001b[0m \u001b[0mKeyError\u001b[0m\u001b[0;34m(\u001b[0m\u001b[0mkey\u001b[0m\u001b[0;34m)\u001b[0m \u001b[0;32mfrom\u001b[0m \u001b[0;32mNone\u001b[0m\u001b[0;34m\u001b[0m\u001b[0;34m\u001b[0m\u001b[0m\n\u001b[0m\u001b[1;32m    676\u001b[0m         \u001b[0;32mreturn\u001b[0m \u001b[0mself\u001b[0m\u001b[0;34m.\u001b[0m\u001b[0mdecodevalue\u001b[0m\u001b[0;34m(\u001b[0m\u001b[0mvalue\u001b[0m\u001b[0;34m)\u001b[0m\u001b[0;34m\u001b[0m\u001b[0;34m\u001b[0m\u001b[0m\n",
      "\u001b[0;31mKeyError\u001b[0m: 'AWS_PROJECT_BUCKET'",
      "\nDuring handling of the above exception, another exception occurred:\n",
      "\u001b[0;31mClientError\u001b[0m                               Traceback (most recent call last)",
      "\u001b[0;32m<ipython-input-37-7f9ea1a557cd>\u001b[0m in \u001b[0;36m<module>\u001b[0;34m\u001b[0m\n\u001b[1;32m      9\u001b[0m     \u001b[0mbucket_name\u001b[0m \u001b[0;34m=\u001b[0m \u001b[0mos\u001b[0m\u001b[0;34m.\u001b[0m\u001b[0menviron\u001b[0m\u001b[0;34m[\u001b[0m\u001b[0;34m'AWS_PROJECT_BUCKET'\u001b[0m\u001b[0;34m]\u001b[0m\u001b[0;34m\u001b[0m\u001b[0;34m\u001b[0m\u001b[0m\n\u001b[1;32m     10\u001b[0m \u001b[0;32mexcept\u001b[0m\u001b[0;34m:\u001b[0m\u001b[0;34m\u001b[0m\u001b[0;34m\u001b[0m\u001b[0m\n\u001b[0;32m---> 11\u001b[0;31m     \u001b[0mbucket_name\u001b[0m \u001b[0;34m=\u001b[0m \u001b[0msagemaker_session\u001b[0m\u001b[0;34m.\u001b[0m\u001b[0mdefault_bucket\u001b[0m\u001b[0;34m(\u001b[0m\u001b[0;34m)\u001b[0m \u001b[0;31m# Bucket\u001b[0m\u001b[0;34m\u001b[0m\u001b[0;34m\u001b[0m\u001b[0m\n\u001b[0m",
      "\u001b[0;32m~/.local/lib/python3.8/site-packages/sagemaker/session.py\u001b[0m in \u001b[0;36mdefault_bucket\u001b[0;34m(self)\u001b[0m\n\u001b[1;32m    374\u001b[0m             \u001b[0mdefault_bucket\u001b[0m \u001b[0;34m=\u001b[0m \u001b[0;34m\"sagemaker-{}-{}\"\u001b[0m\u001b[0;34m.\u001b[0m\u001b[0mformat\u001b[0m\u001b[0;34m(\u001b[0m\u001b[0mregion\u001b[0m\u001b[0;34m,\u001b[0m \u001b[0maccount\u001b[0m\u001b[0;34m)\u001b[0m\u001b[0;34m\u001b[0m\u001b[0;34m\u001b[0m\u001b[0m\n\u001b[1;32m    375\u001b[0m \u001b[0;34m\u001b[0m\u001b[0m\n\u001b[0;32m--> 376\u001b[0;31m         \u001b[0mself\u001b[0m\u001b[0;34m.\u001b[0m\u001b[0m_create_s3_bucket_if_it_does_not_exist\u001b[0m\u001b[0;34m(\u001b[0m\u001b[0mbucket_name\u001b[0m\u001b[0;34m=\u001b[0m\u001b[0mdefault_bucket\u001b[0m\u001b[0;34m,\u001b[0m \u001b[0mregion\u001b[0m\u001b[0;34m=\u001b[0m\u001b[0mregion\u001b[0m\u001b[0;34m)\u001b[0m\u001b[0;34m\u001b[0m\u001b[0;34m\u001b[0m\u001b[0m\n\u001b[0m\u001b[1;32m    377\u001b[0m \u001b[0;34m\u001b[0m\u001b[0m\n\u001b[1;32m    378\u001b[0m         \u001b[0mself\u001b[0m\u001b[0;34m.\u001b[0m\u001b[0m_default_bucket\u001b[0m \u001b[0;34m=\u001b[0m \u001b[0mdefault_bucket\u001b[0m\u001b[0;34m\u001b[0m\u001b[0;34m\u001b[0m\u001b[0m\n",
      "\u001b[0;32m~/.local/lib/python3.8/site-packages/sagemaker/session.py\u001b[0m in \u001b[0;36m_create_s3_bucket_if_it_does_not_exist\u001b[0;34m(self, bucket_name, region)\u001b[0m\n\u001b[1;32m    409\u001b[0m                     \u001b[0ms3\u001b[0m\u001b[0;34m.\u001b[0m\u001b[0mcreate_bucket\u001b[0m\u001b[0;34m(\u001b[0m\u001b[0mBucket\u001b[0m\u001b[0;34m=\u001b[0m\u001b[0mbucket_name\u001b[0m\u001b[0;34m)\u001b[0m\u001b[0;34m\u001b[0m\u001b[0;34m\u001b[0m\u001b[0m\n\u001b[1;32m    410\u001b[0m                 \u001b[0;32melse\u001b[0m\u001b[0;34m:\u001b[0m\u001b[0;34m\u001b[0m\u001b[0;34m\u001b[0m\u001b[0m\n\u001b[0;32m--> 411\u001b[0;31m                     s3.create_bucket(\n\u001b[0m\u001b[1;32m    412\u001b[0m                         \u001b[0mBucket\u001b[0m\u001b[0;34m=\u001b[0m\u001b[0mbucket_name\u001b[0m\u001b[0;34m,\u001b[0m \u001b[0mCreateBucketConfiguration\u001b[0m\u001b[0;34m=\u001b[0m\u001b[0;34m{\u001b[0m\u001b[0;34m\"LocationConstraint\"\u001b[0m\u001b[0;34m:\u001b[0m \u001b[0mregion\u001b[0m\u001b[0;34m}\u001b[0m\u001b[0;34m\u001b[0m\u001b[0;34m\u001b[0m\u001b[0m\n\u001b[1;32m    413\u001b[0m                     )\n",
      "\u001b[0;32m~/.local/lib/python3.8/site-packages/boto3/resources/factory.py\u001b[0m in \u001b[0;36mdo_action\u001b[0;34m(self, *args, **kwargs)\u001b[0m\n\u001b[1;32m    518\u001b[0m             \u001b[0;31m# instance via ``self``.\u001b[0m\u001b[0;34m\u001b[0m\u001b[0;34m\u001b[0m\u001b[0;34m\u001b[0m\u001b[0m\n\u001b[1;32m    519\u001b[0m             \u001b[0;32mdef\u001b[0m \u001b[0mdo_action\u001b[0m\u001b[0;34m(\u001b[0m\u001b[0mself\u001b[0m\u001b[0;34m,\u001b[0m \u001b[0;34m*\u001b[0m\u001b[0margs\u001b[0m\u001b[0;34m,\u001b[0m \u001b[0;34m**\u001b[0m\u001b[0mkwargs\u001b[0m\u001b[0;34m)\u001b[0m\u001b[0;34m:\u001b[0m\u001b[0;34m\u001b[0m\u001b[0;34m\u001b[0m\u001b[0m\n\u001b[0;32m--> 520\u001b[0;31m                 \u001b[0mresponse\u001b[0m \u001b[0;34m=\u001b[0m \u001b[0maction\u001b[0m\u001b[0;34m(\u001b[0m\u001b[0mself\u001b[0m\u001b[0;34m,\u001b[0m \u001b[0;34m*\u001b[0m\u001b[0margs\u001b[0m\u001b[0;34m,\u001b[0m \u001b[0;34m**\u001b[0m\u001b[0mkwargs\u001b[0m\u001b[0;34m)\u001b[0m\u001b[0;34m\u001b[0m\u001b[0;34m\u001b[0m\u001b[0m\n\u001b[0m\u001b[1;32m    521\u001b[0m \u001b[0;34m\u001b[0m\u001b[0m\n\u001b[1;32m    522\u001b[0m                 \u001b[0;32mif\u001b[0m \u001b[0mhasattr\u001b[0m\u001b[0;34m(\u001b[0m\u001b[0mself\u001b[0m\u001b[0;34m,\u001b[0m \u001b[0;34m'load'\u001b[0m\u001b[0;34m)\u001b[0m\u001b[0;34m:\u001b[0m\u001b[0;34m\u001b[0m\u001b[0;34m\u001b[0m\u001b[0m\n",
      "\u001b[0;32m~/.local/lib/python3.8/site-packages/boto3/resources/action.py\u001b[0m in \u001b[0;36m__call__\u001b[0;34m(self, parent, *args, **kwargs)\u001b[0m\n\u001b[1;32m     81\u001b[0m                     operation_name, params)\n\u001b[1;32m     82\u001b[0m \u001b[0;34m\u001b[0m\u001b[0m\n\u001b[0;32m---> 83\u001b[0;31m         \u001b[0mresponse\u001b[0m \u001b[0;34m=\u001b[0m \u001b[0mgetattr\u001b[0m\u001b[0;34m(\u001b[0m\u001b[0mparent\u001b[0m\u001b[0;34m.\u001b[0m\u001b[0mmeta\u001b[0m\u001b[0;34m.\u001b[0m\u001b[0mclient\u001b[0m\u001b[0;34m,\u001b[0m \u001b[0moperation_name\u001b[0m\u001b[0;34m)\u001b[0m\u001b[0;34m(\u001b[0m\u001b[0;34m*\u001b[0m\u001b[0margs\u001b[0m\u001b[0;34m,\u001b[0m \u001b[0;34m**\u001b[0m\u001b[0mparams\u001b[0m\u001b[0;34m)\u001b[0m\u001b[0;34m\u001b[0m\u001b[0;34m\u001b[0m\u001b[0m\n\u001b[0m\u001b[1;32m     84\u001b[0m \u001b[0;34m\u001b[0m\u001b[0m\n\u001b[1;32m     85\u001b[0m         \u001b[0mlogger\u001b[0m\u001b[0;34m.\u001b[0m\u001b[0mdebug\u001b[0m\u001b[0;34m(\u001b[0m\u001b[0;34m'Response: %r'\u001b[0m\u001b[0;34m,\u001b[0m \u001b[0mresponse\u001b[0m\u001b[0;34m)\u001b[0m\u001b[0;34m\u001b[0m\u001b[0;34m\u001b[0m\u001b[0m\n",
      "\u001b[0;32m~/.local/lib/python3.8/site-packages/botocore/client.py\u001b[0m in \u001b[0;36m_api_call\u001b[0;34m(self, *args, **kwargs)\u001b[0m\n\u001b[1;32m    355\u001b[0m                     \"%s() only accepts keyword arguments.\" % py_operation_name)\n\u001b[1;32m    356\u001b[0m             \u001b[0;31m# The \"self\" in this scope is referring to the BaseClient.\u001b[0m\u001b[0;34m\u001b[0m\u001b[0;34m\u001b[0m\u001b[0;34m\u001b[0m\u001b[0m\n\u001b[0;32m--> 357\u001b[0;31m             \u001b[0;32mreturn\u001b[0m \u001b[0mself\u001b[0m\u001b[0;34m.\u001b[0m\u001b[0m_make_api_call\u001b[0m\u001b[0;34m(\u001b[0m\u001b[0moperation_name\u001b[0m\u001b[0;34m,\u001b[0m \u001b[0mkwargs\u001b[0m\u001b[0;34m)\u001b[0m\u001b[0;34m\u001b[0m\u001b[0;34m\u001b[0m\u001b[0m\n\u001b[0m\u001b[1;32m    358\u001b[0m \u001b[0;34m\u001b[0m\u001b[0m\n\u001b[1;32m    359\u001b[0m         \u001b[0m_api_call\u001b[0m\u001b[0;34m.\u001b[0m\u001b[0m__name__\u001b[0m \u001b[0;34m=\u001b[0m \u001b[0mstr\u001b[0m\u001b[0;34m(\u001b[0m\u001b[0mpy_operation_name\u001b[0m\u001b[0;34m)\u001b[0m\u001b[0;34m\u001b[0m\u001b[0;34m\u001b[0m\u001b[0m\n",
      "\u001b[0;32m~/.local/lib/python3.8/site-packages/botocore/client.py\u001b[0m in \u001b[0;36m_make_api_call\u001b[0;34m(self, operation_name, api_params)\u001b[0m\n\u001b[1;32m    674\u001b[0m             \u001b[0merror_code\u001b[0m \u001b[0;34m=\u001b[0m \u001b[0mparsed_response\u001b[0m\u001b[0;34m.\u001b[0m\u001b[0mget\u001b[0m\u001b[0;34m(\u001b[0m\u001b[0;34m\"Error\"\u001b[0m\u001b[0;34m,\u001b[0m \u001b[0;34m{\u001b[0m\u001b[0;34m}\u001b[0m\u001b[0;34m)\u001b[0m\u001b[0;34m.\u001b[0m\u001b[0mget\u001b[0m\u001b[0;34m(\u001b[0m\u001b[0;34m\"Code\"\u001b[0m\u001b[0;34m)\u001b[0m\u001b[0;34m\u001b[0m\u001b[0;34m\u001b[0m\u001b[0m\n\u001b[1;32m    675\u001b[0m             \u001b[0merror_class\u001b[0m \u001b[0;34m=\u001b[0m \u001b[0mself\u001b[0m\u001b[0;34m.\u001b[0m\u001b[0mexceptions\u001b[0m\u001b[0;34m.\u001b[0m\u001b[0mfrom_code\u001b[0m\u001b[0;34m(\u001b[0m\u001b[0merror_code\u001b[0m\u001b[0;34m)\u001b[0m\u001b[0;34m\u001b[0m\u001b[0;34m\u001b[0m\u001b[0m\n\u001b[0;32m--> 676\u001b[0;31m             \u001b[0;32mraise\u001b[0m \u001b[0merror_class\u001b[0m\u001b[0;34m(\u001b[0m\u001b[0mparsed_response\u001b[0m\u001b[0;34m,\u001b[0m \u001b[0moperation_name\u001b[0m\u001b[0;34m)\u001b[0m\u001b[0;34m\u001b[0m\u001b[0;34m\u001b[0m\u001b[0m\n\u001b[0m\u001b[1;32m    677\u001b[0m         \u001b[0;32melse\u001b[0m\u001b[0;34m:\u001b[0m\u001b[0;34m\u001b[0m\u001b[0;34m\u001b[0m\u001b[0m\n\u001b[1;32m    678\u001b[0m             \u001b[0;32mreturn\u001b[0m \u001b[0mparsed_response\u001b[0m\u001b[0;34m\u001b[0m\u001b[0;34m\u001b[0m\u001b[0m\n",
      "\u001b[0;31mClientError\u001b[0m: An error occurred (AccessDenied) when calling the CreateBucket operation: Access Denied"
     ]
    }
   ],
   "source": [
    "sagemaker_session = sagemaker.Session(session) # SageMaker session\n",
    "\n",
    "try:\n",
    "    role = os.environ['AWS_INSTANCE_ROLE']\n",
    "except:\n",
    "    role = sagemaker.get_execution_role() # IAM role for this session\n",
    "\n",
    "try:\n",
    "    bucket_name = os.environ['AWS_PROJECT_BUCKET']\n",
    "except:\n",
    "    bucket_name = sagemaker_session.default_bucket() # Bucket"
   ]
  },
  {
   "cell_type": "markdown",
   "metadata": {},
   "source": [
    "## Principal Component Analysis"
   ]
  },
  {
   "cell_type": "code",
<<<<<<< Updated upstream
   "execution_count": 14,
=======
   "execution_count": 52,
>>>>>>> Stashed changes
   "metadata": {},
   "outputs": [],
   "source": [
    "# define a folder name for this job's results\n",
    "prefix = 'counties'\n",
    "# Output path in S3\n",
    "output_path=f's3://{bucket_name}/{prefix}/output_path/'\n",
    "code_path=f's3://{bucket_name}/{prefix}/code_path/'\n",
    "data_location=f's3://{bucket_name}/{prefix}/data_location/'"
   ]
  },
  {
   "cell_type": "code",
<<<<<<< Updated upstream
   "execution_count": 15,
=======
   "execution_count": 53,
>>>>>>> Stashed changes
   "metadata": {},
   "outputs": [],
   "source": [
    "# define a PCA model\n",
    "from sagemaker import PCA\n",
    "\n",
    "N_COMPONENTS=33\n",
    "\n",
    "pca_estimator = PCA(role=role,\n",
    "                    instance_count=1,\n",
    "                    instance_type='ml.c4.xlarge',\n",
    "                    output_path=output_path,\n",
    "                    code_path=code_path,\n",
    "                    data_location=data_location,\n",
    "                    num_components=N_COMPONENTS, \n",
    "                    sagemaker_session=sagemaker_session)"
   ]
  },
  {
   "cell_type": "code",
<<<<<<< Updated upstream
   "execution_count": 16,
=======
   "execution_count": 54,
>>>>>>> Stashed changes
   "metadata": {},
   "outputs": [],
   "source": [
    "# Prepare RecordSet (required by SageMaker PCA Model)\n",
    "\n",
    "train_data_np = counties_scaled.values.astype('float32')\n",
    "\n",
    "formatted_train_data = pca_estimator.record_set(train_data_np)"
   ]
  },
  {
   "cell_type": "code",
<<<<<<< Updated upstream
   "execution_count": 18,
   "metadata": {},
   "outputs": [
    {
     "name": "stderr",
     "output_type": "stream",
     "text": [
      "'get_image_uri' method will be deprecated in favor of 'ImageURIProvider' class in SageMaker Python SDK v2.\n",
      "'s3_input' class will be renamed to 'TrainingInput' in SageMaker Python SDK v2.\n",
      "'get_image_uri' method will be deprecated in favor of 'ImageURIProvider' class in SageMaker Python SDK v2.\n"
     ]
    },
    {
     "name": "stdout",
     "output_type": "stream",
     "text": [
      "2020-11-18 21:57:49 Starting - Starting the training job...\n",
      "2020-11-18 21:57:53 Starting - Launching requested ML instances......\n",
      "2020-11-18 21:59:07 Starting - Preparing the instances for training.........\n",
      "2020-11-18 22:00:42 Downloading - Downloading input data\n",
      "2020-11-18 22:00:42 Training - Downloading the training image..\u001b[34mDocker entrypoint called with argument(s): train\u001b[0m\n",
      "\u001b[34mRunning default environment configuration script\u001b[0m\n",
      "\u001b[34m[11/18/2020 22:01:05 INFO 140227901974336] Reading default configuration from /opt/amazon/lib/python2.7/site-packages/algorithm/resources/default-conf.json: {u'_num_gpus': u'auto', u'_log_level': u'info', u'subtract_mean': u'true', u'force_dense': u'true', u'epochs': 1, u'algorithm_mode': u'regular', u'extra_components': u'-1', u'_kvstore': u'dist_sync', u'_num_kv_servers': u'auto'}\u001b[0m\n",
      "\u001b[34m[11/18/2020 22:01:05 INFO 140227901974336] Merging with provided configuration from /opt/ml/input/config/hyperparameters.json: {u'feature_dim': u'34', u'mini_batch_size': u'500', u'num_components': u'33'}\u001b[0m\n",
      "\u001b[34m[11/18/2020 22:01:05 INFO 140227901974336] Final configuration: {u'num_components': u'33', u'_num_gpus': u'auto', u'_log_level': u'info', u'subtract_mean': u'true', u'force_dense': u'true', u'epochs': 1, u'algorithm_mode': u'regular', u'feature_dim': u'34', u'extra_components': u'-1', u'_kvstore': u'dist_sync', u'_num_kv_servers': u'auto', u'mini_batch_size': u'500'}\u001b[0m\n",
      "\u001b[34m[11/18/2020 22:01:05 WARNING 140227901974336] Loggers have already been setup.\u001b[0m\n",
      "\u001b[34m[11/18/2020 22:01:05 INFO 140227901974336] Launching parameter server for role scheduler\u001b[0m\n",
      "\u001b[34m[11/18/2020 22:01:05 INFO 140227901974336] {'ECS_CONTAINER_METADATA_URI': 'http://169.254.170.2/v3/699acac2-87be-4b0a-88ee-01457adf3c76', 'ECS_CONTAINER_METADATA_URI_V4': 'http://169.254.170.2/v4/699acac2-87be-4b0a-88ee-01457adf3c76', 'PROTOCOL_BUFFERS_PYTHON_IMPLEMENTATION_VERSION': '2', 'PATH': '/opt/amazon/bin:/usr/local/nvidia/bin:/usr/local/sbin:/usr/local/bin:/usr/sbin:/usr/bin:/sbin:/bin:/opt/amazon/bin:/opt/amazon/bin', 'SAGEMAKER_HTTP_PORT': '8080', 'HOME': '/root', 'PYTHONUNBUFFERED': 'TRUE', 'CANONICAL_ENVROOT': '/opt/amazon', 'LD_LIBRARY_PATH': '/opt/amazon/lib/python2.7/site-packages/cv2/../../../../lib:/usr/local/nvidia/lib64:/opt/amazon/lib', 'LANG': 'en_US.utf8', 'DMLC_INTERFACE': 'eth0', 'SHLVL': '1', 'AWS_REGION': 'sa-east-1', 'NVIDIA_VISIBLE_DEVICES': 'void', 'TRAINING_JOB_NAME': 'pca-2020-11-18-21-57-49-596', 'PROTOCOL_BUFFERS_PYTHON_IMPLEMENTATION': 'cpp', 'ENVROOT': '/opt/amazon', 'SAGEMAKER_DATA_PATH': '/opt/ml', 'NVIDIA_DRIVER_CAPABILITIES': 'compute,utility', 'NVIDIA_REQUIRE_CUDA': 'cuda>=9.0', 'OMP_NUM_THREADS': '2', 'HOSTNAME': 'ip-10-0-156-68.sa-east-1.compute.internal', 'AWS_CONTAINER_CREDENTIALS_RELATIVE_URI': '/v2/credentials/7cd97b6e-89e6-465c-9622-8df09fe66683', 'PWD': '/', 'TRAINING_JOB_ARN': 'arn:aws:sagemaker:sa-east-1:516882166697:training-job/pca-2020-11-18-21-57-49-596', 'AWS_EXECUTION_ENV': 'AWS_ECS_EC2'}\u001b[0m\n",
      "\u001b[34m[11/18/2020 22:01:05 INFO 140227901974336] envs={'ECS_CONTAINER_METADATA_URI': 'http://169.254.170.2/v3/699acac2-87be-4b0a-88ee-01457adf3c76', 'ECS_CONTAINER_METADATA_URI_V4': 'http://169.254.170.2/v4/699acac2-87be-4b0a-88ee-01457adf3c76', 'PROTOCOL_BUFFERS_PYTHON_IMPLEMENTATION_VERSION': '2', 'DMLC_NUM_WORKER': '1', 'DMLC_PS_ROOT_PORT': '9000', 'PATH': '/opt/amazon/bin:/usr/local/nvidia/bin:/usr/local/sbin:/usr/local/bin:/usr/sbin:/usr/bin:/sbin:/bin:/opt/amazon/bin:/opt/amazon/bin', 'SAGEMAKER_HTTP_PORT': '8080', 'HOME': '/root', 'PYTHONUNBUFFERED': 'TRUE', 'CANONICAL_ENVROOT': '/opt/amazon', 'LD_LIBRARY_PATH': '/opt/amazon/lib/python2.7/site-packages/cv2/../../../../lib:/usr/local/nvidia/lib64:/opt/amazon/lib', 'LANG': 'en_US.utf8', 'DMLC_INTERFACE': 'eth0', 'SHLVL': '1', 'DMLC_PS_ROOT_URI': '10.0.156.68', 'AWS_REGION': 'sa-east-1', 'NVIDIA_VISIBLE_DEVICES': 'void', 'TRAINING_JOB_NAME': 'pca-2020-11-18-21-57-49-596', 'PROTOCOL_BUFFERS_PYTHON_IMPLEMENTATION': 'cpp', 'ENVROOT': '/opt/amazon', 'SAGEMAKER_DATA_PATH': '/opt/ml', 'NVIDIA_DRIVER_CAPABILITIES': 'compute,utility', 'NVIDIA_REQUIRE_CUDA': 'cuda>=9.0', 'OMP_NUM_THREADS': '2', 'HOSTNAME': 'ip-10-0-156-68.sa-east-1.compute.internal', 'AWS_CONTAINER_CREDENTIALS_RELATIVE_URI': '/v2/credentials/7cd97b6e-89e6-465c-9622-8df09fe66683', 'DMLC_ROLE': 'scheduler', 'PWD': '/', 'DMLC_NUM_SERVER': '1', 'TRAINING_JOB_ARN': 'arn:aws:sagemaker:sa-east-1:516882166697:training-job/pca-2020-11-18-21-57-49-596', 'AWS_EXECUTION_ENV': 'AWS_ECS_EC2'}\u001b[0m\n",
      "\u001b[34m[11/18/2020 22:01:05 INFO 140227901974336] Launching parameter server for role server\u001b[0m\n",
      "\u001b[34m[11/18/2020 22:01:05 INFO 140227901974336] {'ECS_CONTAINER_METADATA_URI': 'http://169.254.170.2/v3/699acac2-87be-4b0a-88ee-01457adf3c76', 'ECS_CONTAINER_METADATA_URI_V4': 'http://169.254.170.2/v4/699acac2-87be-4b0a-88ee-01457adf3c76', 'PROTOCOL_BUFFERS_PYTHON_IMPLEMENTATION_VERSION': '2', 'PATH': '/opt/amazon/bin:/usr/local/nvidia/bin:/usr/local/sbin:/usr/local/bin:/usr/sbin:/usr/bin:/sbin:/bin:/opt/amazon/bin:/opt/amazon/bin', 'SAGEMAKER_HTTP_PORT': '8080', 'HOME': '/root', 'PYTHONUNBUFFERED': 'TRUE', 'CANONICAL_ENVROOT': '/opt/amazon', 'LD_LIBRARY_PATH': '/opt/amazon/lib/python2.7/site-packages/cv2/../../../../lib:/usr/local/nvidia/lib64:/opt/amazon/lib', 'LANG': 'en_US.utf8', 'DMLC_INTERFACE': 'eth0', 'SHLVL': '1', 'AWS_REGION': 'sa-east-1', 'NVIDIA_VISIBLE_DEVICES': 'void', 'TRAINING_JOB_NAME': 'pca-2020-11-18-21-57-49-596', 'PROTOCOL_BUFFERS_PYTHON_IMPLEMENTATION': 'cpp', 'ENVROOT': '/opt/amazon', 'SAGEMAKER_DATA_PATH': '/opt/ml', 'NVIDIA_DRIVER_CAPABILITIES': 'compute,utility', 'NVIDIA_REQUIRE_CUDA': 'cuda>=9.0', 'OMP_NUM_THREADS': '2', 'HOSTNAME': 'ip-10-0-156-68.sa-east-1.compute.internal', 'AWS_CONTAINER_CREDENTIALS_RELATIVE_URI': '/v2/credentials/7cd97b6e-89e6-465c-9622-8df09fe66683', 'PWD': '/', 'TRAINING_JOB_ARN': 'arn:aws:sagemaker:sa-east-1:516882166697:training-job/pca-2020-11-18-21-57-49-596', 'AWS_EXECUTION_ENV': 'AWS_ECS_EC2'}\u001b[0m\n",
      "\u001b[34m[11/18/2020 22:01:05 INFO 140227901974336] envs={'ECS_CONTAINER_METADATA_URI': 'http://169.254.170.2/v3/699acac2-87be-4b0a-88ee-01457adf3c76', 'ECS_CONTAINER_METADATA_URI_V4': 'http://169.254.170.2/v4/699acac2-87be-4b0a-88ee-01457adf3c76', 'PROTOCOL_BUFFERS_PYTHON_IMPLEMENTATION_VERSION': '2', 'DMLC_NUM_WORKER': '1', 'DMLC_PS_ROOT_PORT': '9000', 'PATH': '/opt/amazon/bin:/usr/local/nvidia/bin:/usr/local/sbin:/usr/local/bin:/usr/sbin:/usr/bin:/sbin:/bin:/opt/amazon/bin:/opt/amazon/bin', 'SAGEMAKER_HTTP_PORT': '8080', 'HOME': '/root', 'PYTHONUNBUFFERED': 'TRUE', 'CANONICAL_ENVROOT': '/opt/amazon', 'LD_LIBRARY_PATH': '/opt/amazon/lib/python2.7/site-packages/cv2/../../../../lib:/usr/local/nvidia/lib64:/opt/amazon/lib', 'LANG': 'en_US.utf8', 'DMLC_INTERFACE': 'eth0', 'SHLVL': '1', 'DMLC_PS_ROOT_URI': '10.0.156.68', 'AWS_REGION': 'sa-east-1', 'NVIDIA_VISIBLE_DEVICES': 'void', 'TRAINING_JOB_NAME': 'pca-2020-11-18-21-57-49-596', 'PROTOCOL_BUFFERS_PYTHON_IMPLEMENTATION': 'cpp', 'ENVROOT': '/opt/amazon', 'SAGEMAKER_DATA_PATH': '/opt/ml', 'NVIDIA_DRIVER_CAPABILITIES': 'compute,utility', 'NVIDIA_REQUIRE_CUDA': 'cuda>=9.0', 'OMP_NUM_THREADS': '2', 'HOSTNAME': 'ip-10-0-156-68.sa-east-1.compute.internal', 'AWS_CONTAINER_CREDENTIALS_RELATIVE_URI': '/v2/credentials/7cd97b6e-89e6-465c-9622-8df09fe66683', 'DMLC_ROLE': 'server', 'PWD': '/', 'DMLC_NUM_SERVER': '1', 'TRAINING_JOB_ARN': 'arn:aws:sagemaker:sa-east-1:516882166697:training-job/pca-2020-11-18-21-57-49-596', 'AWS_EXECUTION_ENV': 'AWS_ECS_EC2'}\u001b[0m\n",
      "\u001b[34m[11/18/2020 22:01:05 INFO 140227901974336] Environment: {'ECS_CONTAINER_METADATA_URI': 'http://169.254.170.2/v3/699acac2-87be-4b0a-88ee-01457adf3c76', 'ECS_CONTAINER_METADATA_URI_V4': 'http://169.254.170.2/v4/699acac2-87be-4b0a-88ee-01457adf3c76', 'PROTOCOL_BUFFERS_PYTHON_IMPLEMENTATION_VERSION': '2', 'DMLC_PS_ROOT_PORT': '9000', 'DMLC_NUM_WORKER': '1', 'SAGEMAKER_HTTP_PORT': '8080', 'PATH': '/opt/amazon/bin:/usr/local/nvidia/bin:/usr/local/sbin:/usr/local/bin:/usr/sbin:/usr/bin:/sbin:/bin:/opt/amazon/bin:/opt/amazon/bin', 'PYTHONUNBUFFERED': 'TRUE', 'CANONICAL_ENVROOT': '/opt/amazon', 'LD_LIBRARY_PATH': '/opt/amazon/lib/python2.7/site-packages/cv2/../../../../lib:/usr/local/nvidia/lib64:/opt/amazon/lib', 'LANG': 'en_US.utf8', 'DMLC_INTERFACE': 'eth0', 'SHLVL': '1', 'DMLC_PS_ROOT_URI': '10.0.156.68', 'AWS_REGION': 'sa-east-1', 'NVIDIA_VISIBLE_DEVICES': 'void', 'TRAINING_JOB_NAME': 'pca-2020-11-18-21-57-49-596', 'HOME': '/root', 'PROTOCOL_BUFFERS_PYTHON_IMPLEMENTATION': 'cpp', 'ENVROOT': '/opt/amazon', 'SAGEMAKER_DATA_PATH': '/opt/ml', 'NVIDIA_DRIVER_CAPABILITIES': 'compute,utility', 'NVIDIA_REQUIRE_CUDA': 'cuda>=9.0', 'OMP_NUM_THREADS': '2', 'HOSTNAME': 'ip-10-0-156-68.sa-east-1.compute.internal', 'AWS_CONTAINER_CREDENTIALS_RELATIVE_URI': '/v2/credentials/7cd97b6e-89e6-465c-9622-8df09fe66683', 'DMLC_ROLE': 'worker', 'PWD': '/', 'DMLC_NUM_SERVER': '1', 'TRAINING_JOB_ARN': 'arn:aws:sagemaker:sa-east-1:516882166697:training-job/pca-2020-11-18-21-57-49-596', 'AWS_EXECUTION_ENV': 'AWS_ECS_EC2'}\u001b[0m\n",
      "\u001b[34mProcess 61 is a shell:scheduler.\u001b[0m\n",
      "\u001b[34mProcess 70 is a shell:server.\u001b[0m\n",
      "\u001b[34mProcess 1 is a worker.\u001b[0m\n",
      "\u001b[34m[11/18/2020 22:01:05 INFO 140227901974336] Using default worker.\u001b[0m\n",
      "\u001b[34m[11/18/2020 22:01:05 INFO 140227901974336] Loaded iterator creator application/x-recordio-protobuf for content type ('application/x-recordio-protobuf', '1.0')\u001b[0m\n",
      "\u001b[34m[11/18/2020 22:01:05 INFO 140227901974336] Loaded iterator creator application/x-labeled-vector-protobuf for content type ('application/x-labeled-vector-protobuf', '1.0')\u001b[0m\n",
      "\u001b[34m[11/18/2020 22:01:05 INFO 140227901974336] Loaded iterator creator protobuf for content type ('protobuf', '1.0')\u001b[0m\n",
      "\u001b[34m[11/18/2020 22:01:05 INFO 140227901974336] Checkpoint loading and saving are disabled.\u001b[0m\n",
      "\u001b[34m[11/18/2020 22:01:05 INFO 140227901974336] Create Store: dist_sync\u001b[0m\n",
      "\u001b[34m[11/18/2020 22:01:06 INFO 140227901974336] nvidia-smi took: 0.0251779556274 secs to identify 0 gpus\u001b[0m\n",
      "\u001b[34m[11/18/2020 22:01:06 INFO 140227901974336] Number of GPUs being used: 0\u001b[0m\n",
      "\u001b[34m[11/18/2020 22:01:06 INFO 140227901974336] The default executor is <PCAExecutor on cpu(0)>.\u001b[0m\n",
      "\u001b[34m[11/18/2020 22:01:06 INFO 140227901974336] 34 feature(s) found in 'data'.\u001b[0m\n",
      "\u001b[34m[11/18/2020 22:01:06 INFO 140227901974336] <PCAExecutor on cpu(0)> is assigned to batch slice from 0 to 499.\u001b[0m\n",
      "\u001b[34m#metrics {\"Metrics\": {\"initialize.time\": {\"count\": 1, \"max\": 597.9950428009033, \"sum\": 597.9950428009033, \"min\": 597.9950428009033}}, \"EndTime\": 1605736866.404286, \"Dimensions\": {\"Host\": \"algo-1\", \"Operation\": \"training\", \"Algorithm\": \"PCA\"}, \"StartTime\": 1605736865.797801}\n",
      "\u001b[0m\n",
      "\u001b[34m#metrics {\"Metrics\": {\"Max Batches Seen Between Resets\": {\"count\": 1, \"max\": 0, \"sum\": 0.0, \"min\": 0}, \"Number of Batches Since Last Reset\": {\"count\": 1, \"max\": 0, \"sum\": 0.0, \"min\": 0}, \"Number of Records Since Last Reset\": {\"count\": 1, \"max\": 0, \"sum\": 0.0, \"min\": 0}, \"Total Batches Seen\": {\"count\": 1, \"max\": 0, \"sum\": 0.0, \"min\": 0}, \"Total Records Seen\": {\"count\": 1, \"max\": 0, \"sum\": 0.0, \"min\": 0}, \"Max Records Seen Between Resets\": {\"count\": 1, \"max\": 0, \"sum\": 0.0, \"min\": 0}, \"Reset Count\": {\"count\": 1, \"max\": 0, \"sum\": 0.0, \"min\": 0}}, \"EndTime\": 1605736866.404534, \"Dimensions\": {\"Host\": \"algo-1\", \"Meta\": \"init_train_data_iter\", \"Operation\": \"training\", \"Algorithm\": \"PCA\"}, \"StartTime\": 1605736866.40446}\n",
      "\u001b[0m\n",
      "\u001b[34m[2020-11-18 22:01:06.404] [tensorio] [info] epoch_stats={\"data_pipeline\": \"/opt/ml/input/data/train\", \"epoch\": 0, \"duration\": 605, \"num_examples\": 1, \"num_bytes\": 82000}\u001b[0m\n",
      "\u001b[34m[2020-11-18 22:01:06.459] [tensorio] [info] epoch_stats={\"data_pipeline\": \"/opt/ml/input/data/train\", \"epoch\": 1, \"duration\": 44, \"num_examples\": 7, \"num_bytes\": 527752}\u001b[0m\n",
      "\u001b[34m#metrics {\"Metrics\": {\"epochs\": {\"count\": 1, \"max\": 1, \"sum\": 1.0, \"min\": 1}, \"update.time\": {\"count\": 1, \"max\": 54.74710464477539, \"sum\": 54.74710464477539, \"min\": 54.74710464477539}}, \"EndTime\": 1605736866.459687, \"Dimensions\": {\"Host\": \"algo-1\", \"Operation\": \"training\", \"Algorithm\": \"PCA\"}, \"StartTime\": 1605736866.404385}\n",
      "\u001b[0m\n",
      "\u001b[34m[11/18/2020 22:01:06 INFO 140227901974336] #progress_metric: host=algo-1, completed 100 % of epochs\u001b[0m\n",
      "\u001b[34m#metrics {\"Metrics\": {\"Max Batches Seen Between Resets\": {\"count\": 1, \"max\": 7, \"sum\": 7.0, \"min\": 7}, \"Number of Batches Since Last Reset\": {\"count\": 1, \"max\": 7, \"sum\": 7.0, \"min\": 7}, \"Number of Records Since Last Reset\": {\"count\": 1, \"max\": 3218, \"sum\": 3218.0, \"min\": 3218}, \"Total Batches Seen\": {\"count\": 1, \"max\": 7, \"sum\": 7.0, \"min\": 7}, \"Total Records Seen\": {\"count\": 1, \"max\": 3218, \"sum\": 3218.0, \"min\": 3218}, \"Max Records Seen Between Resets\": {\"count\": 1, \"max\": 3218, \"sum\": 3218.0, \"min\": 3218}, \"Reset Count\": {\"count\": 1, \"max\": 1, \"sum\": 1.0, \"min\": 1}}, \"EndTime\": 1605736866.460356, \"Dimensions\": {\"Host\": \"algo-1\", \"Meta\": \"training_data_iter\", \"Operation\": \"training\", \"Algorithm\": \"PCA\", \"epoch\": 0}, \"StartTime\": 1605736866.404909}\n",
      "\u001b[0m\n",
      "\u001b[34m[11/18/2020 22:01:06 INFO 140227901974336] #throughput_metric: host=algo-1, train throughput=57677.4378859 records/second\u001b[0m\n",
      "\u001b[34m#metrics {\"Metrics\": {\"finalize.time\": {\"count\": 1, \"max\": 27.666091918945312, \"sum\": 27.666091918945312, \"min\": 27.666091918945312}}, \"EndTime\": 1605736866.488728, \"Dimensions\": {\"Host\": \"algo-1\", \"Operation\": \"training\", \"Algorithm\": \"PCA\"}, \"StartTime\": 1605736866.45999}\n",
      "\u001b[0m\n",
      "\u001b[34m[11/18/2020 22:01:06 INFO 140227901974336] Test data is not provided.\u001b[0m\n",
      "\u001b[34m#metrics {\"Metrics\": {\"totaltime\": {\"count\": 1, \"max\": 846.1751937866211, \"sum\": 846.1751937866211, \"min\": 846.1751937866211}, \"setuptime\": {\"count\": 1, \"max\": 18.79405975341797, \"sum\": 18.79405975341797, \"min\": 18.79405975341797}}, \"EndTime\": 1605736866.496764, \"Dimensions\": {\"Host\": \"algo-1\", \"Operation\": \"training\", \"Algorithm\": \"PCA\"}, \"StartTime\": 1605736866.488783}\n",
      "\u001b[0m\n",
      "\n",
      "2020-11-18 22:01:14 Uploading - Uploading generated training model\n",
      "2020-11-18 22:01:14 Completed - Training job completed\n",
      "Training seconds: 49\n",
      "Billable seconds: 49\n"
=======
   "execution_count": 68,
   "metadata": {},
   "outputs": [
    {
     "output_type": "stream",
     "name": "stderr",
     "text": [
      "Defaulting to the only supported framework/algorithm version: 1. Ignoring framework/algorithm version: 1.\n",
      "2021-03-20 04:03:18 Starting - Starting the training job...\n",
      "2021-03-20 04:03:41 Starting - Launching requested ML instancesProfilerReport-1616212998: InProgress\n",
      "......\n",
      "2021-03-20 04:04:44 Starting - Preparing the instances for training.........\n",
      "2021-03-20 04:06:13 Downloading - Downloading input data\n",
      "2021-03-20 04:06:13 Training - Downloading the training image...\n",
      "2021-03-20 04:06:46 Uploading - Uploading generated training model\n",
      "2021-03-20 04:06:46 Completed - Training job completed\n",
      "..Training seconds: 39\n",
      "Billable seconds: 39\n",
      "CPU times: user 424 ms, sys: 16.5 ms, total: 440 ms\n",
      "Wall time: 3min 41s\n"
>>>>>>> Stashed changes
     ]
    }
   ],
   "source": [
<<<<<<< Updated upstream
    "# Train model\n",
=======
    "%%time\n",
>>>>>>> Stashed changes
    "pca_estimator.fit(formatted_train_data)"
   ]
  },
  {
   "cell_type": "code",
<<<<<<< Updated upstream
   "execution_count": 22,
   "metadata": {},
   "outputs": [
    {
=======
   "execution_count": 69,
   "metadata": {},
   "outputs": [
    {
     "output_type": "execute_result",
>>>>>>> Stashed changes
     "data": {
      "text/plain": [
       "2304"
      ]
     },
<<<<<<< Updated upstream
     "execution_count": 22,
     "metadata": {},
     "output_type": "execute_result"
=======
     "metadata": {},
     "execution_count": 69
>>>>>>> Stashed changes
    }
   ],
   "source": [
    "# Retrieve job results from S3\n",
<<<<<<< Updated upstream
    "pca_job_name = 'pca-2020-11-18-21-57-49-596'\n",
    "\n",
    "path_to_model = os.path.join(prefix, pca_job_name, 'output/model.tar.gz')\n",
=======
    "pca_job_name = pca_estimator._current_job_name\n",
    "\n",
    "path_to_model = os.path.join(prefix, 'output_path', pca_job_name, 'output/model.tar.gz')\n",
>>>>>>> Stashed changes
    "\n",
    "# download and unzip model\n",
    "boto3.resource('s3').Bucket(bucket_name).download_file(path_to_model, 'model.tar.gz')\n",
    "# unzipping as model_algo-1\n",
    "os.system('tar -zxvf model.tar.gz')\n",
    "os.system('unzip model_algo-1')"
   ]
  },
  {
   "cell_type": "code",
<<<<<<< Updated upstream
   "execution_count": 23,
=======
   "execution_count": 71,
>>>>>>> Stashed changes
   "metadata": {},
   "outputs": [],
   "source": [
    "# Load MXNet model artifacts into a local MXNet\n",
    "import mxnet as mx\n",
    "\n",
    "pca_params = mx.ndarray.load('model_algo-1')"
   ]
  },
  {
   "cell_type": "markdown",
   "metadata": {},
   "source": [
    "### PCA Attributes\n",
    "\n",
    "Three types of model attributes are contained within the PCA model.\n",
    "\n",
    "- `mean`: The mean that was subtracted from a component in order to center it.\n",
    "- `v`: The makeup of the principal components; (same as ‘components_’ in an sklearn PCA model).\n",
    "- `s`: The singular values of the components for the PCA transformation. This does not exactly give the % variance from the original feature space, but can give the % variance from the projected feature space.\n",
    "\n",
    "We are only interested in `v` and `s`."
   ]
  },
  {
   "cell_type": "code",
<<<<<<< Updated upstream
   "execution_count": 24,
=======
   "execution_count": 73,
>>>>>>> Stashed changes
   "metadata": {},
   "outputs": [],
   "source": [
    "# Get the necessary attributes\n",
    "\n",
    "pca_v = pd.DataFrame(pca_params['v'].asnumpy())\n",
    "pca_s = pd.DataFrame(pca_params['s'].asnumpy())"
   ]
  },
  {
   "cell_type": "code",
<<<<<<< Updated upstream
   "execution_count": 25,
   "metadata": {},
   "outputs": [
    {
     "name": "stdout",
     "output_type": "stream",
     "text": [
      "            0\n",
      "0    0.017896\n",
      "1    0.030864\n",
      "2    0.032131\n",
      "3    0.035486\n",
      "4    0.094832\n",
      "5    0.126994\n",
      "6    0.402887\n",
      "7    1.408476\n",
      "8    1.510049\n",
      "9    1.595794\n",
      "10   1.778376\n",
      "11   2.166252\n",
      "12   2.296636\n",
      "13   2.385605\n",
      "14   2.695488\n",
      "15   2.806798\n",
      "16   3.017596\n",
      "17   3.395267\n",
      "18   3.573130\n",
      "19   3.696696\n",
      "20   4.189021\n",
      "21   4.345750\n",
      "22   4.541038\n",
      "23   5.018966\n",
      "24   5.578647\n",
      "25   5.980970\n",
      "26   6.392514\n",
      "27   7.695221\n",
      "28   7.991313\n",
      "29  10.180052\n",
      "30  11.718245\n",
      "31  13.035975\n",
      "32  19.592180\n"
=======
   "execution_count": 74,
   "metadata": {},
   "outputs": [
    {
     "output_type": "stream",
     "name": "stdout",
     "text": [
      "            0\n0    0.017896\n1    0.030864\n2    0.032131\n3    0.035486\n4    0.094832\n5    0.126994\n6    0.402887\n7    1.408476\n8    1.510049\n9    1.595794\n10   1.778376\n11   2.166252\n12   2.296636\n13   2.385605\n14   2.695488\n15   2.806798\n16   3.017596\n17   3.395267\n18   3.573130\n19   3.696696\n20   4.189021\n21   4.345750\n22   4.541038\n23   5.018966\n24   5.578647\n25   5.980970\n26   6.392514\n27   7.695221\n28   7.991313\n29  10.180052\n30  11.718245\n31  13.035975\n32  19.592180\n"
>>>>>>> Stashed changes
     ]
    }
   ],
   "source": [
    "# The components are ordered in ascending order of s\n",
    "print(pca_s)"
   ]
  },
  {
   "cell_type": "markdown",
   "metadata": {},
   "source": [
    "### Dimensionality and Variance\n",
    "I want to keep the `n` most important features so that they totalize at least 80% of the original variance. Hopefully, a much smaller number of features will be necessary to cover most of the data variance, and those are the components to be picked in order to reduce the model dimensionality.\n",
    "\n",
    "The variance of a set of `n` components is given as:\n",
    "\n",
    "\\begin{equation}\n",
    "\\frac{\\sum_{i}^{n} {s_i}^2}{\\sum s^2}\n",
    "\\end{equation}"
   ]
  },
  {
   "cell_type": "code",
<<<<<<< Updated upstream
   "execution_count": 26,
=======
   "execution_count": 75,
>>>>>>> Stashed changes
   "metadata": {},
   "outputs": [],
   "source": [
    "# Calculate the explained variance for the top n principal components\n",
    "def explained_variance(s, n_top_components):\n",
    "    '''Calculates the approx. data variance that n_top_components captures.\n",
    "       :param s: A dataframe of singular values for top components; \n",
    "           the top value is in the last row.\n",
    "       :param n_top_components: An integer, the number of top components to use.\n",
    "       :return: The expected data variance covered by the n_top_components.'''\n",
    "    \n",
    "    s2 = s * s\n",
    "    last_n_variance = s2.iloc[-n_top_components:].sum()[0]\n",
    "    total_variance = s2.iloc[:].sum()[0]\n",
    "    \n",
    "    return last_n_variance/total_variance"
   ]
  },
  {
   "cell_type": "code",
<<<<<<< Updated upstream
   "execution_count": 28,
   "metadata": {},
   "outputs": [
    {
     "name": "stdout",
     "output_type": "stream",
=======
   "execution_count": 77,
   "metadata": {},
   "outputs": [
    {
     "output_type": "stream",
     "name": "stdout",
>>>>>>> Stashed changes
     "text": [
      "Explained variance:  0.80167246\n"
     ]
    }
   ],
   "source": [
    "### Testing \n",
    "n_top_components = 7 # select a value for the number of top components\n",
    "\n",
    "# calculate the explained variance\n",
    "exp_variance = explained_variance(pca_s, n_top_components)\n",
    "print('Explained variance: ', exp_variance)"
   ]
  },
  {
   "cell_type": "markdown",
   "metadata": {},
   "source": [
    "### Composition of PCA components\n"
   ]
  },
  {
   "cell_type": "code",
<<<<<<< Updated upstream
   "execution_count": 29,
=======
   "execution_count": 79,
>>>>>>> Stashed changes
   "metadata": {},
   "outputs": [],
   "source": [
    "import seaborn as sns\n",
    "\n",
    "def display_component(v, features_list, component_num, n_weights=10):\n",
    "    \n",
    "    # get index of component (last row - component_num)\n",
    "    row_idx = N_COMPONENTS-component_num\n",
    "\n",
    "    # get the list of weights from a row in v, dataframe\n",
    "    v_1_row = v.iloc[:, row_idx]\n",
    "    v_1 = np.squeeze(v_1_row.values)\n",
    "\n",
    "    # match weights to features in counties_scaled dataframe, using list comporehension\n",
    "    comps = pd.DataFrame(list(zip(v_1, features_list)), \n",
    "                         columns=['weights', 'features'])\n",
    "\n",
    "    # we'll want to sort by the largest n_weights\n",
    "    # weights can be neg/pos and we'll sort by magnitude\n",
    "    comps['abs_weights']=comps['weights'].apply(lambda x: np.abs(x))\n",
    "    sorted_weight_data = comps.sort_values('abs_weights', ascending=False).head(n_weights)\n",
    "\n",
    "    # display using seaborn\n",
    "    ax=plt.subplots(figsize=(10,6))\n",
    "    ax=sns.barplot(data=sorted_weight_data, \n",
    "                   x=\"weights\", \n",
    "                   y=\"features\", \n",
    "                   palette=\"Blues_d\")\n",
    "    ax.set_title(\"PCA Component Makeup, Component #\" + str(component_num))\n",
    "    plt.show()\n"
   ]
  },
  {
   "cell_type": "code",
<<<<<<< Updated upstream
   "execution_count": 36,
   "metadata": {},
   "outputs": [
    {
     "data": {
      "image/png": "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\n",
      "text/plain": [
       "<Figure size 720x432 with 1 Axes>"
      ]
     },
     "metadata": {
      "needs_background": "light"
     },
     "output_type": "display_data"
=======
   "execution_count": 80,
   "metadata": {},
   "outputs": [
    {
     "output_type": "display_data",
     "data": {
      "text/plain": "<Figure size 720x432 with 1 Axes>",
      "image/svg+xml": "<?xml version=\"1.0\" encoding=\"utf-8\" standalone=\"no\"?>\n<!DOCTYPE svg PUBLIC \"-//W3C//DTD SVG 1.1//EN\"\n  \"http://www.w3.org/Graphics/SVG/1.1/DTD/svg11.dtd\">\n<!-- Created with matplotlib (https://matplotlib.org/) -->\n<svg height=\"386.034375pt\" version=\"1.1\" viewBox=\"0 0 669.94375 386.034375\" width=\"669.94375pt\" xmlns=\"http://www.w3.org/2000/svg\" xmlns:xlink=\"http://www.w3.org/1999/xlink\">\n <metadata>\n  <rdf:RDF xmlns:cc=\"http://creativecommons.org/ns#\" xmlns:dc=\"http://purl.org/dc/elements/1.1/\" xmlns:rdf=\"http://www.w3.org/1999/02/22-rdf-syntax-ns#\">\n   <cc:Work>\n    <dc:type rdf:resource=\"http://purl.org/dc/dcmitype/StillImage\"/>\n    <dc:date>2021-03-20T04:12:08.358245</dc:date>\n    <dc:format>image/svg+xml</dc:format>\n    <dc:creator>\n     <cc:Agent>\n      <dc:title>Matplotlib v3.3.4, https://matplotlib.org/</dc:title>\n     </cc:Agent>\n    </dc:creator>\n   </cc:Work>\n  </rdf:RDF>\n </metadata>\n <defs>\n  <style type=\"text/css\">*{stroke-linecap:butt;stroke-linejoin:round;}</style>\n </defs>\n <g id=\"figure_1\">\n  <g id=\"patch_1\">\n   <path d=\"M 0 386.034375 \nL 669.94375 386.034375 \nL 669.94375 0 \nL 0 0 \nz\n\" style=\"fill:none;\"/>\n  </g>\n  <g id=\"axes_1\">\n   <g id=\"patch_2\">\n    <path d=\"M 104.74375 348.478125 \nL 662.74375 348.478125 \nL 662.74375 22.318125 \nL 104.74375 22.318125 \nz\n\" style=\"fill:#ffffff;\"/>\n   </g>\n   <g id=\"patch_3\">\n    <path clip-path=\"url(#p599558f93f)\" d=\"M 437.13194 24.492525 \nL 130.107386 24.492525 \nL 130.107386 41.887725 \nL 437.13194 41.887725 \nz\n\" style=\"fill:#a5c5d8;\"/>\n   </g>\n   <g id=\"patch_4\">\n    <path clip-path=\"url(#p599558f93f)\" d=\"M 437.13194 46.236525 \nL 637.380114 46.236525 \nL 637.380114 63.631725 \nL 437.13194 63.631725 \nz\n\" style=\"fill:#98bbd3;\"/>\n   </g>\n   <g id=\"patch_5\">\n    <path clip-path=\"url(#p599558f93f)\" d=\"M 437.13194 67.980525 \nL 612.082898 67.980525 \nL 612.082898 85.375725 \nL 437.13194 85.375725 \nz\n\" style=\"fill:#8bb2cd;\"/>\n   </g>\n   <g id=\"patch_6\">\n    <path clip-path=\"url(#p599558f93f)\" d=\"M 437.13194 89.724525 \nL 605.952221 89.724525 \nL 605.952221 107.119725 \nL 437.13194 107.119725 \nz\n\" style=\"fill:#7da9c7;\"/>\n   </g>\n   <g id=\"patch_7\">\n    <path clip-path=\"url(#p599558f93f)\" d=\"M 437.13194 111.468525 \nL 556.288857 111.468525 \nL 556.288857 128.863725 \nL 437.13194 128.863725 \nz\n\" style=\"fill:#70a0c1;\"/>\n   </g>\n   <g id=\"patch_8\">\n    <path clip-path=\"url(#p599558f93f)\" d=\"M 437.13194 133.212525 \nL 542.978482 133.212525 \nL 542.978482 150.607725 \nL 437.13194 150.607725 \nz\n\" style=\"fill:#6296bb;\"/>\n   </g>\n   <g id=\"patch_9\">\n    <path clip-path=\"url(#p599558f93f)\" d=\"M 437.13194 154.956525 \nL 336.307507 154.956525 \nL 336.307507 172.351725 \nL 437.13194 172.351725 \nz\n\" style=\"fill:#558db5;\"/>\n   </g>\n   <g id=\"patch_10\">\n    <path clip-path=\"url(#p599558f93f)\" d=\"M 437.13194 176.700525 \nL 337.026427 176.700525 \nL 337.026427 194.095725 \nL 437.13194 194.095725 \nz\n\" style=\"fill:#4884af;\"/>\n   </g>\n   <g id=\"patch_11\">\n    <path clip-path=\"url(#p599558f93f)\" d=\"M 437.13194 198.444525 \nL 510.801649 198.444525 \nL 510.801649 215.839725 \nL 437.13194 215.839725 \nz\n\" style=\"fill:#457a9f;\"/>\n   </g>\n   <g id=\"patch_12\">\n    <path clip-path=\"url(#p599558f93f)\" d=\"M 437.13194 220.188525 \nL 509.357205 220.188525 \nL 509.357205 237.583725 \nL 437.13194 237.583725 \nz\n\" style=\"fill:#436f90;\"/>\n   </g>\n   <g id=\"patch_13\">\n    <path clip-path=\"url(#p599558f93f)\" d=\"M 437.13194 241.932525 \nL 384.292793 241.932525 \nL 384.292793 259.327725 \nL 437.13194 259.327725 \nz\n\" style=\"fill:#406580;\"/>\n   </g>\n   <g id=\"patch_14\">\n    <path clip-path=\"url(#p599558f93f)\" d=\"M 437.13194 263.676525 \nL 387.535278 263.676525 \nL 387.535278 281.071725 \nL 437.13194 281.071725 \nz\n\" style=\"fill:#3d5b70;\"/>\n   </g>\n   <g id=\"patch_15\">\n    <path clip-path=\"url(#p599558f93f)\" d=\"M 437.13194 285.420525 \nL 397.290479 285.420525 \nL 397.290479 302.815725 \nL 437.13194 302.815725 \nz\n\" style=\"fill:#3b5161;\"/>\n   </g>\n   <g id=\"patch_16\">\n    <path clip-path=\"url(#p599558f93f)\" d=\"M 437.13194 307.164525 \nL 404.77011 307.164525 \nL 404.77011 324.559725 \nL 437.13194 324.559725 \nz\n\" style=\"fill:#384751;\"/>\n   </g>\n   <g id=\"patch_17\">\n    <path clip-path=\"url(#p599558f93f)\" d=\"M 437.13194 328.908525 \nL 465.165843 328.908525 \nL 465.165843 346.303725 \nL 437.13194 346.303725 \nz\n\" style=\"fill:#353d42;\"/>\n   </g>\n   <g id=\"matplotlib.axis_1\">\n    <g id=\"xtick_1\">\n     <g id=\"line2d_1\">\n      <defs>\n       <path d=\"M 0 0 \nL 0 3.5 \n\" id=\"m4d3ad37d0c\" style=\"stroke:#000000;stroke-width:0.8;\"/>\n      </defs>\n      <g>\n       <use style=\"stroke:#000000;stroke-width:0.8;\" x=\"131.11322\" xlink:href=\"#m4d3ad37d0c\" y=\"348.478125\"/>\n      </g>\n     </g>\n     <g id=\"text_1\">\n      <!-- −0.6 -->\n      <g transform=\"translate(118.971814 363.076562)scale(0.1 -0.1)\">\n       <defs>\n        <path d=\"M 10.59375 35.5 \nL 73.1875 35.5 \nL 73.1875 27.203125 \nL 10.59375 27.203125 \nz\n\" id=\"DejaVuSans-8722\"/>\n        <path d=\"M 31.78125 66.40625 \nQ 24.171875 66.40625 20.328125 58.90625 \nQ 16.5 51.421875 16.5 36.375 \nQ 16.5 21.390625 20.328125 13.890625 \nQ 24.171875 6.390625 31.78125 6.390625 \nQ 39.453125 6.390625 43.28125 13.890625 \nQ 47.125 21.390625 47.125 36.375 \nQ 47.125 51.421875 43.28125 58.90625 \nQ 39.453125 66.40625 31.78125 66.40625 \nz\nM 31.78125 74.21875 \nQ 44.046875 74.21875 50.515625 64.515625 \nQ 56.984375 54.828125 56.984375 36.375 \nQ 56.984375 17.96875 50.515625 8.265625 \nQ 44.046875 -1.421875 31.78125 -1.421875 \nQ 19.53125 -1.421875 13.0625 8.265625 \nQ 6.59375 17.96875 6.59375 36.375 \nQ 6.59375 54.828125 13.0625 64.515625 \nQ 19.53125 74.21875 31.78125 74.21875 \nz\n\" id=\"DejaVuSans-48\"/>\n        <path d=\"M 10.6875 12.40625 \nL 21 12.40625 \nL 21 0 \nL 10.6875 0 \nz\n\" id=\"DejaVuSans-46\"/>\n        <path d=\"M 33.015625 40.375 \nQ 26.375 40.375 22.484375 35.828125 \nQ 18.609375 31.296875 18.609375 23.390625 \nQ 18.609375 15.53125 22.484375 10.953125 \nQ 26.375 6.390625 33.015625 6.390625 \nQ 39.65625 6.390625 43.53125 10.953125 \nQ 47.40625 15.53125 47.40625 23.390625 \nQ 47.40625 31.296875 43.53125 35.828125 \nQ 39.65625 40.375 33.015625 40.375 \nz\nM 52.59375 71.296875 \nL 52.59375 62.3125 \nQ 48.875 64.0625 45.09375 64.984375 \nQ 41.3125 65.921875 37.59375 65.921875 \nQ 27.828125 65.921875 22.671875 59.328125 \nQ 17.53125 52.734375 16.796875 39.40625 \nQ 19.671875 43.65625 24.015625 45.921875 \nQ 28.375 48.1875 33.59375 48.1875 \nQ 44.578125 48.1875 50.953125 41.515625 \nQ 57.328125 34.859375 57.328125 23.390625 \nQ 57.328125 12.15625 50.6875 5.359375 \nQ 44.046875 -1.421875 33.015625 -1.421875 \nQ 20.359375 -1.421875 13.671875 8.265625 \nQ 6.984375 17.96875 6.984375 36.375 \nQ 6.984375 53.65625 15.1875 63.9375 \nQ 23.390625 74.21875 37.203125 74.21875 \nQ 40.921875 74.21875 44.703125 73.484375 \nQ 48.484375 72.75 52.59375 71.296875 \nz\n\" id=\"DejaVuSans-54\"/>\n       </defs>\n       <use xlink:href=\"#DejaVuSans-8722\"/>\n       <use x=\"83.789062\" xlink:href=\"#DejaVuSans-48\"/>\n       <use x=\"147.412109\" xlink:href=\"#DejaVuSans-46\"/>\n       <use x=\"179.199219\" xlink:href=\"#DejaVuSans-54\"/>\n      </g>\n     </g>\n    </g>\n    <g id=\"xtick_2\">\n     <g id=\"line2d_2\">\n      <g>\n       <use style=\"stroke:#000000;stroke-width:0.8;\" x=\"233.11946\" xlink:href=\"#m4d3ad37d0c\" y=\"348.478125\"/>\n      </g>\n     </g>\n     <g id=\"text_2\">\n      <!-- −0.4 -->\n      <g transform=\"translate(220.978054 363.076562)scale(0.1 -0.1)\">\n       <defs>\n        <path d=\"M 37.796875 64.3125 \nL 12.890625 25.390625 \nL 37.796875 25.390625 \nz\nM 35.203125 72.90625 \nL 47.609375 72.90625 \nL 47.609375 25.390625 \nL 58.015625 25.390625 \nL 58.015625 17.1875 \nL 47.609375 17.1875 \nL 47.609375 0 \nL 37.796875 0 \nL 37.796875 17.1875 \nL 4.890625 17.1875 \nL 4.890625 26.703125 \nz\n\" id=\"DejaVuSans-52\"/>\n       </defs>\n       <use xlink:href=\"#DejaVuSans-8722\"/>\n       <use x=\"83.789062\" xlink:href=\"#DejaVuSans-48\"/>\n       <use x=\"147.412109\" xlink:href=\"#DejaVuSans-46\"/>\n       <use x=\"179.199219\" xlink:href=\"#DejaVuSans-52\"/>\n      </g>\n     </g>\n    </g>\n    <g id=\"xtick_3\">\n     <g id=\"line2d_3\">\n      <g>\n       <use style=\"stroke:#000000;stroke-width:0.8;\" x=\"335.1257\" xlink:href=\"#m4d3ad37d0c\" y=\"348.478125\"/>\n      </g>\n     </g>\n     <g id=\"text_3\">\n      <!-- −0.2 -->\n      <g transform=\"translate(322.984294 363.076562)scale(0.1 -0.1)\">\n       <defs>\n        <path d=\"M 19.1875 8.296875 \nL 53.609375 8.296875 \nL 53.609375 0 \nL 7.328125 0 \nL 7.328125 8.296875 \nQ 12.9375 14.109375 22.625 23.890625 \nQ 32.328125 33.6875 34.8125 36.53125 \nQ 39.546875 41.84375 41.421875 45.53125 \nQ 43.3125 49.21875 43.3125 52.78125 \nQ 43.3125 58.59375 39.234375 62.25 \nQ 35.15625 65.921875 28.609375 65.921875 \nQ 23.96875 65.921875 18.8125 64.3125 \nQ 13.671875 62.703125 7.8125 59.421875 \nL 7.8125 69.390625 \nQ 13.765625 71.78125 18.9375 73 \nQ 24.125 74.21875 28.421875 74.21875 \nQ 39.75 74.21875 46.484375 68.546875 \nQ 53.21875 62.890625 53.21875 53.421875 \nQ 53.21875 48.921875 51.53125 44.890625 \nQ 49.859375 40.875 45.40625 35.40625 \nQ 44.1875 33.984375 37.640625 27.21875 \nQ 31.109375 20.453125 19.1875 8.296875 \nz\n\" id=\"DejaVuSans-50\"/>\n       </defs>\n       <use xlink:href=\"#DejaVuSans-8722\"/>\n       <use x=\"83.789062\" xlink:href=\"#DejaVuSans-48\"/>\n       <use x=\"147.412109\" xlink:href=\"#DejaVuSans-46\"/>\n       <use x=\"179.199219\" xlink:href=\"#DejaVuSans-50\"/>\n      </g>\n     </g>\n    </g>\n    <g id=\"xtick_4\">\n     <g id=\"line2d_4\">\n      <g>\n       <use style=\"stroke:#000000;stroke-width:0.8;\" x=\"437.13194\" xlink:href=\"#m4d3ad37d0c\" y=\"348.478125\"/>\n      </g>\n     </g>\n     <g id=\"text_4\">\n      <!-- 0.0 -->\n      <g transform=\"translate(429.180377 363.076562)scale(0.1 -0.1)\">\n       <use xlink:href=\"#DejaVuSans-48\"/>\n       <use x=\"63.623047\" xlink:href=\"#DejaVuSans-46\"/>\n       <use x=\"95.410156\" xlink:href=\"#DejaVuSans-48\"/>\n      </g>\n     </g>\n    </g>\n    <g id=\"xtick_5\">\n     <g id=\"line2d_5\">\n      <g>\n       <use style=\"stroke:#000000;stroke-width:0.8;\" x=\"539.138179\" xlink:href=\"#m4d3ad37d0c\" y=\"348.478125\"/>\n      </g>\n     </g>\n     <g id=\"text_5\">\n      <!-- 0.2 -->\n      <g transform=\"translate(531.186617 363.076562)scale(0.1 -0.1)\">\n       <use xlink:href=\"#DejaVuSans-48\"/>\n       <use x=\"63.623047\" xlink:href=\"#DejaVuSans-46\"/>\n       <use x=\"95.410156\" xlink:href=\"#DejaVuSans-50\"/>\n      </g>\n     </g>\n    </g>\n    <g id=\"xtick_6\">\n     <g id=\"line2d_6\">\n      <g>\n       <use style=\"stroke:#000000;stroke-width:0.8;\" x=\"641.144419\" xlink:href=\"#m4d3ad37d0c\" y=\"348.478125\"/>\n      </g>\n     </g>\n     <g id=\"text_6\">\n      <!-- 0.4 -->\n      <g transform=\"translate(633.192856 363.076562)scale(0.1 -0.1)\">\n       <use xlink:href=\"#DejaVuSans-48\"/>\n       <use x=\"63.623047\" xlink:href=\"#DejaVuSans-46\"/>\n       <use x=\"95.410156\" xlink:href=\"#DejaVuSans-52\"/>\n      </g>\n     </g>\n    </g>\n    <g id=\"text_7\">\n     <!-- weights -->\n     <g transform=\"translate(364.28125 376.754687)scale(0.1 -0.1)\">\n      <defs>\n       <path d=\"M 4.203125 54.6875 \nL 13.1875 54.6875 \nL 24.421875 12.015625 \nL 35.59375 54.6875 \nL 46.1875 54.6875 \nL 57.421875 12.015625 \nL 68.609375 54.6875 \nL 77.59375 54.6875 \nL 63.28125 0 \nL 52.6875 0 \nL 40.921875 44.828125 \nL 29.109375 0 \nL 18.5 0 \nz\n\" id=\"DejaVuSans-119\"/>\n       <path d=\"M 56.203125 29.59375 \nL 56.203125 25.203125 \nL 14.890625 25.203125 \nQ 15.484375 15.921875 20.484375 11.0625 \nQ 25.484375 6.203125 34.421875 6.203125 \nQ 39.59375 6.203125 44.453125 7.46875 \nQ 49.3125 8.734375 54.109375 11.28125 \nL 54.109375 2.78125 \nQ 49.265625 0.734375 44.1875 -0.34375 \nQ 39.109375 -1.421875 33.890625 -1.421875 \nQ 20.796875 -1.421875 13.15625 6.1875 \nQ 5.515625 13.8125 5.515625 26.8125 \nQ 5.515625 40.234375 12.765625 48.109375 \nQ 20.015625 56 32.328125 56 \nQ 43.359375 56 49.78125 48.890625 \nQ 56.203125 41.796875 56.203125 29.59375 \nz\nM 47.21875 32.234375 \nQ 47.125 39.59375 43.09375 43.984375 \nQ 39.0625 48.390625 32.421875 48.390625 \nQ 24.90625 48.390625 20.390625 44.140625 \nQ 15.875 39.890625 15.1875 32.171875 \nz\n\" id=\"DejaVuSans-101\"/>\n       <path d=\"M 9.421875 54.6875 \nL 18.40625 54.6875 \nL 18.40625 0 \nL 9.421875 0 \nz\nM 9.421875 75.984375 \nL 18.40625 75.984375 \nL 18.40625 64.59375 \nL 9.421875 64.59375 \nz\n\" id=\"DejaVuSans-105\"/>\n       <path d=\"M 45.40625 27.984375 \nQ 45.40625 37.75 41.375 43.109375 \nQ 37.359375 48.484375 30.078125 48.484375 \nQ 22.859375 48.484375 18.828125 43.109375 \nQ 14.796875 37.75 14.796875 27.984375 \nQ 14.796875 18.265625 18.828125 12.890625 \nQ 22.859375 7.515625 30.078125 7.515625 \nQ 37.359375 7.515625 41.375 12.890625 \nQ 45.40625 18.265625 45.40625 27.984375 \nz\nM 54.390625 6.78125 \nQ 54.390625 -7.171875 48.1875 -13.984375 \nQ 42 -20.796875 29.203125 -20.796875 \nQ 24.46875 -20.796875 20.265625 -20.09375 \nQ 16.0625 -19.390625 12.109375 -17.921875 \nL 12.109375 -9.1875 \nQ 16.0625 -11.328125 19.921875 -12.34375 \nQ 23.78125 -13.375 27.78125 -13.375 \nQ 36.625 -13.375 41.015625 -8.765625 \nQ 45.40625 -4.15625 45.40625 5.171875 \nL 45.40625 9.625 \nQ 42.625 4.78125 38.28125 2.390625 \nQ 33.9375 0 27.875 0 \nQ 17.828125 0 11.671875 7.65625 \nQ 5.515625 15.328125 5.515625 27.984375 \nQ 5.515625 40.671875 11.671875 48.328125 \nQ 17.828125 56 27.875 56 \nQ 33.9375 56 38.28125 53.609375 \nQ 42.625 51.21875 45.40625 46.390625 \nL 45.40625 54.6875 \nL 54.390625 54.6875 \nz\n\" id=\"DejaVuSans-103\"/>\n       <path d=\"M 54.890625 33.015625 \nL 54.890625 0 \nL 45.90625 0 \nL 45.90625 32.71875 \nQ 45.90625 40.484375 42.875 44.328125 \nQ 39.84375 48.1875 33.796875 48.1875 \nQ 26.515625 48.1875 22.3125 43.546875 \nQ 18.109375 38.921875 18.109375 30.90625 \nL 18.109375 0 \nL 9.078125 0 \nL 9.078125 75.984375 \nL 18.109375 75.984375 \nL 18.109375 46.1875 \nQ 21.34375 51.125 25.703125 53.5625 \nQ 30.078125 56 35.796875 56 \nQ 45.21875 56 50.046875 50.171875 \nQ 54.890625 44.34375 54.890625 33.015625 \nz\n\" id=\"DejaVuSans-104\"/>\n       <path d=\"M 18.3125 70.21875 \nL 18.3125 54.6875 \nL 36.8125 54.6875 \nL 36.8125 47.703125 \nL 18.3125 47.703125 \nL 18.3125 18.015625 \nQ 18.3125 11.328125 20.140625 9.421875 \nQ 21.96875 7.515625 27.59375 7.515625 \nL 36.8125 7.515625 \nL 36.8125 0 \nL 27.59375 0 \nQ 17.1875 0 13.234375 3.875 \nQ 9.28125 7.765625 9.28125 18.015625 \nL 9.28125 47.703125 \nL 2.6875 47.703125 \nL 2.6875 54.6875 \nL 9.28125 54.6875 \nL 9.28125 70.21875 \nz\n\" id=\"DejaVuSans-116\"/>\n       <path d=\"M 44.28125 53.078125 \nL 44.28125 44.578125 \nQ 40.484375 46.53125 36.375 47.5 \nQ 32.28125 48.484375 27.875 48.484375 \nQ 21.1875 48.484375 17.84375 46.4375 \nQ 14.5 44.390625 14.5 40.28125 \nQ 14.5 37.15625 16.890625 35.375 \nQ 19.28125 33.59375 26.515625 31.984375 \nL 29.59375 31.296875 \nQ 39.15625 29.25 43.1875 25.515625 \nQ 47.21875 21.78125 47.21875 15.09375 \nQ 47.21875 7.46875 41.1875 3.015625 \nQ 35.15625 -1.421875 24.609375 -1.421875 \nQ 20.21875 -1.421875 15.453125 -0.5625 \nQ 10.6875 0.296875 5.421875 2 \nL 5.421875 11.28125 \nQ 10.40625 8.6875 15.234375 7.390625 \nQ 20.0625 6.109375 24.8125 6.109375 \nQ 31.15625 6.109375 34.5625 8.28125 \nQ 37.984375 10.453125 37.984375 14.40625 \nQ 37.984375 18.0625 35.515625 20.015625 \nQ 33.0625 21.96875 24.703125 23.78125 \nL 21.578125 24.515625 \nQ 13.234375 26.265625 9.515625 29.90625 \nQ 5.8125 33.546875 5.8125 39.890625 \nQ 5.8125 47.609375 11.28125 51.796875 \nQ 16.75 56 26.8125 56 \nQ 31.78125 56 36.171875 55.265625 \nQ 40.578125 54.546875 44.28125 53.078125 \nz\n\" id=\"DejaVuSans-115\"/>\n      </defs>\n      <use xlink:href=\"#DejaVuSans-119\"/>\n      <use x=\"81.787109\" xlink:href=\"#DejaVuSans-101\"/>\n      <use x=\"143.310547\" xlink:href=\"#DejaVuSans-105\"/>\n      <use x=\"171.09375\" xlink:href=\"#DejaVuSans-103\"/>\n      <use x=\"234.570312\" xlink:href=\"#DejaVuSans-104\"/>\n      <use x=\"297.949219\" xlink:href=\"#DejaVuSans-116\"/>\n      <use x=\"337.158203\" xlink:href=\"#DejaVuSans-115\"/>\n     </g>\n    </g>\n   </g>\n   <g id=\"matplotlib.axis_2\">\n    <g id=\"ytick_1\">\n     <g id=\"line2d_7\">\n      <defs>\n       <path d=\"M 0 0 \nL -3.5 0 \n\" id=\"m4bdfa40939\" style=\"stroke:#000000;stroke-width:0.8;\"/>\n      </defs>\n      <g>\n       <use style=\"stroke:#000000;stroke-width:0.8;\" x=\"104.74375\" xlink:href=\"#m4bdfa40939\" y=\"33.190125\"/>\n      </g>\n     </g>\n     <g id=\"text_8\">\n      <!-- White -->\n      <g transform=\"translate(68.667188 36.989344)scale(0.1 -0.1)\">\n       <defs>\n        <path d=\"M 3.328125 72.90625 \nL 13.28125 72.90625 \nL 28.609375 11.28125 \nL 43.890625 72.90625 \nL 54.984375 72.90625 \nL 70.3125 11.28125 \nL 85.59375 72.90625 \nL 95.609375 72.90625 \nL 77.296875 0 \nL 64.890625 0 \nL 49.515625 63.28125 \nL 33.984375 0 \nL 21.578125 0 \nz\n\" id=\"DejaVuSans-87\"/>\n       </defs>\n       <use xlink:href=\"#DejaVuSans-87\"/>\n       <use x=\"98.876953\" xlink:href=\"#DejaVuSans-104\"/>\n       <use x=\"162.255859\" xlink:href=\"#DejaVuSans-105\"/>\n       <use x=\"190.039062\" xlink:href=\"#DejaVuSans-116\"/>\n       <use x=\"229.248047\" xlink:href=\"#DejaVuSans-101\"/>\n      </g>\n     </g>\n    </g>\n    <g id=\"ytick_2\">\n     <g id=\"line2d_8\">\n      <g>\n       <use style=\"stroke:#000000;stroke-width:0.8;\" x=\"104.74375\" xlink:href=\"#m4bdfa40939\" y=\"54.934125\"/>\n      </g>\n     </g>\n     <g id=\"text_9\">\n      <!-- Hispanic -->\n      <g transform=\"translate(55.145313 58.733344)scale(0.1 -0.1)\">\n       <defs>\n        <path d=\"M 9.8125 72.90625 \nL 19.671875 72.90625 \nL 19.671875 43.015625 \nL 55.515625 43.015625 \nL 55.515625 72.90625 \nL 65.375 72.90625 \nL 65.375 0 \nL 55.515625 0 \nL 55.515625 34.71875 \nL 19.671875 34.71875 \nL 19.671875 0 \nL 9.8125 0 \nz\n\" id=\"DejaVuSans-72\"/>\n        <path d=\"M 18.109375 8.203125 \nL 18.109375 -20.796875 \nL 9.078125 -20.796875 \nL 9.078125 54.6875 \nL 18.109375 54.6875 \nL 18.109375 46.390625 \nQ 20.953125 51.265625 25.265625 53.625 \nQ 29.59375 56 35.59375 56 \nQ 45.5625 56 51.78125 48.09375 \nQ 58.015625 40.1875 58.015625 27.296875 \nQ 58.015625 14.40625 51.78125 6.484375 \nQ 45.5625 -1.421875 35.59375 -1.421875 \nQ 29.59375 -1.421875 25.265625 0.953125 \nQ 20.953125 3.328125 18.109375 8.203125 \nz\nM 48.6875 27.296875 \nQ 48.6875 37.203125 44.609375 42.84375 \nQ 40.53125 48.484375 33.40625 48.484375 \nQ 26.265625 48.484375 22.1875 42.84375 \nQ 18.109375 37.203125 18.109375 27.296875 \nQ 18.109375 17.390625 22.1875 11.75 \nQ 26.265625 6.109375 33.40625 6.109375 \nQ 40.53125 6.109375 44.609375 11.75 \nQ 48.6875 17.390625 48.6875 27.296875 \nz\n\" id=\"DejaVuSans-112\"/>\n        <path d=\"M 34.28125 27.484375 \nQ 23.390625 27.484375 19.1875 25 \nQ 14.984375 22.515625 14.984375 16.5 \nQ 14.984375 11.71875 18.140625 8.90625 \nQ 21.296875 6.109375 26.703125 6.109375 \nQ 34.1875 6.109375 38.703125 11.40625 \nQ 43.21875 16.703125 43.21875 25.484375 \nL 43.21875 27.484375 \nz\nM 52.203125 31.203125 \nL 52.203125 0 \nL 43.21875 0 \nL 43.21875 8.296875 \nQ 40.140625 3.328125 35.546875 0.953125 \nQ 30.953125 -1.421875 24.3125 -1.421875 \nQ 15.921875 -1.421875 10.953125 3.296875 \nQ 6 8.015625 6 15.921875 \nQ 6 25.140625 12.171875 29.828125 \nQ 18.359375 34.515625 30.609375 34.515625 \nL 43.21875 34.515625 \nL 43.21875 35.40625 \nQ 43.21875 41.609375 39.140625 45 \nQ 35.0625 48.390625 27.6875 48.390625 \nQ 23 48.390625 18.546875 47.265625 \nQ 14.109375 46.140625 10.015625 43.890625 \nL 10.015625 52.203125 \nQ 14.9375 54.109375 19.578125 55.046875 \nQ 24.21875 56 28.609375 56 \nQ 40.484375 56 46.34375 49.84375 \nQ 52.203125 43.703125 52.203125 31.203125 \nz\n\" id=\"DejaVuSans-97\"/>\n        <path d=\"M 54.890625 33.015625 \nL 54.890625 0 \nL 45.90625 0 \nL 45.90625 32.71875 \nQ 45.90625 40.484375 42.875 44.328125 \nQ 39.84375 48.1875 33.796875 48.1875 \nQ 26.515625 48.1875 22.3125 43.546875 \nQ 18.109375 38.921875 18.109375 30.90625 \nL 18.109375 0 \nL 9.078125 0 \nL 9.078125 54.6875 \nL 18.109375 54.6875 \nL 18.109375 46.1875 \nQ 21.34375 51.125 25.703125 53.5625 \nQ 30.078125 56 35.796875 56 \nQ 45.21875 56 50.046875 50.171875 \nQ 54.890625 44.34375 54.890625 33.015625 \nz\n\" id=\"DejaVuSans-110\"/>\n        <path d=\"M 48.78125 52.59375 \nL 48.78125 44.1875 \nQ 44.96875 46.296875 41.140625 47.34375 \nQ 37.3125 48.390625 33.40625 48.390625 \nQ 24.65625 48.390625 19.8125 42.84375 \nQ 14.984375 37.3125 14.984375 27.296875 \nQ 14.984375 17.28125 19.8125 11.734375 \nQ 24.65625 6.203125 33.40625 6.203125 \nQ 37.3125 6.203125 41.140625 7.25 \nQ 44.96875 8.296875 48.78125 10.40625 \nL 48.78125 2.09375 \nQ 45.015625 0.34375 40.984375 -0.53125 \nQ 36.96875 -1.421875 32.421875 -1.421875 \nQ 20.0625 -1.421875 12.78125 6.34375 \nQ 5.515625 14.109375 5.515625 27.296875 \nQ 5.515625 40.671875 12.859375 48.328125 \nQ 20.21875 56 33.015625 56 \nQ 37.15625 56 41.109375 55.140625 \nQ 45.0625 54.296875 48.78125 52.59375 \nz\n\" id=\"DejaVuSans-99\"/>\n       </defs>\n       <use xlink:href=\"#DejaVuSans-72\"/>\n       <use x=\"75.195312\" xlink:href=\"#DejaVuSans-105\"/>\n       <use x=\"102.978516\" xlink:href=\"#DejaVuSans-115\"/>\n       <use x=\"155.078125\" xlink:href=\"#DejaVuSans-112\"/>\n       <use x=\"218.554688\" xlink:href=\"#DejaVuSans-97\"/>\n       <use x=\"279.833984\" xlink:href=\"#DejaVuSans-110\"/>\n       <use x=\"343.212891\" xlink:href=\"#DejaVuSans-105\"/>\n       <use x=\"370.996094\" xlink:href=\"#DejaVuSans-99\"/>\n      </g>\n     </g>\n    </g>\n    <g id=\"ytick_3\">\n     <g id=\"line2d_9\">\n      <g>\n       <use style=\"stroke:#000000;stroke-width:0.8;\" x=\"104.74375\" xlink:href=\"#m4bdfa40939\" y=\"76.678125\"/>\n      </g>\n     </g>\n     <g id=\"text_10\">\n      <!-- ChildPoverty -->\n      <g transform=\"translate(34.710938 80.477344)scale(0.1 -0.1)\">\n       <defs>\n        <path d=\"M 64.40625 67.28125 \nL 64.40625 56.890625 \nQ 59.421875 61.53125 53.78125 63.8125 \nQ 48.140625 66.109375 41.796875 66.109375 \nQ 29.296875 66.109375 22.65625 58.46875 \nQ 16.015625 50.828125 16.015625 36.375 \nQ 16.015625 21.96875 22.65625 14.328125 \nQ 29.296875 6.6875 41.796875 6.6875 \nQ 48.140625 6.6875 53.78125 8.984375 \nQ 59.421875 11.28125 64.40625 15.921875 \nL 64.40625 5.609375 \nQ 59.234375 2.09375 53.4375 0.328125 \nQ 47.65625 -1.421875 41.21875 -1.421875 \nQ 24.65625 -1.421875 15.125 8.703125 \nQ 5.609375 18.84375 5.609375 36.375 \nQ 5.609375 53.953125 15.125 64.078125 \nQ 24.65625 74.21875 41.21875 74.21875 \nQ 47.75 74.21875 53.53125 72.484375 \nQ 59.328125 70.75 64.40625 67.28125 \nz\n\" id=\"DejaVuSans-67\"/>\n        <path d=\"M 9.421875 75.984375 \nL 18.40625 75.984375 \nL 18.40625 0 \nL 9.421875 0 \nz\n\" id=\"DejaVuSans-108\"/>\n        <path d=\"M 45.40625 46.390625 \nL 45.40625 75.984375 \nL 54.390625 75.984375 \nL 54.390625 0 \nL 45.40625 0 \nL 45.40625 8.203125 \nQ 42.578125 3.328125 38.25 0.953125 \nQ 33.9375 -1.421875 27.875 -1.421875 \nQ 17.96875 -1.421875 11.734375 6.484375 \nQ 5.515625 14.40625 5.515625 27.296875 \nQ 5.515625 40.1875 11.734375 48.09375 \nQ 17.96875 56 27.875 56 \nQ 33.9375 56 38.25 53.625 \nQ 42.578125 51.265625 45.40625 46.390625 \nz\nM 14.796875 27.296875 \nQ 14.796875 17.390625 18.875 11.75 \nQ 22.953125 6.109375 30.078125 6.109375 \nQ 37.203125 6.109375 41.296875 11.75 \nQ 45.40625 17.390625 45.40625 27.296875 \nQ 45.40625 37.203125 41.296875 42.84375 \nQ 37.203125 48.484375 30.078125 48.484375 \nQ 22.953125 48.484375 18.875 42.84375 \nQ 14.796875 37.203125 14.796875 27.296875 \nz\n\" id=\"DejaVuSans-100\"/>\n        <path d=\"M 19.671875 64.796875 \nL 19.671875 37.40625 \nL 32.078125 37.40625 \nQ 38.96875 37.40625 42.71875 40.96875 \nQ 46.484375 44.53125 46.484375 51.125 \nQ 46.484375 57.671875 42.71875 61.234375 \nQ 38.96875 64.796875 32.078125 64.796875 \nz\nM 9.8125 72.90625 \nL 32.078125 72.90625 \nQ 44.34375 72.90625 50.609375 67.359375 \nQ 56.890625 61.8125 56.890625 51.125 \nQ 56.890625 40.328125 50.609375 34.8125 \nQ 44.34375 29.296875 32.078125 29.296875 \nL 19.671875 29.296875 \nL 19.671875 0 \nL 9.8125 0 \nz\n\" id=\"DejaVuSans-80\"/>\n        <path d=\"M 30.609375 48.390625 \nQ 23.390625 48.390625 19.1875 42.75 \nQ 14.984375 37.109375 14.984375 27.296875 \nQ 14.984375 17.484375 19.15625 11.84375 \nQ 23.34375 6.203125 30.609375 6.203125 \nQ 37.796875 6.203125 41.984375 11.859375 \nQ 46.1875 17.53125 46.1875 27.296875 \nQ 46.1875 37.015625 41.984375 42.703125 \nQ 37.796875 48.390625 30.609375 48.390625 \nz\nM 30.609375 56 \nQ 42.328125 56 49.015625 48.375 \nQ 55.71875 40.765625 55.71875 27.296875 \nQ 55.71875 13.875 49.015625 6.21875 \nQ 42.328125 -1.421875 30.609375 -1.421875 \nQ 18.84375 -1.421875 12.171875 6.21875 \nQ 5.515625 13.875 5.515625 27.296875 \nQ 5.515625 40.765625 12.171875 48.375 \nQ 18.84375 56 30.609375 56 \nz\n\" id=\"DejaVuSans-111\"/>\n        <path d=\"M 2.984375 54.6875 \nL 12.5 54.6875 \nL 29.59375 8.796875 \nL 46.6875 54.6875 \nL 56.203125 54.6875 \nL 35.6875 0 \nL 23.484375 0 \nz\n\" id=\"DejaVuSans-118\"/>\n        <path d=\"M 41.109375 46.296875 \nQ 39.59375 47.171875 37.8125 47.578125 \nQ 36.03125 48 33.890625 48 \nQ 26.265625 48 22.1875 43.046875 \nQ 18.109375 38.09375 18.109375 28.8125 \nL 18.109375 0 \nL 9.078125 0 \nL 9.078125 54.6875 \nL 18.109375 54.6875 \nL 18.109375 46.1875 \nQ 20.953125 51.171875 25.484375 53.578125 \nQ 30.03125 56 36.53125 56 \nQ 37.453125 56 38.578125 55.875 \nQ 39.703125 55.765625 41.0625 55.515625 \nz\n\" id=\"DejaVuSans-114\"/>\n        <path d=\"M 32.171875 -5.078125 \nQ 28.375 -14.84375 24.75 -17.8125 \nQ 21.140625 -20.796875 15.09375 -20.796875 \nL 7.90625 -20.796875 \nL 7.90625 -13.28125 \nL 13.1875 -13.28125 \nQ 16.890625 -13.28125 18.9375 -11.515625 \nQ 21 -9.765625 23.484375 -3.21875 \nL 25.09375 0.875 \nL 2.984375 54.6875 \nL 12.5 54.6875 \nL 29.59375 11.921875 \nL 46.6875 54.6875 \nL 56.203125 54.6875 \nz\n\" id=\"DejaVuSans-121\"/>\n       </defs>\n       <use xlink:href=\"#DejaVuSans-67\"/>\n       <use x=\"69.824219\" xlink:href=\"#DejaVuSans-104\"/>\n       <use x=\"133.203125\" xlink:href=\"#DejaVuSans-105\"/>\n       <use x=\"160.986328\" xlink:href=\"#DejaVuSans-108\"/>\n       <use x=\"188.769531\" xlink:href=\"#DejaVuSans-100\"/>\n       <use x=\"252.246094\" xlink:href=\"#DejaVuSans-80\"/>\n       <use x=\"308.923828\" xlink:href=\"#DejaVuSans-111\"/>\n       <use x=\"370.105469\" xlink:href=\"#DejaVuSans-118\"/>\n       <use x=\"429.285156\" xlink:href=\"#DejaVuSans-101\"/>\n       <use x=\"490.808594\" xlink:href=\"#DejaVuSans-114\"/>\n       <use x=\"531.921875\" xlink:href=\"#DejaVuSans-116\"/>\n       <use x=\"571.130859\" xlink:href=\"#DejaVuSans-121\"/>\n      </g>\n     </g>\n    </g>\n    <g id=\"ytick_4\">\n     <g id=\"line2d_10\">\n      <g>\n       <use style=\"stroke:#000000;stroke-width:0.8;\" x=\"104.74375\" xlink:href=\"#m4bdfa40939\" y=\"98.422125\"/>\n      </g>\n     </g>\n     <g id=\"text_11\">\n      <!-- Poverty -->\n      <g transform=\"translate(59.935938 102.221344)scale(0.1 -0.1)\">\n       <use xlink:href=\"#DejaVuSans-80\"/>\n       <use x=\"56.677734\" xlink:href=\"#DejaVuSans-111\"/>\n       <use x=\"117.859375\" xlink:href=\"#DejaVuSans-118\"/>\n       <use x=\"177.039062\" xlink:href=\"#DejaVuSans-101\"/>\n       <use x=\"238.5625\" xlink:href=\"#DejaVuSans-114\"/>\n       <use x=\"279.675781\" xlink:href=\"#DejaVuSans-116\"/>\n       <use x=\"318.884766\" xlink:href=\"#DejaVuSans-121\"/>\n      </g>\n     </g>\n    </g>\n    <g id=\"ytick_5\">\n     <g id=\"line2d_11\">\n      <g>\n       <use style=\"stroke:#000000;stroke-width:0.8;\" x=\"104.74375\" xlink:href=\"#m4bdfa40939\" y=\"120.166125\"/>\n      </g>\n     </g>\n     <g id=\"text_12\">\n      <!-- Unemployment -->\n      <g transform=\"translate(20.878125 123.965344)scale(0.1 -0.1)\">\n       <defs>\n        <path d=\"M 8.6875 72.90625 \nL 18.609375 72.90625 \nL 18.609375 28.609375 \nQ 18.609375 16.890625 22.84375 11.734375 \nQ 27.09375 6.59375 36.625 6.59375 \nQ 46.09375 6.59375 50.34375 11.734375 \nQ 54.59375 16.890625 54.59375 28.609375 \nL 54.59375 72.90625 \nL 64.5 72.90625 \nL 64.5 27.390625 \nQ 64.5 13.140625 57.4375 5.859375 \nQ 50.390625 -1.421875 36.625 -1.421875 \nQ 22.796875 -1.421875 15.734375 5.859375 \nQ 8.6875 13.140625 8.6875 27.390625 \nz\n\" id=\"DejaVuSans-85\"/>\n        <path d=\"M 52 44.1875 \nQ 55.375 50.25 60.0625 53.125 \nQ 64.75 56 71.09375 56 \nQ 79.640625 56 84.28125 50.015625 \nQ 88.921875 44.046875 88.921875 33.015625 \nL 88.921875 0 \nL 79.890625 0 \nL 79.890625 32.71875 \nQ 79.890625 40.578125 77.09375 44.375 \nQ 74.3125 48.1875 68.609375 48.1875 \nQ 61.625 48.1875 57.5625 43.546875 \nQ 53.515625 38.921875 53.515625 30.90625 \nL 53.515625 0 \nL 44.484375 0 \nL 44.484375 32.71875 \nQ 44.484375 40.625 41.703125 44.40625 \nQ 38.921875 48.1875 33.109375 48.1875 \nQ 26.21875 48.1875 22.15625 43.53125 \nQ 18.109375 38.875 18.109375 30.90625 \nL 18.109375 0 \nL 9.078125 0 \nL 9.078125 54.6875 \nL 18.109375 54.6875 \nL 18.109375 46.1875 \nQ 21.1875 51.21875 25.484375 53.609375 \nQ 29.78125 56 35.6875 56 \nQ 41.65625 56 45.828125 52.96875 \nQ 50 49.953125 52 44.1875 \nz\n\" id=\"DejaVuSans-109\"/>\n       </defs>\n       <use xlink:href=\"#DejaVuSans-85\"/>\n       <use x=\"73.193359\" xlink:href=\"#DejaVuSans-110\"/>\n       <use x=\"136.572266\" xlink:href=\"#DejaVuSans-101\"/>\n       <use x=\"198.095703\" xlink:href=\"#DejaVuSans-109\"/>\n       <use x=\"295.507812\" xlink:href=\"#DejaVuSans-112\"/>\n       <use x=\"358.984375\" xlink:href=\"#DejaVuSans-108\"/>\n       <use x=\"386.767578\" xlink:href=\"#DejaVuSans-111\"/>\n       <use x=\"447.949219\" xlink:href=\"#DejaVuSans-121\"/>\n       <use x=\"507.128906\" xlink:href=\"#DejaVuSans-109\"/>\n       <use x=\"604.541016\" xlink:href=\"#DejaVuSans-101\"/>\n       <use x=\"666.064453\" xlink:href=\"#DejaVuSans-110\"/>\n       <use x=\"729.443359\" xlink:href=\"#DejaVuSans-116\"/>\n      </g>\n     </g>\n    </g>\n    <g id=\"ytick_6\">\n     <g id=\"line2d_12\">\n      <g>\n       <use style=\"stroke:#000000;stroke-width:0.8;\" x=\"104.74375\" xlink:href=\"#m4bdfa40939\" y=\"141.910125\"/>\n      </g>\n     </g>\n     <g id=\"text_13\">\n      <!-- Black -->\n      <g transform=\"translate(70.6875 145.709344)scale(0.1 -0.1)\">\n       <defs>\n        <path d=\"M 19.671875 34.8125 \nL 19.671875 8.109375 \nL 35.5 8.109375 \nQ 43.453125 8.109375 47.28125 11.40625 \nQ 51.125 14.703125 51.125 21.484375 \nQ 51.125 28.328125 47.28125 31.5625 \nQ 43.453125 34.8125 35.5 34.8125 \nz\nM 19.671875 64.796875 \nL 19.671875 42.828125 \nL 34.28125 42.828125 \nQ 41.5 42.828125 45.03125 45.53125 \nQ 48.578125 48.25 48.578125 53.8125 \nQ 48.578125 59.328125 45.03125 62.0625 \nQ 41.5 64.796875 34.28125 64.796875 \nz\nM 9.8125 72.90625 \nL 35.015625 72.90625 \nQ 46.296875 72.90625 52.390625 68.21875 \nQ 58.5 63.53125 58.5 54.890625 \nQ 58.5 48.1875 55.375 44.234375 \nQ 52.25 40.28125 46.1875 39.3125 \nQ 53.46875 37.75 57.5 32.78125 \nQ 61.53125 27.828125 61.53125 20.40625 \nQ 61.53125 10.640625 54.890625 5.3125 \nQ 48.25 0 35.984375 0 \nL 9.8125 0 \nz\n\" id=\"DejaVuSans-66\"/>\n        <path d=\"M 9.078125 75.984375 \nL 18.109375 75.984375 \nL 18.109375 31.109375 \nL 44.921875 54.6875 \nL 56.390625 54.6875 \nL 27.390625 29.109375 \nL 57.625 0 \nL 45.90625 0 \nL 18.109375 26.703125 \nL 18.109375 0 \nL 9.078125 0 \nz\n\" id=\"DejaVuSans-107\"/>\n       </defs>\n       <use xlink:href=\"#DejaVuSans-66\"/>\n       <use x=\"68.603516\" xlink:href=\"#DejaVuSans-108\"/>\n       <use x=\"96.386719\" xlink:href=\"#DejaVuSans-97\"/>\n       <use x=\"157.666016\" xlink:href=\"#DejaVuSans-99\"/>\n       <use x=\"212.646484\" xlink:href=\"#DejaVuSans-107\"/>\n      </g>\n     </g>\n    </g>\n    <g id=\"ytick_7\">\n     <g id=\"line2d_13\">\n      <g>\n       <use style=\"stroke:#000000;stroke-width:0.8;\" x=\"104.74375\" xlink:href=\"#m4bdfa40939\" y=\"163.654125\"/>\n      </g>\n     </g>\n     <g id=\"text_14\">\n      <!-- Income -->\n      <g transform=\"translate(60.945313 167.453344)scale(0.1 -0.1)\">\n       <defs>\n        <path d=\"M 9.8125 72.90625 \nL 19.671875 72.90625 \nL 19.671875 0 \nL 9.8125 0 \nz\n\" id=\"DejaVuSans-73\"/>\n       </defs>\n       <use xlink:href=\"#DejaVuSans-73\"/>\n       <use x=\"29.492188\" xlink:href=\"#DejaVuSans-110\"/>\n       <use x=\"92.871094\" xlink:href=\"#DejaVuSans-99\"/>\n       <use x=\"147.851562\" xlink:href=\"#DejaVuSans-111\"/>\n       <use x=\"209.033203\" xlink:href=\"#DejaVuSans-109\"/>\n       <use x=\"306.445312\" xlink:href=\"#DejaVuSans-101\"/>\n      </g>\n     </g>\n    </g>\n    <g id=\"ytick_8\">\n     <g id=\"line2d_14\">\n      <g>\n       <use style=\"stroke:#000000;stroke-width:0.8;\" x=\"104.74375\" xlink:href=\"#m4bdfa40939\" y=\"185.398125\"/>\n      </g>\n     </g>\n     <g id=\"text_15\">\n      <!-- IncomePerCap -->\n      <g transform=\"translate(25.554688 189.197344)scale(0.1 -0.1)\">\n       <use xlink:href=\"#DejaVuSans-73\"/>\n       <use x=\"29.492188\" xlink:href=\"#DejaVuSans-110\"/>\n       <use x=\"92.871094\" xlink:href=\"#DejaVuSans-99\"/>\n       <use x=\"147.851562\" xlink:href=\"#DejaVuSans-111\"/>\n       <use x=\"209.033203\" xlink:href=\"#DejaVuSans-109\"/>\n       <use x=\"306.445312\" xlink:href=\"#DejaVuSans-101\"/>\n       <use x=\"367.96875\" xlink:href=\"#DejaVuSans-80\"/>\n       <use x=\"424.646484\" xlink:href=\"#DejaVuSans-101\"/>\n       <use x=\"486.169922\" xlink:href=\"#DejaVuSans-114\"/>\n       <use x=\"527.283203\" xlink:href=\"#DejaVuSans-67\"/>\n       <use x=\"597.107422\" xlink:href=\"#DejaVuSans-97\"/>\n       <use x=\"658.386719\" xlink:href=\"#DejaVuSans-112\"/>\n      </g>\n     </g>\n    </g>\n    <g id=\"ytick_9\">\n     <g id=\"line2d_15\">\n      <g>\n       <use style=\"stroke:#000000;stroke-width:0.8;\" x=\"104.74375\" xlink:href=\"#m4bdfa40939\" y=\"207.142125\"/>\n      </g>\n     </g>\n     <g id=\"text_16\">\n      <!-- Service -->\n      <g transform=\"translate(60.782813 210.941344)scale(0.1 -0.1)\">\n       <defs>\n        <path d=\"M 53.515625 70.515625 \nL 53.515625 60.890625 \nQ 47.90625 63.578125 42.921875 64.890625 \nQ 37.9375 66.21875 33.296875 66.21875 \nQ 25.25 66.21875 20.875 63.09375 \nQ 16.5 59.96875 16.5 54.203125 \nQ 16.5 49.359375 19.40625 46.890625 \nQ 22.3125 44.4375 30.421875 42.921875 \nL 36.375 41.703125 \nQ 47.40625 39.59375 52.65625 34.296875 \nQ 57.90625 29 57.90625 20.125 \nQ 57.90625 9.515625 50.796875 4.046875 \nQ 43.703125 -1.421875 29.984375 -1.421875 \nQ 24.8125 -1.421875 18.96875 -0.25 \nQ 13.140625 0.921875 6.890625 3.21875 \nL 6.890625 13.375 \nQ 12.890625 10.015625 18.65625 8.296875 \nQ 24.421875 6.59375 29.984375 6.59375 \nQ 38.421875 6.59375 43.015625 9.90625 \nQ 47.609375 13.234375 47.609375 19.390625 \nQ 47.609375 24.75 44.3125 27.78125 \nQ 41.015625 30.8125 33.5 32.328125 \nL 27.484375 33.5 \nQ 16.453125 35.6875 11.515625 40.375 \nQ 6.59375 45.0625 6.59375 53.421875 \nQ 6.59375 63.09375 13.40625 68.65625 \nQ 20.21875 74.21875 32.171875 74.21875 \nQ 37.3125 74.21875 42.625 73.28125 \nQ 47.953125 72.359375 53.515625 70.515625 \nz\n\" id=\"DejaVuSans-83\"/>\n       </defs>\n       <use xlink:href=\"#DejaVuSans-83\"/>\n       <use x=\"63.476562\" xlink:href=\"#DejaVuSans-101\"/>\n       <use x=\"125\" xlink:href=\"#DejaVuSans-114\"/>\n       <use x=\"166.113281\" xlink:href=\"#DejaVuSans-118\"/>\n       <use x=\"225.292969\" xlink:href=\"#DejaVuSans-105\"/>\n       <use x=\"253.076172\" xlink:href=\"#DejaVuSans-99\"/>\n       <use x=\"308.056641\" xlink:href=\"#DejaVuSans-101\"/>\n      </g>\n     </g>\n    </g>\n    <g id=\"ytick_10\">\n     <g id=\"line2d_16\">\n      <g>\n       <use style=\"stroke:#000000;stroke-width:0.8;\" x=\"104.74375\" xlink:href=\"#m4bdfa40939\" y=\"228.886125\"/>\n      </g>\n     </g>\n     <g id=\"text_17\">\n      <!-- PublicWork -->\n      <g transform=\"translate(42.828125 232.685344)scale(0.1 -0.1)\">\n       <defs>\n        <path d=\"M 8.5 21.578125 \nL 8.5 54.6875 \nL 17.484375 54.6875 \nL 17.484375 21.921875 \nQ 17.484375 14.15625 20.5 10.265625 \nQ 23.53125 6.390625 29.59375 6.390625 \nQ 36.859375 6.390625 41.078125 11.03125 \nQ 45.3125 15.671875 45.3125 23.6875 \nL 45.3125 54.6875 \nL 54.296875 54.6875 \nL 54.296875 0 \nL 45.3125 0 \nL 45.3125 8.40625 \nQ 42.046875 3.421875 37.71875 1 \nQ 33.40625 -1.421875 27.6875 -1.421875 \nQ 18.265625 -1.421875 13.375 4.4375 \nQ 8.5 10.296875 8.5 21.578125 \nz\nM 31.109375 56 \nz\n\" id=\"DejaVuSans-117\"/>\n        <path d=\"M 48.6875 27.296875 \nQ 48.6875 37.203125 44.609375 42.84375 \nQ 40.53125 48.484375 33.40625 48.484375 \nQ 26.265625 48.484375 22.1875 42.84375 \nQ 18.109375 37.203125 18.109375 27.296875 \nQ 18.109375 17.390625 22.1875 11.75 \nQ 26.265625 6.109375 33.40625 6.109375 \nQ 40.53125 6.109375 44.609375 11.75 \nQ 48.6875 17.390625 48.6875 27.296875 \nz\nM 18.109375 46.390625 \nQ 20.953125 51.265625 25.265625 53.625 \nQ 29.59375 56 35.59375 56 \nQ 45.5625 56 51.78125 48.09375 \nQ 58.015625 40.1875 58.015625 27.296875 \nQ 58.015625 14.40625 51.78125 6.484375 \nQ 45.5625 -1.421875 35.59375 -1.421875 \nQ 29.59375 -1.421875 25.265625 0.953125 \nQ 20.953125 3.328125 18.109375 8.203125 \nL 18.109375 0 \nL 9.078125 0 \nL 9.078125 75.984375 \nL 18.109375 75.984375 \nz\n\" id=\"DejaVuSans-98\"/>\n       </defs>\n       <use xlink:href=\"#DejaVuSans-80\"/>\n       <use x=\"58.552734\" xlink:href=\"#DejaVuSans-117\"/>\n       <use x=\"121.931641\" xlink:href=\"#DejaVuSans-98\"/>\n       <use x=\"185.408203\" xlink:href=\"#DejaVuSans-108\"/>\n       <use x=\"213.191406\" xlink:href=\"#DejaVuSans-105\"/>\n       <use x=\"240.974609\" xlink:href=\"#DejaVuSans-99\"/>\n       <use x=\"295.955078\" xlink:href=\"#DejaVuSans-87\"/>\n       <use x=\"388.957031\" xlink:href=\"#DejaVuSans-111\"/>\n       <use x=\"450.138672\" xlink:href=\"#DejaVuSans-114\"/>\n       <use x=\"491.251953\" xlink:href=\"#DejaVuSans-107\"/>\n      </g>\n     </g>\n    </g>\n    <g id=\"ytick_11\">\n     <g id=\"line2d_17\">\n      <g>\n       <use style=\"stroke:#000000;stroke-width:0.8;\" x=\"104.74375\" xlink:href=\"#m4bdfa40939\" y=\"250.630125\"/>\n      </g>\n     </g>\n     <g id=\"text_18\">\n      <!-- PrivateWork -->\n      <g transform=\"translate(37.559375 254.429344)scale(0.1 -0.1)\">\n       <use xlink:href=\"#DejaVuSans-80\"/>\n       <use x=\"58.552734\" xlink:href=\"#DejaVuSans-114\"/>\n       <use x=\"99.666016\" xlink:href=\"#DejaVuSans-105\"/>\n       <use x=\"127.449219\" xlink:href=\"#DejaVuSans-118\"/>\n       <use x=\"186.628906\" xlink:href=\"#DejaVuSans-97\"/>\n       <use x=\"247.908203\" xlink:href=\"#DejaVuSans-116\"/>\n       <use x=\"287.117188\" xlink:href=\"#DejaVuSans-101\"/>\n       <use x=\"348.640625\" xlink:href=\"#DejaVuSans-87\"/>\n       <use x=\"441.642578\" xlink:href=\"#DejaVuSans-111\"/>\n       <use x=\"502.824219\" xlink:href=\"#DejaVuSans-114\"/>\n       <use x=\"543.9375\" xlink:href=\"#DejaVuSans-107\"/>\n      </g>\n     </g>\n    </g>\n    <g id=\"ytick_12\">\n     <g id=\"line2d_18\">\n      <g>\n       <use style=\"stroke:#000000;stroke-width:0.8;\" x=\"104.74375\" xlink:href=\"#m4bdfa40939\" y=\"272.374125\"/>\n      </g>\n     </g>\n     <g id=\"text_19\">\n      <!-- Professional -->\n      <g transform=\"translate(37.651563 276.173344)scale(0.1 -0.1)\">\n       <defs>\n        <path d=\"M 37.109375 75.984375 \nL 37.109375 68.5 \nL 28.515625 68.5 \nQ 23.6875 68.5 21.796875 66.546875 \nQ 19.921875 64.59375 19.921875 59.515625 \nL 19.921875 54.6875 \nL 34.71875 54.6875 \nL 34.71875 47.703125 \nL 19.921875 47.703125 \nL 19.921875 0 \nL 10.890625 0 \nL 10.890625 47.703125 \nL 2.296875 47.703125 \nL 2.296875 54.6875 \nL 10.890625 54.6875 \nL 10.890625 58.5 \nQ 10.890625 67.625 15.140625 71.796875 \nQ 19.390625 75.984375 28.609375 75.984375 \nz\n\" id=\"DejaVuSans-102\"/>\n       </defs>\n       <use xlink:href=\"#DejaVuSans-80\"/>\n       <use x=\"58.552734\" xlink:href=\"#DejaVuSans-114\"/>\n       <use x=\"97.416016\" xlink:href=\"#DejaVuSans-111\"/>\n       <use x=\"158.597656\" xlink:href=\"#DejaVuSans-102\"/>\n       <use x=\"193.802734\" xlink:href=\"#DejaVuSans-101\"/>\n       <use x=\"255.326172\" xlink:href=\"#DejaVuSans-115\"/>\n       <use x=\"307.425781\" xlink:href=\"#DejaVuSans-115\"/>\n       <use x=\"359.525391\" xlink:href=\"#DejaVuSans-105\"/>\n       <use x=\"387.308594\" xlink:href=\"#DejaVuSans-111\"/>\n       <use x=\"448.490234\" xlink:href=\"#DejaVuSans-110\"/>\n       <use x=\"511.869141\" xlink:href=\"#DejaVuSans-97\"/>\n       <use x=\"573.148438\" xlink:href=\"#DejaVuSans-108\"/>\n      </g>\n     </g>\n    </g>\n    <g id=\"ytick_13\">\n     <g id=\"line2d_19\">\n      <g>\n       <use style=\"stroke:#000000;stroke-width:0.8;\" x=\"104.74375\" xlink:href=\"#m4bdfa40939\" y=\"294.118125\"/>\n      </g>\n     </g>\n     <g id=\"text_20\">\n      <!-- WorkAtHome -->\n      <g transform=\"translate(32.304688 297.917344)scale(0.1 -0.1)\">\n       <defs>\n        <path d=\"M 34.1875 63.1875 \nL 20.796875 26.90625 \nL 47.609375 26.90625 \nz\nM 28.609375 72.90625 \nL 39.796875 72.90625 \nL 67.578125 0 \nL 57.328125 0 \nL 50.6875 18.703125 \nL 17.828125 18.703125 \nL 11.1875 0 \nL 0.78125 0 \nz\n\" id=\"DejaVuSans-65\"/>\n       </defs>\n       <use xlink:href=\"#DejaVuSans-87\"/>\n       <use x=\"93.001953\" xlink:href=\"#DejaVuSans-111\"/>\n       <use x=\"154.183594\" xlink:href=\"#DejaVuSans-114\"/>\n       <use x=\"195.296875\" xlink:href=\"#DejaVuSans-107\"/>\n       <use x=\"253.207031\" xlink:href=\"#DejaVuSans-65\"/>\n       <use x=\"319.865234\" xlink:href=\"#DejaVuSans-116\"/>\n       <use x=\"359.074219\" xlink:href=\"#DejaVuSans-72\"/>\n       <use x=\"434.269531\" xlink:href=\"#DejaVuSans-111\"/>\n       <use x=\"495.451172\" xlink:href=\"#DejaVuSans-109\"/>\n       <use x=\"592.863281\" xlink:href=\"#DejaVuSans-101\"/>\n      </g>\n     </g>\n    </g>\n    <g id=\"ytick_14\">\n     <g id=\"line2d_20\">\n      <g>\n       <use style=\"stroke:#000000;stroke-width:0.8;\" x=\"104.74375\" xlink:href=\"#m4bdfa40939\" y=\"315.862125\"/>\n      </g>\n     </g>\n     <g id=\"text_21\">\n      <!-- SelfEmployed -->\n      <g transform=\"translate(29.21875 319.661344)scale(0.1 -0.1)\">\n       <defs>\n        <path d=\"M 9.8125 72.90625 \nL 55.90625 72.90625 \nL 55.90625 64.59375 \nL 19.671875 64.59375 \nL 19.671875 43.015625 \nL 54.390625 43.015625 \nL 54.390625 34.71875 \nL 19.671875 34.71875 \nL 19.671875 8.296875 \nL 56.78125 8.296875 \nL 56.78125 0 \nL 9.8125 0 \nz\n\" id=\"DejaVuSans-69\"/>\n       </defs>\n       <use xlink:href=\"#DejaVuSans-83\"/>\n       <use x=\"63.476562\" xlink:href=\"#DejaVuSans-101\"/>\n       <use x=\"125\" xlink:href=\"#DejaVuSans-108\"/>\n       <use x=\"152.783203\" xlink:href=\"#DejaVuSans-102\"/>\n       <use x=\"187.988281\" xlink:href=\"#DejaVuSans-69\"/>\n       <use x=\"251.171875\" xlink:href=\"#DejaVuSans-109\"/>\n       <use x=\"348.583984\" xlink:href=\"#DejaVuSans-112\"/>\n       <use x=\"412.060547\" xlink:href=\"#DejaVuSans-108\"/>\n       <use x=\"439.84375\" xlink:href=\"#DejaVuSans-111\"/>\n       <use x=\"501.025391\" xlink:href=\"#DejaVuSans-121\"/>\n       <use x=\"560.205078\" xlink:href=\"#DejaVuSans-101\"/>\n       <use x=\"621.728516\" xlink:href=\"#DejaVuSans-100\"/>\n      </g>\n     </g>\n    </g>\n    <g id=\"ytick_15\">\n     <g id=\"line2d_21\">\n      <g>\n       <use style=\"stroke:#000000;stroke-width:0.8;\" x=\"104.74375\" xlink:href=\"#m4bdfa40939\" y=\"337.606125\"/>\n      </g>\n     </g>\n     <g id=\"text_22\">\n      <!-- MeanCommute -->\n      <g transform=\"translate(21.503125 341.405344)scale(0.1 -0.1)\">\n       <defs>\n        <path d=\"M 9.8125 72.90625 \nL 24.515625 72.90625 \nL 43.109375 23.296875 \nL 61.8125 72.90625 \nL 76.515625 72.90625 \nL 76.515625 0 \nL 66.890625 0 \nL 66.890625 64.015625 \nL 48.09375 14.015625 \nL 38.1875 14.015625 \nL 19.390625 64.015625 \nL 19.390625 0 \nL 9.8125 0 \nz\n\" id=\"DejaVuSans-77\"/>\n       </defs>\n       <use xlink:href=\"#DejaVuSans-77\"/>\n       <use x=\"86.279297\" xlink:href=\"#DejaVuSans-101\"/>\n       <use x=\"147.802734\" xlink:href=\"#DejaVuSans-97\"/>\n       <use x=\"209.082031\" xlink:href=\"#DejaVuSans-110\"/>\n       <use x=\"272.460938\" xlink:href=\"#DejaVuSans-67\"/>\n       <use x=\"342.285156\" xlink:href=\"#DejaVuSans-111\"/>\n       <use x=\"403.466797\" xlink:href=\"#DejaVuSans-109\"/>\n       <use x=\"500.878906\" xlink:href=\"#DejaVuSans-109\"/>\n       <use x=\"598.291016\" xlink:href=\"#DejaVuSans-117\"/>\n       <use x=\"661.669922\" xlink:href=\"#DejaVuSans-116\"/>\n       <use x=\"700.878906\" xlink:href=\"#DejaVuSans-101\"/>\n      </g>\n     </g>\n    </g>\n    <g id=\"text_23\">\n     <!-- features -->\n     <g transform=\"translate(14.798437 206.052031)rotate(-90)scale(0.1 -0.1)\">\n      <use xlink:href=\"#DejaVuSans-102\"/>\n      <use x=\"35.205078\" xlink:href=\"#DejaVuSans-101\"/>\n      <use x=\"96.728516\" xlink:href=\"#DejaVuSans-97\"/>\n      <use x=\"158.007812\" xlink:href=\"#DejaVuSans-116\"/>\n      <use x=\"197.216797\" xlink:href=\"#DejaVuSans-117\"/>\n      <use x=\"260.595703\" xlink:href=\"#DejaVuSans-114\"/>\n      <use x=\"299.458984\" xlink:href=\"#DejaVuSans-101\"/>\n      <use x=\"360.982422\" xlink:href=\"#DejaVuSans-115\"/>\n     </g>\n    </g>\n   </g>\n   <g id=\"line2d_22\">\n    <path clip-path=\"url(#p599558f93f)\" d=\"M 0 0 \n\" style=\"fill:none;stroke:#424242;stroke-linecap:square;stroke-width:2.7;\"/>\n   </g>\n   <g id=\"line2d_23\">\n    <path clip-path=\"url(#p599558f93f)\" d=\"M 0 0 \n\" style=\"fill:none;stroke:#424242;stroke-linecap:square;stroke-width:2.7;\"/>\n   </g>\n   <g id=\"line2d_24\">\n    <path clip-path=\"url(#p599558f93f)\" d=\"M 0 0 \n\" style=\"fill:none;stroke:#424242;stroke-linecap:square;stroke-width:2.7;\"/>\n   </g>\n   <g id=\"line2d_25\">\n    <path clip-path=\"url(#p599558f93f)\" d=\"M 0 0 \n\" style=\"fill:none;stroke:#424242;stroke-linecap:square;stroke-width:2.7;\"/>\n   </g>\n   <g id=\"line2d_26\">\n    <path clip-path=\"url(#p599558f93f)\" d=\"M 0 0 \n\" style=\"fill:none;stroke:#424242;stroke-linecap:square;stroke-width:2.7;\"/>\n   </g>\n   <g id=\"line2d_27\">\n    <path clip-path=\"url(#p599558f93f)\" d=\"M 0 0 \n\" style=\"fill:none;stroke:#424242;stroke-linecap:square;stroke-width:2.7;\"/>\n   </g>\n   <g id=\"line2d_28\">\n    <path clip-path=\"url(#p599558f93f)\" d=\"M 0 0 \n\" style=\"fill:none;stroke:#424242;stroke-linecap:square;stroke-width:2.7;\"/>\n   </g>\n   <g id=\"line2d_29\">\n    <path clip-path=\"url(#p599558f93f)\" d=\"M 0 0 \n\" style=\"fill:none;stroke:#424242;stroke-linecap:square;stroke-width:2.7;\"/>\n   </g>\n   <g id=\"line2d_30\">\n    <path clip-path=\"url(#p599558f93f)\" d=\"M 0 0 \n\" style=\"fill:none;stroke:#424242;stroke-linecap:square;stroke-width:2.7;\"/>\n   </g>\n   <g id=\"line2d_31\">\n    <path clip-path=\"url(#p599558f93f)\" d=\"M 0 0 \n\" style=\"fill:none;stroke:#424242;stroke-linecap:square;stroke-width:2.7;\"/>\n   </g>\n   <g id=\"line2d_32\">\n    <path clip-path=\"url(#p599558f93f)\" d=\"M 0 0 \n\" style=\"fill:none;stroke:#424242;stroke-linecap:square;stroke-width:2.7;\"/>\n   </g>\n   <g id=\"line2d_33\">\n    <path clip-path=\"url(#p599558f93f)\" d=\"M 0 0 \n\" style=\"fill:none;stroke:#424242;stroke-linecap:square;stroke-width:2.7;\"/>\n   </g>\n   <g id=\"line2d_34\">\n    <path clip-path=\"url(#p599558f93f)\" d=\"M 0 0 \n\" style=\"fill:none;stroke:#424242;stroke-linecap:square;stroke-width:2.7;\"/>\n   </g>\n   <g id=\"line2d_35\">\n    <path clip-path=\"url(#p599558f93f)\" d=\"M 0 0 \n\" style=\"fill:none;stroke:#424242;stroke-linecap:square;stroke-width:2.7;\"/>\n   </g>\n   <g id=\"line2d_36\">\n    <path clip-path=\"url(#p599558f93f)\" d=\"M 0 0 \n\" style=\"fill:none;stroke:#424242;stroke-linecap:square;stroke-width:2.7;\"/>\n   </g>\n   <g id=\"patch_18\">\n    <path d=\"M 104.74375 348.478125 \nL 104.74375 22.318125 \n\" style=\"fill:none;stroke:#000000;stroke-linecap:square;stroke-linejoin:miter;stroke-width:0.8;\"/>\n   </g>\n   <g id=\"patch_19\">\n    <path d=\"M 662.74375 348.478125 \nL 662.74375 22.318125 \n\" style=\"fill:none;stroke:#000000;stroke-linecap:square;stroke-linejoin:miter;stroke-width:0.8;\"/>\n   </g>\n   <g id=\"patch_20\">\n    <path d=\"M 104.74375 348.478125 \nL 662.74375 348.478125 \n\" style=\"fill:none;stroke:#000000;stroke-linecap:square;stroke-linejoin:miter;stroke-width:0.8;\"/>\n   </g>\n   <g id=\"patch_21\">\n    <path d=\"M 104.74375 22.318125 \nL 662.74375 22.318125 \n\" style=\"fill:none;stroke:#000000;stroke-linecap:square;stroke-linejoin:miter;stroke-width:0.8;\"/>\n   </g>\n   <g id=\"text_24\">\n    <!-- PCA Component Makeup, Component #1 -->\n    <g transform=\"translate(260.36875 16.318125)scale(0.12 -0.12)\">\n     <defs>\n      <path id=\"DejaVuSans-32\"/>\n      <path d=\"M 11.71875 12.40625 \nL 22.015625 12.40625 \nL 22.015625 4 \nL 14.015625 -11.625 \nL 7.71875 -11.625 \nL 11.71875 4 \nz\n\" id=\"DejaVuSans-44\"/>\n      <path d=\"M 51.125 44 \nL 36.921875 44 \nL 32.8125 27.6875 \nL 47.125 27.6875 \nz\nM 43.796875 71.78125 \nL 38.71875 51.515625 \nL 52.984375 51.515625 \nL 58.109375 71.78125 \nL 65.921875 71.78125 \nL 60.890625 51.515625 \nL 76.125 51.515625 \nL 76.125 44 \nL 58.984375 44 \nL 54.984375 27.6875 \nL 70.515625 27.6875 \nL 70.515625 20.21875 \nL 53.078125 20.21875 \nL 48 0 \nL 40.1875 0 \nL 45.21875 20.21875 \nL 30.90625 20.21875 \nL 25.875 0 \nL 18.015625 0 \nL 23.09375 20.21875 \nL 7.71875 20.21875 \nL 7.71875 27.6875 \nL 24.90625 27.6875 \nL 29 44 \nL 13.28125 44 \nL 13.28125 51.515625 \nL 30.90625 51.515625 \nL 35.890625 71.78125 \nz\n\" id=\"DejaVuSans-35\"/>\n      <path d=\"M 12.40625 8.296875 \nL 28.515625 8.296875 \nL 28.515625 63.921875 \nL 10.984375 60.40625 \nL 10.984375 69.390625 \nL 28.421875 72.90625 \nL 38.28125 72.90625 \nL 38.28125 8.296875 \nL 54.390625 8.296875 \nL 54.390625 0 \nL 12.40625 0 \nz\n\" id=\"DejaVuSans-49\"/>\n     </defs>\n     <use xlink:href=\"#DejaVuSans-80\"/>\n     <use x=\"60.302734\" xlink:href=\"#DejaVuSans-67\"/>\n     <use x=\"130.126953\" xlink:href=\"#DejaVuSans-65\"/>\n     <use x=\"198.535156\" xlink:href=\"#DejaVuSans-32\"/>\n     <use x=\"230.322266\" xlink:href=\"#DejaVuSans-67\"/>\n     <use x=\"300.146484\" xlink:href=\"#DejaVuSans-111\"/>\n     <use x=\"361.328125\" xlink:href=\"#DejaVuSans-109\"/>\n     <use x=\"458.740234\" xlink:href=\"#DejaVuSans-112\"/>\n     <use x=\"522.216797\" xlink:href=\"#DejaVuSans-111\"/>\n     <use x=\"583.398438\" xlink:href=\"#DejaVuSans-110\"/>\n     <use x=\"646.777344\" xlink:href=\"#DejaVuSans-101\"/>\n     <use x=\"708.300781\" xlink:href=\"#DejaVuSans-110\"/>\n     <use x=\"771.679688\" xlink:href=\"#DejaVuSans-116\"/>\n     <use x=\"810.888672\" xlink:href=\"#DejaVuSans-32\"/>\n     <use x=\"842.675781\" xlink:href=\"#DejaVuSans-77\"/>\n     <use x=\"928.955078\" xlink:href=\"#DejaVuSans-97\"/>\n     <use x=\"990.234375\" xlink:href=\"#DejaVuSans-107\"/>\n     <use x=\"1044.519531\" xlink:href=\"#DejaVuSans-101\"/>\n     <use x=\"1106.042969\" xlink:href=\"#DejaVuSans-117\"/>\n     <use x=\"1169.421875\" xlink:href=\"#DejaVuSans-112\"/>\n     <use x=\"1232.898438\" xlink:href=\"#DejaVuSans-44\"/>\n     <use x=\"1264.685547\" xlink:href=\"#DejaVuSans-32\"/>\n     <use x=\"1296.472656\" xlink:href=\"#DejaVuSans-67\"/>\n     <use x=\"1366.296875\" xlink:href=\"#DejaVuSans-111\"/>\n     <use x=\"1427.478516\" xlink:href=\"#DejaVuSans-109\"/>\n     <use x=\"1524.890625\" xlink:href=\"#DejaVuSans-112\"/>\n     <use x=\"1588.367188\" xlink:href=\"#DejaVuSans-111\"/>\n     <use x=\"1649.548828\" xlink:href=\"#DejaVuSans-110\"/>\n     <use x=\"1712.927734\" xlink:href=\"#DejaVuSans-101\"/>\n     <use x=\"1774.451172\" xlink:href=\"#DejaVuSans-110\"/>\n     <use x=\"1837.830078\" xlink:href=\"#DejaVuSans-116\"/>\n     <use x=\"1877.039062\" xlink:href=\"#DejaVuSans-32\"/>\n     <use x=\"1908.826172\" xlink:href=\"#DejaVuSans-35\"/>\n     <use x=\"1992.615234\" xlink:href=\"#DejaVuSans-49\"/>\n    </g>\n   </g>\n  </g>\n </g>\n <defs>\n  <clipPath id=\"p599558f93f\">\n   <rect height=\"326.16\" width=\"558\" x=\"104.74375\" y=\"22.318125\"/>\n  </clipPath>\n </defs>\n</svg>\n",
      "image/png": "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\n"
     },
     "metadata": {
      "needs_background": "light"
     }
>>>>>>> Stashed changes
    }
   ],
   "source": [
    "# Show composition of a given component\n",
    "num=3\n",
    "display_component(pca_v, counties_scaled.columns.values, component_num=num, n_weights=15)"
   ]
  },
  {
   "cell_type": "markdown",
   "metadata": {},
   "source": [
    "## Deploying PCA to evaluate dataset\n",
    "\n"
   ]
  },
  {
   "cell_type": "code",
<<<<<<< Updated upstream
   "execution_count": 39,
   "metadata": {},
   "outputs": [
    {
     "name": "stderr",
     "output_type": "stream",
     "text": [
      "Parameter image will be renamed to image_uri in SageMaker Python SDK v2.\n"
     ]
    },
    {
     "name": "stdout",
     "output_type": "stream",
     "text": [
      "-----------------!"
=======
   "execution_count": 83,
   "metadata": {},
   "outputs": [
    {
     "output_type": "stream",
     "name": "stderr",
     "text": [
      "Defaulting to the only supported framework/algorithm version: 1. Ignoring framework/algorithm version: 1.\n",
      "-----------------!CPU times: user 304 ms, sys: 20.7 ms, total: 325 ms\n",
      "Wall time: 8min 32s\n"
>>>>>>> Stashed changes
     ]
    }
   ],
   "source": [
<<<<<<< Updated upstream
    "pca_predictor = pca_estimator.deploy(initial_instance_count=1, instance_type='ml.t2.medium')"
=======
    "%%time\n",
    "# this takes a little while, around 7mins\n",
    "pca_predictor = pca_estimator.deploy(initial_instance_count=1,instance_type='ml.t2.medium')"
>>>>>>> Stashed changes
   ]
  },
  {
   "cell_type": "markdown",
   "metadata": {},
   "source": [
    "We can pass the original, numpy dataset to the model and transform the data using the model we created. Then we can take the largest n components to reduce the dimensionality of our data."
   ]
  },
  {
   "cell_type": "code",
<<<<<<< Updated upstream
   "execution_count": 40,
=======
   "execution_count": 84,
>>>>>>> Stashed changes
   "metadata": {},
   "outputs": [],
   "source": [
    "# pass np train data to the PCA model\n",
    "train_pca = pca_predictor.predict(train_data_np)"
   ]
  },
  {
   "cell_type": "code",
<<<<<<< Updated upstream
   "execution_count": 41,
=======
   "execution_count": 85,
>>>>>>> Stashed changes
   "metadata": {},
   "outputs": [],
   "source": [
    "# create dimensionality-reduced data\n",
    "def create_transformed_df(train_pca, counties_scaled, n_top_components):\n",
    "    ''' Return a dataframe of data points with component features. \n",
    "        The dataframe should be indexed by State-County and contain component values.\n",
    "        :param train_pca: A list of pca training data, returned by a PCA model.\n",
    "        :param counties_scaled: A dataframe of normalized, original features.\n",
    "        :param n_top_components: An integer, the number of top components to use.\n",
    "        :return: A dataframe, indexed by State-County, with n_top_component values as columns.        \n",
    "     '''\n",
    "    # create a dataframe of component features, indexed by State-County\n",
    "    new_df = pd.DataFrame()\n",
    "    \n",
    "    # your code here\n",
    "    for row in range(len(train_pca)):\n",
    "        for col in range(n_top_components):\n",
    "            new_df.loc[counties_scaled.index[row], f'c_{col+1}'] = train_pca[row].label['projection'].float32_tensor.values[-col-1]\n",
    "    \n",
    "    return new_df"
   ]
  },
  {
   "cell_type": "code",
<<<<<<< Updated upstream
   "execution_count": 42,
   "metadata": {},
   "outputs": [
    {
     "data": {
      "text/html": [
       "<div>\n",
       "<style scoped>\n",
       "    .dataframe tbody tr th:only-of-type {\n",
       "        vertical-align: middle;\n",
       "    }\n",
       "\n",
       "    .dataframe tbody tr th {\n",
       "        vertical-align: top;\n",
       "    }\n",
       "\n",
       "    .dataframe thead th {\n",
       "        text-align: right;\n",
       "    }\n",
       "</style>\n",
       "<table border=\"1\" class=\"dataframe\">\n",
       "  <thead>\n",
       "    <tr style=\"text-align: right;\">\n",
       "      <th></th>\n",
       "      <th>c_1</th>\n",
       "      <th>c_2</th>\n",
       "      <th>c_3</th>\n",
       "      <th>c_4</th>\n",
       "      <th>c_5</th>\n",
       "      <th>c_6</th>\n",
       "      <th>c_7</th>\n",
       "    </tr>\n",
       "  </thead>\n",
       "  <tbody>\n",
       "    <tr>\n",
       "      <th>Alabama-Autauga</th>\n",
       "      <td>-0.060274</td>\n",
       "      <td>0.160527</td>\n",
       "      <td>-0.088356</td>\n",
       "      <td>0.120480</td>\n",
       "      <td>-0.010824</td>\n",
       "      <td>0.040452</td>\n",
       "      <td>0.025895</td>\n",
       "    </tr>\n",
       "    <tr>\n",
       "      <th>Alabama-Baldwin</th>\n",
       "      <td>-0.149684</td>\n",
       "      <td>0.185969</td>\n",
       "      <td>-0.145743</td>\n",
       "      <td>-0.023092</td>\n",
       "      <td>-0.068677</td>\n",
       "      <td>0.051573</td>\n",
       "      <td>0.048137</td>\n",
       "    </tr>\n",
       "    <tr>\n",
       "      <th>Alabama-Barbour</th>\n",
       "      <td>0.506202</td>\n",
       "      <td>0.296662</td>\n",
       "      <td>0.146258</td>\n",
       "      <td>0.297829</td>\n",
       "      <td>0.093111</td>\n",
       "      <td>-0.065244</td>\n",
       "      <td>0.107730</td>\n",
       "    </tr>\n",
       "    <tr>\n",
       "      <th>Alabama-Bibb</th>\n",
       "      <td>0.069224</td>\n",
       "      <td>0.190861</td>\n",
       "      <td>0.224402</td>\n",
       "      <td>0.011757</td>\n",
       "      <td>0.283526</td>\n",
       "      <td>0.017874</td>\n",
       "      <td>-0.092053</td>\n",
       "    </tr>\n",
       "    <tr>\n",
       "      <th>Alabama-Blount</th>\n",
       "      <td>-0.091030</td>\n",
       "      <td>0.254403</td>\n",
       "      <td>0.022714</td>\n",
       "      <td>-0.193824</td>\n",
       "      <td>0.100738</td>\n",
       "      <td>0.209945</td>\n",
       "      <td>-0.005099</td>\n",
       "    </tr>\n",
       "  </tbody>\n",
       "</table>\n",
       "</div>"
      ],
=======
   "execution_count": 86,
   "metadata": {},
   "outputs": [
    {
     "output_type": "execute_result",
     "data": {
>>>>>>> Stashed changes
      "text/plain": [
       "                      c_1       c_2       c_3       c_4       c_5       c_6  \\\n",
       "Alabama-Autauga -0.060274  0.160527 -0.088356  0.120480 -0.010824  0.040452   \n",
       "Alabama-Baldwin -0.149684  0.185969 -0.145743 -0.023092 -0.068677  0.051573   \n",
       "Alabama-Barbour  0.506202  0.296662  0.146258  0.297829  0.093111 -0.065244   \n",
       "Alabama-Bibb     0.069224  0.190861  0.224402  0.011757  0.283526  0.017874   \n",
       "Alabama-Blount  -0.091030  0.254403  0.022714 -0.193824  0.100738  0.209945   \n",
       "\n",
       "                      c_7  \n",
       "Alabama-Autauga  0.025895  \n",
       "Alabama-Baldwin  0.048137  \n",
       "Alabama-Barbour  0.107730  \n",
       "Alabama-Bibb    -0.092053  \n",
       "Alabama-Blount  -0.005099  "
<<<<<<< Updated upstream
      ]
     },
     "execution_count": 42,
     "metadata": {},
     "output_type": "execute_result"
=======
      ],
      "text/html": "<div>\n<style scoped>\n    .dataframe tbody tr th:only-of-type {\n        vertical-align: middle;\n    }\n\n    .dataframe tbody tr th {\n        vertical-align: top;\n    }\n\n    .dataframe thead th {\n        text-align: right;\n    }\n</style>\n<table border=\"1\" class=\"dataframe\">\n  <thead>\n    <tr style=\"text-align: right;\">\n      <th></th>\n      <th>c_1</th>\n      <th>c_2</th>\n      <th>c_3</th>\n      <th>c_4</th>\n      <th>c_5</th>\n      <th>c_6</th>\n      <th>c_7</th>\n    </tr>\n  </thead>\n  <tbody>\n    <tr>\n      <th>Alabama-Autauga</th>\n      <td>-0.060274</td>\n      <td>0.160527</td>\n      <td>-0.088356</td>\n      <td>0.120480</td>\n      <td>-0.010824</td>\n      <td>0.040452</td>\n      <td>0.025895</td>\n    </tr>\n    <tr>\n      <th>Alabama-Baldwin</th>\n      <td>-0.149684</td>\n      <td>0.185969</td>\n      <td>-0.145743</td>\n      <td>-0.023092</td>\n      <td>-0.068677</td>\n      <td>0.051573</td>\n      <td>0.048137</td>\n    </tr>\n    <tr>\n      <th>Alabama-Barbour</th>\n      <td>0.506202</td>\n      <td>0.296662</td>\n      <td>0.146258</td>\n      <td>0.297829</td>\n      <td>0.093111</td>\n      <td>-0.065244</td>\n      <td>0.107730</td>\n    </tr>\n    <tr>\n      <th>Alabama-Bibb</th>\n      <td>0.069224</td>\n      <td>0.190861</td>\n      <td>0.224402</td>\n      <td>0.011757</td>\n      <td>0.283526</td>\n      <td>0.017874</td>\n      <td>-0.092053</td>\n    </tr>\n    <tr>\n      <th>Alabama-Blount</th>\n      <td>-0.091030</td>\n      <td>0.254403</td>\n      <td>0.022714</td>\n      <td>-0.193824</td>\n      <td>0.100738</td>\n      <td>0.209945</td>\n      <td>-0.005099</td>\n    </tr>\n  </tbody>\n</table>\n</div>"
     },
     "metadata": {},
     "execution_count": 86
>>>>>>> Stashed changes
    }
   ],
   "source": [
    "## Specify top n\n",
    "top_n = n_top_components\n",
    "\n",
    "# call your function and create a new dataframe\n",
    "counties_transformed = create_transformed_df(train_pca, counties_scaled, n_top_components=top_n)\n",
    "\n",
    "# print result\n",
    "counties_transformed.head()"
   ]
  },
  {
   "cell_type": "markdown",
   "metadata": {},
   "source": [
    "### Delete PCA endpoint\n"
   ]
  },
  {
   "cell_type": "code",
<<<<<<< Updated upstream
   "execution_count": 43,
=======
   "execution_count": 88,
>>>>>>> Stashed changes
   "metadata": {},
   "outputs": [
    {
     "output_type": "stream",
     "name": "stderr",
     "text": [
      "The endpoint attribute has been renamed in sagemaker>=2.\nSee: https://sagemaker.readthedocs.io/en/stable/v2.html for details.\n"
     ]
    }
   ],
   "source": [
    "# delete predictor endpoint\n",
    "sagemaker_session.delete_endpoint(pca_predictor.endpoint)"
   ]
  },
  {
   "cell_type": "markdown",
   "metadata": {},
   "source": [
    "---\n",
    "## Population Segmentation\n",
    "\n",
    "The transformed model now should be used to feed our unsupervised learning model. \n",
    "For the clusterization, I'll apply the `K-means` clusterization."
   ]
  },
  {
   "cell_type": "code",
<<<<<<< Updated upstream
   "execution_count": 45,
=======
   "execution_count": 91,
>>>>>>> Stashed changes
   "metadata": {},
   "outputs": [
    {
     "output_type": "stream",
     "name": "stderr",
     "text": [
      "train_instance_count has been renamed in sagemaker>=2.\n",
      "See: https://sagemaker.readthedocs.io/en/stable/v2.html for details.\n",
      "train_instance_type has been renamed in sagemaker>=2.\n",
      "See: https://sagemaker.readthedocs.io/en/stable/v2.html for details.\n"
     ]
    }
   ],
   "source": [
    "# define a KMeans estimator\n",
    "from sagemaker import KMeans\n",
    "estimator = KMeans(\n",
<<<<<<< Updated upstream
    "    role, \n",
    "    train_instance_count=1, \n",
    "    train_instance_type='ml.c4.xlarge', \n",
    "    k=8,\n",
    "    sagemaker_session=session, \n",
    "    output_path=output_path)"
=======
    "                    role, \n",
    "                    train_instance_count=1, \n",
    "                    train_instance_type='ml.c4.xlarge', \n",
    "                    k=8,\n",
    "                    sagemaker_session=sagemaker_session, \n",
    "                    output_path=output_path,\n",
    "                    code_path=code_path, \n",
    "                    data_location=data_location)"
>>>>>>> Stashed changes
   ]
  },
  {
   "cell_type": "code",
<<<<<<< Updated upstream
   "execution_count": 46,
=======
   "execution_count": 92,
>>>>>>> Stashed changes
   "metadata": {},
   "outputs": [],
   "source": [
    "# Create RecordSet\n",
    "\n",
    "train_data_np = counties_transformed.values.astype('float32')\n",
    "\n",
    "# convert to RecordSet format\n",
    "train_data_rs = estimator.record_set(train_data_np)"
   ]
  },
  {
   "cell_type": "code",
<<<<<<< Updated upstream
   "execution_count": 47,
   "metadata": {},
   "outputs": [
    {
     "name": "stderr",
     "output_type": "stream",
     "text": [
      "'get_image_uri' method will be deprecated in favor of 'ImageURIProvider' class in SageMaker Python SDK v2.\n",
      "'s3_input' class will be renamed to 'TrainingInput' in SageMaker Python SDK v2.\n",
      "'get_image_uri' method will be deprecated in favor of 'ImageURIProvider' class in SageMaker Python SDK v2.\n"
     ]
    },
    {
     "name": "stdout",
     "output_type": "stream",
     "text": [
      "2020-11-18 22:26:06 Starting - Starting the training job...\n",
      "2020-11-18 22:26:11 Starting - Launching requested ML instances.........\n",
      "2020-11-18 22:27:45 Starting - Preparing the instances for training.........\n",
      "2020-11-18 22:29:29 Downloading - Downloading input data\n",
      "2020-11-18 22:29:29 Training - Downloading the training image..\u001b[34mDocker entrypoint called with argument(s): train\u001b[0m\n",
      "\u001b[34mRunning default environment configuration script\u001b[0m\n",
      "\u001b[34m[11/18/2020 22:29:53 INFO 140491134924608] Reading default configuration from /opt/amazon/lib/python2.7/site-packages/algorithm/resources/default-input.json: {u'_enable_profiler': u'false', u'_tuning_objective_metric': u'', u'_num_gpus': u'auto', u'local_lloyd_num_trials': u'auto', u'_log_level': u'info', u'_kvstore': u'auto', u'local_lloyd_init_method': u'kmeans++', u'force_dense': u'true', u'epochs': u'1', u'init_method': u'random', u'local_lloyd_tol': u'0.0001', u'local_lloyd_max_iter': u'300', u'_disable_wait_to_read': u'false', u'extra_center_factor': u'auto', u'eval_metrics': u'[\"msd\"]', u'_num_kv_servers': u'1', u'mini_batch_size': u'5000', u'half_life_time_size': u'0', u'_num_slices': u'1'}\u001b[0m\n",
      "\u001b[34m[11/18/2020 22:29:53 INFO 140491134924608] Reading provided configuration from /opt/ml/input/config/hyperparameters.json: {u'feature_dim': u'7', u'k': u'8', u'force_dense': u'True'}\u001b[0m\n",
      "\u001b[34m[11/18/2020 22:29:53 INFO 140491134924608] Final configuration: {u'_tuning_objective_metric': u'', u'extra_center_factor': u'auto', u'local_lloyd_init_method': u'kmeans++', u'force_dense': u'True', u'epochs': u'1', u'feature_dim': u'7', u'local_lloyd_tol': u'0.0001', u'_disable_wait_to_read': u'false', u'eval_metrics': u'[\"msd\"]', u'_num_kv_servers': u'1', u'mini_batch_size': u'5000', u'_enable_profiler': u'false', u'_num_gpus': u'auto', u'local_lloyd_num_trials': u'auto', u'_log_level': u'info', u'init_method': u'random', u'half_life_time_size': u'0', u'local_lloyd_max_iter': u'300', u'_kvstore': u'auto', u'k': u'8', u'_num_slices': u'1'}\u001b[0m\n",
      "\u001b[34m[11/18/2020 22:29:53 WARNING 140491134924608] Loggers have already been setup.\u001b[0m\n",
      "\u001b[34mProcess 1 is a worker.\u001b[0m\n",
      "\u001b[34m[11/18/2020 22:29:53 INFO 140491134924608] Using default worker.\u001b[0m\n",
      "\u001b[34m[11/18/2020 22:29:53 INFO 140491134924608] Loaded iterator creator application/x-recordio-protobuf for content type ('application/x-recordio-protobuf', '1.0')\u001b[0m\n",
      "\u001b[34m[11/18/2020 22:29:54 INFO 140491134924608] Create Store: local\u001b[0m\n",
      "\u001b[34m[11/18/2020 22:29:54 INFO 140491134924608] nvidia-smi took: 0.025239944458 secs to identify 0 gpus\u001b[0m\n",
      "\u001b[34m[11/18/2020 22:29:54 INFO 140491134924608] Number of GPUs being used: 0\u001b[0m\n",
      "\u001b[34m[11/18/2020 22:29:54 INFO 140491134924608] Setting up with params: {u'_tuning_objective_metric': u'', u'extra_center_factor': u'auto', u'local_lloyd_init_method': u'kmeans++', u'force_dense': u'True', u'epochs': u'1', u'feature_dim': u'7', u'local_lloyd_tol': u'0.0001', u'_disable_wait_to_read': u'false', u'eval_metrics': u'[\"msd\"]', u'_num_kv_servers': u'1', u'mini_batch_size': u'5000', u'_enable_profiler': u'false', u'_num_gpus': u'auto', u'local_lloyd_num_trials': u'auto', u'_log_level': u'info', u'init_method': u'random', u'half_life_time_size': u'0', u'local_lloyd_max_iter': u'300', u'_kvstore': u'auto', u'k': u'8', u'_num_slices': u'1'}\u001b[0m\n",
      "\u001b[34m[11/18/2020 22:29:54 INFO 140491134924608] 'extra_center_factor' was set to 'auto', evaluated to 10.\u001b[0m\n",
      "\u001b[34m[11/18/2020 22:29:54 INFO 140491134924608] Number of GPUs being used: 0\u001b[0m\n",
      "\u001b[34m[11/18/2020 22:29:54 INFO 140491134924608] number of center slices 1\u001b[0m\n",
      "\u001b[34m[11/18/2020 22:29:54 WARNING 140491134924608] Batch size 5000 is bigger than the first batch data. Effective batch size used to initialize is 3218\u001b[0m\n",
      "\u001b[34m#metrics {\"Metrics\": {\"Max Batches Seen Between Resets\": {\"count\": 1, \"max\": 1, \"sum\": 1.0, \"min\": 1}, \"Number of Batches Since Last Reset\": {\"count\": 1, \"max\": 1, \"sum\": 1.0, \"min\": 1}, \"Number of Records Since Last Reset\": {\"count\": 1, \"max\": 3218, \"sum\": 3218.0, \"min\": 3218}, \"Total Batches Seen\": {\"count\": 1, \"max\": 1, \"sum\": 1.0, \"min\": 1}, \"Total Records Seen\": {\"count\": 1, \"max\": 3218, \"sum\": 3218.0, \"min\": 3218}, \"Max Records Seen Between Resets\": {\"count\": 1, \"max\": 3218, \"sum\": 3218.0, \"min\": 3218}, \"Reset Count\": {\"count\": 1, \"max\": 0, \"sum\": 0.0, \"min\": 0}}, \"EndTime\": 1605738594.087127, \"Dimensions\": {\"Host\": \"algo-1\", \"Meta\": \"init_train_data_iter\", \"Operation\": \"training\", \"Algorithm\": \"AWS/KMeansWebscale\"}, \"StartTime\": 1605738594.087071}\n",
      "\u001b[0m\n",
      "\u001b[34m[2020-11-18 22:29:54.087] [tensorio] [info] epoch_stats={\"data_pipeline\": \"/opt/ml/input/data/train\", \"epoch\": 0, \"duration\": 49, \"num_examples\": 1, \"num_bytes\": 167336}\u001b[0m\n",
      "\u001b[34m[2020-11-18 22:29:54.158] [tensorio] [info] epoch_stats={\"data_pipeline\": \"/opt/ml/input/data/train\", \"epoch\": 1, \"duration\": 57, \"num_examples\": 1, \"num_bytes\": 167336}\u001b[0m\n",
      "\u001b[34m[11/18/2020 22:29:54 INFO 140491134924608] processed a total of 3218 examples\u001b[0m\n",
      "\u001b[34m[11/18/2020 22:29:54 INFO 140491134924608] #progress_metric: host=algo-1, completed 100 % of epochs\u001b[0m\n",
      "\u001b[34m#metrics {\"Metrics\": {\"Max Batches Seen Between Resets\": {\"count\": 1, \"max\": 1, \"sum\": 1.0, \"min\": 1}, \"Number of Batches Since Last Reset\": {\"count\": 1, \"max\": 1, \"sum\": 1.0, \"min\": 1}, \"Number of Records Since Last Reset\": {\"count\": 1, \"max\": 3218, \"sum\": 3218.0, \"min\": 3218}, \"Total Batches Seen\": {\"count\": 1, \"max\": 2, \"sum\": 2.0, \"min\": 2}, \"Total Records Seen\": {\"count\": 1, \"max\": 6436, \"sum\": 6436.0, \"min\": 6436}, \"Max Records Seen Between Resets\": {\"count\": 1, \"max\": 3218, \"sum\": 3218.0, \"min\": 3218}, \"Reset Count\": {\"count\": 1, \"max\": 1, \"sum\": 1.0, \"min\": 1}}, \"EndTime\": 1605738594.15895, \"Dimensions\": {\"Host\": \"algo-1\", \"Meta\": \"training_data_iter\", \"Operation\": \"training\", \"Algorithm\": \"AWS/KMeansWebscale\", \"epoch\": 0}, \"StartTime\": 1605738594.087429}\n",
      "\u001b[0m\n",
      "\u001b[34m[11/18/2020 22:29:54 INFO 140491134924608] #throughput_metric: host=algo-1, train throughput=44900.2024976 records/second\u001b[0m\n",
      "\u001b[34m[11/18/2020 22:29:54 WARNING 140491134924608] wait_for_all_workers will not sync workers since the kv store is not running distributed\u001b[0m\n",
      "\u001b[34m[11/18/2020 22:29:54 INFO 140491134924608] shrinking 80 centers into 8\u001b[0m\n",
      "\u001b[34m[11/18/2020 22:29:54 INFO 140491134924608] local kmeans attempt #0. Current mean square distance 0.067006\u001b[0m\n",
      "\u001b[34m[11/18/2020 22:29:54 INFO 140491134924608] local kmeans attempt #1. Current mean square distance 0.065337\u001b[0m\n",
      "\u001b[34m[11/18/2020 22:29:54 INFO 140491134924608] local kmeans attempt #2. Current mean square distance 0.067734\u001b[0m\n",
      "\u001b[34m[11/18/2020 22:29:54 INFO 140491134924608] local kmeans attempt #3. Current mean square distance 0.067656\u001b[0m\n",
      "\u001b[34m[11/18/2020 22:29:54 INFO 140491134924608] local kmeans attempt #4. Current mean square distance 0.068710\u001b[0m\n",
      "\u001b[34m[11/18/2020 22:29:54 INFO 140491134924608] local kmeans attempt #5. Current mean square distance 0.067360\u001b[0m\n",
      "\u001b[34m[11/18/2020 22:29:54 INFO 140491134924608] local kmeans attempt #6. Current mean square distance 0.065387\u001b[0m\n",
      "\u001b[34m[11/18/2020 22:29:54 INFO 140491134924608] local kmeans attempt #7. Current mean square distance 0.068228\u001b[0m\n",
      "\u001b[34m[11/18/2020 22:29:54 INFO 140491134924608] local kmeans attempt #8. Current mean square distance 0.065038\u001b[0m\n",
      "\u001b[34m[11/18/2020 22:29:54 INFO 140491134924608] local kmeans attempt #9. Current mean square distance 0.071687\u001b[0m\n",
      "\u001b[34m[11/18/2020 22:29:54 INFO 140491134924608] finished shrinking process. Mean Square Distance = 0\u001b[0m\n",
      "\u001b[34m[11/18/2020 22:29:54 INFO 140491134924608] #quality_metric: host=algo-1, train msd <loss>=0.0650375559926\u001b[0m\n",
      "\u001b[34m[11/18/2020 22:29:54 INFO 140491134924608] compute all data-center distances: inner product took: 35.2647%, (0.027325 secs)\u001b[0m\n",
      "\u001b[34m[11/18/2020 22:29:54 INFO 140491134924608] batch data loading with context took: 22.6788%, (0.017573 secs)\u001b[0m\n",
      "\u001b[34m[11/18/2020 22:29:54 INFO 140491134924608] collect from kv store took: 9.0302%, (0.006997 secs)\u001b[0m\n",
      "\u001b[34m[11/18/2020 22:29:54 INFO 140491134924608] splitting centers key-value pair took: 8.8776%, (0.006879 secs)\u001b[0m\n",
      "\u001b[34m[11/18/2020 22:29:54 INFO 140491134924608] compute all data-center distances: point norm took: 7.6351%, (0.005916 secs)\u001b[0m\n",
      "\u001b[34m[11/18/2020 22:29:54 INFO 140491134924608] gradient: one_hot took: 6.5019%, (0.005038 secs)\u001b[0m\n",
      "\u001b[34m[11/18/2020 22:29:54 INFO 140491134924608] predict compute msd took: 5.6308%, (0.004363 secs)\u001b[0m\n",
      "\u001b[34m[11/18/2020 22:29:54 INFO 140491134924608] gradient: cluster size  took: 1.7345%, (0.001344 secs)\u001b[0m\n",
      "\u001b[34m[11/18/2020 22:29:54 INFO 140491134924608] gradient: cluster center took: 1.2659%, (0.000981 secs)\u001b[0m\n",
      "\u001b[34m[11/18/2020 22:29:54 INFO 140491134924608] update state and report convergance took: 0.6723%, (0.000521 secs)\u001b[0m\n",
      "\u001b[34m[11/18/2020 22:29:54 INFO 140491134924608] update set-up time took: 0.4825%, (0.000374 secs)\u001b[0m\n",
      "\u001b[34m[11/18/2020 22:29:54 INFO 140491134924608] compute all data-center distances: center norm took: 0.2012%, (0.000156 secs)\u001b[0m\n",
      "\u001b[34m[11/18/2020 22:29:54 INFO 140491134924608] predict minus dist took: 0.0246%, (0.000019 secs)\u001b[0m\n",
      "\u001b[34m[11/18/2020 22:29:54 INFO 140491134924608] TOTAL took: 0.0774857997894\u001b[0m\n",
      "\u001b[34m[11/18/2020 22:29:54 INFO 140491134924608] Number of GPUs being used: 0\u001b[0m\n",
      "\u001b[34m#metrics {\"Metrics\": {\"finalize.time\": {\"count\": 1, \"max\": 288.76805305480957, \"sum\": 288.76805305480957, \"min\": 288.76805305480957}, \"initialize.time\": {\"count\": 1, \"max\": 42.471885681152344, \"sum\": 42.471885681152344, \"min\": 42.471885681152344}, \"model.serialize.time\": {\"count\": 1, \"max\": 0.1251697540283203, \"sum\": 0.1251697540283203, \"min\": 0.1251697540283203}, \"update.time\": {\"count\": 1, \"max\": 71.31600379943848, \"sum\": 71.31600379943848, \"min\": 71.31600379943848}, \"epochs\": {\"count\": 1, \"max\": 1, \"sum\": 1.0, \"min\": 1}, \"state.serialize.time\": {\"count\": 1, \"max\": 1.970052719116211, \"sum\": 1.970052719116211, \"min\": 1.970052719116211}, \"_shrink.time\": {\"count\": 1, \"max\": 286.776065826416, \"sum\": 286.776065826416, \"min\": 286.776065826416}}, \"EndTime\": 1605738594.450441, \"Dimensions\": {\"Host\": \"algo-1\", \"Operation\": \"training\", \"Algorithm\": \"AWS/KMeansWebscale\"}, \"StartTime\": 1605738594.036825}\n",
      "\u001b[0m\n",
      "\u001b[34m[11/18/2020 22:29:54 INFO 140491134924608] Test data is not provided.\u001b[0m\n",
      "\u001b[34m#metrics {\"Metrics\": {\"totaltime\": {\"count\": 1, \"max\": 479.8901081085205, \"sum\": 479.8901081085205, \"min\": 479.8901081085205}, \"setuptime\": {\"count\": 1, \"max\": 14.76907730102539, \"sum\": 14.76907730102539, \"min\": 14.76907730102539}}, \"EndTime\": 1605738594.45081, \"Dimensions\": {\"Host\": \"algo-1\", \"Operation\": \"training\", \"Algorithm\": \"AWS/KMeansWebscale\"}, \"StartTime\": 1605738594.450534}\n",
      "\u001b[0m\n",
      "\n",
      "2020-11-18 22:30:03 Uploading - Uploading generated training model\n",
      "2020-11-18 22:30:03 Completed - Training job completed\n",
      "Training seconds: 50\n",
      "Billable seconds: 50\n"
=======
   "execution_count": 94,
   "metadata": {},
   "outputs": [
    {
     "output_type": "stream",
     "name": "stderr",
     "text": [
      "Defaulting to the only supported framework/algorithm version: 1. Ignoring framework/algorithm version: 1.\n",
      "Defaulting to the only supported framework/algorithm version: 1. Ignoring framework/algorithm version: 1.\n",
      "2021-03-20 04:24:22 Starting - Starting the training job...\n",
      "2021-03-20 04:24:46 Starting - Launching requested ML instancesProfilerReport-1616214262: InProgress\n",
      "......\n",
      "2021-03-20 04:25:46 Starting - Preparing the instances for training.........\n",
      "2021-03-20 04:27:19 Downloading - Downloading input data\n",
      "2021-03-20 04:27:19 Training - Downloading the training image...\n",
      "2021-03-20 04:27:46 Uploading - Uploading generated training model\n",
      "2021-03-20 04:27:46 Completed - Training job completed\n",
      "..Training seconds: 41\n",
      "Billable seconds: 41\n",
      "CPU times: user 422 ms, sys: 27.3 ms, total: 449 ms\n",
      "Wall time: 3min 41s\n"
>>>>>>> Stashed changes
     ]
    }
   ],
   "source": [
<<<<<<< Updated upstream
=======
    "%%time\n",
>>>>>>> Stashed changes
    "# Train model\n",
    "estimator.fit(records=train_data_rs, wait=True)"
   ]
  },
  {
   "cell_type": "code",
<<<<<<< Updated upstream
   "execution_count": 48,
   "metadata": {},
   "outputs": [
    {
     "name": "stderr",
     "output_type": "stream",
     "text": [
      "Parameter image will be renamed to image_uri in SageMaker Python SDK v2.\n"
     ]
    },
    {
     "name": "stdout",
     "output_type": "stream",
     "text": [
      "-----------------!"
=======
   "execution_count": 95,
   "metadata": {},
   "outputs": [
    {
     "output_type": "stream",
     "name": "stderr",
     "text": [
      "Defaulting to the only supported framework/algorithm version: 1. Ignoring framework/algorithm version: 1.\n",
      "-------------------!CPU times: user 329 ms, sys: 15.4 ms, total: 345 ms\n",
      "Wall time: 9min 32s\n"
>>>>>>> Stashed changes
     ]
    }
   ],
   "source": [
<<<<<<< Updated upstream
=======
    "%%time\n",
>>>>>>> Stashed changes
    "# Deploy model\n",
    "kmeans_predictor = estimator.deploy(initial_instance_count=1, instance_type='ml.t2.medium')"
   ]
  },
  {
   "cell_type": "code",
<<<<<<< Updated upstream
   "execution_count": 49,
=======
   "execution_count": 96,
>>>>>>> Stashed changes
   "metadata": {},
   "outputs": [],
   "source": [
    "# get the predicted clusters for all the kmeans training data\n",
    "cluster_info = kmeans_predictor.predict(train_data_np)"
   ]
  },
  {
   "cell_type": "markdown",
   "metadata": {},
   "source": [
    "## Exploring clusters"
   ]
  },
  {
   "cell_type": "code",
<<<<<<< Updated upstream
   "execution_count": 50,
   "metadata": {},
   "outputs": [
    {
     "name": "stdout",
     "output_type": "stream",
     "text": [
      "County is:  Arizona-Graham\n",
      "\n",
      "label {\n",
      "  key: \"closest_cluster\"\n",
      "  value {\n",
      "    float32_tensor {\n",
      "      values: 6.0\n",
      "    }\n",
      "  }\n",
      "}\n",
      "label {\n",
      "  key: \"distance_to_cluster\"\n",
      "  value {\n",
      "    float32_tensor {\n",
      "      values: 0.3201510012149811\n",
      "    }\n",
      "  }\n",
      "}\n",
      "\n"
=======
   "execution_count": 97,
   "metadata": {},
   "outputs": [
    {
     "output_type": "stream",
     "name": "stdout",
     "text": [
      "County is:  Alabama-Autauga\n\nlabel {\n  key: \"closest_cluster\"\n  value {\n    float32_tensor {\n      values: 2.0\n    }\n  }\n}\nlabel {\n  key: \"distance_to_cluster\"\n  value {\n    float32_tensor {\n      values: 0.2593045234680176\n    }\n  }\n}\n\n"
>>>>>>> Stashed changes
     ]
    }
   ],
   "source": [
    "# print cluster info for a given data point\n",
    "data_idx = 100\n",
    "\n",
    "print('County is: ', counties_transformed.index[data_idx])\n",
    "print()\n",
    "print(cluster_info[data_idx])"
   ]
  },
  {
   "cell_type": "markdown",
   "metadata": {},
   "source": [
    "### Distribution of data over clusters\n"
   ]
  },
  {
   "cell_type": "code",
<<<<<<< Updated upstream
   "execution_count": 51,
   "metadata": {},
   "outputs": [
    {
     "name": "stdout",
     "output_type": "stream",
     "text": [
      "2.0    908\n",
      "0.0    723\n",
      "3.0    390\n",
      "4.0    369\n",
      "5.0    348\n",
      "7.0    215\n",
      "6.0    176\n",
      "1.0     89\n",
      "Name: 0, dtype: int64\n"
=======
   "execution_count": 98,
   "metadata": {},
   "outputs": [
    {
     "output_type": "stream",
     "name": "stdout",
     "text": [
      "7.0    922\n1.0    702\n2.0    420\n5.0    383\n6.0    325\n0.0    189\n3.0    183\n4.0     94\nName: 0, dtype: int64\n"
>>>>>>> Stashed changes
     ]
    }
   ],
   "source": [
    "# get all cluster labels\n",
    "cluster_labels = [c.label['closest_cluster'].float32_tensor.values[0] for c in cluster_info]\n",
    "\n",
    "# count up the points in each cluster\n",
    "cluster_df = pd.DataFrame(cluster_labels)[0].value_counts()\n",
    "\n",
    "print(cluster_df)"
   ]
  },
  {
   "cell_type": "code",
<<<<<<< Updated upstream
   "execution_count": 52,
=======
   "execution_count": 99,
>>>>>>> Stashed changes
   "metadata": {},
   "outputs": [
    {
     "output_type": "stream",
     "name": "stderr",
     "text": [
      "The endpoint attribute has been renamed in sagemaker>=2.\nSee: https://sagemaker.readthedocs.io/en/stable/v2.html for details.\n"
     ]
    }
   ],
   "source": [
    "# Delete endpoint\n",
    "sagemaker_session.delete_endpoint(kmeans_predictor.endpoint)"
   ]
  },
  {
<<<<<<< Updated upstream
   "cell_type": "markdown",
   "metadata": {},
=======
>>>>>>> Stashed changes
   "source": [
    "---\n",
    "# Model Attributes and Explainability\n",
    "\n",
    "Explaining the result of the modeling is an important step in making use of our analysis. By combining PCA and k-means, and the information contained in the model attributes within a SageMaker trained model, we can learn about a population and remark on some patterns we've found, based on the data."
   ]
  },
  {
   "cell_type": "code",
<<<<<<< Updated upstream
   "execution_count": 53,
   "metadata": {},
   "outputs": [
    {
     "name": "stdout",
     "output_type": "stream",
     "text": [
      "counties/kmeans-2020-11-18-22-26-06-532/output/model.tar.gz\n"
     ]
    },
    {
=======
   "execution_count": 100,
   "metadata": {},
   "outputs": [
    {
     "output_type": "stream",
     "name": "stdout",
     "text": [
      "counties/output_path/kmeans-2021-03-20-04-24-22-642/output/model.tar.gz\n"
     ]
    },
    {
     "output_type": "execute_result",
>>>>>>> Stashed changes
     "data": {
      "text/plain": [
       "2304"
      ]
     },
<<<<<<< Updated upstream
     "execution_count": 53,
     "metadata": {},
     "output_type": "execute_result"
=======
     "metadata": {},
     "execution_count": 100
>>>>>>> Stashed changes
    }
   ],
   "source": [
    "# download and unzip the kmeans model file\n",
<<<<<<< Updated upstream
    "training_job_name='kmeans-2020-11-18-22-26-06-532'\n",
=======
    "training_job_name = estimator._current_job_name\n",
>>>>>>> Stashed changes
    "\n",
    "# where the model is saved, by default\n",
    "model_key = os.path.join(prefix, 'output_path', training_job_name, 'output/model.tar.gz')\n",
    "print(model_key)\n",
    "\n",
    "# download and unzip model\n",
    "boto3.resource('s3').Bucket(bucket_name).download_file(model_key, 'model.tar.gz')\n",
    "\n",
    "# unzipping as model_algo-1\n",
    "os.system('tar -zxvf model.tar.gz')\n",
    "os.system('unzip model_algo-1')"
   ]
  },
  {
   "cell_type": "code",
<<<<<<< Updated upstream
   "execution_count": 54,
   "metadata": {},
   "outputs": [
    {
     "name": "stdout",
     "output_type": "stream",
     "text": [
      "[\n",
      "[[-0.02581199  0.11517721  0.14500658 -0.08278676 -0.00975357  0.07453791\n",
      "  -0.03125909]\n",
      " [ 1.3215716  -0.21476468 -0.1786174  -0.4333747  -0.1316069   0.12624055\n",
      "   0.17695472]\n",
      " [-0.22125205  0.05834187 -0.01045534 -0.06544383 -0.03754815 -0.03233656\n",
      "  -0.00481136]\n",
      " [ 0.34284386  0.24035561  0.06889755  0.2435841   0.09005872 -0.06023351\n",
      "   0.04408429]\n",
      " [-0.26010478 -0.32332093  0.07575368  0.05370796  0.05569805 -0.03061409\n",
      "   0.06393785]\n",
      " [-0.09071302  0.06618641 -0.3985669   0.08543926  0.00559547  0.08878476\n",
      "  -0.00508527]\n",
      " [ 0.40576458 -0.21290216 -0.14805165 -0.20847136  0.1319799  -0.14800316\n",
      "  -0.08981948]\n",
      " [ 0.15572166 -0.26298735  0.10831264  0.12433596 -0.10333203  0.01101648\n",
      "  -0.05983399]]\n",
      "<NDArray 8x7 @cpu(0)>]\n"
=======
   "execution_count": 101,
   "metadata": {},
   "outputs": [
    {
     "output_type": "stream",
     "name": "stdout",
     "text": [
      "[\n[[ 0.08376744 -0.351001    0.12461764  0.17160085 -0.11908669  0.03266808\n  -0.11648127]\n [-0.03302695  0.09191827  0.15408878 -0.06863192 -0.00157588  0.09507594\n  -0.02157938]\n [-0.07081125  0.05901882 -0.32067904  0.08709373 -0.0401414   0.04796035\n  -0.00272873]\n [ 0.38007233 -0.279362   -0.0701428  -0.199206    0.1669083  -0.14195472\n  -0.0720678 ]\n [ 1.2016823  -0.17541894 -0.2248884  -0.4038725  -0.10728198  0.11248557\n   0.14505976]\n [ 0.35782328  0.23400038  0.08899117  0.25958005  0.09146908 -0.05147972\n   0.04477663]\n [-0.30711177 -0.32860434  0.08584467  0.04703216  0.06268311 -0.04199206\n   0.11558338]\n [-0.20418607  0.06435762 -0.00725459 -0.07520401 -0.03615822 -0.04947053\n  -0.01644184]]\n<NDArray 8x7 @cpu(0)>]\n"
>>>>>>> Stashed changes
     ]
    }
   ],
   "source": [
    "# get the trained kmeans params using mxnet\n",
    "kmeans_model_params = mx.ndarray.load('model_algo-1')\n",
    "\n",
    "# what are the params\n",
    "print(kmeans_model_params)"
   ]
  },
  {
   "cell_type": "markdown",
   "metadata": {},
   "source": [
    "There is only 1 set of model parameters contained within the k-means model: the cluster centroid locations in PCA-transformed, component space.\n",
    "\n",
    "- **centroids**: The location of the centers of each cluster in component space, identified by the k-means algorithm."
   ]
  },
  {
   "cell_type": "code",
<<<<<<< Updated upstream
   "execution_count": 55,
   "metadata": {},
   "outputs": [
    {
     "data": {
      "text/html": [
       "<div>\n",
       "<style scoped>\n",
       "    .dataframe tbody tr th:only-of-type {\n",
       "        vertical-align: middle;\n",
       "    }\n",
       "\n",
       "    .dataframe tbody tr th {\n",
       "        vertical-align: top;\n",
       "    }\n",
       "\n",
       "    .dataframe thead th {\n",
       "        text-align: right;\n",
       "    }\n",
       "</style>\n",
       "<table border=\"1\" class=\"dataframe\">\n",
       "  <thead>\n",
       "    <tr style=\"text-align: right;\">\n",
       "      <th></th>\n",
       "      <th>c_1</th>\n",
       "      <th>c_2</th>\n",
       "      <th>c_3</th>\n",
       "      <th>c_4</th>\n",
       "      <th>c_5</th>\n",
       "      <th>c_6</th>\n",
       "      <th>c_7</th>\n",
       "    </tr>\n",
       "  </thead>\n",
       "  <tbody>\n",
       "    <tr>\n",
       "      <th>0</th>\n",
       "      <td>-0.025812</td>\n",
       "      <td>0.115177</td>\n",
       "      <td>0.145007</td>\n",
       "      <td>-0.082787</td>\n",
       "      <td>-0.009754</td>\n",
       "      <td>0.074538</td>\n",
       "      <td>-0.031259</td>\n",
       "    </tr>\n",
       "    <tr>\n",
       "      <th>1</th>\n",
       "      <td>1.321572</td>\n",
       "      <td>-0.214765</td>\n",
       "      <td>-0.178617</td>\n",
       "      <td>-0.433375</td>\n",
       "      <td>-0.131607</td>\n",
       "      <td>0.126241</td>\n",
       "      <td>0.176955</td>\n",
       "    </tr>\n",
       "    <tr>\n",
       "      <th>2</th>\n",
       "      <td>-0.221252</td>\n",
       "      <td>0.058342</td>\n",
       "      <td>-0.010455</td>\n",
       "      <td>-0.065444</td>\n",
       "      <td>-0.037548</td>\n",
       "      <td>-0.032337</td>\n",
       "      <td>-0.004811</td>\n",
       "    </tr>\n",
       "    <tr>\n",
       "      <th>3</th>\n",
       "      <td>0.342844</td>\n",
       "      <td>0.240356</td>\n",
       "      <td>0.068898</td>\n",
       "      <td>0.243584</td>\n",
       "      <td>0.090059</td>\n",
       "      <td>-0.060234</td>\n",
       "      <td>0.044084</td>\n",
       "    </tr>\n",
       "    <tr>\n",
       "      <th>4</th>\n",
       "      <td>-0.260105</td>\n",
       "      <td>-0.323321</td>\n",
       "      <td>0.075754</td>\n",
       "      <td>0.053708</td>\n",
       "      <td>0.055698</td>\n",
       "      <td>-0.030614</td>\n",
       "      <td>0.063938</td>\n",
       "    </tr>\n",
       "    <tr>\n",
       "      <th>5</th>\n",
       "      <td>-0.090713</td>\n",
       "      <td>0.066186</td>\n",
       "      <td>-0.398567</td>\n",
       "      <td>0.085439</td>\n",
       "      <td>0.005595</td>\n",
       "      <td>0.088785</td>\n",
       "      <td>-0.005085</td>\n",
       "    </tr>\n",
       "    <tr>\n",
       "      <th>6</th>\n",
       "      <td>0.405765</td>\n",
       "      <td>-0.212902</td>\n",
       "      <td>-0.148052</td>\n",
       "      <td>-0.208471</td>\n",
       "      <td>0.131980</td>\n",
       "      <td>-0.148003</td>\n",
       "      <td>-0.089819</td>\n",
       "    </tr>\n",
       "    <tr>\n",
       "      <th>7</th>\n",
       "      <td>0.155722</td>\n",
       "      <td>-0.262987</td>\n",
       "      <td>0.108313</td>\n",
       "      <td>0.124336</td>\n",
       "      <td>-0.103332</td>\n",
       "      <td>0.011016</td>\n",
       "      <td>-0.059834</td>\n",
       "    </tr>\n",
       "  </tbody>\n",
       "</table>\n",
       "</div>"
      ],
      "text/plain": [
       "        c_1       c_2       c_3       c_4       c_5       c_6       c_7\n",
       "0 -0.025812  0.115177  0.145007 -0.082787 -0.009754  0.074538 -0.031259\n",
       "1  1.321572 -0.214765 -0.178617 -0.433375 -0.131607  0.126241  0.176955\n",
       "2 -0.221252  0.058342 -0.010455 -0.065444 -0.037548 -0.032337 -0.004811\n",
       "3  0.342844  0.240356  0.068898  0.243584  0.090059 -0.060234  0.044084\n",
       "4 -0.260105 -0.323321  0.075754  0.053708  0.055698 -0.030614  0.063938\n",
       "5 -0.090713  0.066186 -0.398567  0.085439  0.005595  0.088785 -0.005085\n",
       "6  0.405765 -0.212902 -0.148052 -0.208471  0.131980 -0.148003 -0.089819\n",
       "7  0.155722 -0.262987  0.108313  0.124336 -0.103332  0.011016 -0.059834"
      ]
     },
     "metadata": {},
     "output_type": "display_data"
=======
   "execution_count": 102,
   "metadata": {},
   "outputs": [
    {
     "output_type": "display_data",
     "data": {
      "text/plain": "        c_1       c_2       c_3       c_4       c_5       c_6       c_7\n0  0.083767 -0.351001  0.124618  0.171601 -0.119087  0.032668 -0.116481\n1 -0.033027  0.091918  0.154089 -0.068632 -0.001576  0.095076 -0.021579\n2 -0.070811  0.059019 -0.320679  0.087094 -0.040141  0.047960 -0.002729\n3  0.380072 -0.279362 -0.070143 -0.199206  0.166908 -0.141955 -0.072068\n4  1.201682 -0.175419 -0.224888 -0.403872 -0.107282  0.112486  0.145060\n5  0.357823  0.234000  0.088991  0.259580  0.091469 -0.051480  0.044777\n6 -0.307112 -0.328604  0.085845  0.047032  0.062683 -0.041992  0.115583\n7 -0.204186  0.064358 -0.007255 -0.075204 -0.036158 -0.049471 -0.016442",
      "text/html": "<div>\n<style scoped>\n    .dataframe tbody tr th:only-of-type {\n        vertical-align: middle;\n    }\n\n    .dataframe tbody tr th {\n        vertical-align: top;\n    }\n\n    .dataframe thead th {\n        text-align: right;\n    }\n</style>\n<table border=\"1\" class=\"dataframe\">\n  <thead>\n    <tr style=\"text-align: right;\">\n      <th></th>\n      <th>c_1</th>\n      <th>c_2</th>\n      <th>c_3</th>\n      <th>c_4</th>\n      <th>c_5</th>\n      <th>c_6</th>\n      <th>c_7</th>\n    </tr>\n  </thead>\n  <tbody>\n    <tr>\n      <th>0</th>\n      <td>0.083767</td>\n      <td>-0.351001</td>\n      <td>0.124618</td>\n      <td>0.171601</td>\n      <td>-0.119087</td>\n      <td>0.032668</td>\n      <td>-0.116481</td>\n    </tr>\n    <tr>\n      <th>1</th>\n      <td>-0.033027</td>\n      <td>0.091918</td>\n      <td>0.154089</td>\n      <td>-0.068632</td>\n      <td>-0.001576</td>\n      <td>0.095076</td>\n      <td>-0.021579</td>\n    </tr>\n    <tr>\n      <th>2</th>\n      <td>-0.070811</td>\n      <td>0.059019</td>\n      <td>-0.320679</td>\n      <td>0.087094</td>\n      <td>-0.040141</td>\n      <td>0.047960</td>\n      <td>-0.002729</td>\n    </tr>\n    <tr>\n      <th>3</th>\n      <td>0.380072</td>\n      <td>-0.279362</td>\n      <td>-0.070143</td>\n      <td>-0.199206</td>\n      <td>0.166908</td>\n      <td>-0.141955</td>\n      <td>-0.072068</td>\n    </tr>\n    <tr>\n      <th>4</th>\n      <td>1.201682</td>\n      <td>-0.175419</td>\n      <td>-0.224888</td>\n      <td>-0.403872</td>\n      <td>-0.107282</td>\n      <td>0.112486</td>\n      <td>0.145060</td>\n    </tr>\n    <tr>\n      <th>5</th>\n      <td>0.357823</td>\n      <td>0.234000</td>\n      <td>0.088991</td>\n      <td>0.259580</td>\n      <td>0.091469</td>\n      <td>-0.051480</td>\n      <td>0.044777</td>\n    </tr>\n    <tr>\n      <th>6</th>\n      <td>-0.307112</td>\n      <td>-0.328604</td>\n      <td>0.085845</td>\n      <td>0.047032</td>\n      <td>0.062683</td>\n      <td>-0.041992</td>\n      <td>0.115583</td>\n    </tr>\n    <tr>\n      <th>7</th>\n      <td>-0.204186</td>\n      <td>0.064358</td>\n      <td>-0.007255</td>\n      <td>-0.075204</td>\n      <td>-0.036158</td>\n      <td>-0.049471</td>\n      <td>-0.016442</td>\n    </tr>\n  </tbody>\n</table>\n</div>"
     },
     "metadata": {}
>>>>>>> Stashed changes
    }
   ],
   "source": [
    "# get all the centroids\n",
    "cluster_centroids=pd.DataFrame(kmeans_model_params[0].asnumpy())\n",
    "cluster_centroids.columns=counties_transformed.columns\n",
    "\n",
    "display(cluster_centroids)"
   ]
  },
  {
   "cell_type": "markdown",
   "metadata": {},
   "source": [
    "### Visualization of Centroids"
   ]
  },
  {
   "cell_type": "code",
<<<<<<< Updated upstream
   "execution_count": 56,
   "metadata": {},
   "outputs": [
    {
     "data": {
      "image/png": "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\n",
      "text/plain": [
       "<Figure size 864x648 with 2 Axes>"
      ]
     },
     "metadata": {
      "needs_background": "light"
     },
     "output_type": "display_data"
=======
   "execution_count": 103,
   "metadata": {},
   "outputs": [
    {
     "output_type": "display_data",
     "data": {
      "text/plain": "<Figure size 864x648 with 2 Axes>",
      "image/svg+xml": "<?xml version=\"1.0\" encoding=\"utf-8\" standalone=\"no\"?>\n<!DOCTYPE svg PUBLIC \"-//W3C//DTD SVG 1.1//EN\"\n  \"http://www.w3.org/Graphics/SVG/1.1/DTD/svg11.dtd\">\n<!-- Created with matplotlib (https://matplotlib.org/) -->\n<svg height=\"554.92125pt\" version=\"1.1\" viewBox=\"0 0 661.952312 554.92125\" width=\"661.952312pt\" xmlns=\"http://www.w3.org/2000/svg\" xmlns:xlink=\"http://www.w3.org/1999/xlink\">\n <metadata>\n  <rdf:RDF xmlns:cc=\"http://creativecommons.org/ns#\" xmlns:dc=\"http://purl.org/dc/elements/1.1/\" xmlns:rdf=\"http://www.w3.org/1999/02/22-rdf-syntax-ns#\">\n   <cc:Work>\n    <dc:type rdf:resource=\"http://purl.org/dc/dcmitype/StillImage\"/>\n    <dc:date>2021-03-20T04:37:37.893244</dc:date>\n    <dc:format>image/svg+xml</dc:format>\n    <dc:creator>\n     <cc:Agent>\n      <dc:title>Matplotlib v3.3.4, https://matplotlib.org/</dc:title>\n     </cc:Agent>\n    </dc:creator>\n   </cc:Work>\n  </rdf:RDF>\n </metadata>\n <defs>\n  <style type=\"text/css\">*{stroke-linecap:butt;stroke-linejoin:round;}</style>\n </defs>\n <g id=\"figure_1\">\n  <g id=\"patch_1\">\n   <path d=\"M 0 554.92125 \nL 661.952312 554.92125 \nL 661.952312 0 \nL 0 0 \nz\n\" style=\"fill:none;\"/>\n  </g>\n  <g id=\"axes_1\">\n   <g id=\"patch_2\">\n    <path d=\"M 29.8475 511.558125 \nL 565.5275 511.558125 \nL 565.5275 22.318125 \nL 29.8475 22.318125 \nz\n\" style=\"fill:#ffffff;\"/>\n   </g>\n   <g id=\"QuadMesh_1\">\n    <path clip-path=\"url(#p8b86a1acd3)\" d=\"M 29.8475 22.318125 \nL 96.8075 22.318125 \nL 96.8075 92.209554 \nL 29.8475 92.209554 \nL 29.8475 22.318125 \n\" style=\"fill:#a9ddb7;\"/>\n    <path clip-path=\"url(#p8b86a1acd3)\" d=\"M 96.8075 22.318125 \nL 163.7675 22.318125 \nL 163.7675 92.209554 \nL 96.8075 92.209554 \nL 96.8075 22.318125 \n\" style=\"fill:#cdebb4;\"/>\n    <path clip-path=\"url(#p8b86a1acd3)\" d=\"M 163.7675 22.318125 \nL 230.7275 22.318125 \nL 230.7275 92.209554 \nL 163.7675 92.209554 \nL 163.7675 22.318125 \n\" style=\"fill:#d4eeb3;\"/>\n    <path clip-path=\"url(#p8b86a1acd3)\" d=\"M 230.7275 22.318125 \nL 297.6875 22.318125 \nL 297.6875 92.209554 \nL 230.7275 92.209554 \nL 230.7275 22.318125 \n\" style=\"fill:#48b9c3;\"/>\n    <path clip-path=\"url(#p8b86a1acd3)\" d=\"M 297.6875 22.318125 \nL 364.6475 22.318125 \nL 364.6475 92.209554 \nL 297.6875 92.209554 \nL 297.6875 22.318125 \n\" style=\"fill:#081d58;\"/>\n    <path clip-path=\"url(#p8b86a1acd3)\" d=\"M 364.6475 22.318125 \nL 431.6075 22.318125 \nL 431.6075 92.209554 \nL 364.6475 92.209554 \nL 364.6475 22.318125 \n\" style=\"fill:#4ebbc2;\"/>\n    <path clip-path=\"url(#p8b86a1acd3)\" d=\"M 431.6075 22.318125 \nL 498.5675 22.318125 \nL 498.5675 92.209554 \nL 431.6075 92.209554 \nL 431.6075 22.318125 \n\" style=\"fill:#f7fcc6;\"/>\n    <path clip-path=\"url(#p8b86a1acd3)\" d=\"M 498.5675 22.318125 \nL 565.5275 22.318125 \nL 565.5275 92.209554 \nL 498.5675 92.209554 \nL 498.5675 22.318125 \n\" style=\"fill:#edf8b2;\"/>\n    <path clip-path=\"url(#p8b86a1acd3)\" d=\"M 29.8475 92.209554 \nL 96.8075 92.209554 \nL 96.8075 162.100982 \nL 29.8475 162.100982 \nL 29.8475 92.209554 \n\" style=\"fill:#fafdcf;\"/>\n    <path clip-path=\"url(#p8b86a1acd3)\" d=\"M 96.8075 92.209554 \nL 163.7675 92.209554 \nL 163.7675 162.100982 \nL 96.8075 162.100982 \nL 96.8075 92.209554 \n\" style=\"fill:#a5dcb7;\"/>\n    <path clip-path=\"url(#p8b86a1acd3)\" d=\"M 163.7675 92.209554 \nL 230.7275 92.209554 \nL 230.7275 162.100982 \nL 163.7675 162.100982 \nL 163.7675 92.209554 \n\" style=\"fill:#b2e1b6;\"/>\n    <path clip-path=\"url(#p8b86a1acd3)\" d=\"M 230.7275 92.209554 \nL 297.6875 92.209554 \nL 297.6875 162.100982 \nL 230.7275 162.100982 \nL 230.7275 92.209554 \n\" style=\"fill:#f4fbc1;\"/>\n    <path clip-path=\"url(#p8b86a1acd3)\" d=\"M 297.6875 92.209554 \nL 364.6475 92.209554 \nL 364.6475 162.100982 \nL 297.6875 162.100982 \nL 297.6875 92.209554 \n\" style=\"fill:#e8f6b1;\"/>\n    <path clip-path=\"url(#p8b86a1acd3)\" d=\"M 364.6475 92.209554 \nL 431.6075 92.209554 \nL 431.6075 162.100982 \nL 364.6475 162.100982 \nL 364.6475 92.209554 \n\" style=\"fill:#75c9bd;\"/>\n    <path clip-path=\"url(#p8b86a1acd3)\" d=\"M 431.6075 92.209554 \nL 498.5675 92.209554 \nL 498.5675 162.100982 \nL 431.6075 162.100982 \nL 431.6075 92.209554 \n\" style=\"fill:#f8fcca;\"/>\n    <path clip-path=\"url(#p8b86a1acd3)\" d=\"M 498.5675 92.209554 \nL 565.5275 92.209554 \nL 565.5275 162.100982 \nL 498.5675 162.100982 \nL 498.5675 92.209554 \n\" style=\"fill:#b0e0b6;\"/>\n    <path clip-path=\"url(#p8b86a1acd3)\" d=\"M 29.8475 162.100982 \nL 96.8075 162.100982 \nL 96.8075 231.992411 \nL 29.8475 231.992411 \nL 29.8475 162.100982 \n\" style=\"fill:#99d7b8;\"/>\n    <path clip-path=\"url(#p8b86a1acd3)\" d=\"M 96.8075 162.100982 \nL 163.7675 162.100982 \nL 163.7675 231.992411 \nL 96.8075 231.992411 \nL 96.8075 162.100982 \n\" style=\"fill:#90d4b9;\"/>\n    <path clip-path=\"url(#p8b86a1acd3)\" d=\"M 163.7675 162.100982 \nL 230.7275 162.100982 \nL 230.7275 231.992411 \nL 163.7675 231.992411 \nL 163.7675 162.100982 \n\" style=\"fill:#f8fcc9;\"/>\n    <path clip-path=\"url(#p8b86a1acd3)\" d=\"M 230.7275 162.100982 \nL 297.6875 162.100982 \nL 297.6875 231.992411 \nL 230.7275 231.992411 \nL 230.7275 162.100982 \n\" style=\"fill:#d4eeb3;\"/>\n    <path clip-path=\"url(#p8b86a1acd3)\" d=\"M 297.6875 162.100982 \nL 364.6475 162.100982 \nL 364.6475 231.992411 \nL 297.6875 231.992411 \nL 297.6875 162.100982 \n\" style=\"fill:#eff9b6;\"/>\n    <path clip-path=\"url(#p8b86a1acd3)\" d=\"M 364.6475 162.100982 \nL 431.6075 162.100982 \nL 431.6075 231.992411 \nL 364.6475 231.992411 \nL 364.6475 162.100982 \n\" style=\"fill:#a7dcb7;\"/>\n    <path clip-path=\"url(#p8b86a1acd3)\" d=\"M 431.6075 162.100982 \nL 498.5675 162.100982 \nL 498.5675 231.992411 \nL 431.6075 231.992411 \nL 431.6075 162.100982 \n\" style=\"fill:#a7dcb7;\"/>\n    <path clip-path=\"url(#p8b86a1acd3)\" d=\"M 498.5675 162.100982 \nL 565.5275 162.100982 \nL 565.5275 231.992411 \nL 498.5675 231.992411 \nL 498.5675 162.100982 \n\" style=\"fill:#c8e9b4;\"/>\n    <path clip-path=\"url(#p8b86a1acd3)\" d=\"M 29.8475 231.992411 \nL 96.8075 231.992411 \nL 96.8075 301.883839 \nL 29.8475 301.883839 \nL 29.8475 231.992411 \n\" style=\"fill:#89d1ba;\"/>\n    <path clip-path=\"url(#p8b86a1acd3)\" d=\"M 96.8075 231.992411 \nL 163.7675 231.992411 \nL 163.7675 301.883839 \nL 96.8075 301.883839 \nL 96.8075 231.992411 \n\" style=\"fill:#d4eeb3;\"/>\n    <path clip-path=\"url(#p8b86a1acd3)\" d=\"M 163.7675 231.992411 \nL 230.7275 231.992411 \nL 230.7275 301.883839 \nL 163.7675 301.883839 \nL 163.7675 231.992411 \n\" style=\"fill:#a7dcb7;\"/>\n    <path clip-path=\"url(#p8b86a1acd3)\" d=\"M 230.7275 231.992411 \nL 297.6875 231.992411 \nL 297.6875 301.883839 \nL 230.7275 301.883839 \nL 230.7275 231.992411 \n\" style=\"fill:#edf8b1;\"/>\n    <path clip-path=\"url(#p8b86a1acd3)\" d=\"M 297.6875 231.992411 \nL 364.6475 231.992411 \nL 364.6475 301.883839 \nL 297.6875 301.883839 \nL 297.6875 231.992411 \n\" style=\"fill:#ffffd9;\"/>\n    <path clip-path=\"url(#p8b86a1acd3)\" d=\"M 364.6475 231.992411 \nL 431.6075 231.992411 \nL 431.6075 301.883839 \nL 364.6475 301.883839 \nL 364.6475 231.992411 \n\" style=\"fill:#6dc6be;\"/>\n    <path clip-path=\"url(#p8b86a1acd3)\" d=\"M 431.6075 231.992411 \nL 498.5675 231.992411 \nL 498.5675 301.883839 \nL 431.6075 301.883839 \nL 431.6075 231.992411 \n\" style=\"fill:#b7e3b6;\"/>\n    <path clip-path=\"url(#p8b86a1acd3)\" d=\"M 498.5675 231.992411 \nL 565.5275 231.992411 \nL 565.5275 301.883839 \nL 498.5675 301.883839 \nL 498.5675 231.992411 \n\" style=\"fill:#d5efb3;\"/>\n    <path clip-path=\"url(#p8b86a1acd3)\" d=\"M 29.8475 301.883839 \nL 96.8075 301.883839 \nL 96.8075 371.775268 \nL 29.8475 371.775268 \nL 29.8475 301.883839 \n\" style=\"fill:#ddf2b2;\"/>\n    <path clip-path=\"url(#p8b86a1acd3)\" d=\"M 96.8075 301.883839 \nL 163.7675 301.883839 \nL 163.7675 371.775268 \nL 96.8075 371.775268 \nL 96.8075 301.883839 \n\" style=\"fill:#c6e9b4;\"/>\n    <path clip-path=\"url(#p8b86a1acd3)\" d=\"M 163.7675 301.883839 \nL 230.7275 301.883839 \nL 230.7275 371.775268 \nL 163.7675 371.775268 \nL 163.7675 301.883839 \n\" style=\"fill:#cfecb3;\"/>\n    <path clip-path=\"url(#p8b86a1acd3)\" d=\"M 230.7275 301.883839 \nL 297.6875 301.883839 \nL 297.6875 371.775268 \nL 230.7275 371.775268 \nL 230.7275 301.883839 \n\" style=\"fill:#89d1ba;\"/>\n    <path clip-path=\"url(#p8b86a1acd3)\" d=\"M 297.6875 301.883839 \nL 364.6475 301.883839 \nL 364.6475 371.775268 \nL 297.6875 371.775268 \nL 297.6875 301.883839 \n\" style=\"fill:#dbf1b2;\"/>\n    <path clip-path=\"url(#p8b86a1acd3)\" d=\"M 364.6475 301.883839 \nL 431.6075 301.883839 \nL 431.6075 371.775268 \nL 364.6475 371.775268 \nL 364.6475 301.883839 \n\" style=\"fill:#a7dcb7;\"/>\n    <path clip-path=\"url(#p8b86a1acd3)\" d=\"M 431.6075 301.883839 \nL 498.5675 301.883839 \nL 498.5675 371.775268 \nL 431.6075 371.775268 \nL 431.6075 301.883839 \n\" style=\"fill:#b0e0b6;\"/>\n    <path clip-path=\"url(#p8b86a1acd3)\" d=\"M 498.5675 301.883839 \nL 565.5275 301.883839 \nL 565.5275 371.775268 \nL 498.5675 371.775268 \nL 498.5675 301.883839 \n\" style=\"fill:#ceecb3;\"/>\n    <path clip-path=\"url(#p8b86a1acd3)\" d=\"M 29.8475 371.775268 \nL 96.8075 371.775268 \nL 96.8075 441.666696 \nL 29.8475 441.666696 \nL 29.8475 371.775268 \n\" style=\"fill:#bbe4b5;\"/>\n    <path clip-path=\"url(#p8b86a1acd3)\" d=\"M 96.8075 371.775268 \nL 163.7675 371.775268 \nL 163.7675 441.666696 \nL 96.8075 441.666696 \nL 96.8075 371.775268 \n\" style=\"fill:#a5dcb7;\"/>\n    <path clip-path=\"url(#p8b86a1acd3)\" d=\"M 163.7675 371.775268 \nL 230.7275 371.775268 \nL 230.7275 441.666696 \nL 163.7675 441.666696 \nL 163.7675 371.775268 \n\" style=\"fill:#b4e2b6;\"/>\n    <path clip-path=\"url(#p8b86a1acd3)\" d=\"M 230.7275 371.775268 \nL 297.6875 371.775268 \nL 297.6875 441.666696 \nL 230.7275 441.666696 \nL 230.7275 371.775268 \n\" style=\"fill:#e2f4b2;\"/>\n    <path clip-path=\"url(#p8b86a1acd3)\" d=\"M 297.6875 371.775268 \nL 364.6475 371.775268 \nL 364.6475 441.666696 \nL 297.6875 441.666696 \nL 297.6875 371.775268 \n\" style=\"fill:#9ed9b8;\"/>\n    <path clip-path=\"url(#p8b86a1acd3)\" d=\"M 364.6475 371.775268 \nL 431.6075 371.775268 \nL 431.6075 441.666696 \nL 364.6475 441.666696 \nL 364.6475 371.775268 \n\" style=\"fill:#d0edb3;\"/>\n    <path clip-path=\"url(#p8b86a1acd3)\" d=\"M 431.6075 371.775268 \nL 498.5675 371.775268 \nL 498.5675 441.666696 \nL 431.6075 441.666696 \nL 431.6075 371.775268 \n\" style=\"fill:#cfecb3;\"/>\n    <path clip-path=\"url(#p8b86a1acd3)\" d=\"M 498.5675 371.775268 \nL 565.5275 371.775268 \nL 565.5275 441.666696 \nL 498.5675 441.666696 \nL 498.5675 371.775268 \n\" style=\"fill:#d0edb3;\"/>\n    <path clip-path=\"url(#p8b86a1acd3)\" d=\"M 29.8475 441.666696 \nL 96.8075 441.666696 \nL 96.8075 511.558125 \nL 29.8475 511.558125 \nL 29.8475 441.666696 \n\" style=\"fill:#ddf2b2;\"/>\n    <path clip-path=\"url(#p8b86a1acd3)\" d=\"M 96.8075 441.666696 \nL 163.7675 441.666696 \nL 163.7675 511.558125 \nL 96.8075 511.558125 \nL 96.8075 441.666696 \n\" style=\"fill:#cbebb4;\"/>\n    <path clip-path=\"url(#p8b86a1acd3)\" d=\"M 163.7675 441.666696 \nL 230.7275 441.666696 \nL 230.7275 511.558125 \nL 163.7675 511.558125 \nL 163.7675 441.666696 \n\" style=\"fill:#c8e9b4;\"/>\n    <path clip-path=\"url(#p8b86a1acd3)\" d=\"M 230.7275 441.666696 \nL 297.6875 441.666696 \nL 297.6875 511.558125 \nL 230.7275 511.558125 \nL 230.7275 441.666696 \n\" style=\"fill:#d5efb3;\"/>\n    <path clip-path=\"url(#p8b86a1acd3)\" d=\"M 297.6875 441.666696 \nL 364.6475 441.666696 \nL 364.6475 511.558125 \nL 297.6875 511.558125 \nL 297.6875 441.666696 \n\" style=\"fill:#92d5b9;\"/>\n    <path clip-path=\"url(#p8b86a1acd3)\" d=\"M 364.6475 441.666696 \nL 431.6075 441.666696 \nL 431.6075 511.558125 \nL 364.6475 511.558125 \nL 364.6475 441.666696 \n\" style=\"fill:#b7e3b6;\"/>\n    <path clip-path=\"url(#p8b86a1acd3)\" d=\"M 431.6075 441.666696 \nL 498.5675 441.666696 \nL 498.5675 511.558125 \nL 431.6075 511.558125 \nL 431.6075 441.666696 \n\" style=\"fill:#9ed9b8;\"/>\n    <path clip-path=\"url(#p8b86a1acd3)\" d=\"M 498.5675 441.666696 \nL 565.5275 441.666696 \nL 565.5275 511.558125 \nL 498.5675 511.558125 \nL 498.5675 441.666696 \n\" style=\"fill:#caeab4;\"/>\n   </g>\n   <g id=\"matplotlib.axis_1\">\n    <g id=\"xtick_1\">\n     <g id=\"line2d_1\">\n      <defs>\n       <path d=\"M 0 0 \nL 0 3.5 \n\" id=\"m9ceae32683\" style=\"stroke:#000000;stroke-width:0.8;\"/>\n      </defs>\n      <g>\n       <use style=\"stroke:#000000;stroke-width:0.8;\" x=\"63.3275\" xlink:href=\"#m9ceae32683\" y=\"511.558125\"/>\n      </g>\n     </g>\n     <g id=\"text_1\">\n      <!-- 0 -->\n      <g transform=\"translate(58.2375 530.715625)scale(0.16 -0.16)\">\n       <defs>\n        <path d=\"M 31.78125 66.40625 \nQ 24.171875 66.40625 20.328125 58.90625 \nQ 16.5 51.421875 16.5 36.375 \nQ 16.5 21.390625 20.328125 13.890625 \nQ 24.171875 6.390625 31.78125 6.390625 \nQ 39.453125 6.390625 43.28125 13.890625 \nQ 47.125 21.390625 47.125 36.375 \nQ 47.125 51.421875 43.28125 58.90625 \nQ 39.453125 66.40625 31.78125 66.40625 \nz\nM 31.78125 74.21875 \nQ 44.046875 74.21875 50.515625 64.515625 \nQ 56.984375 54.828125 56.984375 36.375 \nQ 56.984375 17.96875 50.515625 8.265625 \nQ 44.046875 -1.421875 31.78125 -1.421875 \nQ 19.53125 -1.421875 13.0625 8.265625 \nQ 6.59375 17.96875 6.59375 36.375 \nQ 6.59375 54.828125 13.0625 64.515625 \nQ 19.53125 74.21875 31.78125 74.21875 \nz\n\" id=\"DejaVuSans-48\"/>\n       </defs>\n       <use xlink:href=\"#DejaVuSans-48\"/>\n      </g>\n     </g>\n    </g>\n    <g id=\"xtick_2\">\n     <g id=\"line2d_2\">\n      <g>\n       <use style=\"stroke:#000000;stroke-width:0.8;\" x=\"130.2875\" xlink:href=\"#m9ceae32683\" y=\"511.558125\"/>\n      </g>\n     </g>\n     <g id=\"text_2\">\n      <!-- 1 -->\n      <g transform=\"translate(125.1975 530.715625)scale(0.16 -0.16)\">\n       <defs>\n        <path d=\"M 12.40625 8.296875 \nL 28.515625 8.296875 \nL 28.515625 63.921875 \nL 10.984375 60.40625 \nL 10.984375 69.390625 \nL 28.421875 72.90625 \nL 38.28125 72.90625 \nL 38.28125 8.296875 \nL 54.390625 8.296875 \nL 54.390625 0 \nL 12.40625 0 \nz\n\" id=\"DejaVuSans-49\"/>\n       </defs>\n       <use xlink:href=\"#DejaVuSans-49\"/>\n      </g>\n     </g>\n    </g>\n    <g id=\"xtick_3\">\n     <g id=\"line2d_3\">\n      <g>\n       <use style=\"stroke:#000000;stroke-width:0.8;\" x=\"197.2475\" xlink:href=\"#m9ceae32683\" y=\"511.558125\"/>\n      </g>\n     </g>\n     <g id=\"text_3\">\n      <!-- 2 -->\n      <g transform=\"translate(192.1575 530.715625)scale(0.16 -0.16)\">\n       <defs>\n        <path d=\"M 19.1875 8.296875 \nL 53.609375 8.296875 \nL 53.609375 0 \nL 7.328125 0 \nL 7.328125 8.296875 \nQ 12.9375 14.109375 22.625 23.890625 \nQ 32.328125 33.6875 34.8125 36.53125 \nQ 39.546875 41.84375 41.421875 45.53125 \nQ 43.3125 49.21875 43.3125 52.78125 \nQ 43.3125 58.59375 39.234375 62.25 \nQ 35.15625 65.921875 28.609375 65.921875 \nQ 23.96875 65.921875 18.8125 64.3125 \nQ 13.671875 62.703125 7.8125 59.421875 \nL 7.8125 69.390625 \nQ 13.765625 71.78125 18.9375 73 \nQ 24.125 74.21875 28.421875 74.21875 \nQ 39.75 74.21875 46.484375 68.546875 \nQ 53.21875 62.890625 53.21875 53.421875 \nQ 53.21875 48.921875 51.53125 44.890625 \nQ 49.859375 40.875 45.40625 35.40625 \nQ 44.1875 33.984375 37.640625 27.21875 \nQ 31.109375 20.453125 19.1875 8.296875 \nz\n\" id=\"DejaVuSans-50\"/>\n       </defs>\n       <use xlink:href=\"#DejaVuSans-50\"/>\n      </g>\n     </g>\n    </g>\n    <g id=\"xtick_4\">\n     <g id=\"line2d_4\">\n      <g>\n       <use style=\"stroke:#000000;stroke-width:0.8;\" x=\"264.2075\" xlink:href=\"#m9ceae32683\" y=\"511.558125\"/>\n      </g>\n     </g>\n     <g id=\"text_4\">\n      <!-- 3 -->\n      <g transform=\"translate(259.1175 530.715625)scale(0.16 -0.16)\">\n       <defs>\n        <path d=\"M 40.578125 39.3125 \nQ 47.65625 37.796875 51.625 33 \nQ 55.609375 28.21875 55.609375 21.1875 \nQ 55.609375 10.40625 48.1875 4.484375 \nQ 40.765625 -1.421875 27.09375 -1.421875 \nQ 22.515625 -1.421875 17.65625 -0.515625 \nQ 12.796875 0.390625 7.625 2.203125 \nL 7.625 11.71875 \nQ 11.71875 9.328125 16.59375 8.109375 \nQ 21.484375 6.890625 26.8125 6.890625 \nQ 36.078125 6.890625 40.9375 10.546875 \nQ 45.796875 14.203125 45.796875 21.1875 \nQ 45.796875 27.640625 41.28125 31.265625 \nQ 36.765625 34.90625 28.71875 34.90625 \nL 20.21875 34.90625 \nL 20.21875 43.015625 \nL 29.109375 43.015625 \nQ 36.375 43.015625 40.234375 45.921875 \nQ 44.09375 48.828125 44.09375 54.296875 \nQ 44.09375 59.90625 40.109375 62.90625 \nQ 36.140625 65.921875 28.71875 65.921875 \nQ 24.65625 65.921875 20.015625 65.03125 \nQ 15.375 64.15625 9.8125 62.3125 \nL 9.8125 71.09375 \nQ 15.4375 72.65625 20.34375 73.4375 \nQ 25.25 74.21875 29.59375 74.21875 \nQ 40.828125 74.21875 47.359375 69.109375 \nQ 53.90625 64.015625 53.90625 55.328125 \nQ 53.90625 49.265625 50.4375 45.09375 \nQ 46.96875 40.921875 40.578125 39.3125 \nz\n\" id=\"DejaVuSans-51\"/>\n       </defs>\n       <use xlink:href=\"#DejaVuSans-51\"/>\n      </g>\n     </g>\n    </g>\n    <g id=\"xtick_5\">\n     <g id=\"line2d_5\">\n      <g>\n       <use style=\"stroke:#000000;stroke-width:0.8;\" x=\"331.1675\" xlink:href=\"#m9ceae32683\" y=\"511.558125\"/>\n      </g>\n     </g>\n     <g id=\"text_5\">\n      <!-- 4 -->\n      <g transform=\"translate(326.0775 530.715625)scale(0.16 -0.16)\">\n       <defs>\n        <path d=\"M 37.796875 64.3125 \nL 12.890625 25.390625 \nL 37.796875 25.390625 \nz\nM 35.203125 72.90625 \nL 47.609375 72.90625 \nL 47.609375 25.390625 \nL 58.015625 25.390625 \nL 58.015625 17.1875 \nL 47.609375 17.1875 \nL 47.609375 0 \nL 37.796875 0 \nL 37.796875 17.1875 \nL 4.890625 17.1875 \nL 4.890625 26.703125 \nz\n\" id=\"DejaVuSans-52\"/>\n       </defs>\n       <use xlink:href=\"#DejaVuSans-52\"/>\n      </g>\n     </g>\n    </g>\n    <g id=\"xtick_6\">\n     <g id=\"line2d_6\">\n      <g>\n       <use style=\"stroke:#000000;stroke-width:0.8;\" x=\"398.1275\" xlink:href=\"#m9ceae32683\" y=\"511.558125\"/>\n      </g>\n     </g>\n     <g id=\"text_6\">\n      <!-- 5 -->\n      <g transform=\"translate(393.0375 530.715625)scale(0.16 -0.16)\">\n       <defs>\n        <path d=\"M 10.796875 72.90625 \nL 49.515625 72.90625 \nL 49.515625 64.59375 \nL 19.828125 64.59375 \nL 19.828125 46.734375 \nQ 21.96875 47.46875 24.109375 47.828125 \nQ 26.265625 48.1875 28.421875 48.1875 \nQ 40.625 48.1875 47.75 41.5 \nQ 54.890625 34.8125 54.890625 23.390625 \nQ 54.890625 11.625 47.5625 5.09375 \nQ 40.234375 -1.421875 26.90625 -1.421875 \nQ 22.3125 -1.421875 17.546875 -0.640625 \nQ 12.796875 0.140625 7.71875 1.703125 \nL 7.71875 11.625 \nQ 12.109375 9.234375 16.796875 8.0625 \nQ 21.484375 6.890625 26.703125 6.890625 \nQ 35.15625 6.890625 40.078125 11.328125 \nQ 45.015625 15.765625 45.015625 23.390625 \nQ 45.015625 31 40.078125 35.4375 \nQ 35.15625 39.890625 26.703125 39.890625 \nQ 22.75 39.890625 18.8125 39.015625 \nQ 14.890625 38.140625 10.796875 36.28125 \nz\n\" id=\"DejaVuSans-53\"/>\n       </defs>\n       <use xlink:href=\"#DejaVuSans-53\"/>\n      </g>\n     </g>\n    </g>\n    <g id=\"xtick_7\">\n     <g id=\"line2d_7\">\n      <g>\n       <use style=\"stroke:#000000;stroke-width:0.8;\" x=\"465.0875\" xlink:href=\"#m9ceae32683\" y=\"511.558125\"/>\n      </g>\n     </g>\n     <g id=\"text_7\">\n      <!-- 6 -->\n      <g transform=\"translate(459.9975 530.715625)scale(0.16 -0.16)\">\n       <defs>\n        <path d=\"M 33.015625 40.375 \nQ 26.375 40.375 22.484375 35.828125 \nQ 18.609375 31.296875 18.609375 23.390625 \nQ 18.609375 15.53125 22.484375 10.953125 \nQ 26.375 6.390625 33.015625 6.390625 \nQ 39.65625 6.390625 43.53125 10.953125 \nQ 47.40625 15.53125 47.40625 23.390625 \nQ 47.40625 31.296875 43.53125 35.828125 \nQ 39.65625 40.375 33.015625 40.375 \nz\nM 52.59375 71.296875 \nL 52.59375 62.3125 \nQ 48.875 64.0625 45.09375 64.984375 \nQ 41.3125 65.921875 37.59375 65.921875 \nQ 27.828125 65.921875 22.671875 59.328125 \nQ 17.53125 52.734375 16.796875 39.40625 \nQ 19.671875 43.65625 24.015625 45.921875 \nQ 28.375 48.1875 33.59375 48.1875 \nQ 44.578125 48.1875 50.953125 41.515625 \nQ 57.328125 34.859375 57.328125 23.390625 \nQ 57.328125 12.15625 50.6875 5.359375 \nQ 44.046875 -1.421875 33.015625 -1.421875 \nQ 20.359375 -1.421875 13.671875 8.265625 \nQ 6.984375 17.96875 6.984375 36.375 \nQ 6.984375 53.65625 15.1875 63.9375 \nQ 23.390625 74.21875 37.203125 74.21875 \nQ 40.921875 74.21875 44.703125 73.484375 \nQ 48.484375 72.75 52.59375 71.296875 \nz\n\" id=\"DejaVuSans-54\"/>\n       </defs>\n       <use xlink:href=\"#DejaVuSans-54\"/>\n      </g>\n     </g>\n    </g>\n    <g id=\"xtick_8\">\n     <g id=\"line2d_8\">\n      <g>\n       <use style=\"stroke:#000000;stroke-width:0.8;\" x=\"532.0475\" xlink:href=\"#m9ceae32683\" y=\"511.558125\"/>\n      </g>\n     </g>\n     <g id=\"text_8\">\n      <!-- 7 -->\n      <g transform=\"translate(526.9575 530.715625)scale(0.16 -0.16)\">\n       <defs>\n        <path d=\"M 8.203125 72.90625 \nL 55.078125 72.90625 \nL 55.078125 68.703125 \nL 28.609375 0 \nL 18.3125 0 \nL 43.21875 64.59375 \nL 8.203125 64.59375 \nz\n\" id=\"DejaVuSans-55\"/>\n       </defs>\n       <use xlink:href=\"#DejaVuSans-55\"/>\n      </g>\n     </g>\n    </g>\n    <g id=\"text_9\">\n     <!-- Cluster -->\n     <g transform=\"translate(279.941406 545.641562)scale(0.1 -0.1)\">\n      <defs>\n       <path d=\"M 64.40625 67.28125 \nL 64.40625 56.890625 \nQ 59.421875 61.53125 53.78125 63.8125 \nQ 48.140625 66.109375 41.796875 66.109375 \nQ 29.296875 66.109375 22.65625 58.46875 \nQ 16.015625 50.828125 16.015625 36.375 \nQ 16.015625 21.96875 22.65625 14.328125 \nQ 29.296875 6.6875 41.796875 6.6875 \nQ 48.140625 6.6875 53.78125 8.984375 \nQ 59.421875 11.28125 64.40625 15.921875 \nL 64.40625 5.609375 \nQ 59.234375 2.09375 53.4375 0.328125 \nQ 47.65625 -1.421875 41.21875 -1.421875 \nQ 24.65625 -1.421875 15.125 8.703125 \nQ 5.609375 18.84375 5.609375 36.375 \nQ 5.609375 53.953125 15.125 64.078125 \nQ 24.65625 74.21875 41.21875 74.21875 \nQ 47.75 74.21875 53.53125 72.484375 \nQ 59.328125 70.75 64.40625 67.28125 \nz\n\" id=\"DejaVuSans-67\"/>\n       <path d=\"M 9.421875 75.984375 \nL 18.40625 75.984375 \nL 18.40625 0 \nL 9.421875 0 \nz\n\" id=\"DejaVuSans-108\"/>\n       <path d=\"M 8.5 21.578125 \nL 8.5 54.6875 \nL 17.484375 54.6875 \nL 17.484375 21.921875 \nQ 17.484375 14.15625 20.5 10.265625 \nQ 23.53125 6.390625 29.59375 6.390625 \nQ 36.859375 6.390625 41.078125 11.03125 \nQ 45.3125 15.671875 45.3125 23.6875 \nL 45.3125 54.6875 \nL 54.296875 54.6875 \nL 54.296875 0 \nL 45.3125 0 \nL 45.3125 8.40625 \nQ 42.046875 3.421875 37.71875 1 \nQ 33.40625 -1.421875 27.6875 -1.421875 \nQ 18.265625 -1.421875 13.375 4.4375 \nQ 8.5 10.296875 8.5 21.578125 \nz\nM 31.109375 56 \nz\n\" id=\"DejaVuSans-117\"/>\n       <path d=\"M 44.28125 53.078125 \nL 44.28125 44.578125 \nQ 40.484375 46.53125 36.375 47.5 \nQ 32.28125 48.484375 27.875 48.484375 \nQ 21.1875 48.484375 17.84375 46.4375 \nQ 14.5 44.390625 14.5 40.28125 \nQ 14.5 37.15625 16.890625 35.375 \nQ 19.28125 33.59375 26.515625 31.984375 \nL 29.59375 31.296875 \nQ 39.15625 29.25 43.1875 25.515625 \nQ 47.21875 21.78125 47.21875 15.09375 \nQ 47.21875 7.46875 41.1875 3.015625 \nQ 35.15625 -1.421875 24.609375 -1.421875 \nQ 20.21875 -1.421875 15.453125 -0.5625 \nQ 10.6875 0.296875 5.421875 2 \nL 5.421875 11.28125 \nQ 10.40625 8.6875 15.234375 7.390625 \nQ 20.0625 6.109375 24.8125 6.109375 \nQ 31.15625 6.109375 34.5625 8.28125 \nQ 37.984375 10.453125 37.984375 14.40625 \nQ 37.984375 18.0625 35.515625 20.015625 \nQ 33.0625 21.96875 24.703125 23.78125 \nL 21.578125 24.515625 \nQ 13.234375 26.265625 9.515625 29.90625 \nQ 5.8125 33.546875 5.8125 39.890625 \nQ 5.8125 47.609375 11.28125 51.796875 \nQ 16.75 56 26.8125 56 \nQ 31.78125 56 36.171875 55.265625 \nQ 40.578125 54.546875 44.28125 53.078125 \nz\n\" id=\"DejaVuSans-115\"/>\n       <path d=\"M 18.3125 70.21875 \nL 18.3125 54.6875 \nL 36.8125 54.6875 \nL 36.8125 47.703125 \nL 18.3125 47.703125 \nL 18.3125 18.015625 \nQ 18.3125 11.328125 20.140625 9.421875 \nQ 21.96875 7.515625 27.59375 7.515625 \nL 36.8125 7.515625 \nL 36.8125 0 \nL 27.59375 0 \nQ 17.1875 0 13.234375 3.875 \nQ 9.28125 7.765625 9.28125 18.015625 \nL 9.28125 47.703125 \nL 2.6875 47.703125 \nL 2.6875 54.6875 \nL 9.28125 54.6875 \nL 9.28125 70.21875 \nz\n\" id=\"DejaVuSans-116\"/>\n       <path d=\"M 56.203125 29.59375 \nL 56.203125 25.203125 \nL 14.890625 25.203125 \nQ 15.484375 15.921875 20.484375 11.0625 \nQ 25.484375 6.203125 34.421875 6.203125 \nQ 39.59375 6.203125 44.453125 7.46875 \nQ 49.3125 8.734375 54.109375 11.28125 \nL 54.109375 2.78125 \nQ 49.265625 0.734375 44.1875 -0.34375 \nQ 39.109375 -1.421875 33.890625 -1.421875 \nQ 20.796875 -1.421875 13.15625 6.1875 \nQ 5.515625 13.8125 5.515625 26.8125 \nQ 5.515625 40.234375 12.765625 48.109375 \nQ 20.015625 56 32.328125 56 \nQ 43.359375 56 49.78125 48.890625 \nQ 56.203125 41.796875 56.203125 29.59375 \nz\nM 47.21875 32.234375 \nQ 47.125 39.59375 43.09375 43.984375 \nQ 39.0625 48.390625 32.421875 48.390625 \nQ 24.90625 48.390625 20.390625 44.140625 \nQ 15.875 39.890625 15.1875 32.171875 \nz\n\" id=\"DejaVuSans-101\"/>\n       <path d=\"M 41.109375 46.296875 \nQ 39.59375 47.171875 37.8125 47.578125 \nQ 36.03125 48 33.890625 48 \nQ 26.265625 48 22.1875 43.046875 \nQ 18.109375 38.09375 18.109375 28.8125 \nL 18.109375 0 \nL 9.078125 0 \nL 9.078125 54.6875 \nL 18.109375 54.6875 \nL 18.109375 46.1875 \nQ 20.953125 51.171875 25.484375 53.578125 \nQ 30.03125 56 36.53125 56 \nQ 37.453125 56 38.578125 55.875 \nQ 39.703125 55.765625 41.0625 55.515625 \nz\n\" id=\"DejaVuSans-114\"/>\n      </defs>\n      <use xlink:href=\"#DejaVuSans-67\"/>\n      <use x=\"69.824219\" xlink:href=\"#DejaVuSans-108\"/>\n      <use x=\"97.607422\" xlink:href=\"#DejaVuSans-117\"/>\n      <use x=\"160.986328\" xlink:href=\"#DejaVuSans-115\"/>\n      <use x=\"213.085938\" xlink:href=\"#DejaVuSans-116\"/>\n      <use x=\"252.294922\" xlink:href=\"#DejaVuSans-101\"/>\n      <use x=\"313.818359\" xlink:href=\"#DejaVuSans-114\"/>\n     </g>\n    </g>\n   </g>\n   <g id=\"matplotlib.axis_2\">\n    <g id=\"ytick_1\">\n     <g id=\"line2d_9\">\n      <defs>\n       <path d=\"M 0 0 \nL -3.5 0 \n\" id=\"m5d7187eab0\" style=\"stroke:#000000;stroke-width:0.8;\"/>\n      </defs>\n      <g>\n       <use style=\"stroke:#000000;stroke-width:0.8;\" x=\"29.8475\" xlink:href=\"#m5d7187eab0\" y=\"57.263839\"/>\n      </g>\n     </g>\n     <g id=\"text_10\">\n      <!-- c_1 -->\n      <g transform=\"translate(19.075 78.385089)rotate(-90)scale(0.16 -0.16)\">\n       <defs>\n        <path d=\"M 48.78125 52.59375 \nL 48.78125 44.1875 \nQ 44.96875 46.296875 41.140625 47.34375 \nQ 37.3125 48.390625 33.40625 48.390625 \nQ 24.65625 48.390625 19.8125 42.84375 \nQ 14.984375 37.3125 14.984375 27.296875 \nQ 14.984375 17.28125 19.8125 11.734375 \nQ 24.65625 6.203125 33.40625 6.203125 \nQ 37.3125 6.203125 41.140625 7.25 \nQ 44.96875 8.296875 48.78125 10.40625 \nL 48.78125 2.09375 \nQ 45.015625 0.34375 40.984375 -0.53125 \nQ 36.96875 -1.421875 32.421875 -1.421875 \nQ 20.0625 -1.421875 12.78125 6.34375 \nQ 5.515625 14.109375 5.515625 27.296875 \nQ 5.515625 40.671875 12.859375 48.328125 \nQ 20.21875 56 33.015625 56 \nQ 37.15625 56 41.109375 55.140625 \nQ 45.0625 54.296875 48.78125 52.59375 \nz\n\" id=\"DejaVuSans-99\"/>\n        <path d=\"M 50.984375 -16.609375 \nL 50.984375 -23.578125 \nL -0.984375 -23.578125 \nL -0.984375 -16.609375 \nz\n\" id=\"DejaVuSans-95\"/>\n       </defs>\n       <use xlink:href=\"#DejaVuSans-99\"/>\n       <use x=\"54.980469\" xlink:href=\"#DejaVuSans-95\"/>\n       <use x=\"104.980469\" xlink:href=\"#DejaVuSans-49\"/>\n      </g>\n     </g>\n    </g>\n    <g id=\"ytick_2\">\n     <g id=\"line2d_10\">\n      <g>\n       <use style=\"stroke:#000000;stroke-width:0.8;\" x=\"29.8475\" xlink:href=\"#m5d7187eab0\" y=\"127.155268\"/>\n      </g>\n     </g>\n     <g id=\"text_11\">\n      <!-- c_2 -->\n      <g transform=\"translate(19.075 148.195268)rotate(-90)scale(0.16 -0.16)\">\n       <use xlink:href=\"#DejaVuSans-99\"/>\n       <use x=\"54.980469\" xlink:href=\"#DejaVuSans-95\"/>\n       <use x=\"104.980469\" xlink:href=\"#DejaVuSans-50\"/>\n      </g>\n     </g>\n    </g>\n    <g id=\"ytick_3\">\n     <g id=\"line2d_11\">\n      <g>\n       <use style=\"stroke:#000000;stroke-width:0.8;\" x=\"29.8475\" xlink:href=\"#m5d7187eab0\" y=\"197.046696\"/>\n      </g>\n     </g>\n     <g id=\"text_12\">\n      <!-- c_3 -->\n      <g transform=\"translate(19.075 218.086696)rotate(-90)scale(0.16 -0.16)\">\n       <use xlink:href=\"#DejaVuSans-99\"/>\n       <use x=\"54.980469\" xlink:href=\"#DejaVuSans-95\"/>\n       <use x=\"104.980469\" xlink:href=\"#DejaVuSans-51\"/>\n      </g>\n     </g>\n    </g>\n    <g id=\"ytick_4\">\n     <g id=\"line2d_12\">\n      <g>\n       <use style=\"stroke:#000000;stroke-width:0.8;\" x=\"29.8475\" xlink:href=\"#m5d7187eab0\" y=\"266.938125\"/>\n      </g>\n     </g>\n     <g id=\"text_13\">\n      <!-- c_4 -->\n      <g transform=\"translate(19.075 288.059375)rotate(-90)scale(0.16 -0.16)\">\n       <use xlink:href=\"#DejaVuSans-99\"/>\n       <use x=\"54.980469\" xlink:href=\"#DejaVuSans-95\"/>\n       <use x=\"104.980469\" xlink:href=\"#DejaVuSans-52\"/>\n      </g>\n     </g>\n    </g>\n    <g id=\"ytick_5\">\n     <g id=\"line2d_13\">\n      <g>\n       <use style=\"stroke:#000000;stroke-width:0.8;\" x=\"29.8475\" xlink:href=\"#m5d7187eab0\" y=\"336.829554\"/>\n      </g>\n     </g>\n     <g id=\"text_14\">\n      <!-- c_5 -->\n      <g transform=\"translate(19.075 357.950804)rotate(-90)scale(0.16 -0.16)\">\n       <use xlink:href=\"#DejaVuSans-99\"/>\n       <use x=\"54.980469\" xlink:href=\"#DejaVuSans-95\"/>\n       <use x=\"104.980469\" xlink:href=\"#DejaVuSans-53\"/>\n      </g>\n     </g>\n    </g>\n    <g id=\"ytick_6\">\n     <g id=\"line2d_14\">\n      <g>\n       <use style=\"stroke:#000000;stroke-width:0.8;\" x=\"29.8475\" xlink:href=\"#m5d7187eab0\" y=\"406.720982\"/>\n      </g>\n     </g>\n     <g id=\"text_15\">\n      <!-- c_6 -->\n      <g transform=\"translate(19.075 427.760982)rotate(-90)scale(0.16 -0.16)\">\n       <use xlink:href=\"#DejaVuSans-99\"/>\n       <use x=\"54.980469\" xlink:href=\"#DejaVuSans-95\"/>\n       <use x=\"104.980469\" xlink:href=\"#DejaVuSans-54\"/>\n      </g>\n     </g>\n    </g>\n    <g id=\"ytick_7\">\n     <g id=\"line2d_15\">\n      <g>\n       <use style=\"stroke:#000000;stroke-width:0.8;\" x=\"29.8475\" xlink:href=\"#m5d7187eab0\" y=\"476.612411\"/>\n      </g>\n     </g>\n     <g id=\"text_16\">\n      <!-- c_7 -->\n      <g transform=\"translate(19.075 497.733661)rotate(-90)scale(0.16 -0.16)\">\n       <use xlink:href=\"#DejaVuSans-99\"/>\n       <use x=\"54.980469\" xlink:href=\"#DejaVuSans-95\"/>\n       <use x=\"104.980469\" xlink:href=\"#DejaVuSans-55\"/>\n      </g>\n     </g>\n    </g>\n   </g>\n   <g id=\"text_17\">\n    <!-- Attribute Value by Centroid -->\n    <g transform=\"translate(216.12125 16.318125)scale(0.12 -0.12)\">\n     <defs>\n      <path d=\"M 34.1875 63.1875 \nL 20.796875 26.90625 \nL 47.609375 26.90625 \nz\nM 28.609375 72.90625 \nL 39.796875 72.90625 \nL 67.578125 0 \nL 57.328125 0 \nL 50.6875 18.703125 \nL 17.828125 18.703125 \nL 11.1875 0 \nL 0.78125 0 \nz\n\" id=\"DejaVuSans-65\"/>\n      <path d=\"M 9.421875 54.6875 \nL 18.40625 54.6875 \nL 18.40625 0 \nL 9.421875 0 \nz\nM 9.421875 75.984375 \nL 18.40625 75.984375 \nL 18.40625 64.59375 \nL 9.421875 64.59375 \nz\n\" id=\"DejaVuSans-105\"/>\n      <path d=\"M 48.6875 27.296875 \nQ 48.6875 37.203125 44.609375 42.84375 \nQ 40.53125 48.484375 33.40625 48.484375 \nQ 26.265625 48.484375 22.1875 42.84375 \nQ 18.109375 37.203125 18.109375 27.296875 \nQ 18.109375 17.390625 22.1875 11.75 \nQ 26.265625 6.109375 33.40625 6.109375 \nQ 40.53125 6.109375 44.609375 11.75 \nQ 48.6875 17.390625 48.6875 27.296875 \nz\nM 18.109375 46.390625 \nQ 20.953125 51.265625 25.265625 53.625 \nQ 29.59375 56 35.59375 56 \nQ 45.5625 56 51.78125 48.09375 \nQ 58.015625 40.1875 58.015625 27.296875 \nQ 58.015625 14.40625 51.78125 6.484375 \nQ 45.5625 -1.421875 35.59375 -1.421875 \nQ 29.59375 -1.421875 25.265625 0.953125 \nQ 20.953125 3.328125 18.109375 8.203125 \nL 18.109375 0 \nL 9.078125 0 \nL 9.078125 75.984375 \nL 18.109375 75.984375 \nz\n\" id=\"DejaVuSans-98\"/>\n      <path id=\"DejaVuSans-32\"/>\n      <path d=\"M 28.609375 0 \nL 0.78125 72.90625 \nL 11.078125 72.90625 \nL 34.1875 11.53125 \nL 57.328125 72.90625 \nL 67.578125 72.90625 \nL 39.796875 0 \nz\n\" id=\"DejaVuSans-86\"/>\n      <path d=\"M 34.28125 27.484375 \nQ 23.390625 27.484375 19.1875 25 \nQ 14.984375 22.515625 14.984375 16.5 \nQ 14.984375 11.71875 18.140625 8.90625 \nQ 21.296875 6.109375 26.703125 6.109375 \nQ 34.1875 6.109375 38.703125 11.40625 \nQ 43.21875 16.703125 43.21875 25.484375 \nL 43.21875 27.484375 \nz\nM 52.203125 31.203125 \nL 52.203125 0 \nL 43.21875 0 \nL 43.21875 8.296875 \nQ 40.140625 3.328125 35.546875 0.953125 \nQ 30.953125 -1.421875 24.3125 -1.421875 \nQ 15.921875 -1.421875 10.953125 3.296875 \nQ 6 8.015625 6 15.921875 \nQ 6 25.140625 12.171875 29.828125 \nQ 18.359375 34.515625 30.609375 34.515625 \nL 43.21875 34.515625 \nL 43.21875 35.40625 \nQ 43.21875 41.609375 39.140625 45 \nQ 35.0625 48.390625 27.6875 48.390625 \nQ 23 48.390625 18.546875 47.265625 \nQ 14.109375 46.140625 10.015625 43.890625 \nL 10.015625 52.203125 \nQ 14.9375 54.109375 19.578125 55.046875 \nQ 24.21875 56 28.609375 56 \nQ 40.484375 56 46.34375 49.84375 \nQ 52.203125 43.703125 52.203125 31.203125 \nz\n\" id=\"DejaVuSans-97\"/>\n      <path d=\"M 32.171875 -5.078125 \nQ 28.375 -14.84375 24.75 -17.8125 \nQ 21.140625 -20.796875 15.09375 -20.796875 \nL 7.90625 -20.796875 \nL 7.90625 -13.28125 \nL 13.1875 -13.28125 \nQ 16.890625 -13.28125 18.9375 -11.515625 \nQ 21 -9.765625 23.484375 -3.21875 \nL 25.09375 0.875 \nL 2.984375 54.6875 \nL 12.5 54.6875 \nL 29.59375 11.921875 \nL 46.6875 54.6875 \nL 56.203125 54.6875 \nz\n\" id=\"DejaVuSans-121\"/>\n      <path d=\"M 54.890625 33.015625 \nL 54.890625 0 \nL 45.90625 0 \nL 45.90625 32.71875 \nQ 45.90625 40.484375 42.875 44.328125 \nQ 39.84375 48.1875 33.796875 48.1875 \nQ 26.515625 48.1875 22.3125 43.546875 \nQ 18.109375 38.921875 18.109375 30.90625 \nL 18.109375 0 \nL 9.078125 0 \nL 9.078125 54.6875 \nL 18.109375 54.6875 \nL 18.109375 46.1875 \nQ 21.34375 51.125 25.703125 53.5625 \nQ 30.078125 56 35.796875 56 \nQ 45.21875 56 50.046875 50.171875 \nQ 54.890625 44.34375 54.890625 33.015625 \nz\n\" id=\"DejaVuSans-110\"/>\n      <path d=\"M 30.609375 48.390625 \nQ 23.390625 48.390625 19.1875 42.75 \nQ 14.984375 37.109375 14.984375 27.296875 \nQ 14.984375 17.484375 19.15625 11.84375 \nQ 23.34375 6.203125 30.609375 6.203125 \nQ 37.796875 6.203125 41.984375 11.859375 \nQ 46.1875 17.53125 46.1875 27.296875 \nQ 46.1875 37.015625 41.984375 42.703125 \nQ 37.796875 48.390625 30.609375 48.390625 \nz\nM 30.609375 56 \nQ 42.328125 56 49.015625 48.375 \nQ 55.71875 40.765625 55.71875 27.296875 \nQ 55.71875 13.875 49.015625 6.21875 \nQ 42.328125 -1.421875 30.609375 -1.421875 \nQ 18.84375 -1.421875 12.171875 6.21875 \nQ 5.515625 13.875 5.515625 27.296875 \nQ 5.515625 40.765625 12.171875 48.375 \nQ 18.84375 56 30.609375 56 \nz\n\" id=\"DejaVuSans-111\"/>\n      <path d=\"M 45.40625 46.390625 \nL 45.40625 75.984375 \nL 54.390625 75.984375 \nL 54.390625 0 \nL 45.40625 0 \nL 45.40625 8.203125 \nQ 42.578125 3.328125 38.25 0.953125 \nQ 33.9375 -1.421875 27.875 -1.421875 \nQ 17.96875 -1.421875 11.734375 6.484375 \nQ 5.515625 14.40625 5.515625 27.296875 \nQ 5.515625 40.1875 11.734375 48.09375 \nQ 17.96875 56 27.875 56 \nQ 33.9375 56 38.25 53.625 \nQ 42.578125 51.265625 45.40625 46.390625 \nz\nM 14.796875 27.296875 \nQ 14.796875 17.390625 18.875 11.75 \nQ 22.953125 6.109375 30.078125 6.109375 \nQ 37.203125 6.109375 41.296875 11.75 \nQ 45.40625 17.390625 45.40625 27.296875 \nQ 45.40625 37.203125 41.296875 42.84375 \nQ 37.203125 48.484375 30.078125 48.484375 \nQ 22.953125 48.484375 18.875 42.84375 \nQ 14.796875 37.203125 14.796875 27.296875 \nz\n\" id=\"DejaVuSans-100\"/>\n     </defs>\n     <use xlink:href=\"#DejaVuSans-65\"/>\n     <use x=\"66.658203\" xlink:href=\"#DejaVuSans-116\"/>\n     <use x=\"105.867188\" xlink:href=\"#DejaVuSans-116\"/>\n     <use x=\"145.076172\" xlink:href=\"#DejaVuSans-114\"/>\n     <use x=\"186.189453\" xlink:href=\"#DejaVuSans-105\"/>\n     <use x=\"213.972656\" xlink:href=\"#DejaVuSans-98\"/>\n     <use x=\"277.449219\" xlink:href=\"#DejaVuSans-117\"/>\n     <use x=\"340.828125\" xlink:href=\"#DejaVuSans-116\"/>\n     <use x=\"380.037109\" xlink:href=\"#DejaVuSans-101\"/>\n     <use x=\"441.560547\" xlink:href=\"#DejaVuSans-32\"/>\n     <use x=\"473.347656\" xlink:href=\"#DejaVuSans-86\"/>\n     <use x=\"534.005859\" xlink:href=\"#DejaVuSans-97\"/>\n     <use x=\"595.285156\" xlink:href=\"#DejaVuSans-108\"/>\n     <use x=\"623.068359\" xlink:href=\"#DejaVuSans-117\"/>\n     <use x=\"686.447266\" xlink:href=\"#DejaVuSans-101\"/>\n     <use x=\"747.970703\" xlink:href=\"#DejaVuSans-32\"/>\n     <use x=\"779.757812\" xlink:href=\"#DejaVuSans-98\"/>\n     <use x=\"843.234375\" xlink:href=\"#DejaVuSans-121\"/>\n     <use x=\"902.414062\" xlink:href=\"#DejaVuSans-32\"/>\n     <use x=\"934.201172\" xlink:href=\"#DejaVuSans-67\"/>\n     <use x=\"1004.025391\" xlink:href=\"#DejaVuSans-101\"/>\n     <use x=\"1065.548828\" xlink:href=\"#DejaVuSans-110\"/>\n     <use x=\"1128.927734\" xlink:href=\"#DejaVuSans-116\"/>\n     <use x=\"1168.136719\" xlink:href=\"#DejaVuSans-114\"/>\n     <use x=\"1207\" xlink:href=\"#DejaVuSans-111\"/>\n     <use x=\"1268.181641\" xlink:href=\"#DejaVuSans-105\"/>\n     <use x=\"1295.964844\" xlink:href=\"#DejaVuSans-100\"/>\n    </g>\n   </g>\n  </g>\n  <g id=\"axes_2\">\n   <g id=\"patch_3\">\n    <path clip-path=\"url(#p61ed08727a)\" d=\"M 599.0075 511.558125 \nL 599.0075 509.647031 \nL 599.0075 24.229219 \nL 599.0075 22.318125 \nL 623.4695 22.318125 \nL 623.4695 24.229219 \nL 623.4695 509.647031 \nL 623.4695 511.558125 \nz\n\" style=\"fill:#ffffff;stroke:#ffffff;stroke-linejoin:miter;stroke-width:0.01;\"/>\n   </g>\n   <image height=\"490\" id=\"imagebc69bb79e0\" transform=\"scale(1 -1)translate(0 -490)\" width=\"24\" x=\"599\" xlink:href=\"data:image/png;base64,\niVBORw0KGgoAAAANSUhEUgAAABgAAAHqCAYAAAAeWo5eAAACbUlEQVR4nO2d0W3kUAwD3wbuv78rJvF14MkPHZCYKWAFmpT07Hg3n/v+d58gX8kPP+ec6z5RAS8oOOcnWuAFD+5+D7IKjCliTJGJFLUruOv7YMCD+k4e8MA+oAL9MV1YOO0xXfCgXUF/J9sHhAqQiU7O9sHCJapXMOBBOKamCJlIUbZAXkG2C97pgyymCIl7cN33J1qg/xK9MCqMKeCoQPQAcekjAx4s9IE7GQq4MgkVIA47xMMvMuCBfUC49JH44deYIo4KZOAerX9lLihoH9ffAx5kCziLkHgfGFNEBciAgu/6hdPvwYCCcAH7AFlIUVjBwCVaOLbYaM+8kKJwAT1A7APEaYoMeLCgIP2sIvrxmvwLJhTUL5xwAVOELPw9ud4D+4Don6aajKgAcekjpghZSFG/B+ECeoC49JEBk73DIRx2yIIH/X0QLmCKkIUU+VYCMPD2vgoIf1MQWfAgvDP1AHEfICpA4gquO5zT/kukAsRhh6gAWVAwcPByHzzTr8BxjTgqkAUPBhQ4rp9RAXL91M+i8G+av6EgvJSvUz8qPvXPKowpoQJkoJPD/7XpjVk04IEKnunv5IFGWxh27Qo8eBGmCLGTEQ9eiAcvpL+TB2KqyYQeINfHYwugAmTh8OssAvpTNGCy98mEowJZOPz2ezCgIFvAlYmYol8UqDd54IGUowLQA2Rh2JkiwBQhpogLDKxM79EAFSCmCHnj7f2sCS8oCMfIb7EgAyk69QrSfTBg8oCCgWHXr8Bx/Yx9gCx4UK/gmKK/LtB/id4Ydi6cZ1SALChwXAMqQCaWfvj7B/0mDygYiGm5gniB/84F5V3oD/BwAAAAAElFTkSuQmCC\" y=\"-21\"/>\n   <g id=\"matplotlib.axis_3\"/>\n   <g id=\"matplotlib.axis_4\">\n    <g id=\"ytick_8\">\n     <g id=\"line2d_16\">\n      <defs>\n       <path d=\"M 0 0 \nL 3.5 0 \n\" id=\"mf96ca0b487\" style=\"stroke:#000000;stroke-width:0.8;\"/>\n      </defs>\n      <g>\n       <use style=\"stroke:#000000;stroke-width:0.8;\" x=\"623.4695\" xlink:href=\"#mf96ca0b487\" y=\"510.378111\"/>\n      </g>\n     </g>\n     <g id=\"text_18\">\n      <!-- −0.4 -->\n      <g transform=\"translate(630.4695 514.17733)scale(0.1 -0.1)\">\n       <defs>\n        <path d=\"M 10.59375 35.5 \nL 73.1875 35.5 \nL 73.1875 27.203125 \nL 10.59375 27.203125 \nz\n\" id=\"DejaVuSans-8722\"/>\n        <path d=\"M 10.6875 12.40625 \nL 21 12.40625 \nL 21 0 \nL 10.6875 0 \nz\n\" id=\"DejaVuSans-46\"/>\n       </defs>\n       <use xlink:href=\"#DejaVuSans-8722\"/>\n       <use x=\"83.789062\" xlink:href=\"#DejaVuSans-48\"/>\n       <use x=\"147.412109\" xlink:href=\"#DejaVuSans-46\"/>\n       <use x=\"179.199219\" xlink:href=\"#DejaVuSans-52\"/>\n      </g>\n     </g>\n    </g>\n    <g id=\"ytick_9\">\n     <g id=\"line2d_17\">\n      <g>\n       <use style=\"stroke:#000000;stroke-width:0.8;\" x=\"623.4695\" xlink:href=\"#mf96ca0b487\" y=\"449.434692\"/>\n      </g>\n     </g>\n     <g id=\"text_19\">\n      <!-- −0.2 -->\n      <g transform=\"translate(630.4695 453.233911)scale(0.1 -0.1)\">\n       <use xlink:href=\"#DejaVuSans-8722\"/>\n       <use x=\"83.789062\" xlink:href=\"#DejaVuSans-48\"/>\n       <use x=\"147.412109\" xlink:href=\"#DejaVuSans-46\"/>\n       <use x=\"179.199219\" xlink:href=\"#DejaVuSans-50\"/>\n      </g>\n     </g>\n    </g>\n    <g id=\"ytick_10\">\n     <g id=\"line2d_18\">\n      <g>\n       <use style=\"stroke:#000000;stroke-width:0.8;\" x=\"623.4695\" xlink:href=\"#mf96ca0b487\" y=\"388.491273\"/>\n      </g>\n     </g>\n     <g id=\"text_20\">\n      <!-- 0.0 -->\n      <g transform=\"translate(630.4695 392.290492)scale(0.1 -0.1)\">\n       <use xlink:href=\"#DejaVuSans-48\"/>\n       <use x=\"63.623047\" xlink:href=\"#DejaVuSans-46\"/>\n       <use x=\"95.410156\" xlink:href=\"#DejaVuSans-48\"/>\n      </g>\n     </g>\n    </g>\n    <g id=\"ytick_11\">\n     <g id=\"line2d_19\">\n      <g>\n       <use style=\"stroke:#000000;stroke-width:0.8;\" x=\"623.4695\" xlink:href=\"#mf96ca0b487\" y=\"327.547854\"/>\n      </g>\n     </g>\n     <g id=\"text_21\">\n      <!-- 0.2 -->\n      <g transform=\"translate(630.4695 331.347073)scale(0.1 -0.1)\">\n       <use xlink:href=\"#DejaVuSans-48\"/>\n       <use x=\"63.623047\" xlink:href=\"#DejaVuSans-46\"/>\n       <use x=\"95.410156\" xlink:href=\"#DejaVuSans-50\"/>\n      </g>\n     </g>\n    </g>\n    <g id=\"ytick_12\">\n     <g id=\"line2d_20\">\n      <g>\n       <use style=\"stroke:#000000;stroke-width:0.8;\" x=\"623.4695\" xlink:href=\"#mf96ca0b487\" y=\"266.604435\"/>\n      </g>\n     </g>\n     <g id=\"text_22\">\n      <!-- 0.4 -->\n      <g transform=\"translate(630.4695 270.403654)scale(0.1 -0.1)\">\n       <use xlink:href=\"#DejaVuSans-48\"/>\n       <use x=\"63.623047\" xlink:href=\"#DejaVuSans-46\"/>\n       <use x=\"95.410156\" xlink:href=\"#DejaVuSans-52\"/>\n      </g>\n     </g>\n    </g>\n    <g id=\"ytick_13\">\n     <g id=\"line2d_21\">\n      <g>\n       <use style=\"stroke:#000000;stroke-width:0.8;\" x=\"623.4695\" xlink:href=\"#mf96ca0b487\" y=\"205.661016\"/>\n      </g>\n     </g>\n     <g id=\"text_23\">\n      <!-- 0.6 -->\n      <g transform=\"translate(630.4695 209.460235)scale(0.1 -0.1)\">\n       <use xlink:href=\"#DejaVuSans-48\"/>\n       <use x=\"63.623047\" xlink:href=\"#DejaVuSans-46\"/>\n       <use x=\"95.410156\" xlink:href=\"#DejaVuSans-54\"/>\n      </g>\n     </g>\n    </g>\n    <g id=\"ytick_14\">\n     <g id=\"line2d_22\">\n      <g>\n       <use style=\"stroke:#000000;stroke-width:0.8;\" x=\"623.4695\" xlink:href=\"#mf96ca0b487\" y=\"144.717597\"/>\n      </g>\n     </g>\n     <g id=\"text_24\">\n      <!-- 0.8 -->\n      <g transform=\"translate(630.4695 148.516816)scale(0.1 -0.1)\">\n       <defs>\n        <path d=\"M 31.78125 34.625 \nQ 24.75 34.625 20.71875 30.859375 \nQ 16.703125 27.09375 16.703125 20.515625 \nQ 16.703125 13.921875 20.71875 10.15625 \nQ 24.75 6.390625 31.78125 6.390625 \nQ 38.8125 6.390625 42.859375 10.171875 \nQ 46.921875 13.96875 46.921875 20.515625 \nQ 46.921875 27.09375 42.890625 30.859375 \nQ 38.875 34.625 31.78125 34.625 \nz\nM 21.921875 38.8125 \nQ 15.578125 40.375 12.03125 44.71875 \nQ 8.5 49.078125 8.5 55.328125 \nQ 8.5 64.0625 14.71875 69.140625 \nQ 20.953125 74.21875 31.78125 74.21875 \nQ 42.671875 74.21875 48.875 69.140625 \nQ 55.078125 64.0625 55.078125 55.328125 \nQ 55.078125 49.078125 51.53125 44.71875 \nQ 48 40.375 41.703125 38.8125 \nQ 48.828125 37.15625 52.796875 32.3125 \nQ 56.78125 27.484375 56.78125 20.515625 \nQ 56.78125 9.90625 50.3125 4.234375 \nQ 43.84375 -1.421875 31.78125 -1.421875 \nQ 19.734375 -1.421875 13.25 4.234375 \nQ 6.78125 9.90625 6.78125 20.515625 \nQ 6.78125 27.484375 10.78125 32.3125 \nQ 14.796875 37.15625 21.921875 38.8125 \nz\nM 18.3125 54.390625 \nQ 18.3125 48.734375 21.84375 45.5625 \nQ 25.390625 42.390625 31.78125 42.390625 \nQ 38.140625 42.390625 41.71875 45.5625 \nQ 45.3125 48.734375 45.3125 54.390625 \nQ 45.3125 60.0625 41.71875 63.234375 \nQ 38.140625 66.40625 31.78125 66.40625 \nQ 25.390625 66.40625 21.84375 63.234375 \nQ 18.3125 60.0625 18.3125 54.390625 \nz\n\" id=\"DejaVuSans-56\"/>\n       </defs>\n       <use xlink:href=\"#DejaVuSans-48\"/>\n       <use x=\"63.623047\" xlink:href=\"#DejaVuSans-46\"/>\n       <use x=\"95.410156\" xlink:href=\"#DejaVuSans-56\"/>\n      </g>\n     </g>\n    </g>\n    <g id=\"ytick_15\">\n     <g id=\"line2d_23\">\n      <g>\n       <use style=\"stroke:#000000;stroke-width:0.8;\" x=\"623.4695\" xlink:href=\"#mf96ca0b487\" y=\"83.774178\"/>\n      </g>\n     </g>\n     <g id=\"text_25\">\n      <!-- 1.0 -->\n      <g transform=\"translate(630.4695 87.573397)scale(0.1 -0.1)\">\n       <use xlink:href=\"#DejaVuSans-49\"/>\n       <use x=\"63.623047\" xlink:href=\"#DejaVuSans-46\"/>\n       <use x=\"95.410156\" xlink:href=\"#DejaVuSans-48\"/>\n      </g>\n     </g>\n    </g>\n    <g id=\"ytick_16\">\n     <g id=\"line2d_24\">\n      <g>\n       <use style=\"stroke:#000000;stroke-width:0.8;\" x=\"623.4695\" xlink:href=\"#mf96ca0b487\" y=\"22.830759\"/>\n      </g>\n     </g>\n     <g id=\"text_26\">\n      <!-- 1.2 -->\n      <g transform=\"translate(630.4695 26.629978)scale(0.1 -0.1)\">\n       <use xlink:href=\"#DejaVuSans-49\"/>\n       <use x=\"63.623047\" xlink:href=\"#DejaVuSans-46\"/>\n       <use x=\"95.410156\" xlink:href=\"#DejaVuSans-50\"/>\n      </g>\n     </g>\n    </g>\n   </g>\n   <g id=\"patch_4\">\n    <path d=\"M 599.0075 511.558125 \nL 599.0075 509.647031 \nL 599.0075 24.229219 \nL 599.0075 22.318125 \nL 623.4695 22.318125 \nL 623.4695 24.229219 \nL 623.4695 509.647031 \nL 623.4695 511.558125 \nz\n\" style=\"fill:none;\"/>\n   </g>\n  </g>\n </g>\n <defs>\n  <clipPath id=\"p8b86a1acd3\">\n   <rect height=\"489.24\" width=\"535.68\" x=\"29.8475\" y=\"22.318125\"/>\n  </clipPath>\n  <clipPath id=\"p61ed08727a\">\n   <rect height=\"489.24\" width=\"24.462\" x=\"599.0075\" y=\"22.318125\"/>\n  </clipPath>\n </defs>\n</svg>\n",
      "image/png": "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\n"
     },
     "metadata": {
      "needs_background": "light"
     }
>>>>>>> Stashed changes
    }
   ],
   "source": [
    "# generate a heatmap in component space, using the seaborn library\n",
    "plt.figure(figsize = (12,9))\n",
    "ax = sns.heatmap(cluster_centroids.T, cmap = 'YlGnBu')\n",
    "ax.set_xlabel(\"Cluster\")\n",
    "plt.yticks(fontsize = 16)\n",
    "plt.xticks(fontsize = 16)\n",
    "ax.set_title(\"Attribute Value by Centroid\")\n",
    "plt.show()"
   ]
  },
  {
   "cell_type": "markdown",
   "metadata": {},
   "source": [
    "### Natural Groupings"
   ]
  },
  {
   "cell_type": "code",
<<<<<<< Updated upstream
   "execution_count": 57,
   "metadata": {},
   "outputs": [
    {
     "data": {
      "text/html": [
       "<div>\n",
       "<style scoped>\n",
       "    .dataframe tbody tr th:only-of-type {\n",
       "        vertical-align: middle;\n",
       "    }\n",
       "\n",
       "    .dataframe tbody tr th {\n",
       "        vertical-align: top;\n",
       "    }\n",
       "\n",
       "    .dataframe thead th {\n",
       "        text-align: right;\n",
       "    }\n",
       "</style>\n",
       "<table border=\"1\" class=\"dataframe\">\n",
       "  <thead>\n",
       "    <tr style=\"text-align: right;\">\n",
       "      <th></th>\n",
       "      <th>c_1</th>\n",
       "      <th>c_2</th>\n",
       "      <th>c_3</th>\n",
       "      <th>c_4</th>\n",
       "      <th>c_5</th>\n",
       "      <th>c_6</th>\n",
       "      <th>c_7</th>\n",
       "      <th>labels</th>\n",
       "    </tr>\n",
       "  </thead>\n",
       "  <tbody>\n",
       "    <tr>\n",
       "      <th>Pennsylvania-Fulton</th>\n",
       "      <td>-0.235782</td>\n",
       "      <td>0.145364</td>\n",
       "      <td>0.117231</td>\n",
       "      <td>-0.129777</td>\n",
       "      <td>0.141751</td>\n",
       "      <td>0.172668</td>\n",
       "      <td>-0.142452</td>\n",
       "      <td>0</td>\n",
       "    </tr>\n",
       "    <tr>\n",
       "      <th>Georgia-Lumpkin</th>\n",
       "      <td>-0.124563</td>\n",
       "      <td>0.051265</td>\n",
       "      <td>0.035631</td>\n",
       "      <td>-0.039928</td>\n",
       "      <td>-0.101739</td>\n",
       "      <td>0.176969</td>\n",
       "      <td>0.080302</td>\n",
       "      <td>0</td>\n",
       "    </tr>\n",
       "    <tr>\n",
       "      <th>Texas-Burleson</th>\n",
       "      <td>0.113557</td>\n",
       "      <td>-0.035419</td>\n",
       "      <td>-0.008676</td>\n",
       "      <td>-0.015108</td>\n",
       "      <td>0.191116</td>\n",
       "      <td>0.072753</td>\n",
       "      <td>-0.024934</td>\n",
       "      <td>0</td>\n",
       "    </tr>\n",
       "    <tr>\n",
       "      <th>North Carolina-Alleghany</th>\n",
       "      <td>-0.024880</td>\n",
       "      <td>-0.058949</td>\n",
       "      <td>0.176142</td>\n",
       "      <td>-0.057248</td>\n",
       "      <td>-0.021611</td>\n",
       "      <td>0.140103</td>\n",
       "      <td>0.047889</td>\n",
       "      <td>0</td>\n",
       "    </tr>\n",
       "    <tr>\n",
       "      <th>North Carolina-Ashe</th>\n",
       "      <td>-0.057906</td>\n",
       "      <td>0.031238</td>\n",
       "      <td>0.234711</td>\n",
       "      <td>-0.122242</td>\n",
       "      <td>0.004603</td>\n",
       "      <td>0.142519</td>\n",
       "      <td>-0.022430</td>\n",
       "      <td>0</td>\n",
       "    </tr>\n",
       "    <tr>\n",
       "      <th>Georgia-Madison</th>\n",
       "      <td>-0.070352</td>\n",
       "      <td>0.107618</td>\n",
       "      <td>0.067423</td>\n",
       "      <td>-0.022931</td>\n",
       "      <td>0.011536</td>\n",
       "      <td>0.078947</td>\n",
       "      <td>0.079553</td>\n",
       "      <td>0</td>\n",
       "    </tr>\n",
       "    <tr>\n",
       "      <th>Texas-Bosque</th>\n",
       "      <td>-0.046639</td>\n",
       "      <td>-0.021682</td>\n",
       "      <td>0.020063</td>\n",
       "      <td>-0.143669</td>\n",
       "      <td>0.140769</td>\n",
       "      <td>0.125623</td>\n",
       "      <td>-0.010576</td>\n",
       "      <td>0</td>\n",
       "    </tr>\n",
       "    <tr>\n",
       "      <th>North Carolina-Avery</th>\n",
       "      <td>-0.112962</td>\n",
       "      <td>-0.005821</td>\n",
       "      <td>0.102811</td>\n",
       "      <td>-0.045867</td>\n",
       "      <td>-0.052617</td>\n",
       "      <td>0.020158</td>\n",
       "      <td>-0.063649</td>\n",
       "      <td>0</td>\n",
       "    </tr>\n",
       "    <tr>\n",
       "      <th>North Carolina-Brunswick</th>\n",
       "      <td>-0.019961</td>\n",
       "      <td>0.103189</td>\n",
       "      <td>0.001164</td>\n",
       "      <td>0.003535</td>\n",
       "      <td>-0.056454</td>\n",
       "      <td>0.049040</td>\n",
       "      <td>-0.052446</td>\n",
       "      <td>0</td>\n",
       "    </tr>\n",
       "    <tr>\n",
       "      <th>Texas-Burnet</th>\n",
       "      <td>-0.001310</td>\n",
       "      <td>-0.103779</td>\n",
       "      <td>-0.037240</td>\n",
       "      <td>-0.113198</td>\n",
       "      <td>0.067212</td>\n",
       "      <td>0.058054</td>\n",
       "      <td>0.021098</td>\n",
       "      <td>0</td>\n",
       "    </tr>\n",
       "    <tr>\n",
       "      <th>Texas-Aransas</th>\n",
       "      <td>0.116031</td>\n",
       "      <td>-0.146572</td>\n",
       "      <td>0.004852</td>\n",
       "      <td>-0.151344</td>\n",
       "      <td>0.082616</td>\n",
       "      <td>-0.017265</td>\n",
       "      <td>0.070804</td>\n",
       "      <td>0</td>\n",
       "    </tr>\n",
       "    <tr>\n",
       "      <th>Tennessee-White</th>\n",
       "      <td>-0.067736</td>\n",
       "      <td>0.108435</td>\n",
       "      <td>0.273568</td>\n",
       "      <td>-0.114842</td>\n",
       "      <td>-0.066655</td>\n",
       "      <td>0.041249</td>\n",
       "      <td>-0.026307</td>\n",
       "      <td>0</td>\n",
       "    </tr>\n",
       "    <tr>\n",
       "      <th>Georgia-Morgan</th>\n",
       "      <td>-0.024062</td>\n",
       "      <td>0.063064</td>\n",
       "      <td>-0.021719</td>\n",
       "      <td>0.181931</td>\n",
       "      <td>0.091352</td>\n",
       "      <td>0.053852</td>\n",
       "      <td>0.089129</td>\n",
       "      <td>0</td>\n",
       "    </tr>\n",
       "    <tr>\n",
       "      <th>Georgia-Murray</th>\n",
       "      <td>0.002309</td>\n",
       "      <td>0.277421</td>\n",
       "      <td>0.149035</td>\n",
       "      <td>-0.284987</td>\n",
       "      <td>0.033298</td>\n",
       "      <td>-0.058308</td>\n",
       "      <td>-0.006328</td>\n",
       "      <td>0</td>\n",
       "    </tr>\n",
       "    <tr>\n",
       "      <th>Tennessee-Weakley</th>\n",
       "      <td>-0.054340</td>\n",
       "      <td>0.092429</td>\n",
       "      <td>0.126662</td>\n",
       "      <td>0.018661</td>\n",
       "      <td>-0.165565</td>\n",
       "      <td>-0.040160</td>\n",
       "      <td>0.105430</td>\n",
       "      <td>0</td>\n",
       "    </tr>\n",
       "    <tr>\n",
       "      <th>Tennessee-Wayne</th>\n",
       "      <td>0.063113</td>\n",
       "      <td>0.104933</td>\n",
       "      <td>0.285298</td>\n",
       "      <td>-0.041470</td>\n",
       "      <td>-0.083603</td>\n",
       "      <td>0.179846</td>\n",
       "      <td>-0.040195</td>\n",
       "      <td>0</td>\n",
       "    </tr>\n",
       "    <tr>\n",
       "      <th>North Carolina-Burke</th>\n",
       "      <td>0.035328</td>\n",
       "      <td>0.135926</td>\n",
       "      <td>0.131756</td>\n",
       "      <td>-0.041485</td>\n",
       "      <td>-0.142428</td>\n",
       "      <td>-0.028181</td>\n",
       "      <td>-0.037402</td>\n",
       "      <td>0</td>\n",
       "    </tr>\n",
       "    <tr>\n",
       "      <th>Georgia-Oglethorpe</th>\n",
       "      <td>-0.023825</td>\n",
       "      <td>0.027835</td>\n",
       "      <td>0.080744</td>\n",
       "      <td>0.103825</td>\n",
       "      <td>0.138597</td>\n",
       "      <td>0.102568</td>\n",
       "      <td>0.076467</td>\n",
       "      <td>0</td>\n",
       "    </tr>\n",
       "    <tr>\n",
       "      <th>Tennessee-Warren</th>\n",
       "      <td>-0.035165</td>\n",
       "      <td>0.139242</td>\n",
       "      <td>0.184296</td>\n",
       "      <td>-0.178042</td>\n",
       "      <td>0.013458</td>\n",
       "      <td>-0.023274</td>\n",
       "      <td>0.015463</td>\n",
       "      <td>0</td>\n",
       "    </tr>\n",
       "    <tr>\n",
       "      <th>Texas-Angelina</th>\n",
       "      <td>0.209823</td>\n",
       "      <td>0.046923</td>\n",
       "      <td>-0.000911</td>\n",
       "      <td>-0.032782</td>\n",
       "      <td>-0.009356</td>\n",
       "      <td>-0.174062</td>\n",
       "      <td>-0.069228</td>\n",
       "      <td>0</td>\n",
       "    </tr>\n",
       "  </tbody>\n",
       "</table>\n",
       "</div>"
      ],
      "text/plain": [
       "                               c_1       c_2       c_3       c_4       c_5  \\\n",
       "Pennsylvania-Fulton      -0.235782  0.145364  0.117231 -0.129777  0.141751   \n",
       "Georgia-Lumpkin          -0.124563  0.051265  0.035631 -0.039928 -0.101739   \n",
       "Texas-Burleson            0.113557 -0.035419 -0.008676 -0.015108  0.191116   \n",
       "North Carolina-Alleghany -0.024880 -0.058949  0.176142 -0.057248 -0.021611   \n",
       "North Carolina-Ashe      -0.057906  0.031238  0.234711 -0.122242  0.004603   \n",
       "Georgia-Madison          -0.070352  0.107618  0.067423 -0.022931  0.011536   \n",
       "Texas-Bosque             -0.046639 -0.021682  0.020063 -0.143669  0.140769   \n",
       "North Carolina-Avery     -0.112962 -0.005821  0.102811 -0.045867 -0.052617   \n",
       "North Carolina-Brunswick -0.019961  0.103189  0.001164  0.003535 -0.056454   \n",
       "Texas-Burnet             -0.001310 -0.103779 -0.037240 -0.113198  0.067212   \n",
       "Texas-Aransas             0.116031 -0.146572  0.004852 -0.151344  0.082616   \n",
       "Tennessee-White          -0.067736  0.108435  0.273568 -0.114842 -0.066655   \n",
       "Georgia-Morgan           -0.024062  0.063064 -0.021719  0.181931  0.091352   \n",
       "Georgia-Murray            0.002309  0.277421  0.149035 -0.284987  0.033298   \n",
       "Tennessee-Weakley        -0.054340  0.092429  0.126662  0.018661 -0.165565   \n",
       "Tennessee-Wayne           0.063113  0.104933  0.285298 -0.041470 -0.083603   \n",
       "North Carolina-Burke      0.035328  0.135926  0.131756 -0.041485 -0.142428   \n",
       "Georgia-Oglethorpe       -0.023825  0.027835  0.080744  0.103825  0.138597   \n",
       "Tennessee-Warren         -0.035165  0.139242  0.184296 -0.178042  0.013458   \n",
       "Texas-Angelina            0.209823  0.046923 -0.000911 -0.032782 -0.009356   \n",
       "\n",
       "                               c_6       c_7  labels  \n",
       "Pennsylvania-Fulton       0.172668 -0.142452       0  \n",
       "Georgia-Lumpkin           0.176969  0.080302       0  \n",
       "Texas-Burleson            0.072753 -0.024934       0  \n",
       "North Carolina-Alleghany  0.140103  0.047889       0  \n",
       "North Carolina-Ashe       0.142519 -0.022430       0  \n",
       "Georgia-Madison           0.078947  0.079553       0  \n",
       "Texas-Bosque              0.125623 -0.010576       0  \n",
       "North Carolina-Avery      0.020158 -0.063649       0  \n",
       "North Carolina-Brunswick  0.049040 -0.052446       0  \n",
       "Texas-Burnet              0.058054  0.021098       0  \n",
       "Texas-Aransas            -0.017265  0.070804       0  \n",
       "Tennessee-White           0.041249 -0.026307       0  \n",
       "Georgia-Morgan            0.053852  0.089129       0  \n",
       "Georgia-Murray           -0.058308 -0.006328       0  \n",
       "Tennessee-Weakley        -0.040160  0.105430       0  \n",
       "Tennessee-Wayne           0.179846 -0.040195       0  \n",
       "North Carolina-Burke     -0.028181 -0.037402       0  \n",
       "Georgia-Oglethorpe        0.102568  0.076467       0  \n",
       "Tennessee-Warren         -0.023274  0.015463       0  \n",
       "Texas-Angelina           -0.174062 -0.069228       0  "
      ]
     },
     "execution_count": 57,
     "metadata": {},
     "output_type": "execute_result"
=======
   "execution_count": 104,
   "metadata": {},
   "outputs": [
    {
     "output_type": "execute_result",
     "data": {
      "text/plain": [
       "                           c_1       c_2       c_3       c_4       c_5  \\\n",
       "Montana-Deer Lodge   -0.042467 -0.381775  0.296962  0.184363 -0.142240   \n",
       "Florida-Union         0.276801 -0.008905  0.187545  0.226028 -0.181316   \n",
       "Texas-Coryell         0.214876 -0.173747 -0.065807  0.183211 -0.116785   \n",
       "Texas-Cottle          0.355806 -0.449041  0.165794  0.094392 -0.004539   \n",
       "Texas-Dickens         0.185474 -0.438651  0.070614  0.104578 -0.001489   \n",
       "Texas-Donley          0.052692 -0.362131  0.261576  0.136824 -0.012583   \n",
       "Texas-Hardeman        0.083291 -0.245885  0.134433  0.013674  0.171200   \n",
       "Texas-Childress       0.193206 -0.264934  0.117806  0.117826 -0.098547   \n",
       "Texas-Haskell         0.182648 -0.353312  0.179808 -0.009264  0.000059   \n",
       "Florida-Lafayette     0.239731 -0.197634  0.230683  0.227220  0.054564   \n",
       "Texas-Jeff Davis      0.042183 -0.782229 -0.038652  0.071173  0.315759   \n",
       "Texas-Lampasas        0.076605 -0.163367  0.016720 -0.002310  0.093363   \n",
       "Florida-Franklin      0.107017 -0.269495  0.277142  0.189798 -0.044374   \n",
       "Texas-Limestone       0.339073 -0.157933  0.167938  0.113046 -0.005492   \n",
       "Texas-Menard          0.226257 -0.652605  0.181382 -0.008728  0.233643   \n",
       "Florida-Liberty       0.178828 -0.237025  0.201397  0.277060  0.031763   \n",
       "Georgia-Bleckley      0.207976 -0.061990  0.177456  0.285727  0.028559   \n",
       "Texas-Brewster        0.206835 -0.718072 -0.115823  0.141096 -0.016071   \n",
       "Texas-Brazos          0.241041 -0.135894 -0.158610  0.073252 -0.170217   \n",
       "South Dakota-Bennett  0.595331 -0.643386  0.231721  0.411402 -0.213515   \n",
       "\n",
       "                           c_6       c_7  labels  \n",
       "Montana-Deer Lodge    0.124206 -0.202395       0  \n",
       "Florida-Union         0.106490 -0.156781       0  \n",
       "Texas-Coryell         0.037027 -0.219273       0  \n",
       "Texas-Cottle         -0.036002 -0.075388       0  \n",
       "Texas-Dickens         0.013116  0.062247       0  \n",
       "Texas-Donley          0.135060 -0.120209       0  \n",
       "Texas-Hardeman       -0.121399 -0.217661       0  \n",
       "Texas-Childress      -0.216237  0.023944       0  \n",
       "Texas-Haskell        -0.080937  0.046724       0  \n",
       "Florida-Lafayette     0.095925 -0.223530       0  \n",
       "Texas-Jeff Davis      0.102024 -0.107181       0  \n",
       "Texas-Lampasas        0.186232 -0.222324       0  \n",
       "Florida-Franklin      0.072086 -0.056926       0  \n",
       "Texas-Limestone      -0.021798 -0.007155       0  \n",
       "Texas-Menard         -0.001415 -0.018048       0  \n",
       "Florida-Liberty       0.321126 -0.263093       0  \n",
       "Georgia-Bleckley      0.110645 -0.025096       0  \n",
       "Texas-Brewster       -0.088994 -0.093314       0  \n",
       "Texas-Brazos         -0.074378  0.012561       0  \n",
       "South Dakota-Bennett  0.144145 -0.032149       0  "
      ],
      "text/html": "<div>\n<style scoped>\n    .dataframe tbody tr th:only-of-type {\n        vertical-align: middle;\n    }\n\n    .dataframe tbody tr th {\n        vertical-align: top;\n    }\n\n    .dataframe thead th {\n        text-align: right;\n    }\n</style>\n<table border=\"1\" class=\"dataframe\">\n  <thead>\n    <tr style=\"text-align: right;\">\n      <th></th>\n      <th>c_1</th>\n      <th>c_2</th>\n      <th>c_3</th>\n      <th>c_4</th>\n      <th>c_5</th>\n      <th>c_6</th>\n      <th>c_7</th>\n      <th>labels</th>\n    </tr>\n  </thead>\n  <tbody>\n    <tr>\n      <th>Montana-Deer Lodge</th>\n      <td>-0.042467</td>\n      <td>-0.381775</td>\n      <td>0.296962</td>\n      <td>0.184363</td>\n      <td>-0.142240</td>\n      <td>0.124206</td>\n      <td>-0.202395</td>\n      <td>0</td>\n    </tr>\n    <tr>\n      <th>Florida-Union</th>\n      <td>0.276801</td>\n      <td>-0.008905</td>\n      <td>0.187545</td>\n      <td>0.226028</td>\n      <td>-0.181316</td>\n      <td>0.106490</td>\n      <td>-0.156781</td>\n      <td>0</td>\n    </tr>\n    <tr>\n      <th>Texas-Coryell</th>\n      <td>0.214876</td>\n      <td>-0.173747</td>\n      <td>-0.065807</td>\n      <td>0.183211</td>\n      <td>-0.116785</td>\n      <td>0.037027</td>\n      <td>-0.219273</td>\n      <td>0</td>\n    </tr>\n    <tr>\n      <th>Texas-Cottle</th>\n      <td>0.355806</td>\n      <td>-0.449041</td>\n      <td>0.165794</td>\n      <td>0.094392</td>\n      <td>-0.004539</td>\n      <td>-0.036002</td>\n      <td>-0.075388</td>\n      <td>0</td>\n    </tr>\n    <tr>\n      <th>Texas-Dickens</th>\n      <td>0.185474</td>\n      <td>-0.438651</td>\n      <td>0.070614</td>\n      <td>0.104578</td>\n      <td>-0.001489</td>\n      <td>0.013116</td>\n      <td>0.062247</td>\n      <td>0</td>\n    </tr>\n    <tr>\n      <th>Texas-Donley</th>\n      <td>0.052692</td>\n      <td>-0.362131</td>\n      <td>0.261576</td>\n      <td>0.136824</td>\n      <td>-0.012583</td>\n      <td>0.135060</td>\n      <td>-0.120209</td>\n      <td>0</td>\n    </tr>\n    <tr>\n      <th>Texas-Hardeman</th>\n      <td>0.083291</td>\n      <td>-0.245885</td>\n      <td>0.134433</td>\n      <td>0.013674</td>\n      <td>0.171200</td>\n      <td>-0.121399</td>\n      <td>-0.217661</td>\n      <td>0</td>\n    </tr>\n    <tr>\n      <th>Texas-Childress</th>\n      <td>0.193206</td>\n      <td>-0.264934</td>\n      <td>0.117806</td>\n      <td>0.117826</td>\n      <td>-0.098547</td>\n      <td>-0.216237</td>\n      <td>0.023944</td>\n      <td>0</td>\n    </tr>\n    <tr>\n      <th>Texas-Haskell</th>\n      <td>0.182648</td>\n      <td>-0.353312</td>\n      <td>0.179808</td>\n      <td>-0.009264</td>\n      <td>0.000059</td>\n      <td>-0.080937</td>\n      <td>0.046724</td>\n      <td>0</td>\n    </tr>\n    <tr>\n      <th>Florida-Lafayette</th>\n      <td>0.239731</td>\n      <td>-0.197634</td>\n      <td>0.230683</td>\n      <td>0.227220</td>\n      <td>0.054564</td>\n      <td>0.095925</td>\n      <td>-0.223530</td>\n      <td>0</td>\n    </tr>\n    <tr>\n      <th>Texas-Jeff Davis</th>\n      <td>0.042183</td>\n      <td>-0.782229</td>\n      <td>-0.038652</td>\n      <td>0.071173</td>\n      <td>0.315759</td>\n      <td>0.102024</td>\n      <td>-0.107181</td>\n      <td>0</td>\n    </tr>\n    <tr>\n      <th>Texas-Lampasas</th>\n      <td>0.076605</td>\n      <td>-0.163367</td>\n      <td>0.016720</td>\n      <td>-0.002310</td>\n      <td>0.093363</td>\n      <td>0.186232</td>\n      <td>-0.222324</td>\n      <td>0</td>\n    </tr>\n    <tr>\n      <th>Florida-Franklin</th>\n      <td>0.107017</td>\n      <td>-0.269495</td>\n      <td>0.277142</td>\n      <td>0.189798</td>\n      <td>-0.044374</td>\n      <td>0.072086</td>\n      <td>-0.056926</td>\n      <td>0</td>\n    </tr>\n    <tr>\n      <th>Texas-Limestone</th>\n      <td>0.339073</td>\n      <td>-0.157933</td>\n      <td>0.167938</td>\n      <td>0.113046</td>\n      <td>-0.005492</td>\n      <td>-0.021798</td>\n      <td>-0.007155</td>\n      <td>0</td>\n    </tr>\n    <tr>\n      <th>Texas-Menard</th>\n      <td>0.226257</td>\n      <td>-0.652605</td>\n      <td>0.181382</td>\n      <td>-0.008728</td>\n      <td>0.233643</td>\n      <td>-0.001415</td>\n      <td>-0.018048</td>\n      <td>0</td>\n    </tr>\n    <tr>\n      <th>Florida-Liberty</th>\n      <td>0.178828</td>\n      <td>-0.237025</td>\n      <td>0.201397</td>\n      <td>0.277060</td>\n      <td>0.031763</td>\n      <td>0.321126</td>\n      <td>-0.263093</td>\n      <td>0</td>\n    </tr>\n    <tr>\n      <th>Georgia-Bleckley</th>\n      <td>0.207976</td>\n      <td>-0.061990</td>\n      <td>0.177456</td>\n      <td>0.285727</td>\n      <td>0.028559</td>\n      <td>0.110645</td>\n      <td>-0.025096</td>\n      <td>0</td>\n    </tr>\n    <tr>\n      <th>Texas-Brewster</th>\n      <td>0.206835</td>\n      <td>-0.718072</td>\n      <td>-0.115823</td>\n      <td>0.141096</td>\n      <td>-0.016071</td>\n      <td>-0.088994</td>\n      <td>-0.093314</td>\n      <td>0</td>\n    </tr>\n    <tr>\n      <th>Texas-Brazos</th>\n      <td>0.241041</td>\n      <td>-0.135894</td>\n      <td>-0.158610</td>\n      <td>0.073252</td>\n      <td>-0.170217</td>\n      <td>-0.074378</td>\n      <td>0.012561</td>\n      <td>0</td>\n    </tr>\n    <tr>\n      <th>South Dakota-Bennett</th>\n      <td>0.595331</td>\n      <td>-0.643386</td>\n      <td>0.231721</td>\n      <td>0.411402</td>\n      <td>-0.213515</td>\n      <td>0.144145</td>\n      <td>-0.032149</td>\n      <td>0</td>\n    </tr>\n  </tbody>\n</table>\n</div>"
     },
     "metadata": {},
     "execution_count": 104
>>>>>>> Stashed changes
    }
   ],
   "source": [
    "# add a 'labels' column to the dataframe\n",
    "counties_transformed['labels']=list(map(int, cluster_labels))\n",
    "\n",
    "# sort by cluster label 0-6\n",
    "sorted_counties = counties_transformed.sort_values('labels', ascending=True)\n",
    "# view some pts in cluster 0\n",
    "sorted_counties.head(20)"
   ]
  },
  {
   "cell_type": "markdown",
   "metadata": {},
   "source": [
    "---\n",
    "## Empty bucket  "
   ]
  },
  {
   "cell_type": "code",
   "execution_count": 68,
   "metadata": {},
   "outputs": [],
   "source": [
    "bucket_uri = f's3://{bucket_name}'\n",
    "!aws s3 rm $bucket_uri --recursive"
   ]
  }
 ],
 "metadata": {
  "kernelspec": {
   "display_name": "conda_mxnet_p36",
   "language": "python",
   "name": "conda_mxnet_p36"
  },
  "language_info": {
   "codemirror_mode": {
    "name": "ipython",
    "version": 3
   },
   "file_extension": ".py",
   "mimetype": "text/x-python",
   "name": "python",
   "nbconvert_exporter": "python",
   "pygments_lexer": "ipython3",
   "version": "3.6.10"
  }
 },
 "nbformat": 4,
 "nbformat_minor": 4
}
